{
  "cells": [
    {
      "cell_type": "markdown",
      "metadata": {
        "id": "view-in-github",
        "colab_type": "text"
      },
      "source": [
        "<a href=\"https://colab.research.google.com/github/zakonreal/da_homework_student2/blob/main/Lesson3/hometask/SyntheticRubber1.ipynb\" target=\"_parent\"><img src=\"https://colab.research.google.com/assets/colab-badge.svg\" alt=\"Open In Colab\"/></a>"
      ]
    },
    {
      "cell_type": "markdown",
      "source": [
        "[![Open In Colab](https://colab.research.google.com/assets/colab-badge.svg)](https://colab.research.google.com/github/da-python/python-for-data-analytics/blob/main/Lesson3/hometask/SyntheticRubber.ipynb)"
      ],
      "metadata": {
        "collapsed": false,
        "pycharm": {
          "name": "#%% md\n"
        },
        "id": "0DHrYSy0GxPN"
      }
    },
    {
      "cell_type": "code",
      "source": [
        "!pip3 install yfinance"
      ],
      "metadata": {
        "id": "JB0Uye-SG3Fj",
        "outputId": "efd4947f-81ff-4aa3-ed33-75524e5cfda8",
        "colab": {
          "base_uri": "https://localhost:8080/"
        }
      },
      "execution_count": 53,
      "outputs": [
        {
          "output_type": "stream",
          "name": "stdout",
          "text": [
            "Looking in indexes: https://pypi.org/simple, https://us-python.pkg.dev/colab-wheels/public/simple/\n",
            "Requirement already satisfied: yfinance in /usr/local/lib/python3.7/dist-packages (0.1.72)\n",
            "Requirement already satisfied: pandas>=0.24.0 in /usr/local/lib/python3.7/dist-packages (from yfinance) (1.3.5)\n",
            "Requirement already satisfied: numpy>=1.15 in /usr/local/lib/python3.7/dist-packages (from yfinance) (1.21.6)\n",
            "Requirement already satisfied: requests>=2.26 in /usr/local/lib/python3.7/dist-packages (from yfinance) (2.28.1)\n",
            "Requirement already satisfied: multitasking>=0.0.7 in /usr/local/lib/python3.7/dist-packages (from yfinance) (0.0.10)\n",
            "Requirement already satisfied: lxml>=4.5.1 in /usr/local/lib/python3.7/dist-packages (from yfinance) (4.9.1)\n",
            "Requirement already satisfied: pytz>=2017.3 in /usr/local/lib/python3.7/dist-packages (from pandas>=0.24.0->yfinance) (2022.1)\n",
            "Requirement already satisfied: python-dateutil>=2.7.3 in /usr/local/lib/python3.7/dist-packages (from pandas>=0.24.0->yfinance) (2.8.2)\n",
            "Requirement already satisfied: six>=1.5 in /usr/local/lib/python3.7/dist-packages (from python-dateutil>=2.7.3->pandas>=0.24.0->yfinance) (1.15.0)\n",
            "Requirement already satisfied: idna<4,>=2.5 in /usr/local/lib/python3.7/dist-packages (from requests>=2.26->yfinance) (2.10)\n",
            "Requirement already satisfied: urllib3<1.27,>=1.21.1 in /usr/local/lib/python3.7/dist-packages (from requests>=2.26->yfinance) (1.24.3)\n",
            "Requirement already satisfied: certifi>=2017.4.17 in /usr/local/lib/python3.7/dist-packages (from requests>=2.26->yfinance) (2022.6.15)\n",
            "Requirement already satisfied: charset-normalizer<3,>=2 in /usr/local/lib/python3.7/dist-packages (from requests>=2.26->yfinance) (2.0.12)\n"
          ]
        }
      ]
    },
    {
      "cell_type": "code",
      "execution_count": 126,
      "outputs": [],
      "source": [
        "import requests\n",
        "import yfinance as yf\n",
        "import pandas as pd\n",
        "import matplotlib.pyplot as plt\n",
        "import seaborn; seaborn.set()\n",
        "from bs4 import BeautifulSoup\n",
        "import numpy as np\n",
        "pd.options.display.max_rows = 10"
      ],
      "metadata": {
        "pycharm": {
          "name": "#%%\n"
        },
        "id": "8dtlD49jGxPZ"
      }
    },
    {
      "cell_type": "code",
      "execution_count": 3,
      "outputs": [],
      "source": [
        "# Для работы с API может потребоваться обходное решение для работы с SSL сертификатом\n",
        "# import ssl\n",
        "# ssl._create_default_https_context = ssl._create_unverified_context"
      ],
      "metadata": {
        "pycharm": {
          "name": "#%%\n"
        },
        "id": "h9F8GNC0GxPe"
      }
    },
    {
      "cell_type": "markdown",
      "metadata": {
        "pycharm": {
          "name": "#%% md\n"
        },
        "id": "fRBJuYpvGxPi"
      },
      "source": [
        "# Задание 1.\n",
        "\n",
        "* Вы - менеджер по продажам в нефтехимической компании.\n",
        "* Вы ведете несколько ключевых клиентов, которые закупают продукты вашей компании.\n",
        "* Ваши клиенты предпочитают формульный подход к ценообразованию и вам нужно предложить клиентам формулу цены на синтетический каучук, который может быть альтернативой натуральному каучуку с грейдом SMR 20.\n",
        "* В зависимости от объемов, которые покупают клиенты, им может быть предложена скидка.\n"
      ]
    },
    {
      "cell_type": "markdown",
      "source": [
        "### Что нужно сделать?\n",
        "\n",
        "1. Проанализировать имеющиеся данные.\n",
        "2. Определить базовую формулу цены на условиях FCA (цена на заводе). То есть как бы выглядела цена на исторических данных.\n",
        "3. Отобразить на графике.\n",
        "4. Сделать расчет возможной цены по формуле для каждого из клиентов на условиях DDP (цена с доставкой). Записать все в один эксель файл, на разных листах. Каждый лист - название клиента.\n",
        "5. Предложить формулу цены каждому из клиентов на условиях DDP (цена с доставкой).\n",
        "- Создать директорию «для клиентов» и в ней сложить  файлы с расчетами.\n",
        "- Каждый клиент - отдельный файл (любой из docx, xlsx, pptx, pdf)  с именем клиента…\n",
        "\n",
        "### В результате должно быть 3 файла:\n",
        "1. Ноутбук с расчетами и графиками.\n",
        "2. Скрипт, который делает расчет цены для каждого клиента в одном файле\n",
        "2. Скрипт, который делает расчет цены для каждого клиента в отельном файле"
      ],
      "metadata": {
        "collapsed": false,
        "pycharm": {
          "name": "#%% md\n"
        },
        "id": "V_wm_98rGxPp"
      }
    },
    {
      "cell_type": "code",
      "execution_count": 56,
      "metadata": {
        "pycharm": {
          "name": "#%%\n"
        },
        "id": "xoi2zURsGxPk"
      },
      "outputs": [],
      "source": [
        "# Из данных есть:\n",
        "# Затраты на производство\n",
        "PRODUCTION_COST = 400 # (EUR)\n",
        "\n",
        "# Расходы на логистику\n",
        "EU_LOGISTIC_COST_EUR = 30 # в Европу в евро\n",
        "CN_LOGISTIC_COST_USD = 130 # в Китай в долларах\n",
        "\n",
        "# * Справочная информация по клиентам(объемы, локации, комментарии)\n",
        "customers = {\n",
        "    'Monty':{\n",
        "        'location':'EU',\n",
        "        'volumes':200,\n",
        "        'comment':'moving_average'\n",
        "    },\n",
        "\n",
        "    'Triangle':{\n",
        "        'location':'CN',\n",
        "        'volumes': 30,\n",
        "        'comment': 'monthly'\n",
        "    },\n",
        "    'Stone':{\n",
        "        'location':'EU',\n",
        "        'volumes': 150,\n",
        "        'comment': 'moving_average'\n",
        "    },\n",
        "    'Poly':{\n",
        "        'location':'EU',\n",
        "        'volumes': 70,\n",
        "        'comment': 'monthly'\n",
        "    }\n",
        "}\n",
        "# Скидки\n",
        "discounts = {'up to 100': 0.01, # 1%\n",
        "             'up to 300': 0.05, # 5%\n",
        "             '300 plus': 0.1}   #10%\n"
      ]
    },
    {
      "cell_type": "code",
      "execution_count": 140,
      "metadata": {
        "pycharm": {
          "name": "#%%\n"
        },
        "id": "BH7LQwtxGxPn"
      },
      "outputs": [],
      "source": [
        "# Котировки натурального каучука доступны на сайте,  https://www.lgm.gov.my\n",
        "# также у них есть API, пример запроса ниже\n",
        "#\n",
        "# year = '2022'\n",
        "# month = '05'\n",
        "# url = f\"https://www.lgm.gov.my/webv2api/api/rubberprice/month={month}&year={year}\"\n",
        "# res = requests.get(url)\n",
        "# rj = res.json()\n",
        "# df = pd.json_normalize(rj)\n",
        "# df.head()"
      ]
    },
    {
      "cell_type": "code",
      "source": [
        "# Котировки натурального каучука за период 2019-2022\n",
        "year1 = '2022'\n",
        "year2 = '2019'\n",
        "month1 = '01'\n",
        "month1 = '12'\n",
        "df_rubber = pd.DataFrame()\n",
        "for i in ['2019', '2020', '2021', '2022']:\n",
        "  for j in ['01', '02', '03', '04','05', '06', '07', '08','09', '10', '11', '12']:\n",
        "    url = f\"https://www.lgm.gov.my/webv2api/api/rubberprice/month={j}&year={i}\"\n",
        "    res = requests.get(url)\n",
        "    rj = res.json()\n",
        "    df1 = pd.json_normalize(rj)\n",
        "    df_rubber = df_rubber.append(df1, ignore_index=True)"
      ],
      "metadata": {
        "id": "QtVeEMPaKjbm"
      },
      "execution_count": 92,
      "outputs": []
    },
    {
      "cell_type": "code",
      "source": [
        "df_rubber"
      ],
      "metadata": {
        "colab": {
          "base_uri": "https://localhost:8080/",
          "height": 423
        },
        "id": "y72VWq9ti9l_",
        "outputId": "ce5f0b25-8844-4a0b-babd-f390990472a3"
      },
      "execution_count": 93,
      "outputs": [
        {
          "output_type": "execute_result",
          "data": {
            "text/plain": [
              "            date          grade  masa      rm      us    tone\n",
              "0     2019-01-31         SMR CV  Noon  770.00  191.30   Quiet\n",
              "1     2019-01-31          SMR L  Noon  750.00  186.35   Quiet\n",
              "2     2019-01-31          SMR 5  Noon  549.50  136.50   Quiet\n",
              "3     2019-01-31         SMR GP  Noon  546.50  135.80   Quiet\n",
              "4     2019-01-31         SMR 10  Noon  539.50  134.05   Quiet\n",
              "...          ...            ...   ...     ...     ...     ...\n",
              "5952  2022-07-01          SMR 5  Noon  726.00  167.60  Steady\n",
              "5953  2022-07-01         SMR GP  Noon  723.00  166.90  Steady\n",
              "5954  2022-07-01         SMR 10  Noon  716.00  165.30  Steady\n",
              "5955  2022-07-01         SMR 20  Noon  714.00  164.80  Steady\n",
              "5956  2022-07-01  Latex in Bulk  Noon  567.00  567.00  Steady\n",
              "\n",
              "[5957 rows x 6 columns]"
            ],
            "text/html": [
              "\n",
              "  <div id=\"df-3fc05231-4cc2-49ba-aaf3-b744b19cccae\">\n",
              "    <div class=\"colab-df-container\">\n",
              "      <div>\n",
              "<style scoped>\n",
              "    .dataframe tbody tr th:only-of-type {\n",
              "        vertical-align: middle;\n",
              "    }\n",
              "\n",
              "    .dataframe tbody tr th {\n",
              "        vertical-align: top;\n",
              "    }\n",
              "\n",
              "    .dataframe thead th {\n",
              "        text-align: right;\n",
              "    }\n",
              "</style>\n",
              "<table border=\"1\" class=\"dataframe\">\n",
              "  <thead>\n",
              "    <tr style=\"text-align: right;\">\n",
              "      <th></th>\n",
              "      <th>date</th>\n",
              "      <th>grade</th>\n",
              "      <th>masa</th>\n",
              "      <th>rm</th>\n",
              "      <th>us</th>\n",
              "      <th>tone</th>\n",
              "    </tr>\n",
              "  </thead>\n",
              "  <tbody>\n",
              "    <tr>\n",
              "      <th>0</th>\n",
              "      <td>2019-01-31</td>\n",
              "      <td>SMR CV</td>\n",
              "      <td>Noon</td>\n",
              "      <td>770.00</td>\n",
              "      <td>191.30</td>\n",
              "      <td>Quiet</td>\n",
              "    </tr>\n",
              "    <tr>\n",
              "      <th>1</th>\n",
              "      <td>2019-01-31</td>\n",
              "      <td>SMR L</td>\n",
              "      <td>Noon</td>\n",
              "      <td>750.00</td>\n",
              "      <td>186.35</td>\n",
              "      <td>Quiet</td>\n",
              "    </tr>\n",
              "    <tr>\n",
              "      <th>2</th>\n",
              "      <td>2019-01-31</td>\n",
              "      <td>SMR 5</td>\n",
              "      <td>Noon</td>\n",
              "      <td>549.50</td>\n",
              "      <td>136.50</td>\n",
              "      <td>Quiet</td>\n",
              "    </tr>\n",
              "    <tr>\n",
              "      <th>3</th>\n",
              "      <td>2019-01-31</td>\n",
              "      <td>SMR GP</td>\n",
              "      <td>Noon</td>\n",
              "      <td>546.50</td>\n",
              "      <td>135.80</td>\n",
              "      <td>Quiet</td>\n",
              "    </tr>\n",
              "    <tr>\n",
              "      <th>4</th>\n",
              "      <td>2019-01-31</td>\n",
              "      <td>SMR 10</td>\n",
              "      <td>Noon</td>\n",
              "      <td>539.50</td>\n",
              "      <td>134.05</td>\n",
              "      <td>Quiet</td>\n",
              "    </tr>\n",
              "    <tr>\n",
              "      <th>...</th>\n",
              "      <td>...</td>\n",
              "      <td>...</td>\n",
              "      <td>...</td>\n",
              "      <td>...</td>\n",
              "      <td>...</td>\n",
              "      <td>...</td>\n",
              "    </tr>\n",
              "    <tr>\n",
              "      <th>5952</th>\n",
              "      <td>2022-07-01</td>\n",
              "      <td>SMR 5</td>\n",
              "      <td>Noon</td>\n",
              "      <td>726.00</td>\n",
              "      <td>167.60</td>\n",
              "      <td>Steady</td>\n",
              "    </tr>\n",
              "    <tr>\n",
              "      <th>5953</th>\n",
              "      <td>2022-07-01</td>\n",
              "      <td>SMR GP</td>\n",
              "      <td>Noon</td>\n",
              "      <td>723.00</td>\n",
              "      <td>166.90</td>\n",
              "      <td>Steady</td>\n",
              "    </tr>\n",
              "    <tr>\n",
              "      <th>5954</th>\n",
              "      <td>2022-07-01</td>\n",
              "      <td>SMR 10</td>\n",
              "      <td>Noon</td>\n",
              "      <td>716.00</td>\n",
              "      <td>165.30</td>\n",
              "      <td>Steady</td>\n",
              "    </tr>\n",
              "    <tr>\n",
              "      <th>5955</th>\n",
              "      <td>2022-07-01</td>\n",
              "      <td>SMR 20</td>\n",
              "      <td>Noon</td>\n",
              "      <td>714.00</td>\n",
              "      <td>164.80</td>\n",
              "      <td>Steady</td>\n",
              "    </tr>\n",
              "    <tr>\n",
              "      <th>5956</th>\n",
              "      <td>2022-07-01</td>\n",
              "      <td>Latex in Bulk</td>\n",
              "      <td>Noon</td>\n",
              "      <td>567.00</td>\n",
              "      <td>567.00</td>\n",
              "      <td>Steady</td>\n",
              "    </tr>\n",
              "  </tbody>\n",
              "</table>\n",
              "<p>5957 rows × 6 columns</p>\n",
              "</div>\n",
              "      <button class=\"colab-df-convert\" onclick=\"convertToInteractive('df-3fc05231-4cc2-49ba-aaf3-b744b19cccae')\"\n",
              "              title=\"Convert this dataframe to an interactive table.\"\n",
              "              style=\"display:none;\">\n",
              "        \n",
              "  <svg xmlns=\"http://www.w3.org/2000/svg\" height=\"24px\"viewBox=\"0 0 24 24\"\n",
              "       width=\"24px\">\n",
              "    <path d=\"M0 0h24v24H0V0z\" fill=\"none\"/>\n",
              "    <path d=\"M18.56 5.44l.94 2.06.94-2.06 2.06-.94-2.06-.94-.94-2.06-.94 2.06-2.06.94zm-11 1L8.5 8.5l.94-2.06 2.06-.94-2.06-.94L8.5 2.5l-.94 2.06-2.06.94zm10 10l.94 2.06.94-2.06 2.06-.94-2.06-.94-.94-2.06-.94 2.06-2.06.94z\"/><path d=\"M17.41 7.96l-1.37-1.37c-.4-.4-.92-.59-1.43-.59-.52 0-1.04.2-1.43.59L10.3 9.45l-7.72 7.72c-.78.78-.78 2.05 0 2.83L4 21.41c.39.39.9.59 1.41.59.51 0 1.02-.2 1.41-.59l7.78-7.78 2.81-2.81c.8-.78.8-2.07 0-2.86zM5.41 20L4 18.59l7.72-7.72 1.47 1.35L5.41 20z\"/>\n",
              "  </svg>\n",
              "      </button>\n",
              "      \n",
              "  <style>\n",
              "    .colab-df-container {\n",
              "      display:flex;\n",
              "      flex-wrap:wrap;\n",
              "      gap: 12px;\n",
              "    }\n",
              "\n",
              "    .colab-df-convert {\n",
              "      background-color: #E8F0FE;\n",
              "      border: none;\n",
              "      border-radius: 50%;\n",
              "      cursor: pointer;\n",
              "      display: none;\n",
              "      fill: #1967D2;\n",
              "      height: 32px;\n",
              "      padding: 0 0 0 0;\n",
              "      width: 32px;\n",
              "    }\n",
              "\n",
              "    .colab-df-convert:hover {\n",
              "      background-color: #E2EBFA;\n",
              "      box-shadow: 0px 1px 2px rgba(60, 64, 67, 0.3), 0px 1px 3px 1px rgba(60, 64, 67, 0.15);\n",
              "      fill: #174EA6;\n",
              "    }\n",
              "\n",
              "    [theme=dark] .colab-df-convert {\n",
              "      background-color: #3B4455;\n",
              "      fill: #D2E3FC;\n",
              "    }\n",
              "\n",
              "    [theme=dark] .colab-df-convert:hover {\n",
              "      background-color: #434B5C;\n",
              "      box-shadow: 0px 1px 3px 1px rgba(0, 0, 0, 0.15);\n",
              "      filter: drop-shadow(0px 1px 2px rgba(0, 0, 0, 0.3));\n",
              "      fill: #FFFFFF;\n",
              "    }\n",
              "  </style>\n",
              "\n",
              "      <script>\n",
              "        const buttonEl =\n",
              "          document.querySelector('#df-3fc05231-4cc2-49ba-aaf3-b744b19cccae button.colab-df-convert');\n",
              "        buttonEl.style.display =\n",
              "          google.colab.kernel.accessAllowed ? 'block' : 'none';\n",
              "\n",
              "        async function convertToInteractive(key) {\n",
              "          const element = document.querySelector('#df-3fc05231-4cc2-49ba-aaf3-b744b19cccae');\n",
              "          const dataTable =\n",
              "            await google.colab.kernel.invokeFunction('convertToInteractive',\n",
              "                                                     [key], {});\n",
              "          if (!dataTable) return;\n",
              "\n",
              "          const docLinkHtml = 'Like what you see? Visit the ' +\n",
              "            '<a target=\"_blank\" href=https://colab.research.google.com/notebooks/data_table.ipynb>data table notebook</a>'\n",
              "            + ' to learn more about interactive tables.';\n",
              "          element.innerHTML = '';\n",
              "          dataTable['output_type'] = 'display_data';\n",
              "          await google.colab.output.renderOutput(dataTable, element);\n",
              "          const docLink = document.createElement('div');\n",
              "          docLink.innerHTML = docLinkHtml;\n",
              "          element.appendChild(docLink);\n",
              "        }\n",
              "      </script>\n",
              "    </div>\n",
              "  </div>\n",
              "  "
            ]
          },
          "metadata": {},
          "execution_count": 93
        }
      ]
    },
    {
      "cell_type": "code",
      "source": [
        "DF = df_rubber.set_index('date')"
      ],
      "metadata": {
        "id": "jGCzivnbOl2-"
      },
      "execution_count": 94,
      "outputs": []
    },
    {
      "cell_type": "code",
      "source": [
        "DFF = DF.rename(columns={'us': 'Close'})"
      ],
      "metadata": {
        "id": "HcH7ye3haubs"
      },
      "execution_count": 95,
      "outputs": []
    },
    {
      "cell_type": "code",
      "source": [
        "DFF.index = pd.to_datetime(DFF.index)"
      ],
      "metadata": {
        "id": "q3HbLnVVg789"
      },
      "execution_count": 96,
      "outputs": []
    },
    {
      "cell_type": "code",
      "source": [
        "DFF.index"
      ],
      "metadata": {
        "colab": {
          "base_uri": "https://localhost:8080/"
        },
        "id": "VJ7Z5i6kicWH",
        "outputId": "6c181939-673e-4b27-b4be-02ac39208d58"
      },
      "execution_count": 97,
      "outputs": [
        {
          "output_type": "execute_result",
          "data": {
            "text/plain": [
              "DatetimeIndex(['2019-01-31', '2019-01-31', '2019-01-31', '2019-01-31',\n",
              "               '2019-01-31', '2019-01-31', '2019-01-31', '2019-01-30',\n",
              "               '2019-01-30', '2019-01-30',\n",
              "               ...\n",
              "               '2022-07-04', '2022-07-04', '2022-07-04', '2022-07-01',\n",
              "               '2022-07-01', '2022-07-01', '2022-07-01', '2022-07-01',\n",
              "               '2022-07-01', '2022-07-01'],\n",
              "              dtype='datetime64[ns]', name='date', length=5957, freq=None)"
            ]
          },
          "metadata": {},
          "execution_count": 97
        }
      ]
    },
    {
      "cell_type": "code",
      "source": [
        "DFF = DFF.astype({'Close': np.float})"
      ],
      "metadata": {
        "colab": {
          "base_uri": "https://localhost:8080/"
        },
        "id": "BQpBRiRsk6zI",
        "outputId": "45bdbe5a-f8a8-4c73-8c83-2b297c0e87d3"
      },
      "execution_count": 108,
      "outputs": [
        {
          "output_type": "stream",
          "name": "stderr",
          "text": [
            "/usr/local/lib/python3.7/dist-packages/ipykernel_launcher.py:1: DeprecationWarning: `np.float` is a deprecated alias for the builtin `float`. To silence this warning, use `float` by itself. Doing this will not modify any behavior and is safe. If you specifically wanted the numpy scalar type, use `np.float64` here.\n",
            "Deprecated in NumPy 1.20; for more details and guidance: https://numpy.org/devdocs/release/1.20.0-notes.html#deprecations\n",
            "  \"\"\"Entry point for launching an IPython kernel.\n"
          ]
        }
      ]
    },
    {
      "cell_type": "code",
      "source": [
        "DFF.Close"
      ],
      "metadata": {
        "colab": {
          "base_uri": "https://localhost:8080/"
        },
        "id": "hQW233P4dD1e",
        "outputId": "37093213-51a0-487b-e641-c1289fdcb173"
      },
      "execution_count": 109,
      "outputs": [
        {
          "output_type": "execute_result",
          "data": {
            "text/plain": [
              "date\n",
              "2019-01-31    191.30\n",
              "2019-01-31    186.35\n",
              "2019-01-31    136.50\n",
              "2019-01-31    135.80\n",
              "2019-01-31    134.05\n",
              "               ...  \n",
              "2022-07-01    167.60\n",
              "2022-07-01    166.90\n",
              "2022-07-01    165.30\n",
              "2022-07-01    164.80\n",
              "2022-07-01    567.00\n",
              "Name: Close, Length: 5957, dtype: float64"
            ]
          },
          "metadata": {},
          "execution_count": 109
        }
      ]
    },
    {
      "cell_type": "code",
      "source": [
        "df_rubber_m = DFF.Close.resample('M').mean()"
      ],
      "metadata": {
        "id": "E_gr1zh-iSF_"
      },
      "execution_count": 114,
      "outputs": []
    },
    {
      "cell_type": "code",
      "source": [
        "# Тикеры\n",
        "# курс евро к доллару 'EURUSD=X'\n",
        "# курс евро к рублю 'EURRUB=X'\n",
        "# курс доллара к рублю 'USDRUB=X'"
      ],
      "metadata": {
        "id": "83jbX2h2H23E"
      },
      "execution_count": null,
      "outputs": []
    },
    {
      "cell_type": "code",
      "source": [
        "# котировки цен\n",
        "exr_eurusd = yf.download( 'EURUSD=X')\n",
        "exr_usdrub = yf.download('USDRUB=X')\n",
        "exr_eurrub = yf.download('EURRUB=X')"
      ],
      "metadata": {
        "colab": {
          "base_uri": "https://localhost:8080/"
        },
        "id": "lLdX4H9WYnRs",
        "outputId": "4e66a0d5-c0b9-43f4-b3cd-595eac9e5e0d"
      },
      "execution_count": 40,
      "outputs": [
        {
          "output_type": "stream",
          "name": "stdout",
          "text": [
            "[*********************100%***********************]  1 of 1 completed\n",
            "[*********************100%***********************]  1 of 1 completed\n",
            "[*********************100%***********************]  1 of 1 completed\n"
          ]
        }
      ]
    },
    {
      "cell_type": "code",
      "source": [
        "df_dict = {}\n",
        "for ticker in tqdm(['USDRUB=X', 'EURUSD=X', 'EURRUB=X']):\n",
        "    df = yf.download(ticker)\n",
        "    df = df.Close.copy()\n",
        "    df = df.resample('M').mean()\n",
        "    df_dict[ticker] = df"
      ],
      "metadata": {
        "colab": {
          "base_uri": "https://localhost:8080/",
          "height": 101,
          "referenced_widgets": [
            "37bac38873d947868b4dea7325969ade",
            "61b6f04bce2e48d89cf4578fe18d388f",
            "b387909942d449aa8af94a728d1b620c",
            "e9da6722eb8b4d9cba7b6b615fd936e3",
            "f169f8f8ed934db5a05591042476ad97",
            "c1e58101ad7c4d6f9d3625ab7ca78661",
            "333189c72c7249099d35a0d35500b97f",
            "7b32dfd491b5492782558df11012af88",
            "c17a1eb6adf541dbb6c380a41d33ad89",
            "dcc97dd8af7b42df88a63cf0f210a31b",
            "553189adeb8e4fe1a1409e0d07701774"
          ]
        },
        "id": "hjP6YG79bbiE",
        "outputId": "2cbd763c-b0a6-46f7-d9a2-d2b1f30840f9"
      },
      "execution_count": 115,
      "outputs": [
        {
          "output_type": "display_data",
          "data": {
            "text/plain": [
              "  0%|          | 0/3 [00:00<?, ?it/s]"
            ],
            "application/vnd.jupyter.widget-view+json": {
              "version_major": 2,
              "version_minor": 0,
              "model_id": "37bac38873d947868b4dea7325969ade"
            }
          },
          "metadata": {}
        },
        {
          "output_type": "stream",
          "name": "stdout",
          "text": [
            "[*********************100%***********************]  1 of 1 completed\n",
            "[*********************100%***********************]  1 of 1 completed\n",
            "[*********************100%***********************]  1 of 1 completed\n"
          ]
        }
      ]
    },
    {
      "cell_type": "code",
      "source": [
        "main_df = pd.concat(df_dict.values(), axis=1)\n",
        "main_df = pd.concat([df_rubber_m, main_df], axis=1)\n",
        "main_df.columns = ['CRUDE_RUBBER_USD','USDRUB', 'EURUSD', 'EURRUB']\n",
        "main_df = main_df.loc['2019-06-30':'2022-06-30'].copy()"
      ],
      "metadata": {
        "id": "KK1Ry9kXnl7I"
      },
      "execution_count": 123,
      "outputs": []
    },
    {
      "cell_type": "code",
      "source": [
        "main_df"
      ],
      "metadata": {
        "colab": {
          "base_uri": "https://localhost:8080/",
          "height": 423
        },
        "id": "iIWyYUQ6nuIQ",
        "outputId": "cd34d473-5abb-4209-f6af-0891f8759dcd"
      },
      "execution_count": 127,
      "outputs": [
        {
          "output_type": "execute_result",
          "data": {
            "text/plain": [
              "            CRUDE_RUBBER_USD      USDRUB    EURUSD      EURRUB\n",
              "2019-06-30        224.053175   64.168690  1.129002   72.458005\n",
              "2019-07-31        207.373701   63.176222  1.122682   70.956822\n",
              "2019-08-31        190.399660   65.687992  1.113163   73.143709\n",
              "2019-09-30        191.488492   64.971148  1.101377   71.589861\n",
              "2019-10-31        186.057468   64.341009  1.104839   71.093322\n",
              "...                      ...         ...       ...         ...\n",
              "2022-02-28        274.737302   77.466339  1.133995   87.878880\n",
              "2022-03-31        278.389752  111.013403  1.102412  132.952291\n",
              "2022-04-30        270.460150   80.666187  1.082745   86.109895\n",
              "2022-05-31        264.685317   65.422944  1.057322   68.104363\n",
              "2022-06-30        255.559864   60.146091  1.057670   60.378959\n",
              "\n",
              "[37 rows x 4 columns]"
            ],
            "text/html": [
              "\n",
              "  <div id=\"df-3677a6ce-1a6b-478d-a603-d2094e5f21db\">\n",
              "    <div class=\"colab-df-container\">\n",
              "      <div>\n",
              "<style scoped>\n",
              "    .dataframe tbody tr th:only-of-type {\n",
              "        vertical-align: middle;\n",
              "    }\n",
              "\n",
              "    .dataframe tbody tr th {\n",
              "        vertical-align: top;\n",
              "    }\n",
              "\n",
              "    .dataframe thead th {\n",
              "        text-align: right;\n",
              "    }\n",
              "</style>\n",
              "<table border=\"1\" class=\"dataframe\">\n",
              "  <thead>\n",
              "    <tr style=\"text-align: right;\">\n",
              "      <th></th>\n",
              "      <th>CRUDE_RUBBER_USD</th>\n",
              "      <th>USDRUB</th>\n",
              "      <th>EURUSD</th>\n",
              "      <th>EURRUB</th>\n",
              "    </tr>\n",
              "  </thead>\n",
              "  <tbody>\n",
              "    <tr>\n",
              "      <th>2019-06-30</th>\n",
              "      <td>224.053175</td>\n",
              "      <td>64.168690</td>\n",
              "      <td>1.129002</td>\n",
              "      <td>72.458005</td>\n",
              "    </tr>\n",
              "    <tr>\n",
              "      <th>2019-07-31</th>\n",
              "      <td>207.373701</td>\n",
              "      <td>63.176222</td>\n",
              "      <td>1.122682</td>\n",
              "      <td>70.956822</td>\n",
              "    </tr>\n",
              "    <tr>\n",
              "      <th>2019-08-31</th>\n",
              "      <td>190.399660</td>\n",
              "      <td>65.687992</td>\n",
              "      <td>1.113163</td>\n",
              "      <td>73.143709</td>\n",
              "    </tr>\n",
              "    <tr>\n",
              "      <th>2019-09-30</th>\n",
              "      <td>191.488492</td>\n",
              "      <td>64.971148</td>\n",
              "      <td>1.101377</td>\n",
              "      <td>71.589861</td>\n",
              "    </tr>\n",
              "    <tr>\n",
              "      <th>2019-10-31</th>\n",
              "      <td>186.057468</td>\n",
              "      <td>64.341009</td>\n",
              "      <td>1.104839</td>\n",
              "      <td>71.093322</td>\n",
              "    </tr>\n",
              "    <tr>\n",
              "      <th>...</th>\n",
              "      <td>...</td>\n",
              "      <td>...</td>\n",
              "      <td>...</td>\n",
              "      <td>...</td>\n",
              "    </tr>\n",
              "    <tr>\n",
              "      <th>2022-02-28</th>\n",
              "      <td>274.737302</td>\n",
              "      <td>77.466339</td>\n",
              "      <td>1.133995</td>\n",
              "      <td>87.878880</td>\n",
              "    </tr>\n",
              "    <tr>\n",
              "      <th>2022-03-31</th>\n",
              "      <td>278.389752</td>\n",
              "      <td>111.013403</td>\n",
              "      <td>1.102412</td>\n",
              "      <td>132.952291</td>\n",
              "    </tr>\n",
              "    <tr>\n",
              "      <th>2022-04-30</th>\n",
              "      <td>270.460150</td>\n",
              "      <td>80.666187</td>\n",
              "      <td>1.082745</td>\n",
              "      <td>86.109895</td>\n",
              "    </tr>\n",
              "    <tr>\n",
              "      <th>2022-05-31</th>\n",
              "      <td>264.685317</td>\n",
              "      <td>65.422944</td>\n",
              "      <td>1.057322</td>\n",
              "      <td>68.104363</td>\n",
              "    </tr>\n",
              "    <tr>\n",
              "      <th>2022-06-30</th>\n",
              "      <td>255.559864</td>\n",
              "      <td>60.146091</td>\n",
              "      <td>1.057670</td>\n",
              "      <td>60.378959</td>\n",
              "    </tr>\n",
              "  </tbody>\n",
              "</table>\n",
              "<p>37 rows × 4 columns</p>\n",
              "</div>\n",
              "      <button class=\"colab-df-convert\" onclick=\"convertToInteractive('df-3677a6ce-1a6b-478d-a603-d2094e5f21db')\"\n",
              "              title=\"Convert this dataframe to an interactive table.\"\n",
              "              style=\"display:none;\">\n",
              "        \n",
              "  <svg xmlns=\"http://www.w3.org/2000/svg\" height=\"24px\"viewBox=\"0 0 24 24\"\n",
              "       width=\"24px\">\n",
              "    <path d=\"M0 0h24v24H0V0z\" fill=\"none\"/>\n",
              "    <path d=\"M18.56 5.44l.94 2.06.94-2.06 2.06-.94-2.06-.94-.94-2.06-.94 2.06-2.06.94zm-11 1L8.5 8.5l.94-2.06 2.06-.94-2.06-.94L8.5 2.5l-.94 2.06-2.06.94zm10 10l.94 2.06.94-2.06 2.06-.94-2.06-.94-.94-2.06-.94 2.06-2.06.94z\"/><path d=\"M17.41 7.96l-1.37-1.37c-.4-.4-.92-.59-1.43-.59-.52 0-1.04.2-1.43.59L10.3 9.45l-7.72 7.72c-.78.78-.78 2.05 0 2.83L4 21.41c.39.39.9.59 1.41.59.51 0 1.02-.2 1.41-.59l7.78-7.78 2.81-2.81c.8-.78.8-2.07 0-2.86zM5.41 20L4 18.59l7.72-7.72 1.47 1.35L5.41 20z\"/>\n",
              "  </svg>\n",
              "      </button>\n",
              "      \n",
              "  <style>\n",
              "    .colab-df-container {\n",
              "      display:flex;\n",
              "      flex-wrap:wrap;\n",
              "      gap: 12px;\n",
              "    }\n",
              "\n",
              "    .colab-df-convert {\n",
              "      background-color: #E8F0FE;\n",
              "      border: none;\n",
              "      border-radius: 50%;\n",
              "      cursor: pointer;\n",
              "      display: none;\n",
              "      fill: #1967D2;\n",
              "      height: 32px;\n",
              "      padding: 0 0 0 0;\n",
              "      width: 32px;\n",
              "    }\n",
              "\n",
              "    .colab-df-convert:hover {\n",
              "      background-color: #E2EBFA;\n",
              "      box-shadow: 0px 1px 2px rgba(60, 64, 67, 0.3), 0px 1px 3px 1px rgba(60, 64, 67, 0.15);\n",
              "      fill: #174EA6;\n",
              "    }\n",
              "\n",
              "    [theme=dark] .colab-df-convert {\n",
              "      background-color: #3B4455;\n",
              "      fill: #D2E3FC;\n",
              "    }\n",
              "\n",
              "    [theme=dark] .colab-df-convert:hover {\n",
              "      background-color: #434B5C;\n",
              "      box-shadow: 0px 1px 3px 1px rgba(0, 0, 0, 0.15);\n",
              "      filter: drop-shadow(0px 1px 2px rgba(0, 0, 0, 0.3));\n",
              "      fill: #FFFFFF;\n",
              "    }\n",
              "  </style>\n",
              "\n",
              "      <script>\n",
              "        const buttonEl =\n",
              "          document.querySelector('#df-3677a6ce-1a6b-478d-a603-d2094e5f21db button.colab-df-convert');\n",
              "        buttonEl.style.display =\n",
              "          google.colab.kernel.accessAllowed ? 'block' : 'none';\n",
              "\n",
              "        async function convertToInteractive(key) {\n",
              "          const element = document.querySelector('#df-3677a6ce-1a6b-478d-a603-d2094e5f21db');\n",
              "          const dataTable =\n",
              "            await google.colab.kernel.invokeFunction('convertToInteractive',\n",
              "                                                     [key], {});\n",
              "          if (!dataTable) return;\n",
              "\n",
              "          const docLinkHtml = 'Like what you see? Visit the ' +\n",
              "            '<a target=\"_blank\" href=https://colab.research.google.com/notebooks/data_table.ipynb>data table notebook</a>'\n",
              "            + ' to learn more about interactive tables.';\n",
              "          element.innerHTML = '';\n",
              "          dataTable['output_type'] = 'display_data';\n",
              "          await google.colab.output.renderOutput(dataTable, element);\n",
              "          const docLink = document.createElement('div');\n",
              "          docLink.innerHTML = docLinkHtml;\n",
              "          element.appendChild(docLink);\n",
              "        }\n",
              "      </script>\n",
              "    </div>\n",
              "  </div>\n",
              "  "
            ]
          },
          "metadata": {},
          "execution_count": 127
        }
      ]
    },
    {
      "cell_type": "code",
      "source": [
        "main_df['MWP_PRICE_EUR'] = main_df.CRUDE_RUBBER_USD*16 * (1/main_df.EURUSD) + 400\n",
        "main_df['MWP_PRICE_USD'] = main_df.CRUDE_RUBBER_USD*16 + 400 * main_df.EURUSD"
      ],
      "metadata": {
        "id": "sc3vX8ROpbEK"
      },
      "execution_count": 129,
      "outputs": []
    },
    {
      "cell_type": "code",
      "source": [
        "# Расходы на логистику\n",
        "EU_LOGISTIC_COST_EUR = 30 # в Европу в евро\n",
        "CN_LOGISTIC_COST_USD = 130 # в Китай в долларах"
      ],
      "metadata": {
        "id": "UdgQdaQ8pbLY"
      },
      "execution_count": 130,
      "outputs": []
    },
    {
      "cell_type": "code",
      "source": [
        "main_df['MWP_PRICE_EUR_EU'] = main_df['MWP_PRICE_EUR'] + EU_LOGISTIC_COST_EUR\n",
        "main_df['MWP_PRICE_USD_CN'] = main_df['MWP_PRICE_USD'] + CN_LOGISTIC_COST_USD"
      ],
      "metadata": {
        "id": "9-ED_q_JpbPw"
      },
      "execution_count": 131,
      "outputs": []
    },
    {
      "cell_type": "code",
      "source": [
        "main_df['MWP_PRICE_EUR_EU_MA'] = main_df.MWP_PRICE_EUR_EU.rolling(window=3).mean()"
      ],
      "metadata": {
        "id": "eTt1xt-upbXP"
      },
      "execution_count": 133,
      "outputs": []
    },
    {
      "cell_type": "code",
      "source": [
        "main_df"
      ],
      "metadata": {
        "colab": {
          "base_uri": "https://localhost:8080/",
          "height": 423
        },
        "id": "kQC8PwoypbTI",
        "outputId": "39551c9e-c787-45b6-ce03-f7d9fb35163f"
      },
      "execution_count": 134,
      "outputs": [
        {
          "output_type": "execute_result",
          "data": {
            "text/plain": [
              "            CRUDE_RUBBER_USD      USDRUB    EURUSD      EURRUB  MWP_PRICE_EUR  \\\n",
              "2019-06-30        224.053175   64.168690  1.129002   72.458005    3575.238760   \n",
              "2019-07-31        207.373701   63.176222  1.122682   70.956822    3355.405234   \n",
              "2019-08-31        190.399660   65.687992  1.113163   73.143709    3136.700703   \n",
              "2019-09-30        191.488492   64.971148  1.101377   71.589861    3181.804889   \n",
              "2019-10-31        186.057468   64.341009  1.104839   71.093322    3094.436582   \n",
              "...                      ...         ...       ...         ...            ...   \n",
              "2022-02-28        274.737302   77.466339  1.133995   87.878880    4276.379456   \n",
              "2022-03-31        278.389752  111.013403  1.102412  132.952291    4440.444054   \n",
              "2022-04-30        270.460150   80.666187  1.082745   86.109895    4396.660707   \n",
              "2022-05-31        264.685317   65.422944  1.057322   68.104363    4405.367788   \n",
              "2022-06-30        255.559864   60.146091  1.057670   60.378959    4266.006952   \n",
              "\n",
              "            MWP_PRICE_USD  MWP_PRICE_EUR_EU  MWP_PRICE_USD_CN  \\\n",
              "2019-06-30    4036.451579       3605.238760       4166.451579   \n",
              "2019-07-31    3767.051880       3385.405234       3897.051880   \n",
              "2019-08-31    3491.659844       3166.700703       3621.659844   \n",
              "2019-09-30    3504.366666       3211.804889       3634.366666   \n",
              "2019-10-31    3418.855208       3124.436582       3548.855208   \n",
              "...                   ...               ...               ...   \n",
              "2022-02-28    4849.395022       4306.379456       4979.395022   \n",
              "2022-03-31    4895.201024       4470.444054       5025.201024   \n",
              "2022-04-30    4760.460207       4426.660707       4890.460207   \n",
              "2022-05-31    4657.894039       4435.367788       4787.894039   \n",
              "2022-06-30    4512.025642       4296.006952       4642.025642   \n",
              "\n",
              "            MWP_PRICE_EUR_EU_MA  \n",
              "2019-06-30                  NaN  \n",
              "2019-07-31                  NaN  \n",
              "2019-08-31          3385.781566  \n",
              "2019-09-30          3254.636942  \n",
              "2019-10-31          3167.647392  \n",
              "...                         ...  \n",
              "2022-02-28          4034.509179  \n",
              "2022-03-31          4253.016487  \n",
              "2022-04-30          4401.161406  \n",
              "2022-05-31          4444.157516  \n",
              "2022-06-30          4386.011815  \n",
              "\n",
              "[37 rows x 9 columns]"
            ],
            "text/html": [
              "\n",
              "  <div id=\"df-bd7efb27-5dd0-4594-a231-d4f59e86a25c\">\n",
              "    <div class=\"colab-df-container\">\n",
              "      <div>\n",
              "<style scoped>\n",
              "    .dataframe tbody tr th:only-of-type {\n",
              "        vertical-align: middle;\n",
              "    }\n",
              "\n",
              "    .dataframe tbody tr th {\n",
              "        vertical-align: top;\n",
              "    }\n",
              "\n",
              "    .dataframe thead th {\n",
              "        text-align: right;\n",
              "    }\n",
              "</style>\n",
              "<table border=\"1\" class=\"dataframe\">\n",
              "  <thead>\n",
              "    <tr style=\"text-align: right;\">\n",
              "      <th></th>\n",
              "      <th>CRUDE_RUBBER_USD</th>\n",
              "      <th>USDRUB</th>\n",
              "      <th>EURUSD</th>\n",
              "      <th>EURRUB</th>\n",
              "      <th>MWP_PRICE_EUR</th>\n",
              "      <th>MWP_PRICE_USD</th>\n",
              "      <th>MWP_PRICE_EUR_EU</th>\n",
              "      <th>MWP_PRICE_USD_CN</th>\n",
              "      <th>MWP_PRICE_EUR_EU_MA</th>\n",
              "    </tr>\n",
              "  </thead>\n",
              "  <tbody>\n",
              "    <tr>\n",
              "      <th>2019-06-30</th>\n",
              "      <td>224.053175</td>\n",
              "      <td>64.168690</td>\n",
              "      <td>1.129002</td>\n",
              "      <td>72.458005</td>\n",
              "      <td>3575.238760</td>\n",
              "      <td>4036.451579</td>\n",
              "      <td>3605.238760</td>\n",
              "      <td>4166.451579</td>\n",
              "      <td>NaN</td>\n",
              "    </tr>\n",
              "    <tr>\n",
              "      <th>2019-07-31</th>\n",
              "      <td>207.373701</td>\n",
              "      <td>63.176222</td>\n",
              "      <td>1.122682</td>\n",
              "      <td>70.956822</td>\n",
              "      <td>3355.405234</td>\n",
              "      <td>3767.051880</td>\n",
              "      <td>3385.405234</td>\n",
              "      <td>3897.051880</td>\n",
              "      <td>NaN</td>\n",
              "    </tr>\n",
              "    <tr>\n",
              "      <th>2019-08-31</th>\n",
              "      <td>190.399660</td>\n",
              "      <td>65.687992</td>\n",
              "      <td>1.113163</td>\n",
              "      <td>73.143709</td>\n",
              "      <td>3136.700703</td>\n",
              "      <td>3491.659844</td>\n",
              "      <td>3166.700703</td>\n",
              "      <td>3621.659844</td>\n",
              "      <td>3385.781566</td>\n",
              "    </tr>\n",
              "    <tr>\n",
              "      <th>2019-09-30</th>\n",
              "      <td>191.488492</td>\n",
              "      <td>64.971148</td>\n",
              "      <td>1.101377</td>\n",
              "      <td>71.589861</td>\n",
              "      <td>3181.804889</td>\n",
              "      <td>3504.366666</td>\n",
              "      <td>3211.804889</td>\n",
              "      <td>3634.366666</td>\n",
              "      <td>3254.636942</td>\n",
              "    </tr>\n",
              "    <tr>\n",
              "      <th>2019-10-31</th>\n",
              "      <td>186.057468</td>\n",
              "      <td>64.341009</td>\n",
              "      <td>1.104839</td>\n",
              "      <td>71.093322</td>\n",
              "      <td>3094.436582</td>\n",
              "      <td>3418.855208</td>\n",
              "      <td>3124.436582</td>\n",
              "      <td>3548.855208</td>\n",
              "      <td>3167.647392</td>\n",
              "    </tr>\n",
              "    <tr>\n",
              "      <th>...</th>\n",
              "      <td>...</td>\n",
              "      <td>...</td>\n",
              "      <td>...</td>\n",
              "      <td>...</td>\n",
              "      <td>...</td>\n",
              "      <td>...</td>\n",
              "      <td>...</td>\n",
              "      <td>...</td>\n",
              "      <td>...</td>\n",
              "    </tr>\n",
              "    <tr>\n",
              "      <th>2022-02-28</th>\n",
              "      <td>274.737302</td>\n",
              "      <td>77.466339</td>\n",
              "      <td>1.133995</td>\n",
              "      <td>87.878880</td>\n",
              "      <td>4276.379456</td>\n",
              "      <td>4849.395022</td>\n",
              "      <td>4306.379456</td>\n",
              "      <td>4979.395022</td>\n",
              "      <td>4034.509179</td>\n",
              "    </tr>\n",
              "    <tr>\n",
              "      <th>2022-03-31</th>\n",
              "      <td>278.389752</td>\n",
              "      <td>111.013403</td>\n",
              "      <td>1.102412</td>\n",
              "      <td>132.952291</td>\n",
              "      <td>4440.444054</td>\n",
              "      <td>4895.201024</td>\n",
              "      <td>4470.444054</td>\n",
              "      <td>5025.201024</td>\n",
              "      <td>4253.016487</td>\n",
              "    </tr>\n",
              "    <tr>\n",
              "      <th>2022-04-30</th>\n",
              "      <td>270.460150</td>\n",
              "      <td>80.666187</td>\n",
              "      <td>1.082745</td>\n",
              "      <td>86.109895</td>\n",
              "      <td>4396.660707</td>\n",
              "      <td>4760.460207</td>\n",
              "      <td>4426.660707</td>\n",
              "      <td>4890.460207</td>\n",
              "      <td>4401.161406</td>\n",
              "    </tr>\n",
              "    <tr>\n",
              "      <th>2022-05-31</th>\n",
              "      <td>264.685317</td>\n",
              "      <td>65.422944</td>\n",
              "      <td>1.057322</td>\n",
              "      <td>68.104363</td>\n",
              "      <td>4405.367788</td>\n",
              "      <td>4657.894039</td>\n",
              "      <td>4435.367788</td>\n",
              "      <td>4787.894039</td>\n",
              "      <td>4444.157516</td>\n",
              "    </tr>\n",
              "    <tr>\n",
              "      <th>2022-06-30</th>\n",
              "      <td>255.559864</td>\n",
              "      <td>60.146091</td>\n",
              "      <td>1.057670</td>\n",
              "      <td>60.378959</td>\n",
              "      <td>4266.006952</td>\n",
              "      <td>4512.025642</td>\n",
              "      <td>4296.006952</td>\n",
              "      <td>4642.025642</td>\n",
              "      <td>4386.011815</td>\n",
              "    </tr>\n",
              "  </tbody>\n",
              "</table>\n",
              "<p>37 rows × 9 columns</p>\n",
              "</div>\n",
              "      <button class=\"colab-df-convert\" onclick=\"convertToInteractive('df-bd7efb27-5dd0-4594-a231-d4f59e86a25c')\"\n",
              "              title=\"Convert this dataframe to an interactive table.\"\n",
              "              style=\"display:none;\">\n",
              "        \n",
              "  <svg xmlns=\"http://www.w3.org/2000/svg\" height=\"24px\"viewBox=\"0 0 24 24\"\n",
              "       width=\"24px\">\n",
              "    <path d=\"M0 0h24v24H0V0z\" fill=\"none\"/>\n",
              "    <path d=\"M18.56 5.44l.94 2.06.94-2.06 2.06-.94-2.06-.94-.94-2.06-.94 2.06-2.06.94zm-11 1L8.5 8.5l.94-2.06 2.06-.94-2.06-.94L8.5 2.5l-.94 2.06-2.06.94zm10 10l.94 2.06.94-2.06 2.06-.94-2.06-.94-.94-2.06-.94 2.06-2.06.94z\"/><path d=\"M17.41 7.96l-1.37-1.37c-.4-.4-.92-.59-1.43-.59-.52 0-1.04.2-1.43.59L10.3 9.45l-7.72 7.72c-.78.78-.78 2.05 0 2.83L4 21.41c.39.39.9.59 1.41.59.51 0 1.02-.2 1.41-.59l7.78-7.78 2.81-2.81c.8-.78.8-2.07 0-2.86zM5.41 20L4 18.59l7.72-7.72 1.47 1.35L5.41 20z\"/>\n",
              "  </svg>\n",
              "      </button>\n",
              "      \n",
              "  <style>\n",
              "    .colab-df-container {\n",
              "      display:flex;\n",
              "      flex-wrap:wrap;\n",
              "      gap: 12px;\n",
              "    }\n",
              "\n",
              "    .colab-df-convert {\n",
              "      background-color: #E8F0FE;\n",
              "      border: none;\n",
              "      border-radius: 50%;\n",
              "      cursor: pointer;\n",
              "      display: none;\n",
              "      fill: #1967D2;\n",
              "      height: 32px;\n",
              "      padding: 0 0 0 0;\n",
              "      width: 32px;\n",
              "    }\n",
              "\n",
              "    .colab-df-convert:hover {\n",
              "      background-color: #E2EBFA;\n",
              "      box-shadow: 0px 1px 2px rgba(60, 64, 67, 0.3), 0px 1px 3px 1px rgba(60, 64, 67, 0.15);\n",
              "      fill: #174EA6;\n",
              "    }\n",
              "\n",
              "    [theme=dark] .colab-df-convert {\n",
              "      background-color: #3B4455;\n",
              "      fill: #D2E3FC;\n",
              "    }\n",
              "\n",
              "    [theme=dark] .colab-df-convert:hover {\n",
              "      background-color: #434B5C;\n",
              "      box-shadow: 0px 1px 3px 1px rgba(0, 0, 0, 0.15);\n",
              "      filter: drop-shadow(0px 1px 2px rgba(0, 0, 0, 0.3));\n",
              "      fill: #FFFFFF;\n",
              "    }\n",
              "  </style>\n",
              "\n",
              "      <script>\n",
              "        const buttonEl =\n",
              "          document.querySelector('#df-bd7efb27-5dd0-4594-a231-d4f59e86a25c button.colab-df-convert');\n",
              "        buttonEl.style.display =\n",
              "          google.colab.kernel.accessAllowed ? 'block' : 'none';\n",
              "\n",
              "        async function convertToInteractive(key) {\n",
              "          const element = document.querySelector('#df-bd7efb27-5dd0-4594-a231-d4f59e86a25c');\n",
              "          const dataTable =\n",
              "            await google.colab.kernel.invokeFunction('convertToInteractive',\n",
              "                                                     [key], {});\n",
              "          if (!dataTable) return;\n",
              "\n",
              "          const docLinkHtml = 'Like what you see? Visit the ' +\n",
              "            '<a target=\"_blank\" href=https://colab.research.google.com/notebooks/data_table.ipynb>data table notebook</a>'\n",
              "            + ' to learn more about interactive tables.';\n",
              "          element.innerHTML = '';\n",
              "          dataTable['output_type'] = 'display_data';\n",
              "          await google.colab.output.renderOutput(dataTable, element);\n",
              "          const docLink = document.createElement('div');\n",
              "          docLink.innerHTML = docLinkHtml;\n",
              "          element.appendChild(docLink);\n",
              "        }\n",
              "      </script>\n",
              "    </div>\n",
              "  </div>\n",
              "  "
            ]
          },
          "metadata": {},
          "execution_count": 134
        }
      ]
    },
    {
      "cell_type": "code",
      "source": [
        "from pylab import rcParams\n",
        "rcParams['figure.figsize'] = 12,7\n",
        "# График с базовой ценой(на заводе) в евро\n",
        "main_df['MWP_PRICE_EUR'].plot();"
      ],
      "metadata": {
        "colab": {
          "base_uri": "https://localhost:8080/",
          "height": 443
        },
        "id": "rhv-ThY7pbaa",
        "outputId": "c937ff52-aba1-4caf-9047-921bfc0efb9e"
      },
      "execution_count": 135,
      "outputs": [
        {
          "output_type": "display_data",
          "data": {
            "text/plain": [
              "<Figure size 864x504 with 1 Axes>"
            ],
            "image/png": "[encoded data removed]"
          },
          "metadata": {}
        }
      ]
    },
    {
      "cell_type": "code",
      "source": [
        "customers"
      ],
      "metadata": {
        "colab": {
          "base_uri": "https://localhost:8080/"
        },
        "id": "ZN55dU3_pbd7",
        "outputId": "e60af043-c6d4-4a60-e3cf-2b146abacfe8"
      },
      "execution_count": 136,
      "outputs": [
        {
          "output_type": "execute_result",
          "data": {
            "text/plain": [
              "{'Monty': {'comment': 'moving_average', 'location': 'EU', 'volumes': 200},\n",
              " 'Poly': {'comment': 'monthly', 'location': 'EU', 'volumes': 70},\n",
              " 'Stone': {'comment': 'moving_average', 'location': 'EU', 'volumes': 150},\n",
              " 'Triangle': {'comment': 'monthly', 'location': 'CN', 'volumes': 30}}"
            ]
          },
          "metadata": {},
          "execution_count": 136
        }
      ]
    },
    {
      "cell_type": "code",
      "source": [
        "discounts"
      ],
      "metadata": {
        "colab": {
          "base_uri": "https://localhost:8080/"
        },
        "id": "ZkZwjEOXqtMy",
        "outputId": "c2064b66-1b4b-4a58-e480-fb526510a647"
      },
      "execution_count": 137,
      "outputs": [
        {
          "output_type": "execute_result",
          "data": {
            "text/plain": [
              "{'300 plus': 0.1, 'up to 100': 0.01, 'up to 300': 0.05}"
            ]
          },
          "metadata": {},
          "execution_count": 137
        }
      ]
    },
    {
      "cell_type": "code",
      "source": [
        "discounts = {100: 0.01, 300: 0.05, 301: 0.1}"
      ],
      "metadata": {
        "id": "c42ilxA2qtPZ"
      },
      "execution_count": 138,
      "outputs": []
    },
    {
      "cell_type": "code",
      "source": [
        "for client ,v in customers.items():\n",
        "    location = client.get('location')\n",
        "    disc = 0\n",
        "    if client.get('location') == \"EU\":\n",
        "        for k_lim, discount_share in discounts.items():\n",
        "            if client.get('volumes') > k_lim:\n",
        "                continue\n",
        "            else:\n",
        "               disc = discount_share\n",
        "    elif client.get('location') == 'CN':\n",
        "        pass"
      ],
      "metadata": {
        "colab": {
          "base_uri": "https://localhost:8080/",
          "height": 234
        },
        "id": "SMnMvd_gqtTQ",
        "outputId": "233444ba-665c-4306-a3e3-2d86645576ed"
      },
      "execution_count": 139,
      "outputs": [
        {
          "output_type": "error",
          "ename": "AttributeError",
          "evalue": "ignored",
          "traceback": [
            "\u001b[0;31m---------------------------------------------------------------------------\u001b[0m",
            "\u001b[0;31mAttributeError\u001b[0m                            Traceback (most recent call last)",
            "\u001b[0;32m<ipython-input-139-d16594f84a51>\u001b[0m in \u001b[0;36m<module>\u001b[0;34m()\u001b[0m\n\u001b[1;32m      1\u001b[0m \u001b[0;32mfor\u001b[0m \u001b[0mclient\u001b[0m \u001b[0;34m,\u001b[0m\u001b[0mv\u001b[0m \u001b[0;32min\u001b[0m \u001b[0mcustomers\u001b[0m\u001b[0;34m.\u001b[0m\u001b[0mitems\u001b[0m\u001b[0;34m(\u001b[0m\u001b[0;34m)\u001b[0m\u001b[0;34m:\u001b[0m\u001b[0;34m\u001b[0m\u001b[0;34m\u001b[0m\u001b[0m\n\u001b[0;32m----> 2\u001b[0;31m     \u001b[0mlocation\u001b[0m \u001b[0;34m=\u001b[0m \u001b[0mclient\u001b[0m\u001b[0;34m.\u001b[0m\u001b[0mget\u001b[0m\u001b[0;34m(\u001b[0m\u001b[0;34m'location'\u001b[0m\u001b[0;34m)\u001b[0m\u001b[0;34m\u001b[0m\u001b[0;34m\u001b[0m\u001b[0m\n\u001b[0m\u001b[1;32m      3\u001b[0m     \u001b[0mdisc\u001b[0m \u001b[0;34m=\u001b[0m \u001b[0;36m0\u001b[0m\u001b[0;34m\u001b[0m\u001b[0;34m\u001b[0m\u001b[0m\n\u001b[1;32m      4\u001b[0m     \u001b[0;32mif\u001b[0m \u001b[0mclient\u001b[0m\u001b[0;34m.\u001b[0m\u001b[0mget\u001b[0m\u001b[0;34m(\u001b[0m\u001b[0;34m'location'\u001b[0m\u001b[0;34m)\u001b[0m \u001b[0;34m==\u001b[0m \u001b[0;34m\"EU\"\u001b[0m\u001b[0;34m:\u001b[0m\u001b[0;34m\u001b[0m\u001b[0;34m\u001b[0m\u001b[0m\n\u001b[1;32m      5\u001b[0m         \u001b[0;32mfor\u001b[0m \u001b[0mk_lim\u001b[0m\u001b[0;34m,\u001b[0m \u001b[0mdiscount_share\u001b[0m \u001b[0;32min\u001b[0m \u001b[0mdiscounts\u001b[0m\u001b[0;34m.\u001b[0m\u001b[0mitems\u001b[0m\u001b[0;34m(\u001b[0m\u001b[0;34m)\u001b[0m\u001b[0;34m:\u001b[0m\u001b[0;34m\u001b[0m\u001b[0;34m\u001b[0m\u001b[0m\n",
            "\u001b[0;31mAttributeError\u001b[0m: 'str' object has no attribute 'get'"
          ]
        }
      ]
    },
    {
      "cell_type": "code",
      "source": [
        ""
      ],
      "metadata": {
        "id": "Sft9Lb60qtWI"
      },
      "execution_count": null,
      "outputs": []
    },
    {
      "cell_type": "code",
      "source": [
        ""
      ],
      "metadata": {
        "id": "Tl7-jmjZqtZN"
      },
      "execution_count": null,
      "outputs": []
    },
    {
      "cell_type": "code",
      "source": [
        ""
      ],
      "metadata": {
        "id": "cmcSjuB2qtbt"
      },
      "execution_count": null,
      "outputs": []
    },
    {
      "cell_type": "code",
      "source": [
        ""
      ],
      "metadata": {
        "id": "qAWYW5M2qteh"
      },
      "execution_count": null,
      "outputs": []
    },
    {
      "cell_type": "code",
      "source": [
        ""
      ],
      "metadata": {
        "id": "KSPwQWOwqthS"
      },
      "execution_count": null,
      "outputs": []
    },
    {
      "cell_type": "markdown",
      "metadata": {
        "pycharm": {
          "name": "#%% md\n"
        },
        "id": "qCO-Z1NtGxPr"
      },
      "source": [
        "# Задание 2. Продолжение"
      ]
    },
    {
      "cell_type": "markdown",
      "metadata": {
        "pycharm": {
          "name": "#%% md\n"
        },
        "id": "wFLzwnw7GxPs"
      },
      "source": [
        "Клиенты согласились на ваше предложение. \n",
        "Вам нужно сделать написать скрипт, с помощью которого можно автоматом рассчитывать цены для всех клиентов одновременно. \n",
        "Важный момент: данные для расчета скрипт должен подтягивать сам.\n",
        "\n",
        "В результате должно быть 3 файла\n",
        "1. Ноутбук с расчетами и графиками (чтобы данные подтягивались туда)\n",
        "2. Скрипт, который делает расчет цены для клиента (чтобы данные подтягивались туда сами)"
      ]
    },
    {
      "cell_type": "code",
      "execution_count": 140,
      "metadata": {
        "pycharm": {
          "name": "#%%\n"
        },
        "id": "8uLC3vTBGxPu"
      },
      "outputs": [],
      "source": [
        ""
      ]
    },
    {
      "cell_type": "markdown",
      "metadata": {
        "pycharm": {
          "name": "#%% md\n"
        },
        "id": "-AS7n-pmGxPv"
      },
      "source": [
        "# Задание 3. Back to Russia\n",
        "\n",
        "К вам пришел новый клиент из России, он готов регулярно закупать синтетический каучук. Клиент готов забирать ВБП с завода самостоятельно.\n",
        "1. На основе тех данных, которые уже есть предложите цену новому клиенту. \n",
        "2. Подготовьте скрипт, который будет использовать курс публикуемый на <a href='http://www.cbr.ru/currency_base/dynamics/'> сайте ЦБ РФ</a> или из любого другого источника.\n"
      ]
    },
    {
      "cell_type": "code",
      "execution_count": 7,
      "metadata": {
        "pycharm": {
          "name": "#%%\n"
        },
        "id": "rga6u47MGxPw"
      },
      "outputs": [],
      "source": [
        "# "
      ]
    },
    {
      "cell_type": "markdown",
      "metadata": {
        "pycharm": {
          "name": "#%% md\n"
        },
        "id": "dKiaXm1MGxPx"
      },
      "source": [
        "# Задание 4. Check it"
      ]
    },
    {
      "cell_type": "markdown",
      "metadata": {
        "pycharm": {
          "name": "#%% md\n"
        },
        "id": "YVK3rF7oGxPy"
      },
      "source": [
        "* Подумайте, как можно проверить корректность работы алгоритма? \n",
        "* Какие возможны ошибки?\n",
        "* Придумайте тесты для проверки возможных ошибок алгоритма\n",
        "* Интергрируйте их в свои скрипты в виде исключений\n"
      ]
    },
    {
      "cell_type": "code",
      "execution_count": 8,
      "metadata": {
        "pycharm": {
          "name": "#%%\n"
        },
        "id": "oplkBwFCGxPy"
      },
      "outputs": [],
      "source": [
        "# "
      ]
    },
    {
      "cell_type": "markdown",
      "metadata": {
        "pycharm": {
          "name": "#%% md\n"
        },
        "id": "qE5FROXiGxPz"
      },
      "source": [
        "# Задание 5. Поделись с ближним"
      ]
    },
    {
      "cell_type": "markdown",
      "metadata": {
        "pycharm": {
          "name": "#%% md\n"
        },
        "id": "GOcHO6RhGxP0"
      },
      "source": [
        "Вы решили пойти в отпуск на время вашего отсутствия вас будет заменять коллега. Он будет заниматься рассчетом цен для клиентов. Чтобы ему было проще вам нужно завернуть ваши скрипты в модуль, который будет запускать у себя коллега."
      ]
    },
    {
      "cell_type": "markdown",
      "metadata": {
        "pycharm": {
          "name": "#%% md\n"
        },
        "id": "oMbF5Q9dGxP0"
      },
      "source": [
        "* Создайте модуль, который можно запускать в ноутбуке подкладывая в ту же директорию\n",
        "* Хорошенько задокументируйте ВСЁ, но помните о PEP8"
      ]
    },
    {
      "cell_type": "code",
      "execution_count": 9,
      "metadata": {
        "pycharm": {
          "name": "#%%\n"
        },
        "id": "xntKrhKkGxP0"
      },
      "outputs": [],
      "source": [
        "# import yourpackage"
      ]
    },
    {
      "cell_type": "markdown",
      "metadata": {
        "pycharm": {
          "name": "#%% md\n"
        },
        "id": "iLtOGIvQGxP1"
      },
      "source": [
        "# Задание 6. Поделись пакетом"
      ]
    },
    {
      "cell_type": "markdown",
      "metadata": {
        "pycharm": {
          "name": "#%% md\n"
        },
        "id": "MzAyJPBsGxP1"
      },
      "source": [
        "Ваши коллеги узнали, что вы быстро рассчитываете цены для формульных контрактов, и решили использовать такую же практику для своих продуктов и клиентов. Вам нужно создать пакет, чтобы его было проще устанавливать и использовать."
      ]
    },
    {
      "cell_type": "markdown",
      "metadata": {
        "pycharm": {
          "name": "#%% md\n"
        },
        "id": "OY5S_wRHGxP2"
      },
      "source": [
        "* Создайте отдельный пакет, который можно устанавливать с помощью pip \n",
        "* В пакете должны быть реализованы функции для рассчета цен по формульным контрактам\n",
        "* Выложите пакет в репозиторий"
      ]
    },
    {
      "cell_type": "code",
      "execution_count": 10,
      "metadata": {
        "pycharm": {
          "name": "#%%\n"
        },
        "id": "-xBJpv8BGxP2"
      },
      "outputs": [],
      "source": [
        "# !pip install yourpackage\n",
        "# import yourpackage"
      ]
    }
  ],
  "metadata": {
    "kernelspec": {
      "display_name": "Python 3",
      "language": "python",
      "name": "python3"
    },
    "language_info": {
      "codemirror_mode": {
        "name": "ipython",
        "version": 3
      },
      "file_extension": ".py",
      "mimetype": "text/x-python",
      "name": "python",
      "nbconvert_exporter": "python",
      "pygments_lexer": "ipython3",
      "version": "3.8.5"
    },
    "colab": {
      "name": "SyntheticRubber.ipynb",
      "provenance": [],
      "include_colab_link": true
    },
    "widgets": {
      "application/vnd.jupyter.widget-state+json": {
        "37bac38873d947868b4dea7325969ade": {
          "model_module": "@jupyter-widgets/controls",
          "model_name": "HBoxModel",
          "model_module_version": "1.5.0",
          "state": {
            "_dom_classes": [],
            "_model_module": "@jupyter-widgets/controls",
            "_model_module_version": "1.5.0",
            "_model_name": "HBoxModel",
            "_view_count": null,
            "_view_module": "@jupyter-widgets/controls",
            "_view_module_version": "1.5.0",
            "_view_name": "HBoxView",
            "box_style": "",
            "children": [
              "IPY_MODEL_61b6f04bce2e48d89cf4578fe18d388f",
              "IPY_MODEL_b387909942d449aa8af94a728d1b620c",
              "IPY_MODEL_e9da6722eb8b4d9cba7b6b615fd936e3"
            ],
            "layout": "IPY_MODEL_f169f8f8ed934db5a05591042476ad97"
          }
        },
        "61b6f04bce2e48d89cf4578fe18d388f": {
          "model_module": "@jupyter-widgets/controls",
          "model_name": "HTMLModel",
          "model_module_version": "1.5.0",
          "state": {
            "_dom_classes": [],
            "_model_module": "@jupyter-widgets/controls",
            "_model_module_version": "1.5.0",
            "_model_name": "HTMLModel",
            "_view_count": null,
            "_view_module": "@jupyter-widgets/controls",
            "_view_module_version": "1.5.0",
            "_view_name": "HTMLView",
            "description": "",
            "description_tooltip": null,
            "layout": "IPY_MODEL_c1e58101ad7c4d6f9d3625ab7ca78661",
            "placeholder": "​",
            "style": "IPY_MODEL_333189c72c7249099d35a0d35500b97f",
            "value": "100%"
          }
        },
        "b387909942d449aa8af94a728d1b620c": {
          "model_module": "@jupyter-widgets/controls",
          "model_name": "FloatProgressModel",
          "model_module_version": "1.5.0",
          "state": {
            "_dom_classes": [],
            "_model_module": "@jupyter-widgets/controls",
            "_model_module_version": "1.5.0",
            "_model_name": "FloatProgressModel",
            "_view_count": null,
            "_view_module": "@jupyter-widgets/controls",
            "_view_module_version": "1.5.0",
            "_view_name": "ProgressView",
            "bar_style": "success",
            "description": "",
            "description_tooltip": null,
            "layout": "IPY_MODEL_7b32dfd491b5492782558df11012af88",
            "max": 3,
            "min": 0,
            "orientation": "horizontal",
            "style": "IPY_MODEL_c17a1eb6adf541dbb6c380a41d33ad89",
            "value": 3
          }
        },
        "e9da6722eb8b4d9cba7b6b615fd936e3": {
          "model_module": "@jupyter-widgets/controls",
          "model_name": "HTMLModel",
          "model_module_version": "1.5.0",
          "state": {
            "_dom_classes": [],
            "_model_module": "@jupyter-widgets/controls",
            "_model_module_version": "1.5.0",
            "_model_name": "HTMLModel",
            "_view_count": null,
            "_view_module": "@jupyter-widgets/controls",
            "_view_module_version": "1.5.0",
            "_view_name": "HTMLView",
            "description": "",
            "description_tooltip": null,
            "layout": "IPY_MODEL_dcc97dd8af7b42df88a63cf0f210a31b",
            "placeholder": "​",
            "style": "IPY_MODEL_553189adeb8e4fe1a1409e0d07701774",
            "value": " 3/3 [00:00&lt;00:00,  4.34it/s]"
          }
        },
        "f169f8f8ed934db5a05591042476ad97": {
          "model_module": "@jupyter-widgets/base",
          "model_name": "LayoutModel",
          "model_module_version": "1.2.0",
          "state": {
            "_model_module": "@jupyter-widgets/base",
            "_model_module_version": "1.2.0",
            "_model_name": "LayoutModel",
            "_view_count": null,
            "_view_module": "@jupyter-widgets/base",
            "_view_module_version": "1.2.0",
            "_view_name": "LayoutView",
            "align_content": null,
            "align_items": null,
            "align_self": null,
            "border": null,
            "bottom": null,
            "display": null,
            "flex": null,
            "flex_flow": null,
            "grid_area": null,
            "grid_auto_columns": null,
            "grid_auto_flow": null,
            "grid_auto_rows": null,
            "grid_column": null,
            "grid_gap": null,
            "grid_row": null,
            "grid_template_areas": null,
            "grid_template_columns": null,
            "grid_template_rows": null,
            "height": null,
            "justify_content": null,
            "justify_items": null,
            "left": null,
            "margin": null,
            "max_height": null,
            "max_width": null,
            "min_height": null,
            "min_width": null,
            "object_fit": null,
            "object_position": null,
            "order": null,
            "overflow": null,
            "overflow_x": null,
            "overflow_y": null,
            "padding": null,
            "right": null,
            "top": null,
            "visibility": null,
            "width": null
          }
        },
        "c1e58101ad7c4d6f9d3625ab7ca78661": {
          "model_module": "@jupyter-widgets/base",
          "model_name": "LayoutModel",
          "model_module_version": "1.2.0",
          "state": {
            "_model_module": "@jupyter-widgets/base",
            "_model_module_version": "1.2.0",
            "_model_name": "LayoutModel",
            "_view_count": null,
            "_view_module": "@jupyter-widgets/base",
            "_view_module_version": "1.2.0",
            "_view_name": "LayoutView",
            "align_content": null,
            "align_items": null,
            "align_self": null,
            "border": null,
            "bottom": null,
            "display": null,
            "flex": null,
            "flex_flow": null,
            "grid_area": null,
            "grid_auto_columns": null,
            "grid_auto_flow": null,
            "grid_auto_rows": null,
            "grid_column": null,
            "grid_gap": null,
            "grid_row": null,
            "grid_template_areas": null,
            "grid_template_columns": null,
            "grid_template_rows": null,
            "height": null,
            "justify_content": null,
            "justify_items": null,
            "left": null,
            "margin": null,
            "max_height": null,
            "max_width": null,
            "min_height": null,
            "min_width": null,
            "object_fit": null,
            "object_position": null,
            "order": null,
            "overflow": null,
            "overflow_x": null,
            "overflow_y": null,
            "padding": null,
            "right": null,
            "top": null,
            "visibility": null,
            "width": null
          }
        },
        "333189c72c7249099d35a0d35500b97f": {
          "model_module": "@jupyter-widgets/controls",
          "model_name": "DescriptionStyleModel",
          "model_module_version": "1.5.0",
          "state": {
            "_model_module": "@jupyter-widgets/controls",
            "_model_module_version": "1.5.0",
            "_model_name": "DescriptionStyleModel",
            "_view_count": null,
            "_view_module": "@jupyter-widgets/base",
            "_view_module_version": "1.2.0",
            "_view_name": "StyleView",
            "description_width": ""
          }
        },
        "7b32dfd491b5492782558df11012af88": {
          "model_module": "@jupyter-widgets/base",
          "model_name": "LayoutModel",
          "model_module_version": "1.2.0",
          "state": {
            "_model_module": "@jupyter-widgets/base",
            "_model_module_version": "1.2.0",
            "_model_name": "LayoutModel",
            "_view_count": null,
            "_view_module": "@jupyter-widgets/base",
            "_view_module_version": "1.2.0",
            "_view_name": "LayoutView",
            "align_content": null,
            "align_items": null,
            "align_self": null,
            "border": null,
            "bottom": null,
            "display": null,
            "flex": null,
            "flex_flow": null,
            "grid_area": null,
            "grid_auto_columns": null,
            "grid_auto_flow": null,
            "grid_auto_rows": null,
            "grid_column": null,
            "grid_gap": null,
            "grid_row": null,
            "grid_template_areas": null,
            "grid_template_columns": null,
            "grid_template_rows": null,
            "height": null,
            "justify_content": null,
            "justify_items": null,
            "left": null,
            "margin": null,
            "max_height": null,
            "max_width": null,
            "min_height": null,
            "min_width": null,
            "object_fit": null,
            "object_position": null,
            "order": null,
            "overflow": null,
            "overflow_x": null,
            "overflow_y": null,
            "padding": null,
            "right": null,
            "top": null,
            "visibility": null,
            "width": null
          }
        },
        "c17a1eb6adf541dbb6c380a41d33ad89": {
          "model_module": "@jupyter-widgets/controls",
          "model_name": "ProgressStyleModel",
          "model_module_version": "1.5.0",
          "state": {
            "_model_module": "@jupyter-widgets/controls",
            "_model_module_version": "1.5.0",
            "_model_name": "ProgressStyleModel",
            "_view_count": null,
            "_view_module": "@jupyter-widgets/base",
            "_view_module_version": "1.2.0",
            "_view_name": "StyleView",
            "bar_color": null,
            "description_width": ""
          }
        },
        "dcc97dd8af7b42df88a63cf0f210a31b": {
          "model_module": "@jupyter-widgets/base",
          "model_name": "LayoutModel",
          "model_module_version": "1.2.0",
          "state": {
            "_model_module": "@jupyter-widgets/base",
            "_model_module_version": "1.2.0",
            "_model_name": "LayoutModel",
            "_view_count": null,
            "_view_module": "@jupyter-widgets/base",
            "_view_module_version": "1.2.0",
            "_view_name": "LayoutView",
            "align_content": null,
            "align_items": null,
            "align_self": null,
            "border": null,
            "bottom": null,
            "display": null,
            "flex": null,
            "flex_flow": null,
            "grid_area": null,
            "grid_auto_columns": null,
            "grid_auto_flow": null,
            "grid_auto_rows": null,
            "grid_column": null,
            "grid_gap": null,
            "grid_row": null,
            "grid_template_areas": null,
            "grid_template_columns": null,
            "grid_template_rows": null,
            "height": null,
            "justify_content": null,
            "justify_items": null,
            "left": null,
            "margin": null,
            "max_height": null,
            "max_width": null,
            "min_height": null,
            "min_width": null,
            "object_fit": null,
            "object_position": null,
            "order": null,
            "overflow": null,
            "overflow_x": null,
            "overflow_y": null,
            "padding": null,
            "right": null,
            "top": null,
            "visibility": null,
            "width": null
          }
        },
        "553189adeb8e4fe1a1409e0d07701774": {
          "model_module": "@jupyter-widgets/controls",
          "model_name": "DescriptionStyleModel",
          "model_module_version": "1.5.0",
          "state": {
            "_model_module": "@jupyter-widgets/controls",
            "_model_module_version": "1.5.0",
            "_model_name": "DescriptionStyleModel",
            "_view_count": null,
            "_view_module": "@jupyter-widgets/base",
            "_view_module_version": "1.2.0",
            "_view_name": "StyleView",
            "description_width": ""
          }
        }
      }
    }
  },
  "nbformat": 4,
  "nbformat_minor": 0
}