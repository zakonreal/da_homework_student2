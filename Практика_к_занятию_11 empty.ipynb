{
 "cells": [
  {
   "cell_type": "markdown",
   "metadata": {
    "id": "pDrecLU-4QjS"
   },
   "source": [
    "# Практика"
   ]
  },
  {
   "cell_type": "code",
   "execution_count": 99,
   "metadata": {
    "id": "88Iw-SL3jYQV"
   },
   "outputs": [],
   "source": [
    "# библиотеки\n",
    "import pandas as pd\n",
    "import numpy as np\n",
    "import matplotlib.pyplot as plt\n",
    "import random\n",
    "import scipy.stats as sts\n",
    "%matplotlib inline\n",
    "\n",
    "import warnings\n",
    "warnings.filterwarnings('ignore')"
   ]
  },
  {
   "cell_type": "markdown",
   "metadata": {
    "id": "gUvTNDlMaV-a"
   },
   "source": [
    "## Определение вероятности. События\n",
    "\n",
    "Требуется сгенерировать необходимые выборки и произвести по ним расчеты"
   ]
  },
  {
   "cell_type": "markdown",
   "metadata": {
    "id": "5V70InEBTgup"
   },
   "source": [
    "### Задача 1\n",
    "Брошено две монеты. Найти вероятность того, что монеты выпали разными сторонами"
   ]
  },
  {
   "cell_type": "markdown",
   "metadata": {},
   "source": [
    "В данном случае существуют 2 несовместных варианта, при которых на монетах выпадут разные стороны:\n",
    "A) 1О – 2Р;\n",
    "B) 1Р – 2О;\n",
    "Где 1, 2 – монеты, О – орел, Р – решка.\n",
    "Их общую вероятность можно посчитать как вероятность суммы несовместных событий P(С):\n",
    "P(С) = P(A) + P(B).\n",
    "Вероятность варианта A посчитаем как произведение вероятностей независимых событий (выбрасываний 2-х монет):\n",
    "P(A) = p1 * (1 - p2),\n",
    "Где p1 - вероятность выпадения на первой монете орла, (1 - p2) – вероятность выпадения на второй монете решки.\n",
    "Рассчитаем вероятность события B:\n",
    "P(B) = (1 - p1) * p2,\n",
    "Где (1 - p1)  - вероятность выпадения на первой монете решки, p2 – вероятность выпадения на второй монете орла.\n",
    "Определим вероятность искомого события:\n",
    "P(С) = p1 * (1 - p2) + (1 - p1) * p2;\n",
    "P(С) = 0,5 * (1 – 0,5) + (1 – 0,5) * 0,5 = 0,5."
   ]
  },
  {
   "cell_type": "code",
   "execution_count": 100,
   "metadata": {},
   "outputs": [],
   "source": [
    "# имеем 2 монеты\n",
    "M1 = [\"Reshka\", \"Orel\"]\n",
    "M2 = [\"Reshka\", \"Orel\"]\n",
    "# число бросков\n",
    "n = 100000\n",
    "# формируем выборку\n",
    "df = pd.DataFrame({'A': pd.Series(np.random.choice(M1, n)),\n",
    "                   'B': pd.Series(np.random.choice(M2, n))})"
   ]
  },
  {
   "cell_type": "code",
   "execution_count": 101,
   "metadata": {},
   "outputs": [
    {
     "name": "stdout",
     "output_type": "stream",
     "text": [
      "CPU times: total: 78.1 ms\n",
      "Wall time: 82 ms\n"
     ]
    },
    {
     "data": {
      "text/plain": [
       "0.49958"
      ]
     },
     "execution_count": 101,
     "metadata": {},
     "output_type": "execute_result"
    }
   ],
   "source": [
    "%%time\n",
    "# способ №1 вероятность того, что монеты выпали разными сторонами\n",
    "(df[(df.A == 'Orel') & (df.B == 'Reshka')].shape[0] + df[(df.B == 'Orel') & (df.A == 'Reshka')].shape[0]) / df.shape[0]"
   ]
  },
  {
   "cell_type": "code",
   "execution_count": 102,
   "metadata": {
    "scrolled": true
   },
   "outputs": [
    {
     "name": "stdout",
     "output_type": "stream",
     "text": [
      "CPU times: total: 7.03 s\n",
      "Wall time: 7.21 s\n"
     ]
    },
    {
     "data": {
      "text/plain": [
       "0.49958"
      ]
     },
     "execution_count": 102,
     "metadata": {},
     "output_type": "execute_result"
    }
   ],
   "source": [
    "%%time\n",
    "# способ №2 вероятность того, что монеты выпали разными сторонами\n",
    "i = 0\n",
    "for j in range(n):\n",
    "        if df.A.iloc[j] != df.B.iloc[j]:\n",
    "               i+=1\n",
    "i / n"
   ]
  },
  {
   "cell_type": "markdown",
   "metadata": {
    "id": "t0XOMos2Tl0e"
   },
   "source": [
    "### Задача 2\n",
    "Брошено три монеты. Описать множество всех элементарных событий. Найти вероятности следующих событий:\n",
    "\n",
    "\n",
    "1.   A = {не выпало ни одного герба}\n",
    "2.   B = {выпало четное число гербов}\n",
    "3.   C = {на третьей монете выпал герб}\n"
   ]
  },
  {
   "cell_type": "code",
   "execution_count": 103,
   "metadata": {
    "id": "o7NjAE9uUo-L"
   },
   "outputs": [],
   "source": [
    "# имеем 3 монеты\n",
    "M1 = [\"Reshka\", \"Gerb\"]\n",
    "M2 = [\"Reshka\", \"Gerb\"]\n",
    "M3 = [\"Reshka\", \"Gerb\"]\n",
    "# число бросков\n",
    "n = 1000000\n",
    "# формируем выборку\n",
    "df = pd.DataFrame({'A': pd.Series(np.random.choice(M1, n)),\n",
    "                   'B': pd.Series(np.random.choice(M2, n)),\n",
    "                   'C': pd.Series(np.random.choice(M3, n))})"
   ]
  },
  {
   "cell_type": "code",
   "execution_count": 104,
   "metadata": {},
   "outputs": [
    {
     "data": {
      "text/plain": [
       "0.124959"
      ]
     },
     "execution_count": 104,
     "metadata": {},
     "output_type": "execute_result"
    }
   ],
   "source": [
    "# 1. A = {не выпало ни одного герба}. Вероятность\n",
    "df[(df.A != 'Gerb') & (df.B != 'Gerb') & (df.C != 'Gerb')].shape[0] / df.shape[0]"
   ]
  },
  {
   "cell_type": "code",
   "execution_count": 105,
   "metadata": {},
   "outputs": [
    {
     "data": {
      "text/plain": [
       "0.375539"
      ]
     },
     "execution_count": 105,
     "metadata": {},
     "output_type": "execute_result"
    }
   ],
   "source": [
    "# 2. B = {выпало четное число гербов}. Вероятность\n",
    "(df[(df.A == 'Gerb') & (df.B == 'Gerb') & (df.C != 'Gerb')].shape[0] +\n",
    "df[(df.A == 'Gerb') & (df.B != 'Gerb') & (df.C == 'Gerb')].shape[0] +\n",
    "df[(df.A != 'Gerb') & (df.B == 'Gerb') & (df.C == 'Gerb')].shape[0]) / df.shape[0]"
   ]
  },
  {
   "cell_type": "code",
   "execution_count": 106,
   "metadata": {},
   "outputs": [
    {
     "data": {
      "text/plain": [
       "0.500037"
      ]
     },
     "execution_count": 106,
     "metadata": {},
     "output_type": "execute_result"
    }
   ],
   "source": [
    "# 3. C = {на третьей монете выпал герб}. Вероятность\n",
    "df[df.C == 'Gerb'].shape[0] / df.shape[0]"
   ]
  },
  {
   "cell_type": "markdown",
   "metadata": {},
   "source": [
    "Предлагается также решить задачи: \n",
    "\n",
    "### Задача 3\n",
    "Из двух претендентов E и L на ответственную должность три члена комиссии должны отобрать одного. Каждый член комиссии должен указать либо одного достойного, либо забраковать обоих. Претендент считается выбранным, если он был признана достойным хотя бы двумя членами комиссии.\n",
    "Найти вероятность событий:\n",
    "\n",
    "A = {рекомендован L}, B = {рекомендован E}\n"
   ]
  },
  {
   "cell_type": "code",
   "execution_count": 107,
   "metadata": {},
   "outputs": [],
   "source": [
    "# имеем три члена комиссии\n",
    "# имеем двух претендентов E и L\n",
    "# Каждый член комиссии принимает одно из трех решений:\n",
    "# E–рекомендовать претендента E, L–рекомендовать претендента L, O–никого не рекомендовать.\n",
    "K1 = [\"E\", \"L\", \"O\"]\n",
    "K2 = [\"E\", \"L\", \"O\"]\n",
    "K3 = [\"E\", \"L\", \"O\"]\n",
    "# количество выбора претендента\n",
    "n = 10000\n",
    "# формируем выборку\n",
    "df = pd.DataFrame({'A': pd.Series(np.random.choice(K1, n)),\n",
    "                   'B': pd.Series(np.random.choice(K2, n)),\n",
    "                   'C': pd.Series(np.random.choice(K3, n))})"
   ]
  },
  {
   "cell_type": "code",
   "execution_count": 108,
   "metadata": {},
   "outputs": [
    {
     "data": {
      "text/plain": [
       "0.2618"
      ]
     },
     "execution_count": 108,
     "metadata": {},
     "output_type": "execute_result"
    }
   ],
   "source": [
    "# вероятность событий: A = {рекомендован L}, B = {рекомендован E}\n",
    "i = 0\n",
    "for j in range(n):\n",
    "        if df.A.iloc[j] == df.B.iloc[j] == \"L\" or df.A.iloc[j] == df.C.iloc[j] == \"L\" or df.C.iloc[j] == df.B.iloc[j] == \"L\":\n",
    "               i+=1\n",
    "i / n"
   ]
  },
  {
   "cell_type": "markdown",
   "metadata": {
    "id": "peM38mVfYa5B"
   },
   "source": [
    "### Задача 4\n",
    "Брошено две игральных кости. Описать множество элементарных событий. Найти вероятности событий:\n",
    "\n",
    "A = {вышло две \"шестерки\"}\n",
    "\n",
    "B = {сумма выпавших очков не меньше 11}\n",
    "\n",
    "C = {не выпала ни одна \"шестерка\"}"
   ]
  },
  {
   "cell_type": "code",
   "execution_count": 109,
   "metadata": {},
   "outputs": [],
   "source": [
    "# имеем две игральные кости\n",
    "S1 = [1, 2, 3, 4, 5, 6]\n",
    "S2 = [1, 2, 3, 4, 5, 6]\n",
    "# количество бросаний\n",
    "n = 100000\n",
    "# формируем выборку\n",
    "df = pd.DataFrame({'A': pd.Series(np.random.choice(S1, n)),\n",
    "                   'B': pd.Series(np.random.choice(S2, n))})"
   ]
  },
  {
   "cell_type": "code",
   "execution_count": 91,
   "metadata": {},
   "outputs": [
    {
     "data": {
      "text/plain": [
       "0.02797"
      ]
     },
     "execution_count": 91,
     "metadata": {},
     "output_type": "execute_result"
    }
   ],
   "source": [
    "# 1. A = {вышло две \"шестерки\"}. Вероятность\n",
    "df[(df.A == 6) & (df.B == 6)].shape[0] / df.shape[0]"
   ]
  },
  {
   "cell_type": "code",
   "execution_count": 110,
   "metadata": {},
   "outputs": [
    {
     "data": {
      "text/plain": [
       "0.08434"
      ]
     },
     "execution_count": 110,
     "metadata": {},
     "output_type": "execute_result"
    }
   ],
   "source": [
    "# 2. B = {сумма выпавших очков не меньше 11}. Вероятность\n",
    "i = 0\n",
    "for j in range(n):\n",
    "        if (df.A.iloc[j] + df.B.iloc[j]) >= 11:\n",
    "               i+=1\n",
    "i / n"
   ]
  },
  {
   "cell_type": "code",
   "execution_count": 111,
   "metadata": {},
   "outputs": [
    {
     "data": {
      "text/plain": [
       "0.69502"
      ]
     },
     "execution_count": 111,
     "metadata": {},
     "output_type": "execute_result"
    }
   ],
   "source": [
    "# 3. C = {не выпала ни одна \"шестерка\"}. Вероятность\n",
    "df[(df.A != 6) & (df.B != 6)].shape[0] / df.shape[0]"
   ]
  },
  {
   "cell_type": "markdown",
   "metadata": {
    "id": "f-Bi0p8haclB"
   },
   "source": [
    "## Вероятность суммы событий"
   ]
  },
  {
   "cell_type": "markdown",
   "metadata": {
    "id": "g7A7QlvGTnwZ"
   },
   "source": [
    "### Задача 5\n",
    "Брошены две игральные кости. Найти вероятность события D = {выпала хотя бы одна шестёрка}\n"
   ]
  },
  {
   "cell_type": "code",
   "execution_count": 112,
   "metadata": {
    "id": "vjtTJN-kUp9D"
   },
   "outputs": [],
   "source": [
    "# имеем две игральные кости\n",
    "S1 = [1, 2, 3, 4, 5, 6]\n",
    "S2 = [1, 2, 3, 4, 5, 6]\n",
    "# количество бросаний\n",
    "n = 100000\n",
    "# формируем выборку\n",
    "df = pd.DataFrame({'A': pd.Series(np.random.choice(S1, n)),\n",
    "                   'B': pd.Series(np.random.choice(S2, n))})"
   ]
  },
  {
   "cell_type": "code",
   "execution_count": 113,
   "metadata": {},
   "outputs": [
    {
     "data": {
      "text/plain": [
       "0.3056"
      ]
     },
     "execution_count": 113,
     "metadata": {},
     "output_type": "execute_result"
    }
   ],
   "source": [
    "# вероятность события D = {выпала хотя бы одна шестёрка}\n",
    "i = 0\n",
    "for j in range(n):\n",
    "        if df.A.iloc[j] == 6 or df.B.iloc[j] == 6:\n",
    "               i+=1\n",
    "i / n"
   ]
  },
  {
   "cell_type": "markdown",
   "metadata": {
    "id": "R1bYSzQQbC6I"
   },
   "source": [
    "Предлагается также решить задачи: \n",
    "\n",
    "### Задача 6\n",
    "В телефонном номере три последние цифры стерлись. Считая, что все возможные значения стершихся цифр равновероятны, найти вероятность событий:\n",
    "\n",
    "A = {Стерлись различные цифры},\n",
    "\n",
    "B = {Стерлись одинаковые цифры},\n",
    "\n",
    "C = {Среди стершихся цифр хотя бы две совпадают},\n",
    "\n",
    "D = {Среди стершихся цифр хотя бы две различны}\n"
   ]
  },
  {
   "cell_type": "code",
   "execution_count": 114,
   "metadata": {},
   "outputs": [],
   "source": [
    "# имеем три последние цифры\n",
    "C1 = list(range(10))\n",
    "C2 = list(range(10))\n",
    "C3 = list(range(10))\n",
    "# количество выбороы\n",
    "n = 100000\n",
    "# формируем выборку\n",
    "df = pd.DataFrame({'A': pd.Series(np.random.choice(C1, n)),\n",
    "                   'B': pd.Series(np.random.choice(C2, n)),\n",
    "                   'C': pd.Series(np.random.choice(C2, n))})"
   ]
  },
  {
   "cell_type": "code",
   "execution_count": 115,
   "metadata": {},
   "outputs": [
    {
     "data": {
      "text/plain": [
       "0.81078"
      ]
     },
     "execution_count": 115,
     "metadata": {},
     "output_type": "execute_result"
    }
   ],
   "source": [
    "# 1. A = {Стерлись различные цифры}. Вероятность\n",
    "i = 0\n",
    "for j in range(n):\n",
    "        if df.A.iloc[j] != df.B.iloc[j] != df.C.iloc[j]:\n",
    "               i+=1\n",
    "i / n"
   ]
  },
  {
   "cell_type": "code",
   "execution_count": 116,
   "metadata": {},
   "outputs": [
    {
     "data": {
      "text/plain": [
       "0.01003"
      ]
     },
     "execution_count": 116,
     "metadata": {},
     "output_type": "execute_result"
    }
   ],
   "source": [
    "# 2. B = {Стерлись одинаковые цифры}. Вероятность\n",
    "i = 0\n",
    "for j in range(n):\n",
    "        if df.A.iloc[j] == df.B.iloc[j] == df.C.iloc[j]:\n",
    "               i+=1\n",
    "i / n"
   ]
  },
  {
   "cell_type": "code",
   "execution_count": 117,
   "metadata": {},
   "outputs": [
    {
     "data": {
      "text/plain": [
       "0.28023"
      ]
     },
     "execution_count": 117,
     "metadata": {},
     "output_type": "execute_result"
    }
   ],
   "source": [
    "# 3. C = {Среди стершихся цифр хотя бы две совпадают}. Вероятность\n",
    "i = 0\n",
    "for j in range(n):\n",
    "        if df.A.iloc[j] == df.B.iloc[j] or df.A.iloc[j] == df.C.iloc[j] or df.B.iloc[j] == df.C.iloc[j]:\n",
    "               i+=1\n",
    "i / n"
   ]
  },
  {
   "cell_type": "code",
   "execution_count": 118,
   "metadata": {},
   "outputs": [
    {
     "data": {
      "text/plain": [
       "0.98997"
      ]
     },
     "execution_count": 118,
     "metadata": {},
     "output_type": "execute_result"
    }
   ],
   "source": [
    "# 4. D = {Среди стершихся цифр хотя бы две различны}. Вероятность\n",
    "i = 0\n",
    "for j in range(n):\n",
    "        if df.A.iloc[j] != df.B.iloc[j] or df.A.iloc[j] != df.C.iloc[j] or df.B.iloc[j] != df.C.iloc[j]:\n",
    "               i+=1\n",
    "i / n"
   ]
  },
  {
   "cell_type": "markdown",
   "metadata": {
    "id": "RnugkR8BalK_"
   },
   "source": [
    "## Случайные величины"
   ]
  },
  {
   "cell_type": "markdown",
   "metadata": {
    "id": "yLoZDZ17UVsp"
   },
   "source": [
    "### Задача 7\n",
    "В лотерее имеется 10 билетов, из которых один выигрышный. Размер выигрыша 10 ден. ед.; стоимость билета 1 ден ед. Найти закон распределения случайной величины X, равной чистому выигрышу участника лотереи, который вытаскивает билет первым."
   ]
  },
  {
   "cell_type": "code",
   "execution_count": 119,
   "metadata": {
    "id": "oNk432sKUqzT"
   },
   "outputs": [],
   "source": [
    "# Значения выигрыша X: x1 = 10, x2= 0\n",
    "# Вероятности: p1=0.1, p2=1-0.1=0.9"
   ]
  },
  {
   "cell_type": "code",
   "execution_count": 121,
   "metadata": {},
   "outputs": [
    {
     "data": {
      "text/plain": [
       "array([0, 0, 0, 0, 1, 0, 0, 0, 0, 0])"
      ]
     },
     "execution_count": 121,
     "metadata": {},
     "output_type": "execute_result"
    }
   ],
   "source": [
    "# Распределение Бернулли\n",
    "bernoulli_rv = sts.bernoulli(0.1) # вероятность успеха\n",
    "bernoulli_rv.rvs(10)"
   ]
  },
  {
   "cell_type": "code",
   "execution_count": 123,
   "metadata": {},
   "outputs": [
    {
     "data": {
      "text/plain": [
       "[]"
      ]
     },
     "execution_count": 123,
     "metadata": {},
     "output_type": "execute_result"
    },
    {
     "data": {
      "image/png": "[encoded data removed]",
      "text/plain": [
       "<Figure size 432x288 with 1 Axes>"
      ]
     },
     "metadata": {
      "needs_background": "light"
     },
     "output_type": "display_data"
    }
   ],
   "source": [
    "x = np.linspace(0,10)\n",
    "cdf = bernoulli_rv.cdf(x) # вернёт массив из значений функции распределения\n",
    "plt.plot(x, cdf, color=\"darkblue\")\n",
    "plt.ylabel(\"$f(x)$\")\n",
    "plt.xlabel(\"$x$\")\n",
    "plt.plot()"
   ]
  },
  {
   "cell_type": "code",
   "execution_count": 124,
   "metadata": {},
   "outputs": [
    {
     "data": {
      "text/plain": [
       "[]"
      ]
     },
     "execution_count": 124,
     "metadata": {},
     "output_type": "execute_result"
    },
    {
     "data": {
      "image/png": "[encoded data removed]",
      "text/plain": [
       "<Figure size 432x288 with 1 Axes>"
      ]
     },
     "metadata": {
      "needs_background": "light"
     },
     "output_type": "display_data"
    }
   ],
   "source": [
    "# Функция вероятности pmf для дискретных случайных величин\n",
    "x = np.linspace(0,1,2)\n",
    "pmf = bernoulli_rv.pmf(x) # вернёт массив из значений функции распределения\n",
    "plt.scatter(x, pmf, color=\"blue\" )\n",
    "plt.plot((0,0), (0,bernoulli_rv.pmf(0)), color=\"blue\")\n",
    "plt.plot((1,1), (0,bernoulli_rv.pmf(1)), color=\"blue\")\n",
    "plt.ylabel(\"$f(x)$\")\n",
    "plt.xlabel(\"$x$\")\n",
    "plt.plot()"
   ]
  },
  {
   "cell_type": "markdown",
   "metadata": {
    "id": "U-NK9liSbpvb"
   },
   "source": [
    "Предлагается также решить задачу: \n",
    "\n",
    "### Задача 8\n",
    "Брошены две игральные кости. Найти закон распределения случайной величины $X$, равной сумме выпавших очков. Найти вероятности событий ${X <= 4}$, ${X > 4}$"
   ]
  },
  {
   "cell_type": "code",
   "execution_count": 125,
   "metadata": {},
   "outputs": [],
   "source": [
    "# имеем две игральные кости\n",
    "S1 = [1, 2, 3, 4, 5, 6]\n",
    "S2 = [1, 2, 3, 4, 5, 6]\n",
    "# количество бросаний\n",
    "n = 100000\n",
    "# формируем выборку\n",
    "df = pd.DataFrame({'A': pd.Series(np.random.choice(S1, n)),\n",
    "                   'B': pd.Series(np.random.choice(S2, n))})"
   ]
  },
  {
   "cell_type": "code",
   "execution_count": 126,
   "metadata": {},
   "outputs": [
    {
     "name": "stdout",
     "output_type": "stream",
     "text": [
      "0.16819\n",
      "0.8318099999999999\n"
     ]
    }
   ],
   "source": [
    "# вероятность события 𝑋<=4 (p1), 𝑋>4 (p2)\n",
    "i = 0\n",
    "for j in range(n):\n",
    "        if (df.A.iloc[j] + df.B.iloc[j]) <= 4:\n",
    "               i+=1\n",
    "p1 = i / n\n",
    "p2 = 1-p1\n",
    "print(p1)\n",
    "print(p2)"
   ]
  },
  {
   "cell_type": "markdown",
   "metadata": {
    "id": "shgW4D83awjK"
   },
   "source": [
    "## Условные вероятности"
   ]
  },
  {
   "cell_type": "markdown",
   "metadata": {
    "id": "Fbu1RFZwWZrk"
   },
   "source": [
    "### Задача 9\n",
    "Из колоды (36 карт) вынимают последовательно без возвращения две карты. Найти вероятность того, что первой картой была шестерка, а второй — семерка. Найти условную вероятность того же события при условии, что обе карты бубновой масти.\n"
   ]
  },
  {
   "cell_type": "markdown",
   "metadata": {},
   "source": [
    "вероятность получить первой картой шестерку 4/36\n",
    "вероятность получить второй картой семерку 4/35\n",
    "вероятность того же события при условии, что обе карты бубновой масти 9/36 * 8/35 = 72/1260"
   ]
  },
  {
   "cell_type": "code",
   "execution_count": 127,
   "metadata": {
    "id": "037o56awW9-E"
   },
   "outputs": [],
   "source": [
    "# создаем колоду карт n = 36\n",
    "Bubi = ['6b','7b','8b','9b','10b','Vb','Db','Kb','Tb']\n",
    "Kresti = ['6k','7k','8k','9k','10k','Vk','Dk','Kk','Tk']\n",
    "Chervi = ['6c','7c','8c','9c','10c','Vc','Dc','Kc','Tc']\n",
    "Piki = ['6p','7p','8p','9p','10p','Vp','Dp','Kp','Tp']\n",
    "koloda = Bubi + Kresti + Chervi + Piki\n",
    "n = 10000 # количество выбора карты"
   ]
  },
  {
   "cell_type": "code",
   "execution_count": 137,
   "metadata": {},
   "outputs": [
    {
     "data": {
      "text/plain": [
       "0.111"
      ]
     },
     "execution_count": 137,
     "metadata": {},
     "output_type": "execute_result"
    }
   ],
   "source": [
    "# вероятность получить первой картой шестерку 4/36\n",
    "# random.shuffle(koloda) # перемешиваем колоду\n",
    "lst = [random.choices(koloda)[0] for i in range(n)] # выбираем 1 карту\n",
    "i = 0\n",
    "for j in lst:\n",
    "    if j in ['6b','6k','6c','6p']:\n",
    "               i+=1\n",
    "i / n"
   ]
  },
  {
   "cell_type": "code",
   "execution_count": 139,
   "metadata": {},
   "outputs": [
    {
     "data": {
      "text/plain": [
       "0.1167"
      ]
     },
     "execution_count": 139,
     "metadata": {},
     "output_type": "execute_result"
    }
   ],
   "source": [
    "# вероятность получить второй картой семерку 4/35 (способ1)\n",
    "lst = [random.choices(koloda, k = 2)[1] for i in range(n)] # выбираем 2 карту\n",
    "i = 0\n",
    "for j in lst:\n",
    "    if j in ['7b','7k','7c','7p']:\n",
    "               i+=1\n",
    "i / n"
   ]
  },
  {
   "cell_type": "code",
   "execution_count": 142,
   "metadata": {},
   "outputs": [
    {
     "data": {
      "text/plain": [
       "0.1137"
      ]
     },
     "execution_count": 142,
     "metadata": {},
     "output_type": "execute_result"
    }
   ],
   "source": [
    "# вероятность получить второй картой семерку 4/35 (способ2)\n",
    "random.shuffle(koloda) # перемешиваем колоду\n",
    "lst = [random.choices(koloda, k = 2) for i in range(n)]\n",
    "df = pd.DataFrame(lst)\n",
    "i = 0\n",
    "for j in range(n):\n",
    "    if df[1].iloc[j] in ['7b','7k','7c','7p']:\n",
    "               i+=1\n",
    "\n",
    "i / n"
   ]
  },
  {
   "cell_type": "code",
   "execution_count": 146,
   "metadata": {},
   "outputs": [
    {
     "data": {
      "text/plain": [
       "0.0573778507"
      ]
     },
     "execution_count": 146,
     "metadata": {},
     "output_type": "execute_result"
    }
   ],
   "source": [
    "# вероятность того же события при условии, что обе карты бубновой масти 9/36 * 8/35 = 72/1260\n",
    "# создаем колоду карт n = 36\n",
    "Bubi = ['b'] * 9\n",
    "Kresti = ['k'] * 9\n",
    "Chervi = ['c'] * 9\n",
    "Piki = ['p'] * 9\n",
    "koloda = Bubi + Kresti + Chervi + Piki\n",
    "Bubi1 = ['b'] * 8\n",
    "koloda1 = Bubi1 + Kresti + Chervi + Piki # колода первая карта буби\n",
    "n = 100000 # количество выбора карты\n",
    "# random.shuffle(koloda) # перемешиваем колоду\n",
    "# вероятность извлечь первую карту буби\n",
    "lst = [random.choices(koloda)[0] for i in range(n)]\n",
    "i = 0\n",
    "for j in lst:\n",
    "    if j == 'b':\n",
    "        i+=1\n",
    "        \n",
    "p1 = i / n\n",
    "# вероятность извлечь вторым белый шар\n",
    "lst1 = [random.choices(koloda1)[0] for i in range(n)]\n",
    "c = 0\n",
    "for j in lst1:\n",
    "    if j == 'b':\n",
    "        c+=1\n",
    "p2 = c / n\n",
    "p = p1 * p2\n",
    "p"
   ]
  },
  {
   "cell_type": "code",
   "execution_count": 148,
   "metadata": {},
   "outputs": [
    {
     "data": {
      "text/plain": [
       "0.06072"
      ]
     },
     "execution_count": 148,
     "metadata": {},
     "output_type": "execute_result"
    }
   ],
   "source": [
    "lst = [random.choices(koloda, k = 2) for i in range(n)]\n",
    "df = pd.DataFrame(lst)\n",
    "i = 0\n",
    "for j in range(n):\n",
    "    if df[0].iloc[j] == df[1].iloc[j] == 'b' :\n",
    "               i+=1\n",
    "\n",
    "i / n"
   ]
  },
  {
   "cell_type": "markdown",
   "metadata": {
    "id": "hNVxtaz5c57b"
   },
   "source": [
    "Предлагается также решить задачу: \n",
    "\n",
    "### Задача 10\n",
    "Из урны, содержащей два белых и три черных шара, последовательно извлекают два шара; вынутые шары не возвращаются. Если первый шар оказался черным, то перед вторым извлечением в урну добавляют белый шар. В противном случае состав оставшихся шаров не меняют. Найти вероятности событий:\n",
    "\n",
    "$A$ = {извлечены два белых шара},\n",
    "\n",
    "$B$ = {извлечены два черных шара}\n",
    "\n",
    "Указание. Пусть событие $C_1$ = {первый шар белый}, событие $C_2$ = {второй шар белый}. Тогда $A = C_1C_2$, $B = \\overline C_1 \\overline C_2$ "
   ]
  },
  {
   "cell_type": "markdown",
   "metadata": {},
   "source": [
    "вероятность извлечь первым белый шар равняется 2/5, а вытащить вторым подряд 1/4.\n",
    "\n",
    "2/5*1/4=2/20=10/100=0.1\n",
    "\n",
    "Вероятность извлечь первым чёрный равняется 3/5 и добавляется белый шар, следовательно извлечь второй чёрный равняется 2/5.\n",
    "\n",
    "3/5*2/5=6/25=24/100=0.24"
   ]
  },
  {
   "cell_type": "code",
   "execution_count": 46,
   "metadata": {
    "id": "WSLnhk2sdBt_"
   },
   "outputs": [],
   "source": [
    "# заполняем урну\n",
    "C = [\"white\"]*2 + ['black']*3\n",
    "C1 = [\"white\"] + ['black']*3 # урна первый шар белый\n",
    "C2 = [\"white\"]*3 + ['black']*2 # урна первый шар черный\n",
    "n = 100000 # количество выбора урна"
   ]
  },
  {
   "cell_type": "code",
   "execution_count": 52,
   "metadata": {},
   "outputs": [
    {
     "data": {
      "text/plain": [
       "0.101015236"
      ]
     },
     "execution_count": 52,
     "metadata": {},
     "output_type": "execute_result"
    }
   ],
   "source": [
    "# 1. 𝐴  = {извлечены два белых шара}. Вероятность \n",
    "lst = [random.choices(C)[0] for i in range(n)]\n",
    "# вероятность извлечь первым белый шар\n",
    "i = 0\n",
    "for j in lst:\n",
    "    if j == 'white':\n",
    "               i+=1\n",
    "p1 = i / n\n",
    "# вероятность извлечь вторым белый шар\n",
    "lst1 = [random.choices(C1)[0] for i in range(n)]\n",
    "c = 0\n",
    "for j in lst1:\n",
    "    if j == 'white':\n",
    "               c+=1\n",
    "p2 = c / n\n",
    "p = p1 * p2\n",
    "p"
   ]
  },
  {
   "cell_type": "code",
   "execution_count": 54,
   "metadata": {},
   "outputs": [
    {
     "data": {
      "text/plain": [
       "0.23964198399999997"
      ]
     },
     "execution_count": 54,
     "metadata": {},
     "output_type": "execute_result"
    }
   ],
   "source": [
    "# 2. 𝐵  = {извлечены два черных шара}. Вероятность\n",
    "# вероятность извлечь первым черный шар\n",
    "lst = [random.choices(C)[0] for i in range(n)]\n",
    "i = 0\n",
    "for j in lst:\n",
    "    if j == 'black':\n",
    "               i+=1\n",
    "p1 = i / n\n",
    "# вероятность извлечь вторым черрный шар\n",
    "lst1 = [random.choices(C2)[0] for i in range(n)]\n",
    "c = 0\n",
    "for j in lst1:\n",
    "    if j == 'black':\n",
    "               c+=1\n",
    "p2 = c / n\n",
    "p = p1 * p2\n",
    "p"
   ]
  }
 ],
 "metadata": {
  "colab": {
   "collapsed_sections": [],
   "name": "Практика к занятию 11.ipynb",
   "provenance": []
  },
  "kernelspec": {
   "display_name": "Python 3 (ipykernel)",
   "language": "python",
   "name": "python3"
  },
  "language_info": {
   "codemirror_mode": {
    "name": "ipython",
    "version": 3
   },
   "file_extension": ".py",
   "mimetype": "text/x-python",
   "name": "python",
   "nbconvert_exporter": "python",
   "pygments_lexer": "ipython3",
   "version": "3.9.12"
  }
 },
 "nbformat": 4,
 "nbformat_minor": 1
}
