{
 "cells": [
  {
   "cell_type": "markdown",
   "id": "b98384a6",
   "metadata": {},
   "source": [
    "# Задание"
   ]
  },
  {
   "cell_type": "markdown",
   "id": "b57eb086",
   "metadata": {},
   "source": [
    "## Определение доходности облигаций по данным ММВБ\n",
    "\n",
    "Имеются данные по облигациям, которые торгуются на ММВБ на текущую дату.\n",
    "\n",
    "Требуется выполнить следующие действия с данными по облигациям на дату формирования данных:\n",
    "    \n",
    "1) Оценить рынок рублевых облигаций по распределению купонной доходности, предложить разделение на кластеры по купонной доходности. \n",
    "Предложить графическое представление полученных групп/кластеров. (график)\n",
    "\n",
    "2) По низкорисковым рублевым облигациям с датой промежуточной выплаты по купонам не более 20% купонного периода назад до текущей даты и облигациям выпущенным в аналогичный период, рассчитать доходность последующих купонов по отобранным облигациям с учетом разницы номинала и цены продажи, а также с учетом налоговых отчислений на период год с текущей дата. (график и/или таблица). \n",
    "\n",
    "3) Допускается обоснованное изменение условий как по критериям оценки рынка, так с учетом выбранной стратегии инвестирования.\n",
    "\n",
    "Датасет с данными расположен по адресу: https://iss.moex.com/iss/apps/infogrid/emission/rates.csv?iss.dp=comma&iss.df=%25d.%25m.%25Y&iss.tf=%25H:%25M:%25S&iss.dtf=%25d.%25m.%25Y%25H:%25M:%25S&iss.only=rates&limit=unlimited&lang=ru\n",
    " \n",
    "На усмотрение слушателя:\n",
    "- можно скачать и загрузить в вашем скрипте файл csv  (например, pd.read_csv с указанием русской кодировки, релевантного знака сепарирования и номера строки заголовков),\n",
    "- загружать on-line:\n",
    " s=requests.get(bond_url).content\n",
    "pd.read_csv(io.StringIO(s.decode('УКАЗАТЬ КОДИРОВКУ')), sep='СЕПАПРАТОР', header=№ СТРОКИ ЗАГОЛОВКОВ)\n",
    "\n",
    "Могут быть использованы следующие поля (а также все остальные) в любых комбинациях:\n",
    "    \n",
    "'SECID' - Код ценной бумаги, \n",
    "\n",
    "'SHORTNAME' - Краткое наименование,\n",
    "\n",
    "'NAME' Полное наименование, \n",
    "\n",
    "'FACEVALUE' - Номинальная стоимость, \n",
    "\n",
    "FACEUNIT' - валюта, \n",
    "\n",
    "'DURATION' - дюрация,\n",
    "\n",
    "'IS_QUALIFIED_INVESTORS' - признак продукта для квалифицированных инвесторов, \n",
    "\n",
    "'HIGH_RISK' - признак уровня риска, \n",
    "\n",
    "'COUPONFREQUENCY' – число купонов в год, \n",
    "\n",
    "'COUPONDATE' - Дата выплаты купона,\n",
    "\n",
    " 'COUPONPERCENT' - Ставка купона, %, \n",
    "    \n",
    "'COUPONVALUE' - Сумма купона, в валюте номинала, \n",
    "\n",
    "'OFFERDATE' - Дата оферты, \n",
    "\n",
    "'EMITENTNAME' – наименование эмитента,\n",
    "\n",
    "'INN' – ИНН эмитента,\n",
    "\n",
    "'PRICE' – текущий % от FACEVALUE, \n",
    "\n",
    "'PRICE_RUB' - котировка,\n",
    " \n",
    "Пояснения:\n",
    "    \n",
    "1) Для получения текущей даты можно использовать метод  datetime.date.today();\n",
    "\n",
    "2) Период расчета доходности рекомендуется выбирать 365 дней с текущей даты;\n",
    "\n",
    "3) Нужно учитывать накопленный купонный доход (НКД) и разницу котировки и номинала ;\n",
    "\n",
    "4) Расчет доходности можно посмотреть, например, здесь: https://www.banki.ru/blog/BAY/10702.php\n",
    "        \n",
    "(Доход) = (Цена облигации при продаже) + (НКД на момент продажи)\n",
    "\n",
    "(Расходы) = (Цена облигации при покупке) + (НКД на момент покупки)+(Комиссии за приобретение, реализацию, хранение)\n",
    "\n",
    "Комиссии Сбера зависят от тарифа, объема сделок и пр. Подробнее см. здесь: https://www.sberbank.ru/ru/person/investments/broker_service/tarifs\n",
    "\n",
    "В общем случае считаем налог доход при ставке НДФЛ 13% (при желании можно считать 15%) и комиссию брокера 0.06%\n",
    "Комиссию Биржи принимаем в 0.0125%. \n",
    "\n",
    "Profit =  (((Цена_Номинальная  – Цена_покупки )*(1 ЕСЛИ ≤0│0.87 ЕСЛИ>0)  –  НКД + 0.87*Купонный_доход_руб*X_лет)*100% )\n",
    "/ \n",
    "((Цена_покупки+ НКД)*(1+Комиссия брокера в процентах/100 +Комиссия биржи/100))\n",
    "\n",
    "- Период расчета НКД:  df['COUPONDAYSPASSED']/df['COUPONLENGTH'] , рекомендуется выбирать меньше или равный  0.2.\n",
    "Если удовлетворяет условию, полученная величина умножается на COUPONPERCENT/COUPONFREQUENCY.\n",
    "- Датасет содержит данные, которые нужно преобразовывать в форматы python, а также пустые и искаженные данные, с которыми тоже нужно что-то решить."
   ]
  },
  {
   "cell_type": "code",
   "execution_count": 176,
   "id": "4d15e0fc",
   "metadata": {},
   "outputs": [],
   "source": [
    "# библиотеки\n",
    "import pandas as pd\n",
    "import numpy as np\n",
    "import matplotlib.pyplot as plt\n",
    "import requests\n",
    "import io\n",
    "import seaborn as sns\n",
    "import plotly.express as px\n",
    "import plotly.graph_objs as go\n",
    "import datetime\n",
    "from datetime import datetime, date\n",
    "import html5lib\n",
    "\n",
    "import warnings\n",
    "warnings.filterwarnings('ignore')"
   ]
  },
  {
   "cell_type": "code",
   "execution_count": 177,
   "id": "0a86667a",
   "metadata": {},
   "outputs": [
    {
     "data": {
      "text/html": [
       "<div>\n",
       "<style scoped>\n",
       "    .dataframe tbody tr th:only-of-type {\n",
       "        vertical-align: middle;\n",
       "    }\n",
       "\n",
       "    .dataframe tbody tr th {\n",
       "        vertical-align: top;\n",
       "    }\n",
       "\n",
       "    .dataframe thead th {\n",
       "        text-align: right;\n",
       "    }\n",
       "</style>\n",
       "<table border=\"1\" class=\"dataframe\">\n",
       "  <thead>\n",
       "    <tr style=\"text-align: right;\">\n",
       "      <th></th>\n",
       "      <th>SECID</th>\n",
       "      <th>SHORTNAME</th>\n",
       "      <th>NAME</th>\n",
       "      <th>TYPENAME</th>\n",
       "      <th>ISIN</th>\n",
       "      <th>REGNUMBER</th>\n",
       "      <th>LISTLEVEL</th>\n",
       "      <th>FACEVALUE</th>\n",
       "      <th>FACEUNIT</th>\n",
       "      <th>ISSUESIZE</th>\n",
       "      <th>...</th>\n",
       "      <th>RTL3</th>\n",
       "      <th>RTH3</th>\n",
       "      <th>DISCOUNT1</th>\n",
       "      <th>LIMIT1</th>\n",
       "      <th>DISCOUNT2</th>\n",
       "      <th>LIMIT2</th>\n",
       "      <th>DISCOUNT3</th>\n",
       "      <th>DISCOUNTL0</th>\n",
       "      <th>DISCOUNTH0</th>\n",
       "      <th>FULLCOVERED</th>\n",
       "    </tr>\n",
       "  </thead>\n",
       "  <tbody>\n",
       "    <tr>\n",
       "      <th>0</th>\n",
       "      <td>AMUNIBB2AER2</td>\n",
       "      <td>UBANK11/22</td>\n",
       "      <td>UNIBANK OJSC Series 1</td>\n",
       "      <td>Корпоративные еврооблигации</td>\n",
       "      <td>AMUNIBB2AER2</td>\n",
       "      <td>NaN</td>\n",
       "      <td>3.0</td>\n",
       "      <td>100,0</td>\n",
       "      <td>USD</td>\n",
       "      <td>10000.0</td>\n",
       "      <td>...</td>\n",
       "      <td>0,0</td>\n",
       "      <td>12014,86</td>\n",
       "      <td>100,0</td>\n",
       "      <td>NaN</td>\n",
       "      <td>NaN</td>\n",
       "      <td>NaN</td>\n",
       "      <td>NaN</td>\n",
       "      <td>100,00000</td>\n",
       "      <td>100,00000</td>\n",
       "      <td>1.0</td>\n",
       "    </tr>\n",
       "    <tr>\n",
       "      <th>1</th>\n",
       "      <td>AMUNIBB2DER6</td>\n",
       "      <td>UBANK02/24</td>\n",
       "      <td>UNIBANK OJSC Series 1 21</td>\n",
       "      <td>Корпоративные еврооблигации</td>\n",
       "      <td>AMUNIBB2DER6</td>\n",
       "      <td>NaN</td>\n",
       "      <td>3.0</td>\n",
       "      <td>100,0</td>\n",
       "      <td>USD</td>\n",
       "      <td>33478.0</td>\n",
       "      <td>...</td>\n",
       "      <td>0,0</td>\n",
       "      <td>12153,74</td>\n",
       "      <td>100,0</td>\n",
       "      <td>NaN</td>\n",
       "      <td>NaN</td>\n",
       "      <td>NaN</td>\n",
       "      <td>NaN</td>\n",
       "      <td>100,00000</td>\n",
       "      <td>100,00000</td>\n",
       "      <td>1.0</td>\n",
       "    </tr>\n",
       "    <tr>\n",
       "      <th>2</th>\n",
       "      <td>AT0000A2UF10</td>\n",
       "      <td>Raiff CAG</td>\n",
       "      <td>Raiffeisen Centrobank AG</td>\n",
       "      <td>Корпоративные еврооблигации</td>\n",
       "      <td>AT0000A2UF10</td>\n",
       "      <td>NaN</td>\n",
       "      <td>3.0</td>\n",
       "      <td>1000,0</td>\n",
       "      <td>USD</td>\n",
       "      <td>50000.0</td>\n",
       "      <td>...</td>\n",
       "      <td>0,0</td>\n",
       "      <td>99993,96</td>\n",
       "      <td>100,0</td>\n",
       "      <td>NaN</td>\n",
       "      <td>NaN</td>\n",
       "      <td>NaN</td>\n",
       "      <td>NaN</td>\n",
       "      <td>100,00000</td>\n",
       "      <td>100,00000</td>\n",
       "      <td>1.0</td>\n",
       "    </tr>\n",
       "    <tr>\n",
       "      <th>3</th>\n",
       "      <td>CH0248531110</td>\n",
       "      <td>VTB-24 CHF</td>\n",
       "      <td>VTB CAPITAL S.A. 24 CHF</td>\n",
       "      <td>Корпоративные еврооблигации</td>\n",
       "      <td>CH0248531110</td>\n",
       "      <td>NaN</td>\n",
       "      <td>NaN</td>\n",
       "      <td>5000,0</td>\n",
       "      <td>CHF</td>\n",
       "      <td>70000.0</td>\n",
       "      <td>...</td>\n",
       "      <td>0,0</td>\n",
       "      <td>650369,52</td>\n",
       "      <td>100,0</td>\n",
       "      <td>NaN</td>\n",
       "      <td>NaN</td>\n",
       "      <td>NaN</td>\n",
       "      <td>NaN</td>\n",
       "      <td>100,00000</td>\n",
       "      <td>100,00000</td>\n",
       "      <td>1.0</td>\n",
       "    </tr>\n",
       "    <tr>\n",
       "      <th>4</th>\n",
       "      <td>CH0379268748</td>\n",
       "      <td>RZD-23 CHF</td>\n",
       "      <td>RZD Capital PLC 23 CHF</td>\n",
       "      <td>Корпоративные еврооблигации</td>\n",
       "      <td>CH0379268748</td>\n",
       "      <td>NaN</td>\n",
       "      <td>NaN</td>\n",
       "      <td>5000,0</td>\n",
       "      <td>CHF</td>\n",
       "      <td>90000.0</td>\n",
       "      <td>...</td>\n",
       "      <td>0,0</td>\n",
       "      <td>396830,38</td>\n",
       "      <td>100,0</td>\n",
       "      <td>NaN</td>\n",
       "      <td>NaN</td>\n",
       "      <td>NaN</td>\n",
       "      <td>NaN</td>\n",
       "      <td>100,00000</td>\n",
       "      <td>100,00000</td>\n",
       "      <td>1.0</td>\n",
       "    </tr>\n",
       "    <tr>\n",
       "      <th>...</th>\n",
       "      <td>...</td>\n",
       "      <td>...</td>\n",
       "      <td>...</td>\n",
       "      <td>...</td>\n",
       "      <td>...</td>\n",
       "      <td>...</td>\n",
       "      <td>...</td>\n",
       "      <td>...</td>\n",
       "      <td>...</td>\n",
       "      <td>...</td>\n",
       "      <td>...</td>\n",
       "      <td>...</td>\n",
       "      <td>...</td>\n",
       "      <td>...</td>\n",
       "      <td>...</td>\n",
       "      <td>...</td>\n",
       "      <td>...</td>\n",
       "      <td>...</td>\n",
       "      <td>...</td>\n",
       "      <td>...</td>\n",
       "      <td>...</td>\n",
       "    </tr>\n",
       "    <tr>\n",
       "      <th>2662</th>\n",
       "      <td>XS2420560869</td>\n",
       "      <td>BCS01/25</td>\n",
       "      <td>BCS SP Plc Series 239</td>\n",
       "      <td>Корпоративные еврооблигации</td>\n",
       "      <td>XS2420560869</td>\n",
       "      <td>NaN</td>\n",
       "      <td>3.0</td>\n",
       "      <td>100000,0</td>\n",
       "      <td>RUB</td>\n",
       "      <td>700.0</td>\n",
       "      <td>...</td>\n",
       "      <td>0,0</td>\n",
       "      <td>200000,0</td>\n",
       "      <td>100,0</td>\n",
       "      <td>NaN</td>\n",
       "      <td>NaN</td>\n",
       "      <td>NaN</td>\n",
       "      <td>NaN</td>\n",
       "      <td>100,00000</td>\n",
       "      <td>100,00000</td>\n",
       "      <td>1.0</td>\n",
       "    </tr>\n",
       "    <tr>\n",
       "      <th>2663</th>\n",
       "      <td>XS2423361190</td>\n",
       "      <td>BCS02/27-4</td>\n",
       "      <td>BCS SP Plc Series 240</td>\n",
       "      <td>Корпоративные еврооблигации</td>\n",
       "      <td>XS2423361190</td>\n",
       "      <td>NaN</td>\n",
       "      <td>3.0</td>\n",
       "      <td>1250,0</td>\n",
       "      <td>USD</td>\n",
       "      <td>8000.0</td>\n",
       "      <td>...</td>\n",
       "      <td>0,0</td>\n",
       "      <td>149646,44</td>\n",
       "      <td>100,0</td>\n",
       "      <td>NaN</td>\n",
       "      <td>NaN</td>\n",
       "      <td>NaN</td>\n",
       "      <td>NaN</td>\n",
       "      <td>100,00000</td>\n",
       "      <td>100,00000</td>\n",
       "      <td>1.0</td>\n",
       "    </tr>\n",
       "    <tr>\n",
       "      <th>2664</th>\n",
       "      <td>XS2429208486</td>\n",
       "      <td>BCS05/25</td>\n",
       "      <td>BCS SP Plc Series 243</td>\n",
       "      <td>Корпоративные еврооблигации</td>\n",
       "      <td>XS2429208486</td>\n",
       "      <td>NaN</td>\n",
       "      <td>3.0</td>\n",
       "      <td>1250,0</td>\n",
       "      <td>USD</td>\n",
       "      <td>8000.0</td>\n",
       "      <td>...</td>\n",
       "      <td>0,0</td>\n",
       "      <td>138712,42</td>\n",
       "      <td>100,0</td>\n",
       "      <td>NaN</td>\n",
       "      <td>NaN</td>\n",
       "      <td>NaN</td>\n",
       "      <td>NaN</td>\n",
       "      <td>100,00000</td>\n",
       "      <td>100,00000</td>\n",
       "      <td>1.0</td>\n",
       "    </tr>\n",
       "    <tr>\n",
       "      <th>2665</th>\n",
       "      <td>XS2439218640</td>\n",
       "      <td>BCS06/25-B</td>\n",
       "      <td>BCS SP Plc Series 244</td>\n",
       "      <td>Корпоративные еврооблигации</td>\n",
       "      <td>XS2439218640</td>\n",
       "      <td>NaN</td>\n",
       "      <td>3.0</td>\n",
       "      <td>1250,0</td>\n",
       "      <td>USD</td>\n",
       "      <td>8000.0</td>\n",
       "      <td>...</td>\n",
       "      <td>0,0</td>\n",
       "      <td>146111,6</td>\n",
       "      <td>100,0</td>\n",
       "      <td>NaN</td>\n",
       "      <td>NaN</td>\n",
       "      <td>NaN</td>\n",
       "      <td>NaN</td>\n",
       "      <td>100,00000</td>\n",
       "      <td>100,00000</td>\n",
       "      <td>1.0</td>\n",
       "    </tr>\n",
       "    <tr>\n",
       "      <th>2666</th>\n",
       "      <td>XS2446844321</td>\n",
       "      <td>BCS06/25-C</td>\n",
       "      <td>BCS SP Plc Series 245</td>\n",
       "      <td>Корпоративные еврооблигации</td>\n",
       "      <td>XS2446844321</td>\n",
       "      <td>NaN</td>\n",
       "      <td>3.0</td>\n",
       "      <td>1000,0</td>\n",
       "      <td>EUR</td>\n",
       "      <td>5000.0</td>\n",
       "      <td>...</td>\n",
       "      <td>0,0</td>\n",
       "      <td>119431,2</td>\n",
       "      <td>100,0</td>\n",
       "      <td>NaN</td>\n",
       "      <td>NaN</td>\n",
       "      <td>NaN</td>\n",
       "      <td>NaN</td>\n",
       "      <td>100,00000</td>\n",
       "      <td>100,00000</td>\n",
       "      <td>1.0</td>\n",
       "    </tr>\n",
       "  </tbody>\n",
       "</table>\n",
       "<p>2667 rows × 54 columns</p>\n",
       "</div>"
      ],
      "text/plain": [
       "             SECID   SHORTNAME                      NAME  \\\n",
       "0     AMUNIBB2AER2  UBANK11/22     UNIBANK OJSC Series 1   \n",
       "1     AMUNIBB2DER6  UBANK02/24  UNIBANK OJSC Series 1 21   \n",
       "2     AT0000A2UF10   Raiff CAG  Raiffeisen Centrobank AG   \n",
       "3     CH0248531110  VTB-24 CHF   VTB CAPITAL S.A. 24 CHF   \n",
       "4     CH0379268748  RZD-23 CHF    RZD Capital PLC 23 CHF   \n",
       "...            ...         ...                       ...   \n",
       "2662  XS2420560869    BCS01/25     BCS SP Plc Series 239   \n",
       "2663  XS2423361190  BCS02/27-4     BCS SP Plc Series 240   \n",
       "2664  XS2429208486    BCS05/25     BCS SP Plc Series 243   \n",
       "2665  XS2439218640  BCS06/25-B     BCS SP Plc Series 244   \n",
       "2666  XS2446844321  BCS06/25-C     BCS SP Plc Series 245   \n",
       "\n",
       "                         TYPENAME          ISIN REGNUMBER  LISTLEVEL  \\\n",
       "0     Корпоративные еврооблигации  AMUNIBB2AER2       NaN        3.0   \n",
       "1     Корпоративные еврооблигации  AMUNIBB2DER6       NaN        3.0   \n",
       "2     Корпоративные еврооблигации  AT0000A2UF10       NaN        3.0   \n",
       "3     Корпоративные еврооблигации  CH0248531110       NaN        NaN   \n",
       "4     Корпоративные еврооблигации  CH0379268748       NaN        NaN   \n",
       "...                           ...           ...       ...        ...   \n",
       "2662  Корпоративные еврооблигации  XS2420560869       NaN        3.0   \n",
       "2663  Корпоративные еврооблигации  XS2423361190       NaN        3.0   \n",
       "2664  Корпоративные еврооблигации  XS2429208486       NaN        3.0   \n",
       "2665  Корпоративные еврооблигации  XS2439218640       NaN        3.0   \n",
       "2666  Корпоративные еврооблигации  XS2446844321       NaN        3.0   \n",
       "\n",
       "     FACEVALUE FACEUNIT  ISSUESIZE  ...  RTL3       RTH3 DISCOUNT1 LIMIT1  \\\n",
       "0        100,0      USD    10000.0  ...   0,0   12014,86     100,0    NaN   \n",
       "1        100,0      USD    33478.0  ...   0,0   12153,74     100,0    NaN   \n",
       "2       1000,0      USD    50000.0  ...   0,0   99993,96     100,0    NaN   \n",
       "3       5000,0      CHF    70000.0  ...   0,0  650369,52     100,0    NaN   \n",
       "4       5000,0      CHF    90000.0  ...   0,0  396830,38     100,0    NaN   \n",
       "...        ...      ...        ...  ...   ...        ...       ...    ...   \n",
       "2662  100000,0      RUB      700.0  ...   0,0   200000,0     100,0    NaN   \n",
       "2663    1250,0      USD     8000.0  ...   0,0  149646,44     100,0    NaN   \n",
       "2664    1250,0      USD     8000.0  ...   0,0  138712,42     100,0    NaN   \n",
       "2665    1250,0      USD     8000.0  ...   0,0   146111,6     100,0    NaN   \n",
       "2666    1000,0      EUR     5000.0  ...   0,0   119431,2     100,0    NaN   \n",
       "\n",
       "     DISCOUNT2 LIMIT2  DISCOUNT3  DISCOUNTL0  DISCOUNTH0  FULLCOVERED  \n",
       "0          NaN    NaN        NaN   100,00000   100,00000          1.0  \n",
       "1          NaN    NaN        NaN   100,00000   100,00000          1.0  \n",
       "2          NaN    NaN        NaN   100,00000   100,00000          1.0  \n",
       "3          NaN    NaN        NaN   100,00000   100,00000          1.0  \n",
       "4          NaN    NaN        NaN   100,00000   100,00000          1.0  \n",
       "...        ...    ...        ...         ...         ...          ...  \n",
       "2662       NaN    NaN        NaN   100,00000   100,00000          1.0  \n",
       "2663       NaN    NaN        NaN   100,00000   100,00000          1.0  \n",
       "2664       NaN    NaN        NaN   100,00000   100,00000          1.0  \n",
       "2665       NaN    NaN        NaN   100,00000   100,00000          1.0  \n",
       "2666       NaN    NaN        NaN   100,00000   100,00000          1.0  \n",
       "\n",
       "[2667 rows x 54 columns]"
      ]
     },
     "execution_count": 177,
     "metadata": {},
     "output_type": "execute_result"
    }
   ],
   "source": [
    "# загружаем on-line датасет по облигациям, которые торгуются на ММВБ на текущую дату\n",
    "url =\"https://iss.moex.com/iss/apps/infogrid/emission/rates.csv?iss.dp=comma&iss.df=%25d.%25m.%25Y&iss.tf=%25H:%25M:%25S&iss.dtf=%25d.%25m.%25Y%25H:%25M:%25S&iss.only=rates&limit=unlimited&lang=ru\"\n",
    "s = requests.get(url).content\n",
    "df = pd.read_csv(io.StringIO(s.decode('cp1251')) , sep=';', header=1)\n",
    "df"
   ]
  },
  {
   "cell_type": "markdown",
   "id": "12b4dc8f",
   "metadata": {},
   "source": [
    "# Описание колонок\n",
    "\n",
    "1\tSECID\tИнструмент\n",
    "\n",
    "2\tSHORTNAME\tКраткое наименование цб\n",
    "\n",
    "3\tNAME\tПолное Наименование цб\n",
    "\n",
    "4\tTYPENAME\tТип ценной бумаги\n",
    "\n",
    "5\tISIN\tISIN\n",
    "\n",
    "6\tREGNUMBER\tГосударственный регистрационный номер\n",
    "\n",
    "7\tLISTLEVEL\tУровень листинга\n",
    "\n",
    "8\tFACEVALUE\tНоминальная стоимость\n",
    "\n",
    "9\tFACEUNIT\tВалюта номинала\n",
    "\n",
    "10\tISSUESIZE\tОбъем выпуска, бумаг\n",
    "\n",
    "11\tIS_COLLATERAL\tВнешняя бумага\n",
    "\n",
    "12\tIS_EXTERNAL\tпризнак внешняя ЦБ\n",
    "\n",
    "13\tPRIMARY_BOARDID\tИдентификатор главного режима торгов\n",
    "\n",
    "14\tPRIMARY_BOARD_TITLE\tГлавный режим торгов\n",
    "\n",
    "15\tMATDATE\tДата погашения\n",
    "\n",
    "16\tIS_RII\tПризнак сектора РИИ\n",
    "\n",
    "17\tEVENINGSESSION\tвечерняя сессия\n",
    "\n",
    "18\tMORNINGSESSION\tутренняя сессия\n",
    "\n",
    "19\tDURATION\tдюрация / эффективный срок до погашения облигации\n",
    "\n",
    "20\tIS_QUALIFIED_INVESTORS\tДля квалифицированных инвесторов\n",
    "\n",
    "21\tHIGH_RISK\tпризнак уровня риска\n",
    "\n",
    "22\tCOUPONFREQUENCY\tЧастота выплаты купонов в год / число купонов в год\n",
    "\n",
    "23\tYIELDATWAP\tСтавка ближайшего купона, %\n",
    "\n",
    "24\tCOUPONDATE\tДата выплаты купона\n",
    "\n",
    "25\tCOUPONPERCENT\tСтавка купона, %, \n",
    "\n",
    "26\tCOUPONVALUE\tРазмер ближайшего купона, в валюте номинала / Сумма купона, в валюте номинала\n",
    "\n",
    "27\tCOUPONDAYSPASSED\tКупонный период - сколько прошло, дн\n",
    "\n",
    "28\tCOUPONDAYSREMAIN\tКупонный период - сколько осталось, дн\n",
    "\n",
    "29\tCOUPONLENGTH\tКупонный период, дн\n",
    "\n",
    "30\tISSUEDATE\tДата начала торгов\n",
    "\n",
    "31\tINITIALFACEVALUE\tПервоначальная номинальная стоимость\n",
    "\n",
    "32\tSECSUBTYPE\tКласс облигации\n",
    "\n",
    "33\tSTARTDATEMOEX\tДата начала торгов на Московской Бирже\n",
    "\n",
    "34\tDAYSTOREDEMPTION\tдней до погашения\n",
    "\n",
    "35\tOFFERDATE\tДата оферты\n",
    "\n",
    "36\tEMITENTNAME\tЭмитент\n",
    "\n",
    "37\tINN\tИНН эмитента\n",
    "\n",
    "38\tLOTSIZE\tРазмер лота на основном режиме торгов\n",
    "\n",
    "39\tPRICE\tРасчетная цена / текущий % от FACEVALUE\n",
    "\n",
    "40\tPRICE_RUB\tРасчетная цена, руб / котировка\n",
    "\n",
    "41\tRTL1\tНижняя граница рыночного риска, руб. (RTL1)\n",
    "\n",
    "42\tRTH1\tВерхняя граница рыночного риска, руб. (RTH1)\n",
    "\n",
    "43\tRTL2\tНижняя граница рыночного риска, руб. (RTL2)\n",
    "\n",
    "44\tRTH2\tВерхняя граница рыночного риска, руб. (RTH2)\n",
    "\n",
    "45\tRTL3\tНижняя граница рыночного риска, руб. (RTL3)\n",
    "\n",
    "46\tRTH3\tВерхняя граница рыночного риска, руб. (RTH3)\n",
    "\n",
    "47\tDISCOUNT1\tСтавка рыночного риска 1 (S1)\n",
    "\n",
    "48\tLIMIT1\tЛимит концентрации 1, шт. (L1)\n",
    "\n",
    "49\tDISCOUNT2\tСтавка рыночного риска 2 (S2)\n",
    "\n",
    "50\tLIMIT2\tЛимит концентрации 2, шт. (L2)\n",
    "\n",
    "51\tDISCOUNT3\tСтавка рыночного риска 3 (S3)\n",
    "\n",
    "52\tDISCOUNTL0\tИнд. ставка падения (S0_L)\n",
    "\n",
    "53\tDISCOUNTH0\tИнд. ставка роста (S0_H)\n",
    "\n",
    "54\tFULLCOVERED\tЗапрет коротких продаж"
   ]
  },
  {
   "cell_type": "code",
   "execution_count": 178,
   "id": "f78aba56",
   "metadata": {},
   "outputs": [
    {
     "data": {
      "text/html": [
       "<div>\n",
       "<style scoped>\n",
       "    .dataframe tbody tr th:only-of-type {\n",
       "        vertical-align: middle;\n",
       "    }\n",
       "\n",
       "    .dataframe tbody tr th {\n",
       "        vertical-align: top;\n",
       "    }\n",
       "\n",
       "    .dataframe thead th {\n",
       "        text-align: right;\n",
       "    }\n",
       "</style>\n",
       "<table border=\"1\" class=\"dataframe\">\n",
       "  <thead>\n",
       "    <tr style=\"text-align: right;\">\n",
       "      <th></th>\n",
       "      <th>SECID</th>\n",
       "      <th>SHORTNAME</th>\n",
       "      <th>NAME</th>\n",
       "      <th>TYPENAME</th>\n",
       "      <th>ISIN</th>\n",
       "      <th>REGNUMBER</th>\n",
       "      <th>LISTLEVEL</th>\n",
       "      <th>FACEVALUE</th>\n",
       "      <th>FACEUNIT</th>\n",
       "      <th>ISSUESIZE</th>\n",
       "      <th>...</th>\n",
       "      <th>RTL3</th>\n",
       "      <th>RTH3</th>\n",
       "      <th>DISCOUNT1</th>\n",
       "      <th>LIMIT1</th>\n",
       "      <th>DISCOUNT2</th>\n",
       "      <th>LIMIT2</th>\n",
       "      <th>DISCOUNT3</th>\n",
       "      <th>DISCOUNTL0</th>\n",
       "      <th>DISCOUNTH0</th>\n",
       "      <th>FULLCOVERED</th>\n",
       "    </tr>\n",
       "  </thead>\n",
       "  <tbody>\n",
       "    <tr>\n",
       "      <th>count</th>\n",
       "      <td>2667</td>\n",
       "      <td>2667</td>\n",
       "      <td>2667</td>\n",
       "      <td>2667</td>\n",
       "      <td>2667</td>\n",
       "      <td>2282</td>\n",
       "      <td>2398.000000</td>\n",
       "      <td>2667</td>\n",
       "      <td>2667</td>\n",
       "      <td>2.648000e+03</td>\n",
       "      <td>...</td>\n",
       "      <td>2481</td>\n",
       "      <td>2481</td>\n",
       "      <td>2667</td>\n",
       "      <td>8.870000e+02</td>\n",
       "      <td>887</td>\n",
       "      <td>8.870000e+02</td>\n",
       "      <td>887</td>\n",
       "      <td>2481</td>\n",
       "      <td>2481</td>\n",
       "      <td>2481.000000</td>\n",
       "    </tr>\n",
       "    <tr>\n",
       "      <th>unique</th>\n",
       "      <td>2667</td>\n",
       "      <td>2667</td>\n",
       "      <td>2667</td>\n",
       "      <td>9</td>\n",
       "      <td>2667</td>\n",
       "      <td>2282</td>\n",
       "      <td>NaN</td>\n",
       "      <td>163</td>\n",
       "      <td>6</td>\n",
       "      <td>NaN</td>\n",
       "      <td>...</td>\n",
       "      <td>833</td>\n",
       "      <td>2268</td>\n",
       "      <td>48</td>\n",
       "      <td>NaN</td>\n",
       "      <td>50</td>\n",
       "      <td>NaN</td>\n",
       "      <td>51</td>\n",
       "      <td>52</td>\n",
       "      <td>42</td>\n",
       "      <td>NaN</td>\n",
       "    </tr>\n",
       "    <tr>\n",
       "      <th>top</th>\n",
       "      <td>AMUNIBB2AER2</td>\n",
       "      <td>UBANK11/22</td>\n",
       "      <td>UNIBANK OJSC Series 1</td>\n",
       "      <td>Биржевые облигации</td>\n",
       "      <td>AMUNIBB2AER2</td>\n",
       "      <td>4-01-10013-R</td>\n",
       "      <td>NaN</td>\n",
       "      <td>1000,0</td>\n",
       "      <td>RUB</td>\n",
       "      <td>NaN</td>\n",
       "      <td>...</td>\n",
       "      <td>0,0</td>\n",
       "      <td>2000,0</td>\n",
       "      <td>100,0</td>\n",
       "      <td>NaN</td>\n",
       "      <td>18,0</td>\n",
       "      <td>NaN</td>\n",
       "      <td>22,0</td>\n",
       "      <td>10,00000</td>\n",
       "      <td>10,00000</td>\n",
       "      <td>NaN</td>\n",
       "    </tr>\n",
       "    <tr>\n",
       "      <th>freq</th>\n",
       "      <td>1</td>\n",
       "      <td>1</td>\n",
       "      <td>1</td>\n",
       "      <td>1637</td>\n",
       "      <td>1</td>\n",
       "      <td>1</td>\n",
       "      <td>NaN</td>\n",
       "      <td>2139</td>\n",
       "      <td>2288</td>\n",
       "      <td>NaN</td>\n",
       "      <td>...</td>\n",
       "      <td>1624</td>\n",
       "      <td>43</td>\n",
       "      <td>1780</td>\n",
       "      <td>NaN</td>\n",
       "      <td>79</td>\n",
       "      <td>NaN</td>\n",
       "      <td>80</td>\n",
       "      <td>900</td>\n",
       "      <td>1434</td>\n",
       "      <td>NaN</td>\n",
       "    </tr>\n",
       "    <tr>\n",
       "      <th>mean</th>\n",
       "      <td>NaN</td>\n",
       "      <td>NaN</td>\n",
       "      <td>NaN</td>\n",
       "      <td>NaN</td>\n",
       "      <td>NaN</td>\n",
       "      <td>NaN</td>\n",
       "      <td>2.386572</td>\n",
       "      <td>NaN</td>\n",
       "      <td>NaN</td>\n",
       "      <td>3.276314e+08</td>\n",
       "      <td>...</td>\n",
       "      <td>NaN</td>\n",
       "      <td>NaN</td>\n",
       "      <td>NaN</td>\n",
       "      <td>3.492001e+05</td>\n",
       "      <td>NaN</td>\n",
       "      <td>1.745401e+06</td>\n",
       "      <td>NaN</td>\n",
       "      <td>NaN</td>\n",
       "      <td>NaN</td>\n",
       "      <td>0.642080</td>\n",
       "    </tr>\n",
       "    <tr>\n",
       "      <th>std</th>\n",
       "      <td>NaN</td>\n",
       "      <td>NaN</td>\n",
       "      <td>NaN</td>\n",
       "      <td>NaN</td>\n",
       "      <td>NaN</td>\n",
       "      <td>NaN</td>\n",
       "      <td>0.845279</td>\n",
       "      <td>NaN</td>\n",
       "      <td>NaN</td>\n",
       "      <td>4.189619e+09</td>\n",
       "      <td>...</td>\n",
       "      <td>NaN</td>\n",
       "      <td>NaN</td>\n",
       "      <td>NaN</td>\n",
       "      <td>8.379265e+05</td>\n",
       "      <td>NaN</td>\n",
       "      <td>4.189823e+06</td>\n",
       "      <td>NaN</td>\n",
       "      <td>NaN</td>\n",
       "      <td>NaN</td>\n",
       "      <td>0.479485</td>\n",
       "    </tr>\n",
       "    <tr>\n",
       "      <th>min</th>\n",
       "      <td>NaN</td>\n",
       "      <td>NaN</td>\n",
       "      <td>NaN</td>\n",
       "      <td>NaN</td>\n",
       "      <td>NaN</td>\n",
       "      <td>NaN</td>\n",
       "      <td>1.000000</td>\n",
       "      <td>NaN</td>\n",
       "      <td>NaN</td>\n",
       "      <td>1.000000e+00</td>\n",
       "      <td>...</td>\n",
       "      <td>NaN</td>\n",
       "      <td>NaN</td>\n",
       "      <td>NaN</td>\n",
       "      <td>1.700000e+01</td>\n",
       "      <td>NaN</td>\n",
       "      <td>8.500000e+01</td>\n",
       "      <td>NaN</td>\n",
       "      <td>NaN</td>\n",
       "      <td>NaN</td>\n",
       "      <td>0.000000</td>\n",
       "    </tr>\n",
       "    <tr>\n",
       "      <th>25%</th>\n",
       "      <td>NaN</td>\n",
       "      <td>NaN</td>\n",
       "      <td>NaN</td>\n",
       "      <td>NaN</td>\n",
       "      <td>NaN</td>\n",
       "      <td>NaN</td>\n",
       "      <td>2.000000</td>\n",
       "      <td>NaN</td>\n",
       "      <td>NaN</td>\n",
       "      <td>2.940735e+05</td>\n",
       "      <td>...</td>\n",
       "      <td>NaN</td>\n",
       "      <td>NaN</td>\n",
       "      <td>NaN</td>\n",
       "      <td>1.000000e+05</td>\n",
       "      <td>NaN</td>\n",
       "      <td>5.000000e+05</td>\n",
       "      <td>NaN</td>\n",
       "      <td>NaN</td>\n",
       "      <td>NaN</td>\n",
       "      <td>0.000000</td>\n",
       "    </tr>\n",
       "    <tr>\n",
       "      <th>50%</th>\n",
       "      <td>NaN</td>\n",
       "      <td>NaN</td>\n",
       "      <td>NaN</td>\n",
       "      <td>NaN</td>\n",
       "      <td>NaN</td>\n",
       "      <td>NaN</td>\n",
       "      <td>3.000000</td>\n",
       "      <td>NaN</td>\n",
       "      <td>NaN</td>\n",
       "      <td>2.000000e+06</td>\n",
       "      <td>...</td>\n",
       "      <td>NaN</td>\n",
       "      <td>NaN</td>\n",
       "      <td>NaN</td>\n",
       "      <td>2.000000e+05</td>\n",
       "      <td>NaN</td>\n",
       "      <td>1.000000e+06</td>\n",
       "      <td>NaN</td>\n",
       "      <td>NaN</td>\n",
       "      <td>NaN</td>\n",
       "      <td>1.000000</td>\n",
       "    </tr>\n",
       "    <tr>\n",
       "      <th>75%</th>\n",
       "      <td>NaN</td>\n",
       "      <td>NaN</td>\n",
       "      <td>NaN</td>\n",
       "      <td>NaN</td>\n",
       "      <td>NaN</td>\n",
       "      <td>NaN</td>\n",
       "      <td>3.000000</td>\n",
       "      <td>NaN</td>\n",
       "      <td>NaN</td>\n",
       "      <td>1.000000e+07</td>\n",
       "      <td>...</td>\n",
       "      <td>NaN</td>\n",
       "      <td>NaN</td>\n",
       "      <td>NaN</td>\n",
       "      <td>3.000000e+05</td>\n",
       "      <td>NaN</td>\n",
       "      <td>1.500000e+06</td>\n",
       "      <td>NaN</td>\n",
       "      <td>NaN</td>\n",
       "      <td>NaN</td>\n",
       "      <td>1.000000</td>\n",
       "    </tr>\n",
       "    <tr>\n",
       "      <th>max</th>\n",
       "      <td>NaN</td>\n",
       "      <td>NaN</td>\n",
       "      <td>NaN</td>\n",
       "      <td>NaN</td>\n",
       "      <td>NaN</td>\n",
       "      <td>NaN</td>\n",
       "      <td>3.000000</td>\n",
       "      <td>NaN</td>\n",
       "      <td>NaN</td>\n",
       "      <td>9.649987e+10</td>\n",
       "      <td>...</td>\n",
       "      <td>NaN</td>\n",
       "      <td>NaN</td>\n",
       "      <td>NaN</td>\n",
       "      <td>1.200000e+07</td>\n",
       "      <td>NaN</td>\n",
       "      <td>6.000000e+07</td>\n",
       "      <td>NaN</td>\n",
       "      <td>NaN</td>\n",
       "      <td>NaN</td>\n",
       "      <td>1.000000</td>\n",
       "    </tr>\n",
       "  </tbody>\n",
       "</table>\n",
       "<p>11 rows × 54 columns</p>\n",
       "</div>"
      ],
      "text/plain": [
       "               SECID   SHORTNAME                   NAME            TYPENAME  \\\n",
       "count           2667        2667                   2667                2667   \n",
       "unique          2667        2667                   2667                   9   \n",
       "top     AMUNIBB2AER2  UBANK11/22  UNIBANK OJSC Series 1  Биржевые облигации   \n",
       "freq               1           1                      1                1637   \n",
       "mean             NaN         NaN                    NaN                 NaN   \n",
       "std              NaN         NaN                    NaN                 NaN   \n",
       "min              NaN         NaN                    NaN                 NaN   \n",
       "25%              NaN         NaN                    NaN                 NaN   \n",
       "50%              NaN         NaN                    NaN                 NaN   \n",
       "75%              NaN         NaN                    NaN                 NaN   \n",
       "max              NaN         NaN                    NaN                 NaN   \n",
       "\n",
       "                ISIN     REGNUMBER    LISTLEVEL FACEVALUE FACEUNIT  \\\n",
       "count           2667          2282  2398.000000      2667     2667   \n",
       "unique          2667          2282          NaN       163        6   \n",
       "top     AMUNIBB2AER2  4-01-10013-R          NaN    1000,0      RUB   \n",
       "freq               1             1          NaN      2139     2288   \n",
       "mean             NaN           NaN     2.386572       NaN      NaN   \n",
       "std              NaN           NaN     0.845279       NaN      NaN   \n",
       "min              NaN           NaN     1.000000       NaN      NaN   \n",
       "25%              NaN           NaN     2.000000       NaN      NaN   \n",
       "50%              NaN           NaN     3.000000       NaN      NaN   \n",
       "75%              NaN           NaN     3.000000       NaN      NaN   \n",
       "max              NaN           NaN     3.000000       NaN      NaN   \n",
       "\n",
       "           ISSUESIZE  ...  RTL3    RTH3 DISCOUNT1        LIMIT1 DISCOUNT2  \\\n",
       "count   2.648000e+03  ...  2481    2481      2667  8.870000e+02       887   \n",
       "unique           NaN  ...   833    2268        48           NaN        50   \n",
       "top              NaN  ...   0,0  2000,0     100,0           NaN      18,0   \n",
       "freq             NaN  ...  1624      43      1780           NaN        79   \n",
       "mean    3.276314e+08  ...   NaN     NaN       NaN  3.492001e+05       NaN   \n",
       "std     4.189619e+09  ...   NaN     NaN       NaN  8.379265e+05       NaN   \n",
       "min     1.000000e+00  ...   NaN     NaN       NaN  1.700000e+01       NaN   \n",
       "25%     2.940735e+05  ...   NaN     NaN       NaN  1.000000e+05       NaN   \n",
       "50%     2.000000e+06  ...   NaN     NaN       NaN  2.000000e+05       NaN   \n",
       "75%     1.000000e+07  ...   NaN     NaN       NaN  3.000000e+05       NaN   \n",
       "max     9.649987e+10  ...   NaN     NaN       NaN  1.200000e+07       NaN   \n",
       "\n",
       "              LIMIT2  DISCOUNT3  DISCOUNTL0  DISCOUNTH0  FULLCOVERED  \n",
       "count   8.870000e+02        887        2481        2481  2481.000000  \n",
       "unique           NaN         51          52          42          NaN  \n",
       "top              NaN       22,0    10,00000    10,00000          NaN  \n",
       "freq             NaN         80         900        1434          NaN  \n",
       "mean    1.745401e+06        NaN         NaN         NaN     0.642080  \n",
       "std     4.189823e+06        NaN         NaN         NaN     0.479485  \n",
       "min     8.500000e+01        NaN         NaN         NaN     0.000000  \n",
       "25%     5.000000e+05        NaN         NaN         NaN     0.000000  \n",
       "50%     1.000000e+06        NaN         NaN         NaN     1.000000  \n",
       "75%     1.500000e+06        NaN         NaN         NaN     1.000000  \n",
       "max     6.000000e+07        NaN         NaN         NaN     1.000000  \n",
       "\n",
       "[11 rows x 54 columns]"
      ]
     },
     "execution_count": 178,
     "metadata": {},
     "output_type": "execute_result"
    }
   ],
   "source": [
    "# описательная характеристика датасета\n",
    "df.describe(include = \"all\")"
   ]
  },
  {
   "cell_type": "code",
   "execution_count": 179,
   "id": "6a948387",
   "metadata": {},
   "outputs": [
    {
     "data": {
      "text/plain": [
       "SECID                     2667\n",
       "SHORTNAME                 2667\n",
       "NAME                      2667\n",
       "TYPENAME                     9\n",
       "ISIN                      2667\n",
       "REGNUMBER                 2282\n",
       "LISTLEVEL                    3\n",
       "FACEVALUE                  163\n",
       "FACEUNIT                     6\n",
       "ISSUESIZE                 1022\n",
       "IS_COLLATERAL                2\n",
       "IS_EXTERNAL                  2\n",
       "PRIMARY_BOARDID             11\n",
       "PRIMARY_BOARD_TITLE         11\n",
       "MATDATE                   1516\n",
       "IS_RII                       1\n",
       "DURATION                   957\n",
       "EVENINGSESSION               2\n",
       "MORNINGSESSION               1\n",
       "IS_QUALIFIED_INVESTORS       2\n",
       "HIGH_RISK                    2\n",
       "COUPONFREQUENCY              8\n",
       "YIELDATWAP                 613\n",
       "COUPONDATE                 473\n",
       "COUPONPERCENT              439\n",
       "COUPONVALUE                958\n",
       "COUPONDAYSPASSED           446\n",
       "COUPONDAYSREMAIN           473\n",
       "COUPONLENGTH               123\n",
       "ISSUEDATE                 1152\n",
       "INITIALFACEVALUE            25\n",
       "SECSUBTYPE                   3\n",
       "STARTDATEMOEX             1085\n",
       "DAYSTOREDEMPTION          1516\n",
       "OFFERDATE                  313\n",
       "EMITENTNAME                499\n",
       "INN                        495\n",
       "LOTSIZE                      4\n",
       "PRICE                     1379\n",
       "PRICE_RUB                 2222\n",
       "RTL1                       868\n",
       "RTH1                      2270\n",
       "RTL2                       866\n",
       "RTH2                      2268\n",
       "RTL3                       833\n",
       "RTH3                      2268\n",
       "DISCOUNT1                   48\n",
       "LIMIT1                     140\n",
       "DISCOUNT2                   50\n",
       "LIMIT2                     142\n",
       "DISCOUNT3                   51\n",
       "DISCOUNTL0                  52\n",
       "DISCOUNTH0                  42\n",
       "FULLCOVERED                  2\n",
       "dtype: int64"
      ]
     },
     "execution_count": 179,
     "metadata": {},
     "output_type": "execute_result"
    }
   ],
   "source": [
    "# смотрим уникальность колонок\n",
    "df.nunique()"
   ]
  },
  {
   "cell_type": "code",
   "execution_count": 180,
   "id": "aaa790ca",
   "metadata": {},
   "outputs": [
    {
     "name": "stdout",
     "output_type": "stream",
     "text": [
      "<class 'pandas.core.frame.DataFrame'>\n",
      "RangeIndex: 2667 entries, 0 to 2666\n",
      "Data columns (total 54 columns):\n",
      " #   Column                  Non-Null Count  Dtype  \n",
      "---  ------                  --------------  -----  \n",
      " 0   SECID                   2667 non-null   object \n",
      " 1   SHORTNAME               2667 non-null   object \n",
      " 2   NAME                    2667 non-null   object \n",
      " 3   TYPENAME                2667 non-null   object \n",
      " 4   ISIN                    2667 non-null   object \n",
      " 5   REGNUMBER               2282 non-null   object \n",
      " 6   LISTLEVEL               2398 non-null   float64\n",
      " 7   FACEVALUE               2667 non-null   object \n",
      " 8   FACEUNIT                2667 non-null   object \n",
      " 9   ISSUESIZE               2648 non-null   float64\n",
      " 10  IS_COLLATERAL           2667 non-null   int64  \n",
      " 11  IS_EXTERNAL             2667 non-null   int64  \n",
      " 12  PRIMARY_BOARDID         2667 non-null   object \n",
      " 13  PRIMARY_BOARD_TITLE     2667 non-null   object \n",
      " 14  MATDATE                 2615 non-null   object \n",
      " 15  IS_RII                  14 non-null     object \n",
      " 16  DURATION                1579 non-null   float64\n",
      " 17  EVENINGSESSION          2667 non-null   int64  \n",
      " 18  MORNINGSESSION          2667 non-null   int64  \n",
      " 19  IS_QUALIFIED_INVESTORS  2667 non-null   int64  \n",
      " 20  HIGH_RISK               2667 non-null   int64  \n",
      " 21  COUPONFREQUENCY         2308 non-null   float64\n",
      " 22  YIELDATWAP              1111 non-null   object \n",
      " 23  COUPONDATE              2654 non-null   object \n",
      " 24  COUPONPERCENT           2529 non-null   object \n",
      " 25  COUPONVALUE             2531 non-null   object \n",
      " 26  COUPONDAYSPASSED        2653 non-null   float64\n",
      " 27  COUPONDAYSREMAIN        2654 non-null   float64\n",
      " 28  COUPONLENGTH            2653 non-null   float64\n",
      " 29  ISSUEDATE               2516 non-null   object \n",
      " 30  INITIALFACEVALUE        2667 non-null   object \n",
      " 31  SECSUBTYPE              154 non-null    object \n",
      " 32  STARTDATEMOEX           2372 non-null   object \n",
      " 33  DAYSTOREDEMPTION        2615 non-null   float64\n",
      " 34  OFFERDATE               453 non-null    object \n",
      " 35  EMITENTNAME             2516 non-null   object \n",
      " 36  INN                     2510 non-null   float64\n",
      " 37  LOTSIZE                 2667 non-null   int64  \n",
      " 38  PRICE                   2481 non-null   object \n",
      " 39  PRICE_RUB               2481 non-null   object \n",
      " 40  RTL1                    2481 non-null   object \n",
      " 41  RTH1                    2481 non-null   object \n",
      " 42  RTL2                    2481 non-null   object \n",
      " 43  RTH2                    2481 non-null   object \n",
      " 44  RTL3                    2481 non-null   object \n",
      " 45  RTH3                    2481 non-null   object \n",
      " 46  DISCOUNT1               2667 non-null   object \n",
      " 47  LIMIT1                  887 non-null    float64\n",
      " 48  DISCOUNT2               887 non-null    object \n",
      " 49  LIMIT2                  887 non-null    float64\n",
      " 50  DISCOUNT3               887 non-null    object \n",
      " 51  DISCOUNTL0              2481 non-null   object \n",
      " 52  DISCOUNTH0              2481 non-null   object \n",
      " 53  FULLCOVERED             2481 non-null   float64\n",
      "dtypes: float64(12), int64(7), object(35)\n",
      "memory usage: 1.1+ MB\n"
     ]
    }
   ],
   "source": [
    "# смотрим инфу по датасету\n",
    "df.info()"
   ]
  },
  {
   "cell_type": "code",
   "execution_count": 181,
   "id": "2f80d1f8",
   "metadata": {},
   "outputs": [
    {
     "data": {
      "text/plain": [
       "SECID                        0\n",
       "SHORTNAME                    0\n",
       "NAME                         0\n",
       "TYPENAME                     0\n",
       "ISIN                         0\n",
       "REGNUMBER                  385\n",
       "LISTLEVEL                  269\n",
       "FACEVALUE                    0\n",
       "FACEUNIT                     0\n",
       "ISSUESIZE                   19\n",
       "IS_COLLATERAL                0\n",
       "IS_EXTERNAL                  0\n",
       "PRIMARY_BOARDID              0\n",
       "PRIMARY_BOARD_TITLE          0\n",
       "MATDATE                     52\n",
       "IS_RII                    2653\n",
       "DURATION                  1088\n",
       "EVENINGSESSION               0\n",
       "MORNINGSESSION               0\n",
       "IS_QUALIFIED_INVESTORS       0\n",
       "HIGH_RISK                    0\n",
       "COUPONFREQUENCY            359\n",
       "YIELDATWAP                1556\n",
       "COUPONDATE                  13\n",
       "COUPONPERCENT              138\n",
       "COUPONVALUE                136\n",
       "COUPONDAYSPASSED            14\n",
       "COUPONDAYSREMAIN            13\n",
       "COUPONLENGTH                14\n",
       "ISSUEDATE                  151\n",
       "INITIALFACEVALUE             0\n",
       "SECSUBTYPE                2513\n",
       "STARTDATEMOEX              295\n",
       "DAYSTOREDEMPTION            52\n",
       "OFFERDATE                 2214\n",
       "EMITENTNAME                151\n",
       "INN                        157\n",
       "LOTSIZE                      0\n",
       "PRICE                      186\n",
       "PRICE_RUB                  186\n",
       "RTL1                       186\n",
       "RTH1                       186\n",
       "RTL2                       186\n",
       "RTH2                       186\n",
       "RTL3                       186\n",
       "RTH3                       186\n",
       "DISCOUNT1                    0\n",
       "LIMIT1                    1780\n",
       "DISCOUNT2                 1780\n",
       "LIMIT2                    1780\n",
       "DISCOUNT3                 1780\n",
       "DISCOUNTL0                 186\n",
       "DISCOUNTH0                 186\n",
       "FULLCOVERED                186\n",
       "dtype: int64"
      ]
     },
     "execution_count": 181,
     "metadata": {},
     "output_type": "execute_result"
    }
   ],
   "source": [
    "#  считаем количестово пропущенных значений\n",
    "df.isna().sum()"
   ]
  },
  {
   "cell_type": "code",
   "execution_count": 182,
   "id": "2dc70b59",
   "metadata": {},
   "outputs": [
    {
     "data": {
      "text/plain": [
       "Text(0.5, 1.0, 'Пропущенные значения')"
      ]
     },
     "execution_count": 182,
     "metadata": {},
     "output_type": "execute_result"
    },
    {
     "data": {
      "image/png": "[encoded data removed]",
      "text/plain": [
       "<Figure size 432x288 with 1 Axes>"
      ]
     },
     "metadata": {
      "needs_background": "light"
     },
     "output_type": "display_data"
    }
   ],
   "source": [
    "# строим график пропущенных значений\n",
    "sns.heatmap(df.isnull(), cbar = False).set_title(\"Пропущенные значения\")"
   ]
  },
  {
   "cell_type": "code",
   "execution_count": 183,
   "id": "6431f074",
   "metadata": {},
   "outputs": [
    {
     "data": {
      "text/plain": [
       "36"
      ]
     },
     "execution_count": 183,
     "metadata": {},
     "output_type": "execute_result"
    }
   ],
   "source": [
    "# количество столбцов, которые имеют хотя бы одно пропущенное значение\n",
    "len(df.columns[df.isna().any()].tolist())"
   ]
  },
  {
   "cell_type": "markdown",
   "id": "b5ffb900",
   "metadata": {},
   "source": [
    "# Выводы по датасету и по пропущенным значениям\n",
    "\n",
    "1 REGNUMBER - Государственный регистрационный номер \n",
    "\n",
    "2 LISTLEVEL - Уровень листинга (оценка биржей надежности бумаг) \n",
    "\n",
    "3 ISSUESIZE - Объем выпуска, бумаг (шт. коммерческих облигаций)\n",
    "\n",
    "4 MATDATE - Дата погашения ( шт. количество бессрочных облигаций)\n",
    "\n",
    "5 IS_RII - Признак сектора РИИ (Рынок инноваций и инвестиций)\n",
    "\n",
    "6 DURATION - Дюрация / эффективный срок до погашения облигации (средневзвешенный срок потока платежей). Рассчитывается по формуле - D = Σi (PVi * ti) / Σi (PVi), где: PV — поступление по облигации t — время поступления. Дюарация расчитана по тем облигациям, которые имеют постоянный купон, остальные облигации с переменным купоном.\n",
    "\n",
    "7 COUPONFREQUENCY - Частота выплаты купонов в год / число купонов в год - шт. облигаций, которые либо безкуппонные (дисконтная облигация), либо выплата купона происходит один раз в конце погашения облигации (премиальная c премией)\n",
    "\n",
    "8 YIELDATWAP  -  Доходность по средневзвешенной цене купона   \n",
    "\n",
    "9 COUPONDATE -  Дата выплаты купона -  шт. облигаций бескупонные (дисконтные). В результате согласно COUPONFREQUENCY - COUPONDATE = количество облигаций, по которым выплата купона (премии) происходит один раз в конце погашения облигации (премиальная c премией)\n",
    "\n",
    "10 COUPONPERCENT - Ставка купона, % - облигации по которым отсутствуют купонные выплаты (либо по котрым уже выплатили все предполагаемые купоны)\n",
    "\n",
    "11 COUPONVALUE - Размер ближайшего купона, в валюте номинала - облигации по которым отсутствуют купонные выплаты (либо по котрым уже выплатили все предполагаемые купоны)\n",
    "\n",
    "12 COUPONDAYSPASSED - Купонный период - сколько прошло, дн - шт. облигаций бескупонные (дисконтные)\n",
    "\n",
    "13 COUPONDAYSREMAIN - Купонный период - сколько осталось, дн -  шт. облигаций бескупонные (дисконтные)\n",
    "\n",
    "14 COUPONLENGTH -  Общий купонный период, дн - 17 шт. облигаций бескупонные (дисконтные)\n",
    "\n",
    "15 ISSUEDATE - Дата начала торгов          \n",
    "\n",
    "16 SECSUBTYPE - Класс облигации \n",
    "\n",
    "17 STARTDATEMOEX - Дата начала торгов на Московской Бирже \n",
    "\n",
    "18 DAYSTOREDEMPTION -  Количество дней до погашения (52 шт. бессрочные облигации)\n",
    "\n",
    "19 OFFERDATE - Дата оферты - это дата, в которую можно досрочно погасить номинал облигации.\n",
    "\n",
    "20 EMITENTNAME - Эмитент - (151 шт. коммерческих облигаций)\n",
    "\n",
    "21 INN - ИНН Эмитент ( шт. коммерческих облигаций +  иностраных компаний)\n",
    "\n",
    "22 PRICE - Расчетная (рыночная) цена / текущий % от FACEVALUE ( шт. облигаций по которым не идут торги)\n",
    "\n",
    "23 PRICE_RUB - Расчетная цена, руб / котировка ( шт. облигаций по которым не идут торги)\n",
    "\n",
    "24 RTL1 - Нижняя граница рыночного риска, руб. (RTL1)\n",
    "\n",
    "25 RTH1 - Верхняя граница рыночного риска, руб. (RTH1)\n",
    "\n",
    "26 RTL2 - Нижняя граница рыночного риска, руб. (RTL2)\n",
    "\n",
    "27 RTH2 - Верхняя граница рыночного риска, руб. (RTH2)\n",
    "\n",
    "28 RTL3 - Нижняя граница рыночного риска, руб. (RTL3) \n",
    "\n",
    "29 RTH3  - Верхняя граница рыночного риска, руб. (RTH3) \n",
    "\n",
    "30 LIMIT1 - Лимит концентрации 1, шт. (L1)\n",
    "\n",
    "31 DISCOUNT2 - Лимит концентрации 1, шт. (L1)\n",
    "\n",
    "32 LIMIT2  - Лимит концентрации 2, шт. (L2) \n",
    "\n",
    "33 DISCOUNT3 -  Ставка рыночного риска 3 (S3)\n",
    "\n",
    "34 DISCOUNTL0 - Инд. ставка падения (S0_L)\n",
    "\n",
    "35 DISCOUNTH0 - Инд. ставка роста (S0_H)\n",
    "\n",
    "36 FULLCOVERED - Запрет коротких продаж\n",
    "\n",
    "37 LOTSIZE - Размер лота на основном режиме торгов"
   ]
  },
  {
   "cell_type": "markdown",
   "id": "464c78fd",
   "metadata": {},
   "source": [
    "# Решение. Часть №1"
   ]
  },
  {
   "cell_type": "markdown",
   "id": "0c310a8d",
   "metadata": {},
   "source": [
    "1) Оценить рынок рублевых облигаций по распределению купонной доходности, предложить разделение на кластеры по купонной доходности.\n",
    "Предложить графическое представление полученных групп/кластеров. (график)"
   ]
  },
  {
   "cell_type": "code",
   "execution_count": 184,
   "id": "fd5859b7",
   "metadata": {},
   "outputs": [
    {
     "data": {
      "text/plain": [
       "RUB    2288\n",
       "USD     322\n",
       "EUR      45\n",
       "CHF       8\n",
       "CNY       2\n",
       "GBP       2\n",
       "Name: FACEUNIT, dtype: int64"
      ]
     },
     "execution_count": 184,
     "metadata": {},
     "output_type": "execute_result"
    }
   ],
   "source": [
    "# количество облигаций относительно валюты номинала\n",
    "df.FACEUNIT.value_counts()"
   ]
  },
  {
   "cell_type": "code",
   "execution_count": 185,
   "id": "edca5c37",
   "metadata": {},
   "outputs": [
    {
     "data": {
      "text/html": [
       "<div>\n",
       "<style scoped>\n",
       "    .dataframe tbody tr th:only-of-type {\n",
       "        vertical-align: middle;\n",
       "    }\n",
       "\n",
       "    .dataframe tbody tr th {\n",
       "        vertical-align: top;\n",
       "    }\n",
       "\n",
       "    .dataframe thead th {\n",
       "        text-align: right;\n",
       "    }\n",
       "</style>\n",
       "<table border=\"1\" class=\"dataframe\">\n",
       "  <thead>\n",
       "    <tr style=\"text-align: right;\">\n",
       "      <th></th>\n",
       "      <th>SECID</th>\n",
       "      <th>SHORTNAME</th>\n",
       "      <th>NAME</th>\n",
       "      <th>TYPENAME</th>\n",
       "      <th>ISIN</th>\n",
       "      <th>REGNUMBER</th>\n",
       "      <th>LISTLEVEL</th>\n",
       "      <th>FACEVALUE</th>\n",
       "      <th>FACEUNIT</th>\n",
       "      <th>ISSUESIZE</th>\n",
       "      <th>...</th>\n",
       "      <th>RTL3</th>\n",
       "      <th>RTH3</th>\n",
       "      <th>DISCOUNT1</th>\n",
       "      <th>LIMIT1</th>\n",
       "      <th>DISCOUNT2</th>\n",
       "      <th>LIMIT2</th>\n",
       "      <th>DISCOUNT3</th>\n",
       "      <th>DISCOUNTL0</th>\n",
       "      <th>DISCOUNTH0</th>\n",
       "      <th>FULLCOVERED</th>\n",
       "    </tr>\n",
       "  </thead>\n",
       "  <tbody>\n",
       "    <tr>\n",
       "      <th>12</th>\n",
       "      <td>RU000A0JQ5C5</td>\n",
       "      <td>НПФ 01</td>\n",
       "      <td>\"НПФ\" ООО об.сер. 01</td>\n",
       "      <td>Корпоративные облигации</td>\n",
       "      <td>RU000A0JQ5C5</td>\n",
       "      <td>4-01-10013-R</td>\n",
       "      <td>3.0</td>\n",
       "      <td>1000,0</td>\n",
       "      <td>RUB</td>\n",
       "      <td>40800.0</td>\n",
       "      <td>...</td>\n",
       "      <td>0,0</td>\n",
       "      <td>3331,24</td>\n",
       "      <td>100,0</td>\n",
       "      <td>NaN</td>\n",
       "      <td>NaN</td>\n",
       "      <td>NaN</td>\n",
       "      <td>NaN</td>\n",
       "      <td>10,00000</td>\n",
       "      <td>10,00000</td>\n",
       "      <td>1.0</td>\n",
       "    </tr>\n",
       "    <tr>\n",
       "      <th>13</th>\n",
       "      <td>RU000A0JQ7Z2</td>\n",
       "      <td>РЖД-19 обл</td>\n",
       "      <td>\"Российские ЖД\" ОАО 19 обл.</td>\n",
       "      <td>Корпоративные облигации</td>\n",
       "      <td>RU000A0JQ7Z2</td>\n",
       "      <td>4-19-65045-D</td>\n",
       "      <td>2.0</td>\n",
       "      <td>1000,0</td>\n",
       "      <td>RUB</td>\n",
       "      <td>10000000.0</td>\n",
       "      <td>...</td>\n",
       "      <td>794,89</td>\n",
       "      <td>1217,49</td>\n",
       "      <td>15,0</td>\n",
       "      <td>200000.0</td>\n",
       "      <td>18,0</td>\n",
       "      <td>1000000.0</td>\n",
       "      <td>21,0</td>\n",
       "      <td>10,00000</td>\n",
       "      <td>10,00000</td>\n",
       "      <td>0.0</td>\n",
       "    </tr>\n",
       "    <tr>\n",
       "      <th>14</th>\n",
       "      <td>RU000A0JQAL8</td>\n",
       "      <td>ДОМ.РФ14об</td>\n",
       "      <td>ДОМ.РФ (АО) обл. сер. А14</td>\n",
       "      <td>Корпоративные облигации</td>\n",
       "      <td>RU000A0JQAL8</td>\n",
       "      <td>4-14-00739-A</td>\n",
       "      <td>1.0</td>\n",
       "      <td>1000,0</td>\n",
       "      <td>RUB</td>\n",
       "      <td>7000000.0</td>\n",
       "      <td>...</td>\n",
       "      <td>879,01</td>\n",
       "      <td>1264,91</td>\n",
       "      <td>12,0</td>\n",
       "      <td>140000.0</td>\n",
       "      <td>15,0</td>\n",
       "      <td>700000.0</td>\n",
       "      <td>18,0</td>\n",
       "      <td>10,00000</td>\n",
       "      <td>10,00000</td>\n",
       "      <td>0.0</td>\n",
       "    </tr>\n",
       "    <tr>\n",
       "      <th>15</th>\n",
       "      <td>RU000A0JQAM6</td>\n",
       "      <td>ДОМ.РФ15об</td>\n",
       "      <td>ДОМ.РФ (АО) обл. сер. А15</td>\n",
       "      <td>Корпоративные облигации</td>\n",
       "      <td>RU000A0JQAM6</td>\n",
       "      <td>4-15-00739-A</td>\n",
       "      <td>1.0</td>\n",
       "      <td>1000,0</td>\n",
       "      <td>RUB</td>\n",
       "      <td>7000000.0</td>\n",
       "      <td>...</td>\n",
       "      <td>577,43</td>\n",
       "      <td>1732,29</td>\n",
       "      <td>40,0</td>\n",
       "      <td>200000.0</td>\n",
       "      <td>45,0</td>\n",
       "      <td>1000000.0</td>\n",
       "      <td>50,0</td>\n",
       "      <td>10,00000</td>\n",
       "      <td>10,00000</td>\n",
       "      <td>0.0</td>\n",
       "    </tr>\n",
       "    <tr>\n",
       "      <th>16</th>\n",
       "      <td>RU000A0JQRD9</td>\n",
       "      <td>РЖД-23 обл</td>\n",
       "      <td>\"Российские ЖД\" ОАО 23 обл.</td>\n",
       "      <td>Корпоративные облигации</td>\n",
       "      <td>RU000A0JQRD9</td>\n",
       "      <td>4-23-65045-D</td>\n",
       "      <td>2.0</td>\n",
       "      <td>1000,0</td>\n",
       "      <td>RUB</td>\n",
       "      <td>15000000.0</td>\n",
       "      <td>...</td>\n",
       "      <td>768,88</td>\n",
       "      <td>1228,2</td>\n",
       "      <td>17,0</td>\n",
       "      <td>300000.0</td>\n",
       "      <td>20,0</td>\n",
       "      <td>1500000.0</td>\n",
       "      <td>23,0</td>\n",
       "      <td>10,00000</td>\n",
       "      <td>10,00000</td>\n",
       "      <td>0.0</td>\n",
       "    </tr>\n",
       "    <tr>\n",
       "      <th>...</th>\n",
       "      <td>...</td>\n",
       "      <td>...</td>\n",
       "      <td>...</td>\n",
       "      <td>...</td>\n",
       "      <td>...</td>\n",
       "      <td>...</td>\n",
       "      <td>...</td>\n",
       "      <td>...</td>\n",
       "      <td>...</td>\n",
       "      <td>...</td>\n",
       "      <td>...</td>\n",
       "      <td>...</td>\n",
       "      <td>...</td>\n",
       "      <td>...</td>\n",
       "      <td>...</td>\n",
       "      <td>...</td>\n",
       "      <td>...</td>\n",
       "      <td>...</td>\n",
       "      <td>...</td>\n",
       "      <td>...</td>\n",
       "      <td>...</td>\n",
       "    </tr>\n",
       "    <tr>\n",
       "      <th>2624</th>\n",
       "      <td>XS2368111584</td>\n",
       "      <td>ALFA-25 RU</td>\n",
       "      <td>Alfa Bond Issuance 04/08/25</td>\n",
       "      <td>Корпоративные еврооблигации</td>\n",
       "      <td>XS2368111584</td>\n",
       "      <td>NaN</td>\n",
       "      <td>NaN</td>\n",
       "      <td>100000,0</td>\n",
       "      <td>RUB</td>\n",
       "      <td>100000.0</td>\n",
       "      <td>...</td>\n",
       "      <td>70608,78</td>\n",
       "      <td>112790,66</td>\n",
       "      <td>17,0</td>\n",
       "      <td>2000.0</td>\n",
       "      <td>20,0</td>\n",
       "      <td>10000.0</td>\n",
       "      <td>23,0</td>\n",
       "      <td>17,00000</td>\n",
       "      <td>17,00000</td>\n",
       "      <td>1.0</td>\n",
       "    </tr>\n",
       "    <tr>\n",
       "      <th>2636</th>\n",
       "      <td>XS2388458403</td>\n",
       "      <td>BCS12/26-2</td>\n",
       "      <td>BCS SP Plc Series 215</td>\n",
       "      <td>Корпоративные еврооблигации</td>\n",
       "      <td>XS2388458403</td>\n",
       "      <td>NaN</td>\n",
       "      <td>3.0</td>\n",
       "      <td>100000,0</td>\n",
       "      <td>RUB</td>\n",
       "      <td>5000.0</td>\n",
       "      <td>...</td>\n",
       "      <td>0,0</td>\n",
       "      <td>120540,0</td>\n",
       "      <td>100,0</td>\n",
       "      <td>NaN</td>\n",
       "      <td>NaN</td>\n",
       "      <td>NaN</td>\n",
       "      <td>NaN</td>\n",
       "      <td>100,00000</td>\n",
       "      <td>100,00000</td>\n",
       "      <td>1.0</td>\n",
       "    </tr>\n",
       "    <tr>\n",
       "      <th>2655</th>\n",
       "      <td>XS2415466676</td>\n",
       "      <td>BCS11/24-8</td>\n",
       "      <td>BCS SP Plc Series 229</td>\n",
       "      <td>Корпоративные еврооблигации</td>\n",
       "      <td>XS2415466676</td>\n",
       "      <td>NaN</td>\n",
       "      <td>3.0</td>\n",
       "      <td>100000,0</td>\n",
       "      <td>RUB</td>\n",
       "      <td>3000.0</td>\n",
       "      <td>...</td>\n",
       "      <td>0,0</td>\n",
       "      <td>182640,0</td>\n",
       "      <td>100,0</td>\n",
       "      <td>NaN</td>\n",
       "      <td>NaN</td>\n",
       "      <td>NaN</td>\n",
       "      <td>NaN</td>\n",
       "      <td>100,00000</td>\n",
       "      <td>100,00000</td>\n",
       "      <td>1.0</td>\n",
       "    </tr>\n",
       "    <tr>\n",
       "      <th>2658</th>\n",
       "      <td>XS2417535650</td>\n",
       "      <td>BCS06/25-A</td>\n",
       "      <td>BCS SP Plc Series 234</td>\n",
       "      <td>Корпоративные еврооблигации</td>\n",
       "      <td>XS2417535650</td>\n",
       "      <td>NaN</td>\n",
       "      <td>3.0</td>\n",
       "      <td>100000,0</td>\n",
       "      <td>RUB</td>\n",
       "      <td>700.0</td>\n",
       "      <td>...</td>\n",
       "      <td>0,0</td>\n",
       "      <td>200000,0</td>\n",
       "      <td>100,0</td>\n",
       "      <td>NaN</td>\n",
       "      <td>NaN</td>\n",
       "      <td>NaN</td>\n",
       "      <td>NaN</td>\n",
       "      <td>100,00000</td>\n",
       "      <td>100,00000</td>\n",
       "      <td>1.0</td>\n",
       "    </tr>\n",
       "    <tr>\n",
       "      <th>2662</th>\n",
       "      <td>XS2420560869</td>\n",
       "      <td>BCS01/25</td>\n",
       "      <td>BCS SP Plc Series 239</td>\n",
       "      <td>Корпоративные еврооблигации</td>\n",
       "      <td>XS2420560869</td>\n",
       "      <td>NaN</td>\n",
       "      <td>3.0</td>\n",
       "      <td>100000,0</td>\n",
       "      <td>RUB</td>\n",
       "      <td>700.0</td>\n",
       "      <td>...</td>\n",
       "      <td>0,0</td>\n",
       "      <td>200000,0</td>\n",
       "      <td>100,0</td>\n",
       "      <td>NaN</td>\n",
       "      <td>NaN</td>\n",
       "      <td>NaN</td>\n",
       "      <td>NaN</td>\n",
       "      <td>100,00000</td>\n",
       "      <td>100,00000</td>\n",
       "      <td>1.0</td>\n",
       "    </tr>\n",
       "  </tbody>\n",
       "</table>\n",
       "<p>2288 rows × 54 columns</p>\n",
       "</div>"
      ],
      "text/plain": [
       "             SECID   SHORTNAME                         NAME  \\\n",
       "12    RU000A0JQ5C5      НПФ 01         \"НПФ\" ООО об.сер. 01   \n",
       "13    RU000A0JQ7Z2  РЖД-19 обл  \"Российские ЖД\" ОАО 19 обл.   \n",
       "14    RU000A0JQAL8  ДОМ.РФ14об    ДОМ.РФ (АО) обл. сер. А14   \n",
       "15    RU000A0JQAM6  ДОМ.РФ15об    ДОМ.РФ (АО) обл. сер. А15   \n",
       "16    RU000A0JQRD9  РЖД-23 обл  \"Российские ЖД\" ОАО 23 обл.   \n",
       "...            ...         ...                          ...   \n",
       "2624  XS2368111584  ALFA-25 RU  Alfa Bond Issuance 04/08/25   \n",
       "2636  XS2388458403  BCS12/26-2        BCS SP Plc Series 215   \n",
       "2655  XS2415466676  BCS11/24-8        BCS SP Plc Series 229   \n",
       "2658  XS2417535650  BCS06/25-A        BCS SP Plc Series 234   \n",
       "2662  XS2420560869    BCS01/25        BCS SP Plc Series 239   \n",
       "\n",
       "                         TYPENAME          ISIN     REGNUMBER  LISTLEVEL  \\\n",
       "12        Корпоративные облигации  RU000A0JQ5C5  4-01-10013-R        3.0   \n",
       "13        Корпоративные облигации  RU000A0JQ7Z2  4-19-65045-D        2.0   \n",
       "14        Корпоративные облигации  RU000A0JQAL8  4-14-00739-A        1.0   \n",
       "15        Корпоративные облигации  RU000A0JQAM6  4-15-00739-A        1.0   \n",
       "16        Корпоративные облигации  RU000A0JQRD9  4-23-65045-D        2.0   \n",
       "...                           ...           ...           ...        ...   \n",
       "2624  Корпоративные еврооблигации  XS2368111584           NaN        NaN   \n",
       "2636  Корпоративные еврооблигации  XS2388458403           NaN        3.0   \n",
       "2655  Корпоративные еврооблигации  XS2415466676           NaN        3.0   \n",
       "2658  Корпоративные еврооблигации  XS2417535650           NaN        3.0   \n",
       "2662  Корпоративные еврооблигации  XS2420560869           NaN        3.0   \n",
       "\n",
       "     FACEVALUE FACEUNIT   ISSUESIZE  ...      RTL3       RTH3 DISCOUNT1  \\\n",
       "12      1000,0      RUB     40800.0  ...       0,0    3331,24     100,0   \n",
       "13      1000,0      RUB  10000000.0  ...    794,89    1217,49      15,0   \n",
       "14      1000,0      RUB   7000000.0  ...    879,01    1264,91      12,0   \n",
       "15      1000,0      RUB   7000000.0  ...    577,43    1732,29      40,0   \n",
       "16      1000,0      RUB  15000000.0  ...    768,88     1228,2      17,0   \n",
       "...        ...      ...         ...  ...       ...        ...       ...   \n",
       "2624  100000,0      RUB    100000.0  ...  70608,78  112790,66      17,0   \n",
       "2636  100000,0      RUB      5000.0  ...       0,0   120540,0     100,0   \n",
       "2655  100000,0      RUB      3000.0  ...       0,0   182640,0     100,0   \n",
       "2658  100000,0      RUB       700.0  ...       0,0   200000,0     100,0   \n",
       "2662  100000,0      RUB       700.0  ...       0,0   200000,0     100,0   \n",
       "\n",
       "        LIMIT1 DISCOUNT2     LIMIT2  DISCOUNT3  DISCOUNTL0  DISCOUNTH0  \\\n",
       "12         NaN       NaN        NaN        NaN    10,00000    10,00000   \n",
       "13    200000.0      18,0  1000000.0       21,0    10,00000    10,00000   \n",
       "14    140000.0      15,0   700000.0       18,0    10,00000    10,00000   \n",
       "15    200000.0      45,0  1000000.0       50,0    10,00000    10,00000   \n",
       "16    300000.0      20,0  1500000.0       23,0    10,00000    10,00000   \n",
       "...        ...       ...        ...        ...         ...         ...   \n",
       "2624    2000.0      20,0    10000.0       23,0    17,00000    17,00000   \n",
       "2636       NaN       NaN        NaN        NaN   100,00000   100,00000   \n",
       "2655       NaN       NaN        NaN        NaN   100,00000   100,00000   \n",
       "2658       NaN       NaN        NaN        NaN   100,00000   100,00000   \n",
       "2662       NaN       NaN        NaN        NaN   100,00000   100,00000   \n",
       "\n",
       "      FULLCOVERED  \n",
       "12            1.0  \n",
       "13            0.0  \n",
       "14            0.0  \n",
       "15            0.0  \n",
       "16            0.0  \n",
       "...           ...  \n",
       "2624          1.0  \n",
       "2636          1.0  \n",
       "2655          1.0  \n",
       "2658          1.0  \n",
       "2662          1.0  \n",
       "\n",
       "[2288 rows x 54 columns]"
      ]
     },
     "execution_count": 185,
     "metadata": {},
     "output_type": "execute_result"
    }
   ],
   "source": [
    "# выбираем рублевые облигации\n",
    "rub = df.loc[df.FACEUNIT == 'RUB']\n",
    "rub"
   ]
  },
  {
   "cell_type": "code",
   "execution_count": 186,
   "id": "ac0541ab",
   "metadata": {},
   "outputs": [
    {
     "data": {
      "text/html": [
       "<div>\n",
       "<style scoped>\n",
       "    .dataframe tbody tr th:only-of-type {\n",
       "        vertical-align: middle;\n",
       "    }\n",
       "\n",
       "    .dataframe tbody tr th {\n",
       "        vertical-align: top;\n",
       "    }\n",
       "\n",
       "    .dataframe thead th {\n",
       "        text-align: right;\n",
       "    }\n",
       "</style>\n",
       "<table border=\"1\" class=\"dataframe\">\n",
       "  <thead>\n",
       "    <tr style=\"text-align: right;\">\n",
       "      <th></th>\n",
       "      <th>SECID</th>\n",
       "      <th>SHORTNAME</th>\n",
       "      <th>TYPENAME</th>\n",
       "      <th>ISIN</th>\n",
       "      <th>MATDATE</th>\n",
       "      <th>FACEVALUE</th>\n",
       "      <th>HIGH_RISK</th>\n",
       "      <th>COUPONFREQUENCY</th>\n",
       "      <th>COUPONDATE</th>\n",
       "      <th>COUPONPERCENT</th>\n",
       "      <th>COUPONVALUE</th>\n",
       "      <th>COUPONDAYSPASSED</th>\n",
       "      <th>COUPONDAYSREMAIN</th>\n",
       "      <th>COUPONLENGTH</th>\n",
       "      <th>OFFERDATE</th>\n",
       "      <th>PRICE</th>\n",
       "      <th>PRICE_RUB</th>\n",
       "    </tr>\n",
       "  </thead>\n",
       "  <tbody>\n",
       "    <tr>\n",
       "      <th>0</th>\n",
       "      <td>RU000A0JQ5C5</td>\n",
       "      <td>НПФ 01</td>\n",
       "      <td>Корпоративные облигации</td>\n",
       "      <td>RU000A0JQ5C5</td>\n",
       "      <td>06.05.2029</td>\n",
       "      <td>1000,0</td>\n",
       "      <td>1</td>\n",
       "      <td>NaN</td>\n",
       "      <td>06.05.2029</td>\n",
       "      <td>5,000</td>\n",
       "      <td>1000,55</td>\n",
       "      <td>4858.0</td>\n",
       "      <td>2446.0</td>\n",
       "      <td>7304.0</td>\n",
       "      <td>NaN</td>\n",
       "      <td>100,0</td>\n",
       "      <td>1665,62</td>\n",
       "    </tr>\n",
       "    <tr>\n",
       "      <th>1</th>\n",
       "      <td>RU000A0JQ7Z2</td>\n",
       "      <td>РЖД-19 обл</td>\n",
       "      <td>Корпоративные облигации</td>\n",
       "      <td>RU000A0JQ7Z2</td>\n",
       "      <td>08.07.2024</td>\n",
       "      <td>1000,0</td>\n",
       "      <td>0</td>\n",
       "      <td>2.0</td>\n",
       "      <td>09.01.2023</td>\n",
       "      <td>7,850</td>\n",
       "      <td>39,14</td>\n",
       "      <td>45.0</td>\n",
       "      <td>137.0</td>\n",
       "      <td>182.0</td>\n",
       "      <td>NaN</td>\n",
       "      <td>99,63</td>\n",
       "      <td>1006,19</td>\n",
       "    </tr>\n",
       "    <tr>\n",
       "      <th>2</th>\n",
       "      <td>RU000A0JQAL8</td>\n",
       "      <td>ДОМ.РФ14об</td>\n",
       "      <td>Корпоративные облигации</td>\n",
       "      <td>RU000A0JQAL8</td>\n",
       "      <td>15.05.2023</td>\n",
       "      <td>1000,0</td>\n",
       "      <td>0</td>\n",
       "      <td>2.0</td>\n",
       "      <td>15.11.2022</td>\n",
       "      <td>16,500</td>\n",
       "      <td>83,18</td>\n",
       "      <td>102.0</td>\n",
       "      <td>82.0</td>\n",
       "      <td>184.0</td>\n",
       "      <td>NaN</td>\n",
       "      <td>102,54</td>\n",
       "      <td>1071,96</td>\n",
       "    </tr>\n",
       "    <tr>\n",
       "      <th>3</th>\n",
       "      <td>RU000A0JQAM6</td>\n",
       "      <td>ДОМ.РФ15об</td>\n",
       "      <td>Корпоративные облигации</td>\n",
       "      <td>RU000A0JQAM6</td>\n",
       "      <td>15.09.2028</td>\n",
       "      <td>1000,0</td>\n",
       "      <td>0</td>\n",
       "      <td>2.0</td>\n",
       "      <td>15.09.2022</td>\n",
       "      <td>20,000</td>\n",
       "      <td>100,82</td>\n",
       "      <td>163.0</td>\n",
       "      <td>21.0</td>\n",
       "      <td>184.0</td>\n",
       "      <td>NaN</td>\n",
       "      <td>106,5</td>\n",
       "      <td>1154,86</td>\n",
       "    </tr>\n",
       "    <tr>\n",
       "      <th>4</th>\n",
       "      <td>RU000A0JQRD9</td>\n",
       "      <td>РЖД-23 обл</td>\n",
       "      <td>Корпоративные облигации</td>\n",
       "      <td>RU000A0JQRD9</td>\n",
       "      <td>16.01.2025</td>\n",
       "      <td>1000,0</td>\n",
       "      <td>0</td>\n",
       "      <td>2.0</td>\n",
       "      <td>19.01.2023</td>\n",
       "      <td>7,850</td>\n",
       "      <td>39,14</td>\n",
       "      <td>35.0</td>\n",
       "      <td>147.0</td>\n",
       "      <td>182.0</td>\n",
       "      <td>NaN</td>\n",
       "      <td>99,08</td>\n",
       "      <td>998,54</td>\n",
       "    </tr>\n",
       "    <tr>\n",
       "      <th>...</th>\n",
       "      <td>...</td>\n",
       "      <td>...</td>\n",
       "      <td>...</td>\n",
       "      <td>...</td>\n",
       "      <td>...</td>\n",
       "      <td>...</td>\n",
       "      <td>...</td>\n",
       "      <td>...</td>\n",
       "      <td>...</td>\n",
       "      <td>...</td>\n",
       "      <td>...</td>\n",
       "      <td>...</td>\n",
       "      <td>...</td>\n",
       "      <td>...</td>\n",
       "      <td>...</td>\n",
       "      <td>...</td>\n",
       "      <td>...</td>\n",
       "    </tr>\n",
       "    <tr>\n",
       "      <th>2283</th>\n",
       "      <td>XS2368111584</td>\n",
       "      <td>ALFA-25 RU</td>\n",
       "      <td>Корпоративные еврооблигации</td>\n",
       "      <td>XS2368111584</td>\n",
       "      <td>04.08.2025</td>\n",
       "      <td>100000,0</td>\n",
       "      <td>0</td>\n",
       "      <td>2.0</td>\n",
       "      <td>04.02.2023</td>\n",
       "      <td>7,850</td>\n",
       "      <td>3925,0</td>\n",
       "      <td>21.0</td>\n",
       "      <td>163.0</td>\n",
       "      <td>184.0</td>\n",
       "      <td>NaN</td>\n",
       "      <td>91,22</td>\n",
       "      <td>91699,72</td>\n",
       "    </tr>\n",
       "    <tr>\n",
       "      <th>2284</th>\n",
       "      <td>XS2388458403</td>\n",
       "      <td>BCS12/26-2</td>\n",
       "      <td>Корпоративные еврооблигации</td>\n",
       "      <td>XS2388458403</td>\n",
       "      <td>30.12.2026</td>\n",
       "      <td>100000,0</td>\n",
       "      <td>0</td>\n",
       "      <td>2.0</td>\n",
       "      <td>30.12.2022</td>\n",
       "      <td>NaN</td>\n",
       "      <td>NaN</td>\n",
       "      <td>56.0</td>\n",
       "      <td>127.0</td>\n",
       "      <td>183.0</td>\n",
       "      <td>NaN</td>\n",
       "      <td>60,27</td>\n",
       "      <td>60270,0</td>\n",
       "    </tr>\n",
       "    <tr>\n",
       "      <th>2285</th>\n",
       "      <td>XS2415466676</td>\n",
       "      <td>BCS11/24-8</td>\n",
       "      <td>Корпоративные еврооблигации</td>\n",
       "      <td>XS2415466676</td>\n",
       "      <td>29.11.2024</td>\n",
       "      <td>100000,0</td>\n",
       "      <td>0</td>\n",
       "      <td>1.0</td>\n",
       "      <td>29.11.2022</td>\n",
       "      <td>0,010</td>\n",
       "      <td>NaN</td>\n",
       "      <td>248.0</td>\n",
       "      <td>96.0</td>\n",
       "      <td>344.0</td>\n",
       "      <td>NaN</td>\n",
       "      <td>91,32</td>\n",
       "      <td>91320,0</td>\n",
       "    </tr>\n",
       "    <tr>\n",
       "      <th>2286</th>\n",
       "      <td>XS2417535650</td>\n",
       "      <td>BCS06/25-A</td>\n",
       "      <td>Корпоративные еврооблигации</td>\n",
       "      <td>XS2417535650</td>\n",
       "      <td>01.06.2025</td>\n",
       "      <td>100000,0</td>\n",
       "      <td>0</td>\n",
       "      <td>NaN</td>\n",
       "      <td>01.12.2022</td>\n",
       "      <td>NaN</td>\n",
       "      <td>NaN</td>\n",
       "      <td>238.0</td>\n",
       "      <td>98.0</td>\n",
       "      <td>336.0</td>\n",
       "      <td>NaN</td>\n",
       "      <td>100,0</td>\n",
       "      <td>100000,0</td>\n",
       "    </tr>\n",
       "    <tr>\n",
       "      <th>2287</th>\n",
       "      <td>XS2420560869</td>\n",
       "      <td>BCS01/25</td>\n",
       "      <td>Корпоративные еврооблигации</td>\n",
       "      <td>XS2420560869</td>\n",
       "      <td>15.01.2025</td>\n",
       "      <td>100000,0</td>\n",
       "      <td>0</td>\n",
       "      <td>4.0</td>\n",
       "      <td>15.10.2022</td>\n",
       "      <td>NaN</td>\n",
       "      <td>NaN</td>\n",
       "      <td>41.0</td>\n",
       "      <td>51.0</td>\n",
       "      <td>92.0</td>\n",
       "      <td>NaN</td>\n",
       "      <td>100,0</td>\n",
       "      <td>100000,0</td>\n",
       "    </tr>\n",
       "  </tbody>\n",
       "</table>\n",
       "<p>2288 rows × 17 columns</p>\n",
       "</div>"
      ],
      "text/plain": [
       "             SECID   SHORTNAME                     TYPENAME          ISIN  \\\n",
       "0     RU000A0JQ5C5      НПФ 01      Корпоративные облигации  RU000A0JQ5C5   \n",
       "1     RU000A0JQ7Z2  РЖД-19 обл      Корпоративные облигации  RU000A0JQ7Z2   \n",
       "2     RU000A0JQAL8  ДОМ.РФ14об      Корпоративные облигации  RU000A0JQAL8   \n",
       "3     RU000A0JQAM6  ДОМ.РФ15об      Корпоративные облигации  RU000A0JQAM6   \n",
       "4     RU000A0JQRD9  РЖД-23 обл      Корпоративные облигации  RU000A0JQRD9   \n",
       "...            ...         ...                          ...           ...   \n",
       "2283  XS2368111584  ALFA-25 RU  Корпоративные еврооблигации  XS2368111584   \n",
       "2284  XS2388458403  BCS12/26-2  Корпоративные еврооблигации  XS2388458403   \n",
       "2285  XS2415466676  BCS11/24-8  Корпоративные еврооблигации  XS2415466676   \n",
       "2286  XS2417535650  BCS06/25-A  Корпоративные еврооблигации  XS2417535650   \n",
       "2287  XS2420560869    BCS01/25  Корпоративные еврооблигации  XS2420560869   \n",
       "\n",
       "         MATDATE FACEVALUE  HIGH_RISK  COUPONFREQUENCY  COUPONDATE  \\\n",
       "0     06.05.2029    1000,0          1              NaN  06.05.2029   \n",
       "1     08.07.2024    1000,0          0              2.0  09.01.2023   \n",
       "2     15.05.2023    1000,0          0              2.0  15.11.2022   \n",
       "3     15.09.2028    1000,0          0              2.0  15.09.2022   \n",
       "4     16.01.2025    1000,0          0              2.0  19.01.2023   \n",
       "...          ...       ...        ...              ...         ...   \n",
       "2283  04.08.2025  100000,0          0              2.0  04.02.2023   \n",
       "2284  30.12.2026  100000,0          0              2.0  30.12.2022   \n",
       "2285  29.11.2024  100000,0          0              1.0  29.11.2022   \n",
       "2286  01.06.2025  100000,0          0              NaN  01.12.2022   \n",
       "2287  15.01.2025  100000,0          0              4.0  15.10.2022   \n",
       "\n",
       "     COUPONPERCENT COUPONVALUE  COUPONDAYSPASSED  COUPONDAYSREMAIN  \\\n",
       "0            5,000     1000,55            4858.0            2446.0   \n",
       "1            7,850       39,14              45.0             137.0   \n",
       "2           16,500       83,18             102.0              82.0   \n",
       "3           20,000      100,82             163.0              21.0   \n",
       "4            7,850       39,14              35.0             147.0   \n",
       "...            ...         ...               ...               ...   \n",
       "2283         7,850      3925,0              21.0             163.0   \n",
       "2284           NaN         NaN              56.0             127.0   \n",
       "2285         0,010         NaN             248.0              96.0   \n",
       "2286           NaN         NaN             238.0              98.0   \n",
       "2287           NaN         NaN              41.0              51.0   \n",
       "\n",
       "      COUPONLENGTH OFFERDATE   PRICE PRICE_RUB  \n",
       "0           7304.0       NaN   100,0   1665,62  \n",
       "1            182.0       NaN   99,63   1006,19  \n",
       "2            184.0       NaN  102,54   1071,96  \n",
       "3            184.0       NaN   106,5   1154,86  \n",
       "4            182.0       NaN   99,08    998,54  \n",
       "...            ...       ...     ...       ...  \n",
       "2283         184.0       NaN   91,22  91699,72  \n",
       "2284         183.0       NaN   60,27   60270,0  \n",
       "2285         344.0       NaN   91,32   91320,0  \n",
       "2286         336.0       NaN   100,0  100000,0  \n",
       "2287          92.0       NaN   100,0  100000,0  \n",
       "\n",
       "[2288 rows x 17 columns]"
      ]
     },
     "execution_count": 186,
     "metadata": {},
     "output_type": "execute_result"
    }
   ],
   "source": [
    "# выбираем небходимые колонки\n",
    "bond = rub[['SECID', 'SHORTNAME', 'TYPENAME', 'ISIN', 'MATDATE', 'FACEVALUE', 'HIGH_RISK',\n",
    "    'COUPONFREQUENCY', 'COUPONDATE', 'COUPONPERCENT', 'COUPONVALUE', 'COUPONDAYSPASSED',\n",
    "     'COUPONDAYSREMAIN', 'COUPONLENGTH', 'OFFERDATE', 'PRICE', 'PRICE_RUB']].reset_index()\n",
    "bond = bond.drop(['index'],axis=1)\n",
    "bond"
   ]
  },
  {
   "cell_type": "code",
   "execution_count": 187,
   "id": "06676de7",
   "metadata": {},
   "outputs": [],
   "source": [
    "# изменяем форман с object на datetime\n",
    "bond['COUPONDATE'] = pd.to_datetime(bond['COUPONDATE'], dayfirst=True)\n",
    "bond['OFFERDATE'] = pd.to_datetime(bond['OFFERDATE'], dayfirst=True)\n",
    "bond['MATDATE'] = pd.to_datetime(bond['MATDATE'], dayfirst=True)"
   ]
  },
  {
   "cell_type": "code",
   "execution_count": 188,
   "id": "edee8e7f",
   "metadata": {},
   "outputs": [],
   "source": [
    "# выбираем все бессрочные облигации и устанавливаем дату погашения как максимальную отметку времени\n",
    "bond['MATDATE'].fillna(pd.Timestamp.max, inplace = True)"
   ]
  },
  {
   "cell_type": "code",
   "execution_count": 189,
   "id": "e0dbb313",
   "metadata": {},
   "outputs": [],
   "source": [
    "# выбираем облигации где нет оферты и устанавливаем дату оферты равной дате погашения \n",
    "bond.OFFERDATE.fillna(bond['MATDATE'], inplace = True)"
   ]
  },
  {
   "cell_type": "code",
   "execution_count": 190,
   "id": "99bacee8",
   "metadata": {},
   "outputs": [],
   "source": [
    "# изменяем форман с object на float\n",
    "bond['COUPONVALUE'] = bond['COUPONVALUE'].str.replace(',', '.').astype(float)\n",
    "bond['COUPONPERCENT'] = bond['COUPONPERCENT'].str.replace(',', '.').astype(float)\n",
    "bond['FACEVALUE'] = bond['FACEVALUE'].str.replace(',', '.').astype(float)\n",
    "bond['PRICE'] = bond['PRICE'].str.replace(',', '.').astype(float)\n",
    "bond['PRICE_RUB'] = bond['PRICE_RUB'].str.replace(',', '.').astype(float)"
   ]
  },
  {
   "cell_type": "code",
   "execution_count": 191,
   "id": "382b325d",
   "metadata": {},
   "outputs": [],
   "source": [
    "# выбираем все безкупонные облигации (дисконтные) и устанавливает % купонов по ним ноль\n",
    "bond.loc[bond.COUPONDATE.isna(),'COUPONFREQUENCY'] = bond['COUPONFREQUENCY'].fillna(0, inplace = True)"
   ]
  },
  {
   "cell_type": "code",
   "execution_count": 192,
   "id": "a584aeb0",
   "metadata": {},
   "outputs": [],
   "source": [
    "# заменяем NaN на ноль по тем облигациям по которым отсутствуют купонные выплаты\n",
    "# (либо по котрым уже выплатили все предполагаемые купоны)\n",
    "bond.COUPONPERCENT.fillna(0, inplace = True)"
   ]
  },
  {
   "cell_type": "code",
   "execution_count": 193,
   "id": "97476ee1",
   "metadata": {},
   "outputs": [],
   "source": [
    "# заменяем NaN на единицу по тем облигациям выплата купона (премии) происходит один раз в конце погашения облигации\n",
    "bond.COUPONFREQUENCY.fillna(1, inplace = True) "
   ]
  },
  {
   "cell_type": "code",
   "execution_count": 194,
   "id": "edda8ed4",
   "metadata": {},
   "outputs": [
    {
     "data": {
      "text/html": [
       "<div>\n",
       "<style scoped>\n",
       "    .dataframe tbody tr th:only-of-type {\n",
       "        vertical-align: middle;\n",
       "    }\n",
       "\n",
       "    .dataframe tbody tr th {\n",
       "        vertical-align: top;\n",
       "    }\n",
       "\n",
       "    .dataframe thead th {\n",
       "        text-align: right;\n",
       "    }\n",
       "</style>\n",
       "<table border=\"1\" class=\"dataframe\">\n",
       "  <thead>\n",
       "    <tr style=\"text-align: right;\">\n",
       "      <th></th>\n",
       "      <th>SECID</th>\n",
       "      <th>SHORTNAME</th>\n",
       "      <th>TYPENAME</th>\n",
       "      <th>ISIN</th>\n",
       "      <th>MATDATE</th>\n",
       "      <th>FACEVALUE</th>\n",
       "      <th>HIGH_RISK</th>\n",
       "      <th>COUPONFREQUENCY</th>\n",
       "      <th>COUPONDATE</th>\n",
       "      <th>COUPONPERCENT</th>\n",
       "      <th>COUPONVALUE</th>\n",
       "      <th>COUPONDAYSPASSED</th>\n",
       "      <th>COUPONDAYSREMAIN</th>\n",
       "      <th>COUPONLENGTH</th>\n",
       "      <th>OFFERDATE</th>\n",
       "      <th>PRICE</th>\n",
       "      <th>PRICE_RUB</th>\n",
       "    </tr>\n",
       "  </thead>\n",
       "  <tbody>\n",
       "    <tr>\n",
       "      <th>0</th>\n",
       "      <td>RU000A0JQ5C5</td>\n",
       "      <td>НПФ 01</td>\n",
       "      <td>Корпоративные облигации</td>\n",
       "      <td>RU000A0JQ5C5</td>\n",
       "      <td>2029-05-06</td>\n",
       "      <td>1000.0</td>\n",
       "      <td>1</td>\n",
       "      <td>0.0</td>\n",
       "      <td>2029-05-06</td>\n",
       "      <td>5.00</td>\n",
       "      <td>1000.55</td>\n",
       "      <td>4858.0</td>\n",
       "      <td>2446.0</td>\n",
       "      <td>7304.0</td>\n",
       "      <td>2029-05-06</td>\n",
       "      <td>100.00</td>\n",
       "      <td>1665.62</td>\n",
       "    </tr>\n",
       "    <tr>\n",
       "      <th>1</th>\n",
       "      <td>RU000A0JQ7Z2</td>\n",
       "      <td>РЖД-19 обл</td>\n",
       "      <td>Корпоративные облигации</td>\n",
       "      <td>RU000A0JQ7Z2</td>\n",
       "      <td>2024-07-08</td>\n",
       "      <td>1000.0</td>\n",
       "      <td>0</td>\n",
       "      <td>2.0</td>\n",
       "      <td>2023-01-09</td>\n",
       "      <td>7.85</td>\n",
       "      <td>39.14</td>\n",
       "      <td>45.0</td>\n",
       "      <td>137.0</td>\n",
       "      <td>182.0</td>\n",
       "      <td>2024-07-08</td>\n",
       "      <td>99.63</td>\n",
       "      <td>1006.19</td>\n",
       "    </tr>\n",
       "    <tr>\n",
       "      <th>2</th>\n",
       "      <td>RU000A0JQAL8</td>\n",
       "      <td>ДОМ.РФ14об</td>\n",
       "      <td>Корпоративные облигации</td>\n",
       "      <td>RU000A0JQAL8</td>\n",
       "      <td>2023-05-15</td>\n",
       "      <td>1000.0</td>\n",
       "      <td>0</td>\n",
       "      <td>2.0</td>\n",
       "      <td>2022-11-15</td>\n",
       "      <td>16.50</td>\n",
       "      <td>83.18</td>\n",
       "      <td>102.0</td>\n",
       "      <td>82.0</td>\n",
       "      <td>184.0</td>\n",
       "      <td>2023-05-15</td>\n",
       "      <td>102.54</td>\n",
       "      <td>1071.96</td>\n",
       "    </tr>\n",
       "    <tr>\n",
       "      <th>3</th>\n",
       "      <td>RU000A0JQAM6</td>\n",
       "      <td>ДОМ.РФ15об</td>\n",
       "      <td>Корпоративные облигации</td>\n",
       "      <td>RU000A0JQAM6</td>\n",
       "      <td>2028-09-15</td>\n",
       "      <td>1000.0</td>\n",
       "      <td>0</td>\n",
       "      <td>2.0</td>\n",
       "      <td>2022-09-15</td>\n",
       "      <td>20.00</td>\n",
       "      <td>100.82</td>\n",
       "      <td>163.0</td>\n",
       "      <td>21.0</td>\n",
       "      <td>184.0</td>\n",
       "      <td>2028-09-15</td>\n",
       "      <td>106.50</td>\n",
       "      <td>1154.86</td>\n",
       "    </tr>\n",
       "    <tr>\n",
       "      <th>4</th>\n",
       "      <td>RU000A0JQRD9</td>\n",
       "      <td>РЖД-23 обл</td>\n",
       "      <td>Корпоративные облигации</td>\n",
       "      <td>RU000A0JQRD9</td>\n",
       "      <td>2025-01-16</td>\n",
       "      <td>1000.0</td>\n",
       "      <td>0</td>\n",
       "      <td>2.0</td>\n",
       "      <td>2023-01-19</td>\n",
       "      <td>7.85</td>\n",
       "      <td>39.14</td>\n",
       "      <td>35.0</td>\n",
       "      <td>147.0</td>\n",
       "      <td>182.0</td>\n",
       "      <td>2025-01-16</td>\n",
       "      <td>99.08</td>\n",
       "      <td>998.54</td>\n",
       "    </tr>\n",
       "    <tr>\n",
       "      <th>...</th>\n",
       "      <td>...</td>\n",
       "      <td>...</td>\n",
       "      <td>...</td>\n",
       "      <td>...</td>\n",
       "      <td>...</td>\n",
       "      <td>...</td>\n",
       "      <td>...</td>\n",
       "      <td>...</td>\n",
       "      <td>...</td>\n",
       "      <td>...</td>\n",
       "      <td>...</td>\n",
       "      <td>...</td>\n",
       "      <td>...</td>\n",
       "      <td>...</td>\n",
       "      <td>...</td>\n",
       "      <td>...</td>\n",
       "      <td>...</td>\n",
       "    </tr>\n",
       "    <tr>\n",
       "      <th>2283</th>\n",
       "      <td>XS2368111584</td>\n",
       "      <td>ALFA-25 RU</td>\n",
       "      <td>Корпоративные еврооблигации</td>\n",
       "      <td>XS2368111584</td>\n",
       "      <td>2025-08-04</td>\n",
       "      <td>100000.0</td>\n",
       "      <td>0</td>\n",
       "      <td>2.0</td>\n",
       "      <td>2023-02-04</td>\n",
       "      <td>7.85</td>\n",
       "      <td>3925.00</td>\n",
       "      <td>21.0</td>\n",
       "      <td>163.0</td>\n",
       "      <td>184.0</td>\n",
       "      <td>2025-08-04</td>\n",
       "      <td>91.22</td>\n",
       "      <td>91699.72</td>\n",
       "    </tr>\n",
       "    <tr>\n",
       "      <th>2284</th>\n",
       "      <td>XS2388458403</td>\n",
       "      <td>BCS12/26-2</td>\n",
       "      <td>Корпоративные еврооблигации</td>\n",
       "      <td>XS2388458403</td>\n",
       "      <td>2026-12-30</td>\n",
       "      <td>100000.0</td>\n",
       "      <td>0</td>\n",
       "      <td>2.0</td>\n",
       "      <td>2022-12-30</td>\n",
       "      <td>0.00</td>\n",
       "      <td>NaN</td>\n",
       "      <td>56.0</td>\n",
       "      <td>127.0</td>\n",
       "      <td>183.0</td>\n",
       "      <td>2026-12-30</td>\n",
       "      <td>60.27</td>\n",
       "      <td>60270.00</td>\n",
       "    </tr>\n",
       "    <tr>\n",
       "      <th>2285</th>\n",
       "      <td>XS2415466676</td>\n",
       "      <td>BCS11/24-8</td>\n",
       "      <td>Корпоративные еврооблигации</td>\n",
       "      <td>XS2415466676</td>\n",
       "      <td>2024-11-29</td>\n",
       "      <td>100000.0</td>\n",
       "      <td>0</td>\n",
       "      <td>1.0</td>\n",
       "      <td>2022-11-29</td>\n",
       "      <td>0.01</td>\n",
       "      <td>NaN</td>\n",
       "      <td>248.0</td>\n",
       "      <td>96.0</td>\n",
       "      <td>344.0</td>\n",
       "      <td>2024-11-29</td>\n",
       "      <td>91.32</td>\n",
       "      <td>91320.00</td>\n",
       "    </tr>\n",
       "    <tr>\n",
       "      <th>2286</th>\n",
       "      <td>XS2417535650</td>\n",
       "      <td>BCS06/25-A</td>\n",
       "      <td>Корпоративные еврооблигации</td>\n",
       "      <td>XS2417535650</td>\n",
       "      <td>2025-06-01</td>\n",
       "      <td>100000.0</td>\n",
       "      <td>0</td>\n",
       "      <td>0.0</td>\n",
       "      <td>2022-12-01</td>\n",
       "      <td>0.00</td>\n",
       "      <td>NaN</td>\n",
       "      <td>238.0</td>\n",
       "      <td>98.0</td>\n",
       "      <td>336.0</td>\n",
       "      <td>2025-06-01</td>\n",
       "      <td>100.00</td>\n",
       "      <td>100000.00</td>\n",
       "    </tr>\n",
       "    <tr>\n",
       "      <th>2287</th>\n",
       "      <td>XS2420560869</td>\n",
       "      <td>BCS01/25</td>\n",
       "      <td>Корпоративные еврооблигации</td>\n",
       "      <td>XS2420560869</td>\n",
       "      <td>2025-01-15</td>\n",
       "      <td>100000.0</td>\n",
       "      <td>0</td>\n",
       "      <td>4.0</td>\n",
       "      <td>2022-10-15</td>\n",
       "      <td>0.00</td>\n",
       "      <td>NaN</td>\n",
       "      <td>41.0</td>\n",
       "      <td>51.0</td>\n",
       "      <td>92.0</td>\n",
       "      <td>2025-01-15</td>\n",
       "      <td>100.00</td>\n",
       "      <td>100000.00</td>\n",
       "    </tr>\n",
       "  </tbody>\n",
       "</table>\n",
       "<p>2288 rows × 17 columns</p>\n",
       "</div>"
      ],
      "text/plain": [
       "             SECID   SHORTNAME                     TYPENAME          ISIN  \\\n",
       "0     RU000A0JQ5C5      НПФ 01      Корпоративные облигации  RU000A0JQ5C5   \n",
       "1     RU000A0JQ7Z2  РЖД-19 обл      Корпоративные облигации  RU000A0JQ7Z2   \n",
       "2     RU000A0JQAL8  ДОМ.РФ14об      Корпоративные облигации  RU000A0JQAL8   \n",
       "3     RU000A0JQAM6  ДОМ.РФ15об      Корпоративные облигации  RU000A0JQAM6   \n",
       "4     RU000A0JQRD9  РЖД-23 обл      Корпоративные облигации  RU000A0JQRD9   \n",
       "...            ...         ...                          ...           ...   \n",
       "2283  XS2368111584  ALFA-25 RU  Корпоративные еврооблигации  XS2368111584   \n",
       "2284  XS2388458403  BCS12/26-2  Корпоративные еврооблигации  XS2388458403   \n",
       "2285  XS2415466676  BCS11/24-8  Корпоративные еврооблигации  XS2415466676   \n",
       "2286  XS2417535650  BCS06/25-A  Корпоративные еврооблигации  XS2417535650   \n",
       "2287  XS2420560869    BCS01/25  Корпоративные еврооблигации  XS2420560869   \n",
       "\n",
       "        MATDATE  FACEVALUE  HIGH_RISK  COUPONFREQUENCY COUPONDATE  \\\n",
       "0    2029-05-06     1000.0          1              0.0 2029-05-06   \n",
       "1    2024-07-08     1000.0          0              2.0 2023-01-09   \n",
       "2    2023-05-15     1000.0          0              2.0 2022-11-15   \n",
       "3    2028-09-15     1000.0          0              2.0 2022-09-15   \n",
       "4    2025-01-16     1000.0          0              2.0 2023-01-19   \n",
       "...         ...        ...        ...              ...        ...   \n",
       "2283 2025-08-04   100000.0          0              2.0 2023-02-04   \n",
       "2284 2026-12-30   100000.0          0              2.0 2022-12-30   \n",
       "2285 2024-11-29   100000.0          0              1.0 2022-11-29   \n",
       "2286 2025-06-01   100000.0          0              0.0 2022-12-01   \n",
       "2287 2025-01-15   100000.0          0              4.0 2022-10-15   \n",
       "\n",
       "      COUPONPERCENT  COUPONVALUE  COUPONDAYSPASSED  COUPONDAYSREMAIN  \\\n",
       "0              5.00      1000.55            4858.0            2446.0   \n",
       "1              7.85        39.14              45.0             137.0   \n",
       "2             16.50        83.18             102.0              82.0   \n",
       "3             20.00       100.82             163.0              21.0   \n",
       "4              7.85        39.14              35.0             147.0   \n",
       "...             ...          ...               ...               ...   \n",
       "2283           7.85      3925.00              21.0             163.0   \n",
       "2284           0.00          NaN              56.0             127.0   \n",
       "2285           0.01          NaN             248.0              96.0   \n",
       "2286           0.00          NaN             238.0              98.0   \n",
       "2287           0.00          NaN              41.0              51.0   \n",
       "\n",
       "      COUPONLENGTH  OFFERDATE   PRICE  PRICE_RUB  \n",
       "0           7304.0 2029-05-06  100.00    1665.62  \n",
       "1            182.0 2024-07-08   99.63    1006.19  \n",
       "2            184.0 2023-05-15  102.54    1071.96  \n",
       "3            184.0 2028-09-15  106.50    1154.86  \n",
       "4            182.0 2025-01-16   99.08     998.54  \n",
       "...            ...        ...     ...        ...  \n",
       "2283         184.0 2025-08-04   91.22   91699.72  \n",
       "2284         183.0 2026-12-30   60.27   60270.00  \n",
       "2285         344.0 2024-11-29   91.32   91320.00  \n",
       "2286         336.0 2025-06-01  100.00  100000.00  \n",
       "2287          92.0 2025-01-15  100.00  100000.00  \n",
       "\n",
       "[2288 rows x 17 columns]"
      ]
     },
     "execution_count": 194,
     "metadata": {},
     "output_type": "execute_result"
    }
   ],
   "source": [
    "bond"
   ]
  },
  {
   "cell_type": "code",
   "execution_count": 195,
   "id": "3287cc24",
   "metadata": {},
   "outputs": [
    {
     "name": "stdout",
     "output_type": "stream",
     "text": [
      "<class 'pandas.core.frame.DataFrame'>\n",
      "RangeIndex: 2288 entries, 0 to 2287\n",
      "Data columns (total 17 columns):\n",
      " #   Column            Non-Null Count  Dtype         \n",
      "---  ------            --------------  -----         \n",
      " 0   SECID             2288 non-null   object        \n",
      " 1   SHORTNAME         2288 non-null   object        \n",
      " 2   TYPENAME          2288 non-null   object        \n",
      " 3   ISIN              2288 non-null   object        \n",
      " 4   MATDATE           2288 non-null   datetime64[ns]\n",
      " 5   FACEVALUE         2288 non-null   float64       \n",
      " 6   HIGH_RISK         2288 non-null   int64         \n",
      " 7   COUPONFREQUENCY   2288 non-null   float64       \n",
      " 8   COUPONDATE        2282 non-null   datetime64[ns]\n",
      " 9   COUPONPERCENT     2288 non-null   float64       \n",
      " 10  COUPONVALUE       2216 non-null   float64       \n",
      " 11  COUPONDAYSPASSED  2281 non-null   float64       \n",
      " 12  COUPONDAYSREMAIN  2282 non-null   float64       \n",
      " 13  COUPONLENGTH      2281 non-null   float64       \n",
      " 14  OFFERDATE         2288 non-null   datetime64[ns]\n",
      " 15  PRICE             2130 non-null   float64       \n",
      " 16  PRICE_RUB         2130 non-null   float64       \n",
      "dtypes: datetime64[ns](3), float64(9), int64(1), object(4)\n",
      "memory usage: 304.0+ KB\n"
     ]
    }
   ],
   "source": [
    "bond.info()"
   ]
  },
  {
   "cell_type": "code",
   "execution_count": 196,
   "id": "d711704e",
   "metadata": {},
   "outputs": [
    {
     "data": {
      "text/plain": [
       "SECID                 0\n",
       "SHORTNAME             0\n",
       "TYPENAME              0\n",
       "ISIN                  0\n",
       "MATDATE               0\n",
       "FACEVALUE             0\n",
       "HIGH_RISK             0\n",
       "COUPONFREQUENCY       0\n",
       "COUPONDATE            6\n",
       "COUPONPERCENT         0\n",
       "COUPONVALUE          72\n",
       "COUPONDAYSPASSED      7\n",
       "COUPONDAYSREMAIN      6\n",
       "COUPONLENGTH          7\n",
       "OFFERDATE             0\n",
       "PRICE               158\n",
       "PRICE_RUB           158\n",
       "dtype: int64"
      ]
     },
     "execution_count": 196,
     "metadata": {},
     "output_type": "execute_result"
    }
   ],
   "source": [
    "bond.isna().sum()"
   ]
  },
  {
   "cell_type": "code",
   "execution_count": 197,
   "id": "b415eb0a",
   "metadata": {},
   "outputs": [
    {
     "data": {
      "text/plain": [
       "8.0"
      ]
     },
     "execution_count": 197,
     "metadata": {},
     "output_type": "execute_result"
    }
   ],
   "source": [
    "# загружаем ставку ЦБ на сегодня\n",
    "url = 'https://cbr.ru/hd_base/KeyRate/'\n",
    "html = requests.get(url).content\n",
    "df_list = pd.read_html(html)\n",
    "df = df_list[0]\n",
    "cb = df.iloc[0][1]/100\n",
    "cb"
   ]
  },
  {
   "cell_type": "code",
   "execution_count": 198,
   "id": "ecbc8a4f",
   "metadata": {},
   "outputs": [
    {
     "data": {
      "text/plain": [
       "7.96"
      ]
     },
     "execution_count": 198,
     "metadata": {},
     "output_type": "execute_result"
    }
   ],
   "source": [
    "# загружаем ставку RUONIA на сегодня (применима для облигаций с переменным купоном) для сравнения со ставкой ЦБ\n",
    "url = 'https://cbr.ru/hd_base/ruonia/'\n",
    "html = requests.get(url).content\n",
    "df_list = pd.read_html(html)\n",
    "df = df_list[0]\n",
    "int(df.iloc[1][2]) / 100"
   ]
  },
  {
   "cell_type": "code",
   "execution_count": 199,
   "id": "145b22ee",
   "metadata": {},
   "outputs": [
    {
     "data": {
      "text/html": [
       "<div>\n",
       "<style scoped>\n",
       "    .dataframe tbody tr th:only-of-type {\n",
       "        vertical-align: middle;\n",
       "    }\n",
       "\n",
       "    .dataframe tbody tr th {\n",
       "        vertical-align: top;\n",
       "    }\n",
       "\n",
       "    .dataframe thead th {\n",
       "        text-align: right;\n",
       "    }\n",
       "</style>\n",
       "<table border=\"1\" class=\"dataframe\">\n",
       "  <thead>\n",
       "    <tr style=\"text-align: right;\">\n",
       "      <th></th>\n",
       "      <th>COUPONPERCENT</th>\n",
       "      <th>stavka</th>\n",
       "    </tr>\n",
       "  </thead>\n",
       "  <tbody>\n",
       "    <tr>\n",
       "      <th>0</th>\n",
       "      <td>5.00</td>\n",
       "      <td>(0.1, 8.0]</td>\n",
       "    </tr>\n",
       "    <tr>\n",
       "      <th>1</th>\n",
       "      <td>7.85</td>\n",
       "      <td>(0.1, 8.0]</td>\n",
       "    </tr>\n",
       "    <tr>\n",
       "      <th>2</th>\n",
       "      <td>16.50</td>\n",
       "      <td>(13.0, 35.0]</td>\n",
       "    </tr>\n",
       "    <tr>\n",
       "      <th>3</th>\n",
       "      <td>20.00</td>\n",
       "      <td>(13.0, 35.0]</td>\n",
       "    </tr>\n",
       "    <tr>\n",
       "      <th>4</th>\n",
       "      <td>7.85</td>\n",
       "      <td>(0.1, 8.0]</td>\n",
       "    </tr>\n",
       "    <tr>\n",
       "      <th>...</th>\n",
       "      <td>...</td>\n",
       "      <td>...</td>\n",
       "    </tr>\n",
       "    <tr>\n",
       "      <th>2283</th>\n",
       "      <td>7.85</td>\n",
       "      <td>(0.1, 8.0]</td>\n",
       "    </tr>\n",
       "    <tr>\n",
       "      <th>2284</th>\n",
       "      <td>0.00</td>\n",
       "      <td>(-1.0, 0.0]</td>\n",
       "    </tr>\n",
       "    <tr>\n",
       "      <th>2285</th>\n",
       "      <td>0.01</td>\n",
       "      <td>(0.0, 0.1]</td>\n",
       "    </tr>\n",
       "    <tr>\n",
       "      <th>2286</th>\n",
       "      <td>0.00</td>\n",
       "      <td>(-1.0, 0.0]</td>\n",
       "    </tr>\n",
       "    <tr>\n",
       "      <th>2287</th>\n",
       "      <td>0.00</td>\n",
       "      <td>(-1.0, 0.0]</td>\n",
       "    </tr>\n",
       "  </tbody>\n",
       "</table>\n",
       "<p>2288 rows × 2 columns</p>\n",
       "</div>"
      ],
      "text/plain": [
       "      COUPONPERCENT        stavka\n",
       "0              5.00    (0.1, 8.0]\n",
       "1              7.85    (0.1, 8.0]\n",
       "2             16.50  (13.0, 35.0]\n",
       "3             20.00  (13.0, 35.0]\n",
       "4              7.85    (0.1, 8.0]\n",
       "...             ...           ...\n",
       "2283           7.85    (0.1, 8.0]\n",
       "2284           0.00   (-1.0, 0.0]\n",
       "2285           0.01    (0.0, 0.1]\n",
       "2286           0.00   (-1.0, 0.0]\n",
       "2287           0.00   (-1.0, 0.0]\n",
       "\n",
       "[2288 rows x 2 columns]"
      ]
     },
     "execution_count": 199,
     "metadata": {},
     "output_type": "execute_result"
    }
   ],
   "source": [
    "# разобъем купонную ставку относительно ключевой ставки ЦБ, с учетом ставка ЦБ + 5% для налогооблажения\n",
    "bins = pd.IntervalIndex.from_tuples([(-1, 0), (0, 0.1), (0.1, cb), (cb, cb+5), (cb+5, bond['COUPONPERCENT'].max()+1)])\n",
    "bond['stavka'] = pd.cut(bond['COUPONPERCENT'], bins)\n",
    "bond[['COUPONPERCENT','stavka']]"
   ]
  },
  {
   "cell_type": "code",
   "execution_count": 200,
   "id": "6c5af83e",
   "metadata": {},
   "outputs": [
    {
     "data": {
      "text/plain": [
       "0         (0.1, 8.0]\n",
       "1         (0.1, 8.0]\n",
       "2       (13.0, 35.0]\n",
       "3       (13.0, 35.0]\n",
       "4         (0.1, 8.0]\n",
       "            ...     \n",
       "2283      (0.1, 8.0]\n",
       "2284     (-1.0, 0.0]\n",
       "2285      (0.0, 0.1]\n",
       "2286     (-1.0, 0.0]\n",
       "2287     (-1.0, 0.0]\n",
       "Name: stavka, Length: 2288, dtype: category\n",
       "Categories (5, interval[float64, right]): [(-1.0, 0.0] < (0.0, 0.1] < (0.1, 8.0] < (8.0, 13.0] < (13.0, 35.0]]"
      ]
     },
     "execution_count": 200,
     "metadata": {},
     "output_type": "execute_result"
    }
   ],
   "source": [
    "bond['stavka']"
   ]
  },
  {
   "cell_type": "code",
   "execution_count": 201,
   "id": "fceaa0c1",
   "metadata": {},
   "outputs": [
    {
     "data": {
      "text/plain": [
       "(8.0, 13.0]     773\n",
       "(0.1, 8.0]      701\n",
       "(0.0, 0.1]      510\n",
       "(13.0, 35.0]    232\n",
       "(-1.0, 0.0]      72\n",
       "Name: stavka, dtype: int64"
      ]
     },
     "execution_count": 201,
     "metadata": {},
     "output_type": "execute_result"
    }
   ],
   "source": [
    "bond['stavka'].value_counts()"
   ]
  },
  {
   "cell_type": "code",
   "execution_count": 202,
   "id": "c85fa95f",
   "metadata": {},
   "outputs": [
    {
     "data": {
      "text/html": [
       "<div>\n",
       "<style scoped>\n",
       "    .dataframe tbody tr th:only-of-type {\n",
       "        vertical-align: middle;\n",
       "    }\n",
       "\n",
       "    .dataframe tbody tr th {\n",
       "        vertical-align: top;\n",
       "    }\n",
       "\n",
       "    .dataframe thead th {\n",
       "        text-align: right;\n",
       "    }\n",
       "</style>\n",
       "<table border=\"1\" class=\"dataframe\">\n",
       "  <thead>\n",
       "    <tr style=\"text-align: right;\">\n",
       "      <th></th>\n",
       "      <th>min</th>\n",
       "      <th>max</th>\n",
       "      <th>mean</th>\n",
       "      <th>median</th>\n",
       "      <th>count</th>\n",
       "    </tr>\n",
       "    <tr>\n",
       "      <th>stavka</th>\n",
       "      <th></th>\n",
       "      <th></th>\n",
       "      <th></th>\n",
       "      <th></th>\n",
       "      <th></th>\n",
       "    </tr>\n",
       "  </thead>\n",
       "  <tbody>\n",
       "    <tr>\n",
       "      <th>(-1.0, 0.0]</th>\n",
       "      <td>0.00</td>\n",
       "      <td>0.0</td>\n",
       "      <td>0.000000</td>\n",
       "      <td>0.000</td>\n",
       "      <td>72</td>\n",
       "    </tr>\n",
       "    <tr>\n",
       "      <th>(0.0, 0.1]</th>\n",
       "      <td>0.01</td>\n",
       "      <td>0.1</td>\n",
       "      <td>0.012267</td>\n",
       "      <td>0.010</td>\n",
       "      <td>510</td>\n",
       "    </tr>\n",
       "    <tr>\n",
       "      <th>(0.1, 8.0]</th>\n",
       "      <td>0.25</td>\n",
       "      <td>8.0</td>\n",
       "      <td>5.999612</td>\n",
       "      <td>6.800</td>\n",
       "      <td>701</td>\n",
       "    </tr>\n",
       "    <tr>\n",
       "      <th>(8.0, 13.0]</th>\n",
       "      <td>8.02</td>\n",
       "      <td>13.0</td>\n",
       "      <td>10.142387</td>\n",
       "      <td>9.850</td>\n",
       "      <td>773</td>\n",
       "    </tr>\n",
       "    <tr>\n",
       "      <th>(13.0, 35.0]</th>\n",
       "      <td>13.25</td>\n",
       "      <td>34.0</td>\n",
       "      <td>16.605655</td>\n",
       "      <td>15.625</td>\n",
       "      <td>232</td>\n",
       "    </tr>\n",
       "  </tbody>\n",
       "</table>\n",
       "</div>"
      ],
      "text/plain": [
       "                min   max       mean  median  count\n",
       "stavka                                             \n",
       "(-1.0, 0.0]    0.00   0.0   0.000000   0.000     72\n",
       "(0.0, 0.1]     0.01   0.1   0.012267   0.010    510\n",
       "(0.1, 8.0]     0.25   8.0   5.999612   6.800    701\n",
       "(8.0, 13.0]    8.02  13.0  10.142387   9.850    773\n",
       "(13.0, 35.0]  13.25  34.0  16.605655  15.625    232"
      ]
     },
     "execution_count": 202,
     "metadata": {},
     "output_type": "execute_result"
    }
   ],
   "source": [
    "bond.groupby('stavka')['COUPONPERCENT'].agg(['min', 'max', 'mean', 'median', 'count'])"
   ]
  },
  {
   "cell_type": "code",
   "execution_count": 203,
   "id": "322a979d",
   "metadata": {},
   "outputs": [
    {
     "data": {
      "text/plain": [
       "[]"
      ]
     },
     "execution_count": 203,
     "metadata": {},
     "output_type": "execute_result"
    },
    {
     "data": {
      "image/png": "[encoded data removed]",
      "text/plain": [
       "<Figure size 1440x648 with 1 Axes>"
      ]
     },
     "metadata": {
      "needs_background": "light"
     },
     "output_type": "display_data"
    }
   ],
   "source": [
    "# строим график №1\n",
    "q = bond[['COUPONPERCENT', 'ISIN']].nlargest(10, 'COUPONPERCENT')\n",
    "q.index = q.ISIN\n",
    "q = q.drop('ISIN', axis=1)\n",
    "\n",
    "plt.figure(figsize=(20,9))\n",
    "\n",
    "plt.bar(q.index,q.COUPONPERCENT)\n",
    "plt.scatter(q.index,q.COUPONPERCENT, label='ТОП-10 ставок купонов', color=\"blue\")\n",
    "plt.plot((10,-1), (cb, cb), 'r--')\n",
    "\n",
    "plt.ylabel(\"Ставка\")\n",
    "plt.xlabel(\"Облигация\")\n",
    "\n",
    "plt.title('ТОП-10 ставок купонов облигаций относительно ключевой ставки ЦБ')\n",
    "plt.legend()\n",
    "plt.text(cb+1, cb+1, '{}% - Ключевая ставка ЦБ'.format(int(cb)))\n",
    "\n",
    "for i in range(0,q.shape[0]):\n",
    "      plt.text(i, int(q.COUPONPERCENT[i])+1, \"{}%\".format(int(q.COUPONPERCENT[i])))\n",
    "    \n",
    "plt.plot()"
   ]
  },
  {
   "cell_type": "code",
   "execution_count": 204,
   "id": "e06c5520",
   "metadata": {
    "scrolled": false
   },
   "outputs": [
    {
     "data": {
      "application/vnd.plotly.v1+json": {
       "config": {
        "plotlyServerURL": "https://plot.ly"
       },
       "data": [
        {
         "alignmentgroup": "True",
         "hovertemplate": "index=%{x}<br>count=%{y}<extra></extra>",
         "legendgroup": "",
         "marker": {
          "color": "#636efa",
          "pattern": {
           "shape": ""
          }
         },
         "name": "",
         "offsetgroup": "",
         "orientation": "v",
         "showlegend": false,
         "textposition": "auto",
         "type": "bar",
         "x": [
          1,
          2,
          3,
          4,
          5
         ],
         "xaxis": "x",
         "y": [
          72,
          510,
          701,
          773,
          232
         ],
         "yaxis": "y"
        }
       ],
       "layout": {
        "annotations": [
         {
          "font": {
           "size": 10
          },
          "showarrow": false,
          "text": "1 группа - облигации безкупонные (0%)<br>2 группа - облигации с переменным(индексируемым) купоном (0.1%+)<br>3 группа облигации с купоном от 0.1 до ставки ЦБ<br>4 группа облигации с купоном от ставки ЦБ до ставка ЦБ+5%<br> 5 группа облигации с купоном более ставки ЦБ+5%",
          "x": 0.5,
          "y": 700
         }
        ],
        "barmode": "relative",
        "legend": {
         "orientation": "h",
         "tracegroupgap": 0,
         "x": 0.5,
         "xanchor": "center"
        },
        "margin": {
         "b": 0,
         "l": 0,
         "r": 0,
         "t": 30
        },
        "template": {
         "data": {
          "bar": [
           {
            "error_x": {
             "color": "#2a3f5f"
            },
            "error_y": {
             "color": "#2a3f5f"
            },
            "marker": {
             "line": {
              "color": "#E5ECF6",
              "width": 0.5
             },
             "pattern": {
              "fillmode": "overlay",
              "size": 10,
              "solidity": 0.2
             }
            },
            "type": "bar"
           }
          ],
          "barpolar": [
           {
            "marker": {
             "line": {
              "color": "#E5ECF6",
              "width": 0.5
             },
             "pattern": {
              "fillmode": "overlay",
              "size": 10,
              "solidity": 0.2
             }
            },
            "type": "barpolar"
           }
          ],
          "carpet": [
           {
            "aaxis": {
             "endlinecolor": "#2a3f5f",
             "gridcolor": "white",
             "linecolor": "white",
             "minorgridcolor": "white",
             "startlinecolor": "#2a3f5f"
            },
            "baxis": {
             "endlinecolor": "#2a3f5f",
             "gridcolor": "white",
             "linecolor": "white",
             "minorgridcolor": "white",
             "startlinecolor": "#2a3f5f"
            },
            "type": "carpet"
           }
          ],
          "choropleth": [
           {
            "colorbar": {
             "outlinewidth": 0,
             "ticks": ""
            },
            "type": "choropleth"
           }
          ],
          "contour": [
           {
            "colorbar": {
             "outlinewidth": 0,
             "ticks": ""
            },
            "colorscale": [
             [
              0,
              "#0d0887"
             ],
             [
              0.1111111111111111,
              "#46039f"
             ],
             [
              0.2222222222222222,
              "#7201a8"
             ],
             [
              0.3333333333333333,
              "#9c179e"
             ],
             [
              0.4444444444444444,
              "#bd3786"
             ],
             [
              0.5555555555555556,
              "#d8576b"
             ],
             [
              0.6666666666666666,
              "#ed7953"
             ],
             [
              0.7777777777777778,
              "#fb9f3a"
             ],
             [
              0.8888888888888888,
              "#fdca26"
             ],
             [
              1,
              "#f0f921"
             ]
            ],
            "type": "contour"
           }
          ],
          "contourcarpet": [
           {
            "colorbar": {
             "outlinewidth": 0,
             "ticks": ""
            },
            "type": "contourcarpet"
           }
          ],
          "heatmap": [
           {
            "colorbar": {
             "outlinewidth": 0,
             "ticks": ""
            },
            "colorscale": [
             [
              0,
              "#0d0887"
             ],
             [
              0.1111111111111111,
              "#46039f"
             ],
             [
              0.2222222222222222,
              "#7201a8"
             ],
             [
              0.3333333333333333,
              "#9c179e"
             ],
             [
              0.4444444444444444,
              "#bd3786"
             ],
             [
              0.5555555555555556,
              "#d8576b"
             ],
             [
              0.6666666666666666,
              "#ed7953"
             ],
             [
              0.7777777777777778,
              "#fb9f3a"
             ],
             [
              0.8888888888888888,
              "#fdca26"
             ],
             [
              1,
              "#f0f921"
             ]
            ],
            "type": "heatmap"
           }
          ],
          "heatmapgl": [
           {
            "colorbar": {
             "outlinewidth": 0,
             "ticks": ""
            },
            "colorscale": [
             [
              0,
              "#0d0887"
             ],
             [
              0.1111111111111111,
              "#46039f"
             ],
             [
              0.2222222222222222,
              "#7201a8"
             ],
             [
              0.3333333333333333,
              "#9c179e"
             ],
             [
              0.4444444444444444,
              "#bd3786"
             ],
             [
              0.5555555555555556,
              "#d8576b"
             ],
             [
              0.6666666666666666,
              "#ed7953"
             ],
             [
              0.7777777777777778,
              "#fb9f3a"
             ],
             [
              0.8888888888888888,
              "#fdca26"
             ],
             [
              1,
              "#f0f921"
             ]
            ],
            "type": "heatmapgl"
           }
          ],
          "histogram": [
           {
            "marker": {
             "pattern": {
              "fillmode": "overlay",
              "size": 10,
              "solidity": 0.2
             }
            },
            "type": "histogram"
           }
          ],
          "histogram2d": [
           {
            "colorbar": {
             "outlinewidth": 0,
             "ticks": ""
            },
            "colorscale": [
             [
              0,
              "#0d0887"
             ],
             [
              0.1111111111111111,
              "#46039f"
             ],
             [
              0.2222222222222222,
              "#7201a8"
             ],
             [
              0.3333333333333333,
              "#9c179e"
             ],
             [
              0.4444444444444444,
              "#bd3786"
             ],
             [
              0.5555555555555556,
              "#d8576b"
             ],
             [
              0.6666666666666666,
              "#ed7953"
             ],
             [
              0.7777777777777778,
              "#fb9f3a"
             ],
             [
              0.8888888888888888,
              "#fdca26"
             ],
             [
              1,
              "#f0f921"
             ]
            ],
            "type": "histogram2d"
           }
          ],
          "histogram2dcontour": [
           {
            "colorbar": {
             "outlinewidth": 0,
             "ticks": ""
            },
            "colorscale": [
             [
              0,
              "#0d0887"
             ],
             [
              0.1111111111111111,
              "#46039f"
             ],
             [
              0.2222222222222222,
              "#7201a8"
             ],
             [
              0.3333333333333333,
              "#9c179e"
             ],
             [
              0.4444444444444444,
              "#bd3786"
             ],
             [
              0.5555555555555556,
              "#d8576b"
             ],
             [
              0.6666666666666666,
              "#ed7953"
             ],
             [
              0.7777777777777778,
              "#fb9f3a"
             ],
             [
              0.8888888888888888,
              "#fdca26"
             ],
             [
              1,
              "#f0f921"
             ]
            ],
            "type": "histogram2dcontour"
           }
          ],
          "mesh3d": [
           {
            "colorbar": {
             "outlinewidth": 0,
             "ticks": ""
            },
            "type": "mesh3d"
           }
          ],
          "parcoords": [
           {
            "line": {
             "colorbar": {
              "outlinewidth": 0,
              "ticks": ""
             }
            },
            "type": "parcoords"
           }
          ],
          "pie": [
           {
            "automargin": true,
            "type": "pie"
           }
          ],
          "scatter": [
           {
            "marker": {
             "colorbar": {
              "outlinewidth": 0,
              "ticks": ""
             }
            },
            "type": "scatter"
           }
          ],
          "scatter3d": [
           {
            "line": {
             "colorbar": {
              "outlinewidth": 0,
              "ticks": ""
             }
            },
            "marker": {
             "colorbar": {
              "outlinewidth": 0,
              "ticks": ""
             }
            },
            "type": "scatter3d"
           }
          ],
          "scattercarpet": [
           {
            "marker": {
             "colorbar": {
              "outlinewidth": 0,
              "ticks": ""
             }
            },
            "type": "scattercarpet"
           }
          ],
          "scattergeo": [
           {
            "marker": {
             "colorbar": {
              "outlinewidth": 0,
              "ticks": ""
             }
            },
            "type": "scattergeo"
           }
          ],
          "scattergl": [
           {
            "marker": {
             "colorbar": {
              "outlinewidth": 0,
              "ticks": ""
             }
            },
            "type": "scattergl"
           }
          ],
          "scattermapbox": [
           {
            "marker": {
             "colorbar": {
              "outlinewidth": 0,
              "ticks": ""
             }
            },
            "type": "scattermapbox"
           }
          ],
          "scatterpolar": [
           {
            "marker": {
             "colorbar": {
              "outlinewidth": 0,
              "ticks": ""
             }
            },
            "type": "scatterpolar"
           }
          ],
          "scatterpolargl": [
           {
            "marker": {
             "colorbar": {
              "outlinewidth": 0,
              "ticks": ""
             }
            },
            "type": "scatterpolargl"
           }
          ],
          "scatterternary": [
           {
            "marker": {
             "colorbar": {
              "outlinewidth": 0,
              "ticks": ""
             }
            },
            "type": "scatterternary"
           }
          ],
          "surface": [
           {
            "colorbar": {
             "outlinewidth": 0,
             "ticks": ""
            },
            "colorscale": [
             [
              0,
              "#0d0887"
             ],
             [
              0.1111111111111111,
              "#46039f"
             ],
             [
              0.2222222222222222,
              "#7201a8"
             ],
             [
              0.3333333333333333,
              "#9c179e"
             ],
             [
              0.4444444444444444,
              "#bd3786"
             ],
             [
              0.5555555555555556,
              "#d8576b"
             ],
             [
              0.6666666666666666,
              "#ed7953"
             ],
             [
              0.7777777777777778,
              "#fb9f3a"
             ],
             [
              0.8888888888888888,
              "#fdca26"
             ],
             [
              1,
              "#f0f921"
             ]
            ],
            "type": "surface"
           }
          ],
          "table": [
           {
            "cells": {
             "fill": {
              "color": "#EBF0F8"
             },
             "line": {
              "color": "white"
             }
            },
            "header": {
             "fill": {
              "color": "#C8D4E3"
             },
             "line": {
              "color": "white"
             }
            },
            "type": "table"
           }
          ]
         },
         "layout": {
          "annotationdefaults": {
           "arrowcolor": "#2a3f5f",
           "arrowhead": 0,
           "arrowwidth": 1
          },
          "autotypenumbers": "strict",
          "coloraxis": {
           "colorbar": {
            "outlinewidth": 0,
            "ticks": ""
           }
          },
          "colorscale": {
           "diverging": [
            [
             0,
             "#8e0152"
            ],
            [
             0.1,
             "#c51b7d"
            ],
            [
             0.2,
             "#de77ae"
            ],
            [
             0.3,
             "#f1b6da"
            ],
            [
             0.4,
             "#fde0ef"
            ],
            [
             0.5,
             "#f7f7f7"
            ],
            [
             0.6,
             "#e6f5d0"
            ],
            [
             0.7,
             "#b8e186"
            ],
            [
             0.8,
             "#7fbc41"
            ],
            [
             0.9,
             "#4d9221"
            ],
            [
             1,
             "#276419"
            ]
           ],
           "sequential": [
            [
             0,
             "#0d0887"
            ],
            [
             0.1111111111111111,
             "#46039f"
            ],
            [
             0.2222222222222222,
             "#7201a8"
            ],
            [
             0.3333333333333333,
             "#9c179e"
            ],
            [
             0.4444444444444444,
             "#bd3786"
            ],
            [
             0.5555555555555556,
             "#d8576b"
            ],
            [
             0.6666666666666666,
             "#ed7953"
            ],
            [
             0.7777777777777778,
             "#fb9f3a"
            ],
            [
             0.8888888888888888,
             "#fdca26"
            ],
            [
             1,
             "#f0f921"
            ]
           ],
           "sequentialminus": [
            [
             0,
             "#0d0887"
            ],
            [
             0.1111111111111111,
             "#46039f"
            ],
            [
             0.2222222222222222,
             "#7201a8"
            ],
            [
             0.3333333333333333,
             "#9c179e"
            ],
            [
             0.4444444444444444,
             "#bd3786"
            ],
            [
             0.5555555555555556,
             "#d8576b"
            ],
            [
             0.6666666666666666,
             "#ed7953"
            ],
            [
             0.7777777777777778,
             "#fb9f3a"
            ],
            [
             0.8888888888888888,
             "#fdca26"
            ],
            [
             1,
             "#f0f921"
            ]
           ]
          },
          "colorway": [
           "#636efa",
           "#EF553B",
           "#00cc96",
           "#ab63fa",
           "#FFA15A",
           "#19d3f3",
           "#FF6692",
           "#B6E880",
           "#FF97FF",
           "#FECB52"
          ],
          "font": {
           "color": "#2a3f5f"
          },
          "geo": {
           "bgcolor": "white",
           "lakecolor": "white",
           "landcolor": "#E5ECF6",
           "showlakes": true,
           "showland": true,
           "subunitcolor": "white"
          },
          "hoverlabel": {
           "align": "left"
          },
          "hovermode": "closest",
          "mapbox": {
           "style": "light"
          },
          "paper_bgcolor": "white",
          "plot_bgcolor": "#E5ECF6",
          "polar": {
           "angularaxis": {
            "gridcolor": "white",
            "linecolor": "white",
            "ticks": ""
           },
           "bgcolor": "#E5ECF6",
           "radialaxis": {
            "gridcolor": "white",
            "linecolor": "white",
            "ticks": ""
           }
          },
          "scene": {
           "xaxis": {
            "backgroundcolor": "#E5ECF6",
            "gridcolor": "white",
            "gridwidth": 2,
            "linecolor": "white",
            "showbackground": true,
            "ticks": "",
            "zerolinecolor": "white"
           },
           "yaxis": {
            "backgroundcolor": "#E5ECF6",
            "gridcolor": "white",
            "gridwidth": 2,
            "linecolor": "white",
            "showbackground": true,
            "ticks": "",
            "zerolinecolor": "white"
           },
           "zaxis": {
            "backgroundcolor": "#E5ECF6",
            "gridcolor": "white",
            "gridwidth": 2,
            "linecolor": "white",
            "showbackground": true,
            "ticks": "",
            "zerolinecolor": "white"
           }
          },
          "shapedefaults": {
           "line": {
            "color": "#2a3f5f"
           }
          },
          "ternary": {
           "aaxis": {
            "gridcolor": "white",
            "linecolor": "white",
            "ticks": ""
           },
           "baxis": {
            "gridcolor": "white",
            "linecolor": "white",
            "ticks": ""
           },
           "bgcolor": "#E5ECF6",
           "caxis": {
            "gridcolor": "white",
            "linecolor": "white",
            "ticks": ""
           }
          },
          "title": {
           "x": 0.05
          },
          "xaxis": {
           "automargin": true,
           "gridcolor": "white",
           "linecolor": "white",
           "ticks": "",
           "title": {
            "standoff": 15
           },
           "zerolinecolor": "white",
           "zerolinewidth": 2
          },
          "yaxis": {
           "automargin": true,
           "gridcolor": "white",
           "linecolor": "white",
           "ticks": "",
           "title": {
            "standoff": 15
           },
           "zerolinecolor": "white",
           "zerolinewidth": 2
          }
         }
        },
        "title": {
         "text": "Разбивка облигаций по размеру купона относительно ключевой ставки ЦБ"
        },
        "xaxis": {
         "anchor": "y",
         "domain": [
          0,
          1
         ],
         "title": {
          "text": "Группы"
         }
        },
        "yaxis": {
         "anchor": "x",
         "domain": [
          0,
          1
         ],
         "title": {
          "text": "Количество облигаций группы"
         }
        }
       }
      },
      "text/html": [
       "<div>                            <div id=\"8d572a5d-f476-409c-9217-cb39716873d7\" class=\"plotly-graph-div\" style=\"height:525px; width:100%;\"></div>            <script type=\"text/javascript\">                require([\"plotly\"], function(Plotly) {                    window.PLOTLYENV=window.PLOTLYENV || {};                                    if (document.getElementById(\"8d572a5d-f476-409c-9217-cb39716873d7\")) {                    Plotly.newPlot(                        \"8d572a5d-f476-409c-9217-cb39716873d7\",                        [{\"alignmentgroup\":\"True\",\"hovertemplate\":\"index=%{x}<br>count=%{y}<extra></extra>\",\"legendgroup\":\"\",\"marker\":{\"color\":\"#636efa\",\"pattern\":{\"shape\":\"\"}},\"name\":\"\",\"offsetgroup\":\"\",\"orientation\":\"v\",\"showlegend\":false,\"textposition\":\"auto\",\"x\":[1,2,3,4,5],\"xaxis\":\"x\",\"y\":[72,510,701,773,232],\"yaxis\":\"y\",\"type\":\"bar\"}],                        {\"template\":{\"data\":{\"bar\":[{\"error_x\":{\"color\":\"#2a3f5f\"},\"error_y\":{\"color\":\"#2a3f5f\"},\"marker\":{\"line\":{\"color\":\"#E5ECF6\",\"width\":0.5},\"pattern\":{\"fillmode\":\"overlay\",\"size\":10,\"solidity\":0.2}},\"type\":\"bar\"}],\"barpolar\":[{\"marker\":{\"line\":{\"color\":\"#E5ECF6\",\"width\":0.5},\"pattern\":{\"fillmode\":\"overlay\",\"size\":10,\"solidity\":0.2}},\"type\":\"barpolar\"}],\"carpet\":[{\"aaxis\":{\"endlinecolor\":\"#2a3f5f\",\"gridcolor\":\"white\",\"linecolor\":\"white\",\"minorgridcolor\":\"white\",\"startlinecolor\":\"#2a3f5f\"},\"baxis\":{\"endlinecolor\":\"#2a3f5f\",\"gridcolor\":\"white\",\"linecolor\":\"white\",\"minorgridcolor\":\"white\",\"startlinecolor\":\"#2a3f5f\"},\"type\":\"carpet\"}],\"choropleth\":[{\"colorbar\":{\"outlinewidth\":0,\"ticks\":\"\"},\"type\":\"choropleth\"}],\"contour\":[{\"colorbar\":{\"outlinewidth\":0,\"ticks\":\"\"},\"colorscale\":[[0.0,\"#0d0887\"],[0.1111111111111111,\"#46039f\"],[0.2222222222222222,\"#7201a8\"],[0.3333333333333333,\"#9c179e\"],[0.4444444444444444,\"#bd3786\"],[0.5555555555555556,\"#d8576b\"],[0.6666666666666666,\"#ed7953\"],[0.7777777777777778,\"#fb9f3a\"],[0.8888888888888888,\"#fdca26\"],[1.0,\"#f0f921\"]],\"type\":\"contour\"}],\"contourcarpet\":[{\"colorbar\":{\"outlinewidth\":0,\"ticks\":\"\"},\"type\":\"contourcarpet\"}],\"heatmap\":[{\"colorbar\":{\"outlinewidth\":0,\"ticks\":\"\"},\"colorscale\":[[0.0,\"#0d0887\"],[0.1111111111111111,\"#46039f\"],[0.2222222222222222,\"#7201a8\"],[0.3333333333333333,\"#9c179e\"],[0.4444444444444444,\"#bd3786\"],[0.5555555555555556,\"#d8576b\"],[0.6666666666666666,\"#ed7953\"],[0.7777777777777778,\"#fb9f3a\"],[0.8888888888888888,\"#fdca26\"],[1.0,\"#f0f921\"]],\"type\":\"heatmap\"}],\"heatmapgl\":[{\"colorbar\":{\"outlinewidth\":0,\"ticks\":\"\"},\"colorscale\":[[0.0,\"#0d0887\"],[0.1111111111111111,\"#46039f\"],[0.2222222222222222,\"#7201a8\"],[0.3333333333333333,\"#9c179e\"],[0.4444444444444444,\"#bd3786\"],[0.5555555555555556,\"#d8576b\"],[0.6666666666666666,\"#ed7953\"],[0.7777777777777778,\"#fb9f3a\"],[0.8888888888888888,\"#fdca26\"],[1.0,\"#f0f921\"]],\"type\":\"heatmapgl\"}],\"histogram\":[{\"marker\":{\"pattern\":{\"fillmode\":\"overlay\",\"size\":10,\"solidity\":0.2}},\"type\":\"histogram\"}],\"histogram2d\":[{\"colorbar\":{\"outlinewidth\":0,\"ticks\":\"\"},\"colorscale\":[[0.0,\"#0d0887\"],[0.1111111111111111,\"#46039f\"],[0.2222222222222222,\"#7201a8\"],[0.3333333333333333,\"#9c179e\"],[0.4444444444444444,\"#bd3786\"],[0.5555555555555556,\"#d8576b\"],[0.6666666666666666,\"#ed7953\"],[0.7777777777777778,\"#fb9f3a\"],[0.8888888888888888,\"#fdca26\"],[1.0,\"#f0f921\"]],\"type\":\"histogram2d\"}],\"histogram2dcontour\":[{\"colorbar\":{\"outlinewidth\":0,\"ticks\":\"\"},\"colorscale\":[[0.0,\"#0d0887\"],[0.1111111111111111,\"#46039f\"],[0.2222222222222222,\"#7201a8\"],[0.3333333333333333,\"#9c179e\"],[0.4444444444444444,\"#bd3786\"],[0.5555555555555556,\"#d8576b\"],[0.6666666666666666,\"#ed7953\"],[0.7777777777777778,\"#fb9f3a\"],[0.8888888888888888,\"#fdca26\"],[1.0,\"#f0f921\"]],\"type\":\"histogram2dcontour\"}],\"mesh3d\":[{\"colorbar\":{\"outlinewidth\":0,\"ticks\":\"\"},\"type\":\"mesh3d\"}],\"parcoords\":[{\"line\":{\"colorbar\":{\"outlinewidth\":0,\"ticks\":\"\"}},\"type\":\"parcoords\"}],\"pie\":[{\"automargin\":true,\"type\":\"pie\"}],\"scatter\":[{\"marker\":{\"colorbar\":{\"outlinewidth\":0,\"ticks\":\"\"}},\"type\":\"scatter\"}],\"scatter3d\":[{\"line\":{\"colorbar\":{\"outlinewidth\":0,\"ticks\":\"\"}},\"marker\":{\"colorbar\":{\"outlinewidth\":0,\"ticks\":\"\"}},\"type\":\"scatter3d\"}],\"scattercarpet\":[{\"marker\":{\"colorbar\":{\"outlinewidth\":0,\"ticks\":\"\"}},\"type\":\"scattercarpet\"}],\"scattergeo\":[{\"marker\":{\"colorbar\":{\"outlinewidth\":0,\"ticks\":\"\"}},\"type\":\"scattergeo\"}],\"scattergl\":[{\"marker\":{\"colorbar\":{\"outlinewidth\":0,\"ticks\":\"\"}},\"type\":\"scattergl\"}],\"scattermapbox\":[{\"marker\":{\"colorbar\":{\"outlinewidth\":0,\"ticks\":\"\"}},\"type\":\"scattermapbox\"}],\"scatterpolar\":[{\"marker\":{\"colorbar\":{\"outlinewidth\":0,\"ticks\":\"\"}},\"type\":\"scatterpolar\"}],\"scatterpolargl\":[{\"marker\":{\"colorbar\":{\"outlinewidth\":0,\"ticks\":\"\"}},\"type\":\"scatterpolargl\"}],\"scatterternary\":[{\"marker\":{\"colorbar\":{\"outlinewidth\":0,\"ticks\":\"\"}},\"type\":\"scatterternary\"}],\"surface\":[{\"colorbar\":{\"outlinewidth\":0,\"ticks\":\"\"},\"colorscale\":[[0.0,\"#0d0887\"],[0.1111111111111111,\"#46039f\"],[0.2222222222222222,\"#7201a8\"],[0.3333333333333333,\"#9c179e\"],[0.4444444444444444,\"#bd3786\"],[0.5555555555555556,\"#d8576b\"],[0.6666666666666666,\"#ed7953\"],[0.7777777777777778,\"#fb9f3a\"],[0.8888888888888888,\"#fdca26\"],[1.0,\"#f0f921\"]],\"type\":\"surface\"}],\"table\":[{\"cells\":{\"fill\":{\"color\":\"#EBF0F8\"},\"line\":{\"color\":\"white\"}},\"header\":{\"fill\":{\"color\":\"#C8D4E3\"},\"line\":{\"color\":\"white\"}},\"type\":\"table\"}]},\"layout\":{\"annotationdefaults\":{\"arrowcolor\":\"#2a3f5f\",\"arrowhead\":0,\"arrowwidth\":1},\"autotypenumbers\":\"strict\",\"coloraxis\":{\"colorbar\":{\"outlinewidth\":0,\"ticks\":\"\"}},\"colorscale\":{\"diverging\":[[0,\"#8e0152\"],[0.1,\"#c51b7d\"],[0.2,\"#de77ae\"],[0.3,\"#f1b6da\"],[0.4,\"#fde0ef\"],[0.5,\"#f7f7f7\"],[0.6,\"#e6f5d0\"],[0.7,\"#b8e186\"],[0.8,\"#7fbc41\"],[0.9,\"#4d9221\"],[1,\"#276419\"]],\"sequential\":[[0.0,\"#0d0887\"],[0.1111111111111111,\"#46039f\"],[0.2222222222222222,\"#7201a8\"],[0.3333333333333333,\"#9c179e\"],[0.4444444444444444,\"#bd3786\"],[0.5555555555555556,\"#d8576b\"],[0.6666666666666666,\"#ed7953\"],[0.7777777777777778,\"#fb9f3a\"],[0.8888888888888888,\"#fdca26\"],[1.0,\"#f0f921\"]],\"sequentialminus\":[[0.0,\"#0d0887\"],[0.1111111111111111,\"#46039f\"],[0.2222222222222222,\"#7201a8\"],[0.3333333333333333,\"#9c179e\"],[0.4444444444444444,\"#bd3786\"],[0.5555555555555556,\"#d8576b\"],[0.6666666666666666,\"#ed7953\"],[0.7777777777777778,\"#fb9f3a\"],[0.8888888888888888,\"#fdca26\"],[1.0,\"#f0f921\"]]},\"colorway\":[\"#636efa\",\"#EF553B\",\"#00cc96\",\"#ab63fa\",\"#FFA15A\",\"#19d3f3\",\"#FF6692\",\"#B6E880\",\"#FF97FF\",\"#FECB52\"],\"font\":{\"color\":\"#2a3f5f\"},\"geo\":{\"bgcolor\":\"white\",\"lakecolor\":\"white\",\"landcolor\":\"#E5ECF6\",\"showlakes\":true,\"showland\":true,\"subunitcolor\":\"white\"},\"hoverlabel\":{\"align\":\"left\"},\"hovermode\":\"closest\",\"mapbox\":{\"style\":\"light\"},\"paper_bgcolor\":\"white\",\"plot_bgcolor\":\"#E5ECF6\",\"polar\":{\"angularaxis\":{\"gridcolor\":\"white\",\"linecolor\":\"white\",\"ticks\":\"\"},\"bgcolor\":\"#E5ECF6\",\"radialaxis\":{\"gridcolor\":\"white\",\"linecolor\":\"white\",\"ticks\":\"\"}},\"scene\":{\"xaxis\":{\"backgroundcolor\":\"#E5ECF6\",\"gridcolor\":\"white\",\"gridwidth\":2,\"linecolor\":\"white\",\"showbackground\":true,\"ticks\":\"\",\"zerolinecolor\":\"white\"},\"yaxis\":{\"backgroundcolor\":\"#E5ECF6\",\"gridcolor\":\"white\",\"gridwidth\":2,\"linecolor\":\"white\",\"showbackground\":true,\"ticks\":\"\",\"zerolinecolor\":\"white\"},\"zaxis\":{\"backgroundcolor\":\"#E5ECF6\",\"gridcolor\":\"white\",\"gridwidth\":2,\"linecolor\":\"white\",\"showbackground\":true,\"ticks\":\"\",\"zerolinecolor\":\"white\"}},\"shapedefaults\":{\"line\":{\"color\":\"#2a3f5f\"}},\"ternary\":{\"aaxis\":{\"gridcolor\":\"white\",\"linecolor\":\"white\",\"ticks\":\"\"},\"baxis\":{\"gridcolor\":\"white\",\"linecolor\":\"white\",\"ticks\":\"\"},\"bgcolor\":\"#E5ECF6\",\"caxis\":{\"gridcolor\":\"white\",\"linecolor\":\"white\",\"ticks\":\"\"}},\"title\":{\"x\":0.05},\"xaxis\":{\"automargin\":true,\"gridcolor\":\"white\",\"linecolor\":\"white\",\"ticks\":\"\",\"title\":{\"standoff\":15},\"zerolinecolor\":\"white\",\"zerolinewidth\":2},\"yaxis\":{\"automargin\":true,\"gridcolor\":\"white\",\"linecolor\":\"white\",\"ticks\":\"\",\"title\":{\"standoff\":15},\"zerolinecolor\":\"white\",\"zerolinewidth\":2}}},\"xaxis\":{\"anchor\":\"y\",\"domain\":[0.0,1.0],\"title\":{\"text\":\"\\u0413\\u0440\\u0443\\u043f\\u043f\\u044b\"}},\"yaxis\":{\"anchor\":\"x\",\"domain\":[0.0,1.0],\"title\":{\"text\":\"\\u041a\\u043e\\u043b\\u0438\\u0447\\u0435\\u0441\\u0442\\u0432\\u043e \\u043e\\u0431\\u043b\\u0438\\u0433\\u0430\\u0446\\u0438\\u0439 \\u0433\\u0440\\u0443\\u043f\\u043f\\u044b\"}},\"legend\":{\"tracegroupgap\":0,\"orientation\":\"h\",\"x\":0.5,\"xanchor\":\"center\"},\"margin\":{\"t\":30,\"l\":0,\"r\":0,\"b\":0},\"barmode\":\"relative\",\"title\":{\"text\":\"\\u0420\\u0430\\u0437\\u0431\\u0438\\u0432\\u043a\\u0430 \\u043e\\u0431\\u043b\\u0438\\u0433\\u0430\\u0446\\u0438\\u0439 \\u043f\\u043e \\u0440\\u0430\\u0437\\u043c\\u0435\\u0440\\u0443 \\u043a\\u0443\\u043f\\u043e\\u043d\\u0430 \\u043e\\u0442\\u043d\\u043e\\u0441\\u0438\\u0442\\u0435\\u043b\\u044c\\u043d\\u043e \\u043a\\u043b\\u044e\\u0447\\u0435\\u0432\\u043e\\u0439 \\u0441\\u0442\\u0430\\u0432\\u043a\\u0438 \\u0426\\u0411\"},\"annotations\":[{\"showarrow\":false,\"text\":\"1 \\u0433\\u0440\\u0443\\u043f\\u043f\\u0430 - \\u043e\\u0431\\u043b\\u0438\\u0433\\u0430\\u0446\\u0438\\u0438 \\u0431\\u0435\\u0437\\u043a\\u0443\\u043f\\u043e\\u043d\\u043d\\u044b\\u0435 (0%)<br>2 \\u0433\\u0440\\u0443\\u043f\\u043f\\u0430 - \\u043e\\u0431\\u043b\\u0438\\u0433\\u0430\\u0446\\u0438\\u0438 \\u0441 \\u043f\\u0435\\u0440\\u0435\\u043c\\u0435\\u043d\\u043d\\u044b\\u043c(\\u0438\\u043d\\u0434\\u0435\\u043a\\u0441\\u0438\\u0440\\u0443\\u0435\\u043c\\u044b\\u043c) \\u043a\\u0443\\u043f\\u043e\\u043d\\u043e\\u043c (0.1%+)<br>3 \\u0433\\u0440\\u0443\\u043f\\u043f\\u0430 \\u043e\\u0431\\u043b\\u0438\\u0433\\u0430\\u0446\\u0438\\u0438 \\u0441 \\u043a\\u0443\\u043f\\u043e\\u043d\\u043e\\u043c \\u043e\\u0442 0.1 \\u0434\\u043e \\u0441\\u0442\\u0430\\u0432\\u043a\\u0438 \\u0426\\u0411<br>4 \\u0433\\u0440\\u0443\\u043f\\u043f\\u0430 \\u043e\\u0431\\u043b\\u0438\\u0433\\u0430\\u0446\\u0438\\u0438 \\u0441 \\u043a\\u0443\\u043f\\u043e\\u043d\\u043e\\u043c \\u043e\\u0442 \\u0441\\u0442\\u0430\\u0432\\u043a\\u0438 \\u0426\\u0411 \\u0434\\u043e \\u0441\\u0442\\u0430\\u0432\\u043a\\u0430 \\u0426\\u0411+5%<br> 5 \\u0433\\u0440\\u0443\\u043f\\u043f\\u0430 \\u043e\\u0431\\u043b\\u0438\\u0433\\u0430\\u0446\\u0438\\u0438 \\u0441 \\u043a\\u0443\\u043f\\u043e\\u043d\\u043e\\u043c \\u0431\\u043e\\u043b\\u0435\\u0435 \\u0441\\u0442\\u0430\\u0432\\u043a\\u0438 \\u0426\\u0411+5%\",\"x\":0.5,\"y\":700,\"font\":{\"size\":10}}]},                        {\"responsive\": true}                    ).then(function(){\n",
       "                            \n",
       "var gd = document.getElementById('8d572a5d-f476-409c-9217-cb39716873d7');\n",
       "var x = new MutationObserver(function (mutations, observer) {{\n",
       "        var display = window.getComputedStyle(gd).display;\n",
       "        if (!display || display === 'none') {{\n",
       "            console.log([gd, 'removed!']);\n",
       "            Plotly.purge(gd);\n",
       "            observer.disconnect();\n",
       "        }}\n",
       "}});\n",
       "\n",
       "// Listen for the removal of the full notebook cells\n",
       "var notebookContainer = gd.closest('#notebook-container');\n",
       "if (notebookContainer) {{\n",
       "    x.observe(notebookContainer, {childList: true});\n",
       "}}\n",
       "\n",
       "// Listen for the clearing of the current output cell\n",
       "var outputEl = gd.closest('.output');\n",
       "if (outputEl) {{\n",
       "    x.observe(outputEl, {childList: true});\n",
       "}}\n",
       "\n",
       "                        })                };                });            </script>        </div>"
      ]
     },
     "metadata": {},
     "output_type": "display_data"
    }
   ],
   "source": [
    "# строим график №2\n",
    "t1 = pd.DataFrame(bond[['stavka']].value_counts().reset_index()).sort_values('stavka')\n",
    "t1.columns = ['stavka', 'count']\n",
    "t1.index = range(1,t1.shape[0]+1)\n",
    "fig = px.bar(t1, x = t1.index, y = 'count')\n",
    "fig.update_layout(legend_orientation=\"h\",\n",
    "                  legend=dict(x=.5, xanchor=\"center\"),\n",
    "                  title=\"Разбивка облигаций по размеру купона относительно ключевой ставки ЦБ\",\n",
    "                  xaxis_title=\"Группы\", \n",
    "                  yaxis_title=\"Количество облигаций группы\",\n",
    "                  margin=dict(l=0, r=0, t=30, b=0),\n",
    "                  annotations=[dict(text='1 группа - облигации безкупонные (0%)<br>2 группа - облигации с переменным(индексируемым) купоном (0.1%+)<br>3 группа облигации с купоном от 0.1 до ставки ЦБ<br>4 группа облигации с купоном от ставки ЦБ до ставка ЦБ+5%<br> 5 группа облигации с купоном более ставки ЦБ+5%', x=0.5, y=700, font_size=10, showarrow=False)]\n",
    "                 \n",
    "                 )\n",
    "\n",
    "fig.show()"
   ]
  },
  {
   "cell_type": "code",
   "execution_count": 205,
   "id": "5cc69f33",
   "metadata": {},
   "outputs": [
    {
     "data": {
      "application/vnd.plotly.v1+json": {
       "config": {
        "plotlyServerURL": "https://plot.ly"
       },
       "data": [
        {
         "labels": [
          1,
          2,
          3,
          4,
          5
         ],
         "sort": false,
         "type": "pie",
         "values": [
          72,
          510,
          701,
          773,
          232
         ]
        }
       ],
       "layout": {
        "annotations": [
         {
          "font": {
           "size": 10
          },
          "showarrow": false,
          "text": "1 группа - облигации безкупонные (0%)<br>2 группа - облигации с переменным(индексируемым) купоном (0.1%+)<br>3 группа облигации с купоном от 0.1 до ставки ЦБ<br>4 группа облигации с купоном от ставки ЦБ до ставки ЦБ+5%<br> 5 группа облигации с купоном более ставки ЦБ+5%",
          "x": 0,
          "y": 1
         }
        ],
        "legend": {
         "orientation": "h",
         "x": 0.5,
         "xanchor": "center"
        },
        "margin": {
         "b": 0,
         "l": 0,
         "r": 0,
         "t": 30
        },
        "template": {
         "data": {
          "bar": [
           {
            "error_x": {
             "color": "#2a3f5f"
            },
            "error_y": {
             "color": "#2a3f5f"
            },
            "marker": {
             "line": {
              "color": "#E5ECF6",
              "width": 0.5
             },
             "pattern": {
              "fillmode": "overlay",
              "size": 10,
              "solidity": 0.2
             }
            },
            "type": "bar"
           }
          ],
          "barpolar": [
           {
            "marker": {
             "line": {
              "color": "#E5ECF6",
              "width": 0.5
             },
             "pattern": {
              "fillmode": "overlay",
              "size": 10,
              "solidity": 0.2
             }
            },
            "type": "barpolar"
           }
          ],
          "carpet": [
           {
            "aaxis": {
             "endlinecolor": "#2a3f5f",
             "gridcolor": "white",
             "linecolor": "white",
             "minorgridcolor": "white",
             "startlinecolor": "#2a3f5f"
            },
            "baxis": {
             "endlinecolor": "#2a3f5f",
             "gridcolor": "white",
             "linecolor": "white",
             "minorgridcolor": "white",
             "startlinecolor": "#2a3f5f"
            },
            "type": "carpet"
           }
          ],
          "choropleth": [
           {
            "colorbar": {
             "outlinewidth": 0,
             "ticks": ""
            },
            "type": "choropleth"
           }
          ],
          "contour": [
           {
            "colorbar": {
             "outlinewidth": 0,
             "ticks": ""
            },
            "colorscale": [
             [
              0,
              "#0d0887"
             ],
             [
              0.1111111111111111,
              "#46039f"
             ],
             [
              0.2222222222222222,
              "#7201a8"
             ],
             [
              0.3333333333333333,
              "#9c179e"
             ],
             [
              0.4444444444444444,
              "#bd3786"
             ],
             [
              0.5555555555555556,
              "#d8576b"
             ],
             [
              0.6666666666666666,
              "#ed7953"
             ],
             [
              0.7777777777777778,
              "#fb9f3a"
             ],
             [
              0.8888888888888888,
              "#fdca26"
             ],
             [
              1,
              "#f0f921"
             ]
            ],
            "type": "contour"
           }
          ],
          "contourcarpet": [
           {
            "colorbar": {
             "outlinewidth": 0,
             "ticks": ""
            },
            "type": "contourcarpet"
           }
          ],
          "heatmap": [
           {
            "colorbar": {
             "outlinewidth": 0,
             "ticks": ""
            },
            "colorscale": [
             [
              0,
              "#0d0887"
             ],
             [
              0.1111111111111111,
              "#46039f"
             ],
             [
              0.2222222222222222,
              "#7201a8"
             ],
             [
              0.3333333333333333,
              "#9c179e"
             ],
             [
              0.4444444444444444,
              "#bd3786"
             ],
             [
              0.5555555555555556,
              "#d8576b"
             ],
             [
              0.6666666666666666,
              "#ed7953"
             ],
             [
              0.7777777777777778,
              "#fb9f3a"
             ],
             [
              0.8888888888888888,
              "#fdca26"
             ],
             [
              1,
              "#f0f921"
             ]
            ],
            "type": "heatmap"
           }
          ],
          "heatmapgl": [
           {
            "colorbar": {
             "outlinewidth": 0,
             "ticks": ""
            },
            "colorscale": [
             [
              0,
              "#0d0887"
             ],
             [
              0.1111111111111111,
              "#46039f"
             ],
             [
              0.2222222222222222,
              "#7201a8"
             ],
             [
              0.3333333333333333,
              "#9c179e"
             ],
             [
              0.4444444444444444,
              "#bd3786"
             ],
             [
              0.5555555555555556,
              "#d8576b"
             ],
             [
              0.6666666666666666,
              "#ed7953"
             ],
             [
              0.7777777777777778,
              "#fb9f3a"
             ],
             [
              0.8888888888888888,
              "#fdca26"
             ],
             [
              1,
              "#f0f921"
             ]
            ],
            "type": "heatmapgl"
           }
          ],
          "histogram": [
           {
            "marker": {
             "pattern": {
              "fillmode": "overlay",
              "size": 10,
              "solidity": 0.2
             }
            },
            "type": "histogram"
           }
          ],
          "histogram2d": [
           {
            "colorbar": {
             "outlinewidth": 0,
             "ticks": ""
            },
            "colorscale": [
             [
              0,
              "#0d0887"
             ],
             [
              0.1111111111111111,
              "#46039f"
             ],
             [
              0.2222222222222222,
              "#7201a8"
             ],
             [
              0.3333333333333333,
              "#9c179e"
             ],
             [
              0.4444444444444444,
              "#bd3786"
             ],
             [
              0.5555555555555556,
              "#d8576b"
             ],
             [
              0.6666666666666666,
              "#ed7953"
             ],
             [
              0.7777777777777778,
              "#fb9f3a"
             ],
             [
              0.8888888888888888,
              "#fdca26"
             ],
             [
              1,
              "#f0f921"
             ]
            ],
            "type": "histogram2d"
           }
          ],
          "histogram2dcontour": [
           {
            "colorbar": {
             "outlinewidth": 0,
             "ticks": ""
            },
            "colorscale": [
             [
              0,
              "#0d0887"
             ],
             [
              0.1111111111111111,
              "#46039f"
             ],
             [
              0.2222222222222222,
              "#7201a8"
             ],
             [
              0.3333333333333333,
              "#9c179e"
             ],
             [
              0.4444444444444444,
              "#bd3786"
             ],
             [
              0.5555555555555556,
              "#d8576b"
             ],
             [
              0.6666666666666666,
              "#ed7953"
             ],
             [
              0.7777777777777778,
              "#fb9f3a"
             ],
             [
              0.8888888888888888,
              "#fdca26"
             ],
             [
              1,
              "#f0f921"
             ]
            ],
            "type": "histogram2dcontour"
           }
          ],
          "mesh3d": [
           {
            "colorbar": {
             "outlinewidth": 0,
             "ticks": ""
            },
            "type": "mesh3d"
           }
          ],
          "parcoords": [
           {
            "line": {
             "colorbar": {
              "outlinewidth": 0,
              "ticks": ""
             }
            },
            "type": "parcoords"
           }
          ],
          "pie": [
           {
            "automargin": true,
            "type": "pie"
           }
          ],
          "scatter": [
           {
            "marker": {
             "colorbar": {
              "outlinewidth": 0,
              "ticks": ""
             }
            },
            "type": "scatter"
           }
          ],
          "scatter3d": [
           {
            "line": {
             "colorbar": {
              "outlinewidth": 0,
              "ticks": ""
             }
            },
            "marker": {
             "colorbar": {
              "outlinewidth": 0,
              "ticks": ""
             }
            },
            "type": "scatter3d"
           }
          ],
          "scattercarpet": [
           {
            "marker": {
             "colorbar": {
              "outlinewidth": 0,
              "ticks": ""
             }
            },
            "type": "scattercarpet"
           }
          ],
          "scattergeo": [
           {
            "marker": {
             "colorbar": {
              "outlinewidth": 0,
              "ticks": ""
             }
            },
            "type": "scattergeo"
           }
          ],
          "scattergl": [
           {
            "marker": {
             "colorbar": {
              "outlinewidth": 0,
              "ticks": ""
             }
            },
            "type": "scattergl"
           }
          ],
          "scattermapbox": [
           {
            "marker": {
             "colorbar": {
              "outlinewidth": 0,
              "ticks": ""
             }
            },
            "type": "scattermapbox"
           }
          ],
          "scatterpolar": [
           {
            "marker": {
             "colorbar": {
              "outlinewidth": 0,
              "ticks": ""
             }
            },
            "type": "scatterpolar"
           }
          ],
          "scatterpolargl": [
           {
            "marker": {
             "colorbar": {
              "outlinewidth": 0,
              "ticks": ""
             }
            },
            "type": "scatterpolargl"
           }
          ],
          "scatterternary": [
           {
            "marker": {
             "colorbar": {
              "outlinewidth": 0,
              "ticks": ""
             }
            },
            "type": "scatterternary"
           }
          ],
          "surface": [
           {
            "colorbar": {
             "outlinewidth": 0,
             "ticks": ""
            },
            "colorscale": [
             [
              0,
              "#0d0887"
             ],
             [
              0.1111111111111111,
              "#46039f"
             ],
             [
              0.2222222222222222,
              "#7201a8"
             ],
             [
              0.3333333333333333,
              "#9c179e"
             ],
             [
              0.4444444444444444,
              "#bd3786"
             ],
             [
              0.5555555555555556,
              "#d8576b"
             ],
             [
              0.6666666666666666,
              "#ed7953"
             ],
             [
              0.7777777777777778,
              "#fb9f3a"
             ],
             [
              0.8888888888888888,
              "#fdca26"
             ],
             [
              1,
              "#f0f921"
             ]
            ],
            "type": "surface"
           }
          ],
          "table": [
           {
            "cells": {
             "fill": {
              "color": "#EBF0F8"
             },
             "line": {
              "color": "white"
             }
            },
            "header": {
             "fill": {
              "color": "#C8D4E3"
             },
             "line": {
              "color": "white"
             }
            },
            "type": "table"
           }
          ]
         },
         "layout": {
          "annotationdefaults": {
           "arrowcolor": "#2a3f5f",
           "arrowhead": 0,
           "arrowwidth": 1
          },
          "autotypenumbers": "strict",
          "coloraxis": {
           "colorbar": {
            "outlinewidth": 0,
            "ticks": ""
           }
          },
          "colorscale": {
           "diverging": [
            [
             0,
             "#8e0152"
            ],
            [
             0.1,
             "#c51b7d"
            ],
            [
             0.2,
             "#de77ae"
            ],
            [
             0.3,
             "#f1b6da"
            ],
            [
             0.4,
             "#fde0ef"
            ],
            [
             0.5,
             "#f7f7f7"
            ],
            [
             0.6,
             "#e6f5d0"
            ],
            [
             0.7,
             "#b8e186"
            ],
            [
             0.8,
             "#7fbc41"
            ],
            [
             0.9,
             "#4d9221"
            ],
            [
             1,
             "#276419"
            ]
           ],
           "sequential": [
            [
             0,
             "#0d0887"
            ],
            [
             0.1111111111111111,
             "#46039f"
            ],
            [
             0.2222222222222222,
             "#7201a8"
            ],
            [
             0.3333333333333333,
             "#9c179e"
            ],
            [
             0.4444444444444444,
             "#bd3786"
            ],
            [
             0.5555555555555556,
             "#d8576b"
            ],
            [
             0.6666666666666666,
             "#ed7953"
            ],
            [
             0.7777777777777778,
             "#fb9f3a"
            ],
            [
             0.8888888888888888,
             "#fdca26"
            ],
            [
             1,
             "#f0f921"
            ]
           ],
           "sequentialminus": [
            [
             0,
             "#0d0887"
            ],
            [
             0.1111111111111111,
             "#46039f"
            ],
            [
             0.2222222222222222,
             "#7201a8"
            ],
            [
             0.3333333333333333,
             "#9c179e"
            ],
            [
             0.4444444444444444,
             "#bd3786"
            ],
            [
             0.5555555555555556,
             "#d8576b"
            ],
            [
             0.6666666666666666,
             "#ed7953"
            ],
            [
             0.7777777777777778,
             "#fb9f3a"
            ],
            [
             0.8888888888888888,
             "#fdca26"
            ],
            [
             1,
             "#f0f921"
            ]
           ]
          },
          "colorway": [
           "#636efa",
           "#EF553B",
           "#00cc96",
           "#ab63fa",
           "#FFA15A",
           "#19d3f3",
           "#FF6692",
           "#B6E880",
           "#FF97FF",
           "#FECB52"
          ],
          "font": {
           "color": "#2a3f5f"
          },
          "geo": {
           "bgcolor": "white",
           "lakecolor": "white",
           "landcolor": "#E5ECF6",
           "showlakes": true,
           "showland": true,
           "subunitcolor": "white"
          },
          "hoverlabel": {
           "align": "left"
          },
          "hovermode": "closest",
          "mapbox": {
           "style": "light"
          },
          "paper_bgcolor": "white",
          "plot_bgcolor": "#E5ECF6",
          "polar": {
           "angularaxis": {
            "gridcolor": "white",
            "linecolor": "white",
            "ticks": ""
           },
           "bgcolor": "#E5ECF6",
           "radialaxis": {
            "gridcolor": "white",
            "linecolor": "white",
            "ticks": ""
           }
          },
          "scene": {
           "xaxis": {
            "backgroundcolor": "#E5ECF6",
            "gridcolor": "white",
            "gridwidth": 2,
            "linecolor": "white",
            "showbackground": true,
            "ticks": "",
            "zerolinecolor": "white"
           },
           "yaxis": {
            "backgroundcolor": "#E5ECF6",
            "gridcolor": "white",
            "gridwidth": 2,
            "linecolor": "white",
            "showbackground": true,
            "ticks": "",
            "zerolinecolor": "white"
           },
           "zaxis": {
            "backgroundcolor": "#E5ECF6",
            "gridcolor": "white",
            "gridwidth": 2,
            "linecolor": "white",
            "showbackground": true,
            "ticks": "",
            "zerolinecolor": "white"
           }
          },
          "shapedefaults": {
           "line": {
            "color": "#2a3f5f"
           }
          },
          "ternary": {
           "aaxis": {
            "gridcolor": "white",
            "linecolor": "white",
            "ticks": ""
           },
           "baxis": {
            "gridcolor": "white",
            "linecolor": "white",
            "ticks": ""
           },
           "bgcolor": "#E5ECF6",
           "caxis": {
            "gridcolor": "white",
            "linecolor": "white",
            "ticks": ""
           }
          },
          "title": {
           "x": 0.05
          },
          "xaxis": {
           "automargin": true,
           "gridcolor": "white",
           "linecolor": "white",
           "ticks": "",
           "title": {
            "standoff": 15
           },
           "zerolinecolor": "white",
           "zerolinewidth": 2
          },
          "yaxis": {
           "automargin": true,
           "gridcolor": "white",
           "linecolor": "white",
           "ticks": "",
           "title": {
            "standoff": 15
           },
           "zerolinecolor": "white",
           "zerolinewidth": 2
          }
         }
        },
        "title": {
         "text": "Разбивка облигаций по размеру купона относительно ключевой ставки ЦБ"
        },
        "xaxis": {
         "title": {
          "text": "Группы"
         }
        },
        "yaxis": {
         "title": {
          "text": "Количество облигаций группы"
         }
        }
       }
      },
      "text/html": [
       "<div>                            <div id=\"d8ac6262-9d5b-40e9-a2f6-171c5e3d61d5\" class=\"plotly-graph-div\" style=\"height:525px; width:100%;\"></div>            <script type=\"text/javascript\">                require([\"plotly\"], function(Plotly) {                    window.PLOTLYENV=window.PLOTLYENV || {};                                    if (document.getElementById(\"d8ac6262-9d5b-40e9-a2f6-171c5e3d61d5\")) {                    Plotly.newPlot(                        \"d8ac6262-9d5b-40e9-a2f6-171c5e3d61d5\",                        [{\"labels\":[1,2,3,4,5],\"sort\":false,\"values\":[72,510,701,773,232],\"type\":\"pie\"}],                        {\"template\":{\"data\":{\"bar\":[{\"error_x\":{\"color\":\"#2a3f5f\"},\"error_y\":{\"color\":\"#2a3f5f\"},\"marker\":{\"line\":{\"color\":\"#E5ECF6\",\"width\":0.5},\"pattern\":{\"fillmode\":\"overlay\",\"size\":10,\"solidity\":0.2}},\"type\":\"bar\"}],\"barpolar\":[{\"marker\":{\"line\":{\"color\":\"#E5ECF6\",\"width\":0.5},\"pattern\":{\"fillmode\":\"overlay\",\"size\":10,\"solidity\":0.2}},\"type\":\"barpolar\"}],\"carpet\":[{\"aaxis\":{\"endlinecolor\":\"#2a3f5f\",\"gridcolor\":\"white\",\"linecolor\":\"white\",\"minorgridcolor\":\"white\",\"startlinecolor\":\"#2a3f5f\"},\"baxis\":{\"endlinecolor\":\"#2a3f5f\",\"gridcolor\":\"white\",\"linecolor\":\"white\",\"minorgridcolor\":\"white\",\"startlinecolor\":\"#2a3f5f\"},\"type\":\"carpet\"}],\"choropleth\":[{\"colorbar\":{\"outlinewidth\":0,\"ticks\":\"\"},\"type\":\"choropleth\"}],\"contour\":[{\"colorbar\":{\"outlinewidth\":0,\"ticks\":\"\"},\"colorscale\":[[0.0,\"#0d0887\"],[0.1111111111111111,\"#46039f\"],[0.2222222222222222,\"#7201a8\"],[0.3333333333333333,\"#9c179e\"],[0.4444444444444444,\"#bd3786\"],[0.5555555555555556,\"#d8576b\"],[0.6666666666666666,\"#ed7953\"],[0.7777777777777778,\"#fb9f3a\"],[0.8888888888888888,\"#fdca26\"],[1.0,\"#f0f921\"]],\"type\":\"contour\"}],\"contourcarpet\":[{\"colorbar\":{\"outlinewidth\":0,\"ticks\":\"\"},\"type\":\"contourcarpet\"}],\"heatmap\":[{\"colorbar\":{\"outlinewidth\":0,\"ticks\":\"\"},\"colorscale\":[[0.0,\"#0d0887\"],[0.1111111111111111,\"#46039f\"],[0.2222222222222222,\"#7201a8\"],[0.3333333333333333,\"#9c179e\"],[0.4444444444444444,\"#bd3786\"],[0.5555555555555556,\"#d8576b\"],[0.6666666666666666,\"#ed7953\"],[0.7777777777777778,\"#fb9f3a\"],[0.8888888888888888,\"#fdca26\"],[1.0,\"#f0f921\"]],\"type\":\"heatmap\"}],\"heatmapgl\":[{\"colorbar\":{\"outlinewidth\":0,\"ticks\":\"\"},\"colorscale\":[[0.0,\"#0d0887\"],[0.1111111111111111,\"#46039f\"],[0.2222222222222222,\"#7201a8\"],[0.3333333333333333,\"#9c179e\"],[0.4444444444444444,\"#bd3786\"],[0.5555555555555556,\"#d8576b\"],[0.6666666666666666,\"#ed7953\"],[0.7777777777777778,\"#fb9f3a\"],[0.8888888888888888,\"#fdca26\"],[1.0,\"#f0f921\"]],\"type\":\"heatmapgl\"}],\"histogram\":[{\"marker\":{\"pattern\":{\"fillmode\":\"overlay\",\"size\":10,\"solidity\":0.2}},\"type\":\"histogram\"}],\"histogram2d\":[{\"colorbar\":{\"outlinewidth\":0,\"ticks\":\"\"},\"colorscale\":[[0.0,\"#0d0887\"],[0.1111111111111111,\"#46039f\"],[0.2222222222222222,\"#7201a8\"],[0.3333333333333333,\"#9c179e\"],[0.4444444444444444,\"#bd3786\"],[0.5555555555555556,\"#d8576b\"],[0.6666666666666666,\"#ed7953\"],[0.7777777777777778,\"#fb9f3a\"],[0.8888888888888888,\"#fdca26\"],[1.0,\"#f0f921\"]],\"type\":\"histogram2d\"}],\"histogram2dcontour\":[{\"colorbar\":{\"outlinewidth\":0,\"ticks\":\"\"},\"colorscale\":[[0.0,\"#0d0887\"],[0.1111111111111111,\"#46039f\"],[0.2222222222222222,\"#7201a8\"],[0.3333333333333333,\"#9c179e\"],[0.4444444444444444,\"#bd3786\"],[0.5555555555555556,\"#d8576b\"],[0.6666666666666666,\"#ed7953\"],[0.7777777777777778,\"#fb9f3a\"],[0.8888888888888888,\"#fdca26\"],[1.0,\"#f0f921\"]],\"type\":\"histogram2dcontour\"}],\"mesh3d\":[{\"colorbar\":{\"outlinewidth\":0,\"ticks\":\"\"},\"type\":\"mesh3d\"}],\"parcoords\":[{\"line\":{\"colorbar\":{\"outlinewidth\":0,\"ticks\":\"\"}},\"type\":\"parcoords\"}],\"pie\":[{\"automargin\":true,\"type\":\"pie\"}],\"scatter\":[{\"marker\":{\"colorbar\":{\"outlinewidth\":0,\"ticks\":\"\"}},\"type\":\"scatter\"}],\"scatter3d\":[{\"line\":{\"colorbar\":{\"outlinewidth\":0,\"ticks\":\"\"}},\"marker\":{\"colorbar\":{\"outlinewidth\":0,\"ticks\":\"\"}},\"type\":\"scatter3d\"}],\"scattercarpet\":[{\"marker\":{\"colorbar\":{\"outlinewidth\":0,\"ticks\":\"\"}},\"type\":\"scattercarpet\"}],\"scattergeo\":[{\"marker\":{\"colorbar\":{\"outlinewidth\":0,\"ticks\":\"\"}},\"type\":\"scattergeo\"}],\"scattergl\":[{\"marker\":{\"colorbar\":{\"outlinewidth\":0,\"ticks\":\"\"}},\"type\":\"scattergl\"}],\"scattermapbox\":[{\"marker\":{\"colorbar\":{\"outlinewidth\":0,\"ticks\":\"\"}},\"type\":\"scattermapbox\"}],\"scatterpolar\":[{\"marker\":{\"colorbar\":{\"outlinewidth\":0,\"ticks\":\"\"}},\"type\":\"scatterpolar\"}],\"scatterpolargl\":[{\"marker\":{\"colorbar\":{\"outlinewidth\":0,\"ticks\":\"\"}},\"type\":\"scatterpolargl\"}],\"scatterternary\":[{\"marker\":{\"colorbar\":{\"outlinewidth\":0,\"ticks\":\"\"}},\"type\":\"scatterternary\"}],\"surface\":[{\"colorbar\":{\"outlinewidth\":0,\"ticks\":\"\"},\"colorscale\":[[0.0,\"#0d0887\"],[0.1111111111111111,\"#46039f\"],[0.2222222222222222,\"#7201a8\"],[0.3333333333333333,\"#9c179e\"],[0.4444444444444444,\"#bd3786\"],[0.5555555555555556,\"#d8576b\"],[0.6666666666666666,\"#ed7953\"],[0.7777777777777778,\"#fb9f3a\"],[0.8888888888888888,\"#fdca26\"],[1.0,\"#f0f921\"]],\"type\":\"surface\"}],\"table\":[{\"cells\":{\"fill\":{\"color\":\"#EBF0F8\"},\"line\":{\"color\":\"white\"}},\"header\":{\"fill\":{\"color\":\"#C8D4E3\"},\"line\":{\"color\":\"white\"}},\"type\":\"table\"}]},\"layout\":{\"annotationdefaults\":{\"arrowcolor\":\"#2a3f5f\",\"arrowhead\":0,\"arrowwidth\":1},\"autotypenumbers\":\"strict\",\"coloraxis\":{\"colorbar\":{\"outlinewidth\":0,\"ticks\":\"\"}},\"colorscale\":{\"diverging\":[[0,\"#8e0152\"],[0.1,\"#c51b7d\"],[0.2,\"#de77ae\"],[0.3,\"#f1b6da\"],[0.4,\"#fde0ef\"],[0.5,\"#f7f7f7\"],[0.6,\"#e6f5d0\"],[0.7,\"#b8e186\"],[0.8,\"#7fbc41\"],[0.9,\"#4d9221\"],[1,\"#276419\"]],\"sequential\":[[0.0,\"#0d0887\"],[0.1111111111111111,\"#46039f\"],[0.2222222222222222,\"#7201a8\"],[0.3333333333333333,\"#9c179e\"],[0.4444444444444444,\"#bd3786\"],[0.5555555555555556,\"#d8576b\"],[0.6666666666666666,\"#ed7953\"],[0.7777777777777778,\"#fb9f3a\"],[0.8888888888888888,\"#fdca26\"],[1.0,\"#f0f921\"]],\"sequentialminus\":[[0.0,\"#0d0887\"],[0.1111111111111111,\"#46039f\"],[0.2222222222222222,\"#7201a8\"],[0.3333333333333333,\"#9c179e\"],[0.4444444444444444,\"#bd3786\"],[0.5555555555555556,\"#d8576b\"],[0.6666666666666666,\"#ed7953\"],[0.7777777777777778,\"#fb9f3a\"],[0.8888888888888888,\"#fdca26\"],[1.0,\"#f0f921\"]]},\"colorway\":[\"#636efa\",\"#EF553B\",\"#00cc96\",\"#ab63fa\",\"#FFA15A\",\"#19d3f3\",\"#FF6692\",\"#B6E880\",\"#FF97FF\",\"#FECB52\"],\"font\":{\"color\":\"#2a3f5f\"},\"geo\":{\"bgcolor\":\"white\",\"lakecolor\":\"white\",\"landcolor\":\"#E5ECF6\",\"showlakes\":true,\"showland\":true,\"subunitcolor\":\"white\"},\"hoverlabel\":{\"align\":\"left\"},\"hovermode\":\"closest\",\"mapbox\":{\"style\":\"light\"},\"paper_bgcolor\":\"white\",\"plot_bgcolor\":\"#E5ECF6\",\"polar\":{\"angularaxis\":{\"gridcolor\":\"white\",\"linecolor\":\"white\",\"ticks\":\"\"},\"bgcolor\":\"#E5ECF6\",\"radialaxis\":{\"gridcolor\":\"white\",\"linecolor\":\"white\",\"ticks\":\"\"}},\"scene\":{\"xaxis\":{\"backgroundcolor\":\"#E5ECF6\",\"gridcolor\":\"white\",\"gridwidth\":2,\"linecolor\":\"white\",\"showbackground\":true,\"ticks\":\"\",\"zerolinecolor\":\"white\"},\"yaxis\":{\"backgroundcolor\":\"#E5ECF6\",\"gridcolor\":\"white\",\"gridwidth\":2,\"linecolor\":\"white\",\"showbackground\":true,\"ticks\":\"\",\"zerolinecolor\":\"white\"},\"zaxis\":{\"backgroundcolor\":\"#E5ECF6\",\"gridcolor\":\"white\",\"gridwidth\":2,\"linecolor\":\"white\",\"showbackground\":true,\"ticks\":\"\",\"zerolinecolor\":\"white\"}},\"shapedefaults\":{\"line\":{\"color\":\"#2a3f5f\"}},\"ternary\":{\"aaxis\":{\"gridcolor\":\"white\",\"linecolor\":\"white\",\"ticks\":\"\"},\"baxis\":{\"gridcolor\":\"white\",\"linecolor\":\"white\",\"ticks\":\"\"},\"bgcolor\":\"#E5ECF6\",\"caxis\":{\"gridcolor\":\"white\",\"linecolor\":\"white\",\"ticks\":\"\"}},\"title\":{\"x\":0.05},\"xaxis\":{\"automargin\":true,\"gridcolor\":\"white\",\"linecolor\":\"white\",\"ticks\":\"\",\"title\":{\"standoff\":15},\"zerolinecolor\":\"white\",\"zerolinewidth\":2},\"yaxis\":{\"automargin\":true,\"gridcolor\":\"white\",\"linecolor\":\"white\",\"ticks\":\"\",\"title\":{\"standoff\":15},\"zerolinecolor\":\"white\",\"zerolinewidth\":2}}},\"legend\":{\"orientation\":\"h\",\"x\":0.5,\"xanchor\":\"center\"},\"margin\":{\"l\":0,\"r\":0,\"t\":30,\"b\":0},\"title\":{\"text\":\"\\u0420\\u0430\\u0437\\u0431\\u0438\\u0432\\u043a\\u0430 \\u043e\\u0431\\u043b\\u0438\\u0433\\u0430\\u0446\\u0438\\u0439 \\u043f\\u043e \\u0440\\u0430\\u0437\\u043c\\u0435\\u0440\\u0443 \\u043a\\u0443\\u043f\\u043e\\u043d\\u0430 \\u043e\\u0442\\u043d\\u043e\\u0441\\u0438\\u0442\\u0435\\u043b\\u044c\\u043d\\u043e \\u043a\\u043b\\u044e\\u0447\\u0435\\u0432\\u043e\\u0439 \\u0441\\u0442\\u0430\\u0432\\u043a\\u0438 \\u0426\\u0411\"},\"xaxis\":{\"title\":{\"text\":\"\\u0413\\u0440\\u0443\\u043f\\u043f\\u044b\"}},\"yaxis\":{\"title\":{\"text\":\"\\u041a\\u043e\\u043b\\u0438\\u0447\\u0435\\u0441\\u0442\\u0432\\u043e \\u043e\\u0431\\u043b\\u0438\\u0433\\u0430\\u0446\\u0438\\u0439 \\u0433\\u0440\\u0443\\u043f\\u043f\\u044b\"}},\"annotations\":[{\"showarrow\":false,\"text\":\"1 \\u0433\\u0440\\u0443\\u043f\\u043f\\u0430 - \\u043e\\u0431\\u043b\\u0438\\u0433\\u0430\\u0446\\u0438\\u0438 \\u0431\\u0435\\u0437\\u043a\\u0443\\u043f\\u043e\\u043d\\u043d\\u044b\\u0435 (0%)<br>2 \\u0433\\u0440\\u0443\\u043f\\u043f\\u0430 - \\u043e\\u0431\\u043b\\u0438\\u0433\\u0430\\u0446\\u0438\\u0438 \\u0441 \\u043f\\u0435\\u0440\\u0435\\u043c\\u0435\\u043d\\u043d\\u044b\\u043c(\\u0438\\u043d\\u0434\\u0435\\u043a\\u0441\\u0438\\u0440\\u0443\\u0435\\u043c\\u044b\\u043c) \\u043a\\u0443\\u043f\\u043e\\u043d\\u043e\\u043c (0.1%+)<br>3 \\u0433\\u0440\\u0443\\u043f\\u043f\\u0430 \\u043e\\u0431\\u043b\\u0438\\u0433\\u0430\\u0446\\u0438\\u0438 \\u0441 \\u043a\\u0443\\u043f\\u043e\\u043d\\u043e\\u043c \\u043e\\u0442 0.1 \\u0434\\u043e \\u0441\\u0442\\u0430\\u0432\\u043a\\u0438 \\u0426\\u0411<br>4 \\u0433\\u0440\\u0443\\u043f\\u043f\\u0430 \\u043e\\u0431\\u043b\\u0438\\u0433\\u0430\\u0446\\u0438\\u0438 \\u0441 \\u043a\\u0443\\u043f\\u043e\\u043d\\u043e\\u043c \\u043e\\u0442 \\u0441\\u0442\\u0430\\u0432\\u043a\\u0438 \\u0426\\u0411 \\u0434\\u043e \\u0441\\u0442\\u0430\\u0432\\u043a\\u0438 \\u0426\\u0411+5%<br> 5 \\u0433\\u0440\\u0443\\u043f\\u043f\\u0430 \\u043e\\u0431\\u043b\\u0438\\u0433\\u0430\\u0446\\u0438\\u0438 \\u0441 \\u043a\\u0443\\u043f\\u043e\\u043d\\u043e\\u043c \\u0431\\u043e\\u043b\\u0435\\u0435 \\u0441\\u0442\\u0430\\u0432\\u043a\\u0438 \\u0426\\u0411+5%\",\"x\":0,\"y\":1,\"font\":{\"size\":10}}]},                        {\"responsive\": true}                    ).then(function(){\n",
       "                            \n",
       "var gd = document.getElementById('d8ac6262-9d5b-40e9-a2f6-171c5e3d61d5');\n",
       "var x = new MutationObserver(function (mutations, observer) {{\n",
       "        var display = window.getComputedStyle(gd).display;\n",
       "        if (!display || display === 'none') {{\n",
       "            console.log([gd, 'removed!']);\n",
       "            Plotly.purge(gd);\n",
       "            observer.disconnect();\n",
       "        }}\n",
       "}});\n",
       "\n",
       "// Listen for the removal of the full notebook cells\n",
       "var notebookContainer = gd.closest('#notebook-container');\n",
       "if (notebookContainer) {{\n",
       "    x.observe(notebookContainer, {childList: true});\n",
       "}}\n",
       "\n",
       "// Listen for the clearing of the current output cell\n",
       "var outputEl = gd.closest('.output');\n",
       "if (outputEl) {{\n",
       "    x.observe(outputEl, {childList: true});\n",
       "}}\n",
       "\n",
       "                        })                };                });            </script>        </div>"
      ]
     },
     "metadata": {},
     "output_type": "display_data"
    }
   ],
   "source": [
    "# строим график №3\n",
    "fig = go.Figure()\n",
    "fig.add_trace(go.Pie(values=t1['count'], labels=t1.index, sort = False))\n",
    "fig.update_layout(legend_orientation=\"h\",\n",
    "                  legend=dict(x=.5, xanchor=\"center\"),\n",
    "                  title=\"Разбивка облигаций по размеру купона относительно ключевой ставки ЦБ\",\n",
    "                  xaxis_title=\"Группы\", \n",
    "                  yaxis_title=\"Количество облигаций группы\",\n",
    "                  margin=dict(l=0, r=0, t=30, b=0),\n",
    "                  annotations=[dict(text='1 группа - облигации безкупонные (0%)<br>2 группа - облигации с переменным(индексируемым) купоном (0.1%+)<br>3 группа облигации с купоном от 0.1 до ставки ЦБ<br>4 группа облигации с купоном от ставки ЦБ до ставки ЦБ+5%<br> 5 группа облигации с купоном более ставки ЦБ+5%', x=0, y=1, font_size=10, showarrow=False)])\n",
    "\n",
    "fig.show()"
   ]
  },
  {
   "cell_type": "code",
   "execution_count": 206,
   "id": "0e88d5d2",
   "metadata": {},
   "outputs": [
    {
     "data": {
      "application/vnd.plotly.v1+json": {
       "config": {
        "plotlyServerURL": "https://plot.ly"
       },
       "data": [
        {
         "hovertemplate": "COUPONFREQUENCY=%{x}<br>index=%{y}<extra></extra>",
         "legendgroup": "",
         "marker": {
          "color": "#636efa",
          "symbol": "circle"
         },
         "mode": "markers",
         "name": "",
         "showlegend": false,
         "type": "scattergl",
         "x": [
          0,
          2,
          2,
          2,
          2,
          1,
          4,
          2,
          2,
          2,
          2,
          2,
          2,
          2,
          2,
          2,
          2,
          2,
          2,
          1,
          2,
          2,
          2,
          1,
          2,
          2,
          2,
          2,
          2,
          2,
          2,
          1,
          4,
          1,
          1,
          2,
          2,
          2,
          2,
          2,
          2,
          2,
          2,
          2,
          2,
          2,
          2,
          2,
          2,
          4,
          2,
          4,
          4,
          2,
          2,
          2,
          2,
          4,
          2,
          4,
          2,
          2,
          2,
          1,
          4,
          4,
          4,
          2,
          2,
          2,
          4,
          2,
          4,
          2,
          2,
          1,
          2,
          2,
          2,
          2,
          2,
          2,
          2,
          2,
          4,
          4,
          4,
          4,
          2,
          2,
          2,
          2,
          2,
          2,
          2,
          2,
          2,
          2,
          4,
          4,
          4,
          4,
          4,
          4,
          4,
          2,
          2,
          2,
          2,
          2,
          2,
          2,
          2,
          0,
          4,
          2,
          2,
          2,
          4,
          4,
          4,
          2,
          2,
          1,
          2,
          4,
          4,
          2,
          2,
          2,
          2,
          2,
          2,
          2,
          2,
          2,
          2,
          4,
          2,
          4,
          4,
          2,
          4,
          4,
          2,
          2,
          4,
          2,
          2,
          2,
          4,
          2,
          2,
          2,
          4,
          2,
          2,
          4,
          2,
          4,
          2,
          2,
          2,
          4,
          2,
          2,
          2,
          2,
          2,
          2,
          4,
          2,
          0,
          4,
          4,
          4,
          4,
          2,
          2,
          2,
          2,
          0,
          2,
          2,
          2,
          2,
          0,
          2,
          2,
          2,
          2,
          2,
          2,
          2,
          4,
          0,
          4,
          4,
          2,
          2,
          4,
          4,
          4,
          2,
          2,
          2,
          2,
          2,
          2,
          2,
          2,
          1,
          2,
          2,
          2,
          2,
          2,
          4,
          4,
          2,
          2,
          2,
          1,
          2,
          2,
          2,
          2,
          2,
          2,
          2,
          2,
          2,
          2,
          4,
          2,
          2,
          2,
          2,
          1,
          2,
          4,
          2,
          4,
          1,
          0,
          2,
          2,
          2,
          2,
          4,
          2,
          0,
          4,
          2,
          2,
          2,
          2,
          2,
          2,
          2,
          2,
          2,
          2,
          2,
          4,
          4,
          2,
          2,
          4,
          1,
          1,
          2,
          2,
          2,
          2,
          2,
          1,
          2,
          2,
          2,
          2,
          2,
          2,
          4,
          4,
          4,
          2,
          4,
          4,
          4,
          4,
          4,
          4,
          4,
          4,
          2,
          2,
          4,
          2,
          2,
          2,
          2,
          2,
          2,
          4,
          2,
          2,
          2,
          4,
          2,
          2,
          2,
          2,
          4,
          2,
          2,
          0,
          2,
          2,
          2,
          2,
          2,
          4,
          4,
          2,
          2,
          2,
          1,
          1,
          2,
          2,
          4,
          2,
          2,
          2,
          2,
          2,
          2,
          2,
          4,
          4,
          4,
          2,
          2,
          4,
          2,
          2,
          2,
          4,
          4,
          2,
          2,
          4,
          2,
          4,
          2,
          4,
          2,
          4,
          2,
          2,
          2,
          4,
          2,
          4,
          2,
          2,
          2,
          2,
          2,
          2,
          2,
          2,
          2,
          2,
          2,
          2,
          2,
          2,
          2,
          2,
          2,
          2,
          2,
          2,
          2,
          2,
          2,
          2,
          2,
          2,
          2,
          2,
          2,
          2,
          2,
          2,
          2,
          2,
          2,
          2,
          2,
          2,
          2,
          4,
          4,
          12,
          4,
          2,
          1,
          0,
          2,
          4,
          4,
          2,
          4,
          4,
          2,
          2,
          4,
          0,
          2,
          4,
          0,
          2,
          4,
          2,
          2,
          4,
          4,
          4,
          4,
          4,
          4,
          2,
          2,
          4,
          4,
          2,
          2,
          2,
          4,
          2,
          1,
          1,
          4,
          4,
          2,
          1,
          4,
          1,
          4,
          2,
          4,
          4,
          4,
          4,
          2,
          2,
          2,
          4,
          4,
          2,
          4,
          4,
          4,
          2,
          4,
          4,
          2,
          2,
          2,
          2,
          4,
          2,
          2,
          4,
          4,
          2,
          4,
          1,
          2,
          4,
          4,
          2,
          2,
          4,
          2,
          2,
          2,
          2,
          4,
          4,
          2,
          2,
          4,
          2,
          2,
          2,
          2,
          2,
          2,
          2,
          2,
          2,
          2,
          2,
          2,
          2,
          2,
          2,
          2,
          2,
          2,
          2,
          2,
          2,
          2,
          12,
          2,
          4,
          2,
          2,
          4,
          2,
          1,
          2,
          2,
          2,
          2,
          2,
          2,
          4,
          2,
          2,
          2,
          2,
          2,
          12,
          4,
          4,
          4,
          4,
          2,
          2,
          12,
          2,
          4,
          4,
          2,
          2,
          2,
          2,
          4,
          4,
          2,
          2,
          2,
          2,
          2,
          0,
          2,
          4,
          4,
          4,
          2,
          4,
          4,
          2,
          4,
          2,
          0,
          4,
          4,
          2,
          4,
          1,
          2,
          2,
          2,
          2,
          4,
          4,
          2,
          2,
          3,
          3,
          3,
          3,
          3,
          3,
          3,
          3,
          3,
          3,
          3,
          3,
          3,
          2,
          2,
          4,
          4,
          4,
          2,
          4,
          12,
          1,
          2,
          2,
          2,
          4,
          4,
          4,
          2,
          12,
          1,
          4,
          2,
          2,
          4,
          4,
          2,
          4,
          2,
          4,
          4,
          4,
          2,
          4,
          2,
          2,
          4,
          12,
          4,
          2,
          2,
          0,
          0,
          2,
          2,
          2,
          0,
          2,
          0,
          2,
          2,
          4,
          4,
          4,
          4,
          12,
          12,
          2,
          2,
          0,
          1,
          1,
          1,
          4,
          2,
          2,
          2,
          4,
          12,
          0,
          4,
          2,
          0,
          2,
          2,
          0,
          2,
          2,
          2,
          2,
          4,
          4,
          2,
          2,
          2,
          2,
          4,
          4,
          4,
          4,
          2,
          0,
          2,
          2,
          2,
          2,
          0,
          0,
          12,
          4,
          2,
          12,
          2,
          0,
          4,
          4,
          2,
          0,
          1,
          2,
          2,
          4,
          0,
          0,
          2,
          2,
          4,
          2,
          0,
          4,
          2,
          0,
          4,
          2,
          2,
          2,
          4,
          2,
          2,
          0,
          0,
          4,
          2,
          12,
          1,
          2,
          0,
          2,
          2,
          4,
          4,
          0,
          2,
          0,
          0,
          2,
          0,
          0,
          2,
          0,
          4,
          2,
          4,
          4,
          2,
          0,
          12,
          4,
          4,
          4,
          1,
          0,
          0,
          0,
          4,
          0,
          0,
          1,
          0,
          2,
          12,
          4,
          4,
          2,
          2,
          12,
          0,
          2,
          12,
          0,
          0,
          4,
          12,
          4,
          2,
          2,
          0,
          4,
          4,
          2,
          0,
          4,
          2,
          2,
          2,
          2,
          0,
          2,
          4,
          12,
          4,
          2,
          4,
          2,
          4,
          12,
          1,
          0,
          0,
          4,
          0,
          0,
          2,
          4,
          2,
          2,
          2,
          4,
          0,
          12,
          2,
          2,
          4,
          4,
          4,
          4,
          2,
          4,
          2,
          2,
          4,
          4,
          0,
          0,
          0,
          4,
          12,
          2,
          2,
          4,
          4,
          2,
          2,
          2,
          4,
          2,
          0,
          0,
          0,
          12,
          4,
          1,
          4,
          2,
          4,
          4,
          0,
          0,
          0,
          4,
          2,
          2,
          2,
          2,
          2,
          0,
          2,
          4,
          12,
          1,
          12,
          2,
          4,
          4,
          4,
          1,
          1,
          2,
          12,
          2,
          4,
          4,
          2,
          12,
          4,
          4,
          12,
          2,
          2,
          2,
          2,
          1,
          2,
          12,
          4,
          2,
          0,
          0,
          4,
          1,
          0,
          4,
          4,
          4,
          2,
          4,
          2,
          2,
          4,
          1,
          1,
          1,
          4,
          0,
          2,
          2,
          2,
          4,
          1,
          1,
          0,
          0,
          4,
          2,
          4,
          1,
          4,
          4,
          4,
          2,
          1,
          12,
          2,
          4,
          4,
          4,
          4,
          4,
          0,
          0,
          1,
          0,
          0,
          2,
          12,
          1,
          4,
          4,
          2,
          0,
          1,
          2,
          4,
          1,
          4,
          4,
          4,
          12,
          2,
          2,
          1,
          1,
          1,
          4,
          0,
          0,
          2,
          1,
          4,
          4,
          2,
          2,
          0,
          2,
          4,
          2,
          1,
          2,
          1,
          1,
          4,
          1,
          2,
          4,
          1,
          2,
          1,
          2,
          4,
          2,
          2,
          0,
          2,
          2,
          4,
          4,
          0,
          0,
          0,
          2,
          1,
          2,
          12,
          4,
          4,
          1,
          1,
          12,
          2,
          2,
          4,
          1,
          12,
          2,
          4,
          0,
          12,
          11,
          1,
          2,
          2,
          1,
          1,
          12,
          4,
          1,
          2,
          2,
          1,
          1,
          2,
          2,
          2,
          2,
          2,
          0,
          0,
          4,
          4,
          2,
          2,
          4,
          2,
          4,
          0,
          0,
          2,
          2,
          2,
          4,
          0,
          4,
          4,
          4,
          4,
          2,
          2,
          4,
          4,
          4,
          4,
          4,
          4,
          4,
          4,
          2,
          4,
          4,
          2,
          2,
          4,
          2,
          2,
          4,
          2,
          2,
          1,
          2,
          4,
          4,
          0,
          0,
          4,
          2,
          2,
          0,
          0,
          0,
          0,
          2,
          0,
          0,
          2,
          2,
          2,
          11,
          4,
          2,
          2,
          2,
          2,
          2,
          2,
          2,
          2,
          2,
          2,
          0,
          2,
          4,
          4,
          4,
          4,
          4,
          2,
          2,
          4,
          2,
          2,
          0,
          2,
          0,
          0,
          0,
          0,
          0,
          2,
          4,
          2,
          2,
          2,
          4,
          4,
          2,
          2,
          2,
          2,
          2,
          4,
          4,
          2,
          4,
          4,
          0,
          0,
          2,
          4,
          4,
          4,
          2,
          4,
          1,
          4,
          2,
          4,
          4,
          4,
          0,
          0,
          0,
          2,
          2,
          2,
          2,
          2,
          0,
          0,
          4,
          0,
          0,
          0,
          0,
          0,
          4,
          2,
          2,
          0,
          2,
          4,
          12,
          2,
          1,
          0,
          0,
          1,
          4,
          2,
          1,
          12,
          2,
          4,
          4,
          4,
          2,
          2,
          2,
          2,
          2,
          2,
          2,
          2,
          2,
          0,
          0,
          4,
          0,
          0,
          4,
          4,
          4,
          2,
          4,
          2,
          0,
          0,
          0,
          0,
          0,
          0,
          4,
          0,
          4,
          12,
          2,
          2,
          0,
          0,
          1,
          12,
          4,
          4,
          4,
          4,
          0,
          0,
          2,
          2,
          12,
          1,
          4,
          2,
          2,
          0,
          0,
          0,
          0,
          1,
          4,
          12,
          0,
          0,
          0,
          1,
          4,
          4,
          12,
          4,
          0,
          0,
          0,
          0,
          0,
          4,
          2,
          12,
          0,
          0,
          0,
          1,
          2,
          4,
          0,
          4,
          0,
          12,
          0,
          2,
          4,
          4,
          2,
          12,
          4,
          4,
          4,
          4,
          0,
          0,
          0,
          0,
          0,
          2,
          1,
          0,
          0,
          0,
          4,
          4,
          0,
          0,
          2,
          0,
          0,
          0,
          12,
          2,
          12,
          2,
          2,
          0,
          0,
          0,
          2,
          2,
          2,
          2,
          2,
          2,
          2,
          2,
          1,
          2,
          2,
          4,
          4,
          2,
          12,
          0,
          0,
          12,
          2,
          4,
          2,
          0,
          4,
          2,
          2,
          2,
          0,
          0,
          12,
          4,
          4,
          0,
          0,
          0,
          4,
          2,
          0,
          2,
          2,
          0,
          0,
          0,
          0,
          0,
          4,
          1,
          0,
          2,
          4,
          2,
          4,
          0,
          4,
          4,
          2,
          4,
          0,
          2,
          4,
          0,
          0,
          0,
          0,
          0,
          0,
          0,
          4,
          4,
          4,
          2,
          4,
          12,
          0,
          4,
          0,
          0,
          0,
          2,
          1,
          0,
          0,
          2,
          4,
          4,
          4,
          0,
          1,
          1,
          4,
          2,
          2,
          0,
          2,
          2,
          2,
          2,
          4,
          2,
          2,
          2,
          2,
          2,
          2,
          2,
          2,
          2,
          2,
          2,
          2,
          4,
          2,
          2,
          2,
          0,
          0,
          2,
          2,
          4,
          2,
          4,
          0,
          4,
          4,
          2,
          0,
          4,
          2,
          12,
          4,
          2,
          0,
          0,
          2,
          0,
          0,
          0,
          0,
          0,
          0,
          2,
          4,
          4,
          4,
          0,
          4,
          2,
          2,
          2,
          2,
          2,
          4,
          4,
          0,
          2,
          0,
          2,
          2,
          0,
          2,
          0,
          3,
          3,
          2,
          3,
          2,
          4,
          4,
          4,
          0,
          0,
          2,
          4,
          4,
          4,
          2,
          1,
          1,
          12,
          2,
          2,
          4,
          4,
          12,
          4,
          4,
          1,
          4,
          1,
          1,
          4,
          4,
          4,
          4,
          4,
          4,
          4,
          4,
          4,
          2,
          4,
          4,
          4,
          4,
          2,
          4,
          2,
          4,
          4,
          4,
          4,
          4,
          4,
          4,
          4,
          4,
          12,
          4,
          4,
          1,
          1,
          4,
          12,
          4,
          1,
          2,
          4,
          4,
          4,
          4,
          2,
          2,
          0,
          2,
          0,
          0,
          0,
          4,
          0,
          2,
          2,
          2,
          2,
          2,
          4,
          2,
          4,
          4,
          2,
          2,
          4,
          4,
          2,
          12,
          2,
          12,
          12,
          0,
          0,
          4,
          4,
          4,
          12,
          4,
          4,
          2,
          0,
          0,
          4,
          12,
          12,
          4,
          4,
          2,
          4,
          4,
          0,
          0,
          4,
          4,
          1,
          1,
          1,
          4,
          4,
          12,
          0,
          4,
          0,
          4,
          4,
          4,
          2,
          4,
          12,
          4,
          2,
          0,
          0,
          4,
          0,
          0,
          0,
          4,
          2,
          4,
          0,
          4,
          4,
          4,
          2,
          2,
          2,
          1,
          4,
          4,
          2,
          4,
          12,
          0,
          0,
          0,
          0,
          4,
          2,
          2,
          4,
          4,
          2,
          2,
          4,
          4,
          2,
          2,
          4,
          4,
          2,
          2,
          2,
          2,
          2,
          2,
          2,
          2,
          0,
          0,
          0,
          4,
          4,
          2,
          2,
          2,
          4,
          2,
          2,
          0,
          0,
          0,
          0,
          0,
          4,
          12,
          0,
          0,
          0,
          12,
          4,
          12,
          2,
          4,
          12,
          2,
          12,
          4,
          12,
          0,
          2,
          2,
          2,
          2,
          2,
          2,
          2,
          2,
          2,
          4,
          4,
          2,
          2,
          2,
          12,
          0,
          0,
          0,
          0,
          2,
          2,
          2,
          4,
          0,
          2,
          2,
          12,
          2,
          2,
          4,
          3,
          4,
          12,
          4,
          4,
          12,
          2,
          4,
          4,
          4,
          2,
          2,
          4,
          2,
          4,
          4,
          0,
          0,
          2,
          12,
          4,
          3,
          0,
          0,
          0,
          0,
          0,
          3,
          2,
          6,
          0,
          0,
          4,
          12,
          4,
          2,
          0,
          0,
          2,
          4,
          4,
          0,
          0,
          12,
          12,
          4,
          4,
          12,
          0,
          12,
          4,
          4,
          4,
          4,
          2,
          4,
          2,
          12,
          0,
          0,
          1,
          2,
          2,
          2,
          12,
          12,
          0,
          0,
          0,
          0,
          2,
          2,
          2,
          2,
          2,
          4,
          2,
          12,
          2,
          2,
          4,
          2,
          0,
          12,
          2,
          4,
          0,
          0,
          0,
          4,
          4,
          2,
          1,
          2,
          4,
          4,
          2,
          0,
          0,
          0,
          0,
          3,
          4,
          4,
          12,
          2,
          2,
          0,
          4,
          4,
          2,
          2,
          4,
          4,
          0,
          2,
          2,
          4,
          0,
          4,
          2,
          4,
          2,
          0,
          4,
          0,
          12,
          2,
          4,
          12,
          4,
          2,
          2,
          4,
          2,
          2,
          2,
          2,
          2,
          4,
          12,
          2,
          2,
          2,
          2,
          12,
          4,
          2,
          4,
          4,
          2,
          4,
          0,
          0,
          0,
          0,
          4,
          4,
          4,
          4,
          3,
          2,
          2,
          2,
          4,
          1,
          1,
          12,
          2,
          2,
          2,
          2,
          2,
          4,
          2,
          4,
          6,
          0,
          1,
          1,
          12,
          4,
          1,
          12,
          0,
          0,
          2,
          4,
          12,
          4,
          12,
          4,
          2,
          4,
          4,
          4,
          4,
          12,
          0,
          2,
          2,
          2,
          2,
          2,
          2,
          2,
          12,
          2,
          2,
          2,
          2,
          0,
          0,
          1,
          1,
          2,
          1,
          4,
          4,
          2,
          4,
          4,
          1,
          0,
          1,
          12,
          2,
          4,
          4,
          0,
          0,
          4,
          2,
          4,
          4,
          2,
          2,
          1,
          1,
          12,
          2,
          4,
          2,
          4,
          4,
          4,
          2,
          1,
          4,
          4,
          12,
          4,
          4,
          0,
          2,
          4,
          0,
          0,
          1,
          1,
          1,
          4,
          2,
          2,
          2,
          2,
          2,
          2,
          2,
          2,
          2,
          0,
          2,
          4,
          4,
          0,
          4,
          4,
          4,
          4,
          0,
          1,
          1,
          0,
          4,
          12,
          4,
          4,
          2,
          2,
          12,
          2,
          2,
          4,
          4,
          0,
          0,
          2,
          4,
          12,
          2,
          0,
          12,
          1,
          1,
          0,
          1,
          12,
          2,
          4,
          12,
          2,
          4,
          4,
          12,
          4,
          4,
          12,
          4,
          12,
          4,
          4,
          4,
          4,
          4,
          4,
          4,
          4,
          12,
          0,
          0,
          4,
          0,
          1,
          2,
          2,
          12,
          0,
          0,
          12,
          1,
          4,
          1,
          1,
          0,
          4,
          0,
          0,
          0,
          0,
          1,
          2,
          0,
          4,
          2,
          12,
          4,
          0,
          1,
          4,
          12,
          4,
          4,
          0,
          12,
          0,
          0,
          12,
          4,
          2,
          2,
          1,
          1,
          0,
          1,
          2,
          4,
          1,
          4,
          0,
          4,
          12,
          4,
          2,
          2,
          4,
          4,
          12,
          4,
          4,
          1,
          2,
          4,
          4,
          12,
          2,
          4,
          12,
          12,
          12,
          2,
          2,
          4,
          4,
          0,
          4,
          2,
          12,
          2,
          2,
          4,
          12,
          4,
          4,
          4,
          4,
          0,
          4,
          4,
          12,
          12,
          4,
          2,
          4,
          4,
          2,
          0,
          4,
          5,
          2,
          0,
          0,
          4,
          2,
          2,
          4,
          4,
          2,
          4,
          4,
          11,
          12,
          1,
          1,
          2,
          2,
          4,
          1,
          1,
          2,
          4,
          4,
          2,
          4,
          1,
          1,
          4,
          4,
          0,
          12,
          2,
          2,
          12,
          2,
          2,
          4,
          1,
          12,
          12,
          4,
          1,
          4,
          2,
          2,
          2,
          2,
          2,
          2,
          2,
          2,
          2,
          2,
          2,
          2,
          2,
          2,
          2,
          2,
          2,
          2,
          2,
          2,
          2,
          2,
          2,
          2,
          2,
          2,
          2,
          2,
          2,
          2,
          2,
          2,
          2,
          2,
          2,
          4,
          4,
          4,
          4,
          4,
          4,
          4,
          4,
          1,
          1,
          2,
          2,
          2,
          2,
          2,
          2,
          2,
          2,
          2,
          2,
          2,
          2,
          2,
          2,
          2,
          2,
          2,
          2,
          2,
          1,
          2,
          2,
          2,
          2,
          2,
          2,
          2,
          2,
          2,
          2,
          2,
          1,
          2,
          2,
          2,
          4,
          2,
          2,
          2,
          2,
          2,
          2,
          2,
          1,
          2,
          2,
          2,
          2,
          4,
          2,
          2,
          4,
          2,
          4,
          1,
          2,
          2,
          1,
          0,
          4
         ],
         "xaxis": "x",
         "y": [
          0,
          1,
          2,
          3,
          4,
          5,
          6,
          7,
          8,
          9,
          10,
          11,
          12,
          13,
          14,
          15,
          16,
          17,
          18,
          19,
          20,
          21,
          22,
          23,
          24,
          25,
          26,
          27,
          28,
          29,
          30,
          31,
          32,
          33,
          34,
          35,
          36,
          37,
          38,
          39,
          40,
          41,
          42,
          43,
          44,
          45,
          46,
          47,
          48,
          49,
          50,
          51,
          52,
          53,
          54,
          55,
          56,
          57,
          58,
          59,
          60,
          61,
          62,
          63,
          64,
          65,
          66,
          67,
          68,
          69,
          70,
          71,
          72,
          73,
          74,
          75,
          76,
          77,
          78,
          79,
          80,
          81,
          82,
          83,
          84,
          85,
          86,
          87,
          88,
          89,
          90,
          91,
          92,
          93,
          94,
          95,
          96,
          97,
          98,
          99,
          100,
          101,
          102,
          103,
          104,
          105,
          106,
          107,
          108,
          109,
          110,
          111,
          112,
          113,
          114,
          115,
          116,
          117,
          118,
          119,
          120,
          121,
          122,
          123,
          124,
          125,
          126,
          127,
          128,
          129,
          130,
          131,
          132,
          133,
          134,
          135,
          136,
          137,
          138,
          139,
          140,
          141,
          142,
          143,
          144,
          145,
          146,
          147,
          148,
          149,
          150,
          151,
          152,
          153,
          154,
          155,
          156,
          157,
          158,
          159,
          160,
          161,
          162,
          163,
          164,
          165,
          166,
          167,
          168,
          169,
          170,
          171,
          172,
          173,
          174,
          175,
          176,
          177,
          178,
          179,
          180,
          181,
          182,
          183,
          184,
          185,
          186,
          187,
          188,
          189,
          190,
          191,
          192,
          193,
          194,
          195,
          196,
          197,
          198,
          199,
          200,
          201,
          202,
          203,
          204,
          205,
          206,
          207,
          208,
          209,
          210,
          211,
          212,
          213,
          214,
          215,
          216,
          217,
          218,
          219,
          220,
          221,
          222,
          223,
          224,
          225,
          226,
          227,
          228,
          229,
          230,
          231,
          232,
          233,
          234,
          235,
          236,
          237,
          238,
          239,
          240,
          241,
          242,
          243,
          244,
          245,
          246,
          247,
          248,
          249,
          250,
          251,
          252,
          253,
          254,
          255,
          256,
          257,
          258,
          259,
          260,
          261,
          262,
          263,
          264,
          265,
          266,
          267,
          268,
          269,
          270,
          271,
          272,
          273,
          274,
          275,
          276,
          277,
          278,
          279,
          280,
          281,
          282,
          283,
          284,
          285,
          286,
          287,
          288,
          289,
          290,
          291,
          292,
          293,
          294,
          295,
          296,
          297,
          298,
          299,
          300,
          301,
          302,
          303,
          304,
          305,
          306,
          307,
          308,
          309,
          310,
          311,
          312,
          313,
          314,
          315,
          316,
          317,
          318,
          319,
          320,
          321,
          322,
          323,
          324,
          325,
          326,
          327,
          328,
          329,
          330,
          331,
          332,
          333,
          334,
          335,
          336,
          337,
          338,
          339,
          340,
          341,
          342,
          343,
          344,
          345,
          346,
          347,
          348,
          349,
          350,
          351,
          352,
          353,
          354,
          355,
          356,
          357,
          358,
          359,
          360,
          361,
          362,
          363,
          364,
          365,
          366,
          367,
          368,
          369,
          370,
          371,
          372,
          373,
          374,
          375,
          376,
          377,
          378,
          379,
          380,
          381,
          382,
          383,
          384,
          385,
          386,
          387,
          388,
          389,
          390,
          391,
          392,
          393,
          394,
          395,
          396,
          397,
          398,
          399,
          400,
          401,
          402,
          403,
          404,
          405,
          406,
          407,
          408,
          409,
          410,
          411,
          412,
          413,
          414,
          415,
          416,
          417,
          418,
          419,
          420,
          421,
          422,
          423,
          424,
          425,
          426,
          427,
          428,
          429,
          430,
          431,
          432,
          433,
          434,
          435,
          436,
          437,
          438,
          439,
          440,
          441,
          442,
          443,
          444,
          445,
          446,
          447,
          448,
          449,
          450,
          451,
          452,
          453,
          454,
          455,
          456,
          457,
          458,
          459,
          460,
          461,
          462,
          463,
          464,
          465,
          466,
          467,
          468,
          469,
          470,
          471,
          472,
          473,
          474,
          475,
          476,
          477,
          478,
          479,
          480,
          481,
          482,
          483,
          484,
          485,
          486,
          487,
          488,
          489,
          490,
          491,
          492,
          493,
          494,
          495,
          496,
          497,
          498,
          499,
          500,
          501,
          502,
          503,
          504,
          505,
          506,
          507,
          508,
          509,
          510,
          511,
          512,
          513,
          514,
          515,
          516,
          517,
          518,
          519,
          520,
          521,
          522,
          523,
          524,
          525,
          526,
          527,
          528,
          529,
          530,
          531,
          532,
          533,
          534,
          535,
          536,
          537,
          538,
          539,
          540,
          541,
          542,
          543,
          544,
          545,
          546,
          547,
          548,
          549,
          550,
          551,
          552,
          553,
          554,
          555,
          556,
          557,
          558,
          559,
          560,
          561,
          562,
          563,
          564,
          565,
          566,
          567,
          568,
          569,
          570,
          571,
          572,
          573,
          574,
          575,
          576,
          577,
          578,
          579,
          580,
          581,
          582,
          583,
          584,
          585,
          586,
          587,
          588,
          589,
          590,
          591,
          592,
          593,
          594,
          595,
          596,
          597,
          598,
          599,
          600,
          601,
          602,
          603,
          604,
          605,
          606,
          607,
          608,
          609,
          610,
          611,
          612,
          613,
          614,
          615,
          616,
          617,
          618,
          619,
          620,
          621,
          622,
          623,
          624,
          625,
          626,
          627,
          628,
          629,
          630,
          631,
          632,
          633,
          634,
          635,
          636,
          637,
          638,
          639,
          640,
          641,
          642,
          643,
          644,
          645,
          646,
          647,
          648,
          649,
          650,
          651,
          652,
          653,
          654,
          655,
          656,
          657,
          658,
          659,
          660,
          661,
          662,
          663,
          664,
          665,
          666,
          667,
          668,
          669,
          670,
          671,
          672,
          673,
          674,
          675,
          676,
          677,
          678,
          679,
          680,
          681,
          682,
          683,
          684,
          685,
          686,
          687,
          688,
          689,
          690,
          691,
          692,
          693,
          694,
          695,
          696,
          697,
          698,
          699,
          700,
          701,
          702,
          703,
          704,
          705,
          706,
          707,
          708,
          709,
          710,
          711,
          712,
          713,
          714,
          715,
          716,
          717,
          718,
          719,
          720,
          721,
          722,
          723,
          724,
          725,
          726,
          727,
          728,
          729,
          730,
          731,
          732,
          733,
          734,
          735,
          736,
          737,
          738,
          739,
          740,
          741,
          742,
          743,
          744,
          745,
          746,
          747,
          748,
          749,
          750,
          751,
          752,
          753,
          754,
          755,
          756,
          757,
          758,
          759,
          760,
          761,
          762,
          763,
          764,
          765,
          766,
          767,
          768,
          769,
          770,
          771,
          772,
          773,
          774,
          775,
          776,
          777,
          778,
          779,
          780,
          781,
          782,
          783,
          784,
          785,
          786,
          787,
          788,
          789,
          790,
          791,
          792,
          793,
          794,
          795,
          796,
          797,
          798,
          799,
          800,
          801,
          802,
          803,
          804,
          805,
          806,
          807,
          808,
          809,
          810,
          811,
          812,
          813,
          814,
          815,
          816,
          817,
          818,
          819,
          820,
          821,
          822,
          823,
          824,
          825,
          826,
          827,
          828,
          829,
          830,
          831,
          832,
          833,
          834,
          835,
          836,
          837,
          838,
          839,
          840,
          841,
          842,
          843,
          844,
          845,
          846,
          847,
          848,
          849,
          850,
          851,
          852,
          853,
          854,
          855,
          856,
          857,
          858,
          859,
          860,
          861,
          862,
          863,
          864,
          865,
          866,
          867,
          868,
          869,
          870,
          871,
          872,
          873,
          874,
          875,
          876,
          877,
          878,
          879,
          880,
          881,
          882,
          883,
          884,
          885,
          886,
          887,
          888,
          889,
          890,
          891,
          892,
          893,
          894,
          895,
          896,
          897,
          898,
          899,
          900,
          901,
          902,
          903,
          904,
          905,
          906,
          907,
          908,
          909,
          910,
          911,
          912,
          913,
          914,
          915,
          916,
          917,
          918,
          919,
          920,
          921,
          922,
          923,
          924,
          925,
          926,
          927,
          928,
          929,
          930,
          931,
          932,
          933,
          934,
          935,
          936,
          937,
          938,
          939,
          940,
          941,
          942,
          943,
          944,
          945,
          946,
          947,
          948,
          949,
          950,
          951,
          952,
          953,
          954,
          955,
          956,
          957,
          958,
          959,
          960,
          961,
          962,
          963,
          964,
          965,
          966,
          967,
          968,
          969,
          970,
          971,
          972,
          973,
          974,
          975,
          976,
          977,
          978,
          979,
          980,
          981,
          982,
          983,
          984,
          985,
          986,
          987,
          988,
          989,
          990,
          991,
          992,
          993,
          994,
          995,
          996,
          997,
          998,
          999,
          1000,
          1001,
          1002,
          1003,
          1004,
          1005,
          1006,
          1007,
          1008,
          1009,
          1010,
          1011,
          1012,
          1013,
          1014,
          1015,
          1016,
          1017,
          1018,
          1019,
          1020,
          1021,
          1022,
          1023,
          1024,
          1025,
          1026,
          1027,
          1028,
          1029,
          1030,
          1031,
          1032,
          1033,
          1034,
          1035,
          1036,
          1037,
          1038,
          1039,
          1040,
          1041,
          1042,
          1043,
          1044,
          1045,
          1046,
          1047,
          1048,
          1049,
          1050,
          1051,
          1052,
          1053,
          1054,
          1055,
          1056,
          1057,
          1058,
          1059,
          1060,
          1061,
          1062,
          1063,
          1064,
          1065,
          1066,
          1067,
          1068,
          1069,
          1070,
          1071,
          1072,
          1073,
          1074,
          1075,
          1076,
          1077,
          1078,
          1079,
          1080,
          1081,
          1082,
          1083,
          1084,
          1085,
          1086,
          1087,
          1088,
          1089,
          1090,
          1091,
          1092,
          1093,
          1094,
          1095,
          1096,
          1097,
          1098,
          1099,
          1100,
          1101,
          1102,
          1103,
          1104,
          1105,
          1106,
          1107,
          1108,
          1109,
          1110,
          1111,
          1112,
          1113,
          1114,
          1115,
          1116,
          1117,
          1118,
          1119,
          1120,
          1121,
          1122,
          1123,
          1124,
          1125,
          1126,
          1127,
          1128,
          1129,
          1130,
          1131,
          1132,
          1133,
          1134,
          1135,
          1136,
          1137,
          1138,
          1139,
          1140,
          1141,
          1142,
          1143,
          1144,
          1145,
          1146,
          1147,
          1148,
          1149,
          1150,
          1151,
          1152,
          1153,
          1154,
          1155,
          1156,
          1157,
          1158,
          1159,
          1160,
          1161,
          1162,
          1163,
          1164,
          1165,
          1166,
          1167,
          1168,
          1169,
          1170,
          1171,
          1172,
          1173,
          1174,
          1175,
          1176,
          1177,
          1178,
          1179,
          1180,
          1181,
          1182,
          1183,
          1184,
          1185,
          1186,
          1187,
          1188,
          1189,
          1190,
          1191,
          1192,
          1193,
          1194,
          1195,
          1196,
          1197,
          1198,
          1199,
          1200,
          1201,
          1202,
          1203,
          1204,
          1205,
          1206,
          1207,
          1208,
          1209,
          1210,
          1211,
          1212,
          1213,
          1214,
          1215,
          1216,
          1217,
          1218,
          1219,
          1220,
          1221,
          1222,
          1223,
          1224,
          1225,
          1226,
          1227,
          1228,
          1229,
          1230,
          1231,
          1232,
          1233,
          1234,
          1235,
          1236,
          1237,
          1238,
          1239,
          1240,
          1241,
          1242,
          1243,
          1244,
          1245,
          1246,
          1247,
          1248,
          1249,
          1250,
          1251,
          1252,
          1253,
          1254,
          1255,
          1256,
          1257,
          1258,
          1259,
          1260,
          1261,
          1262,
          1263,
          1264,
          1265,
          1266,
          1267,
          1268,
          1269,
          1270,
          1271,
          1272,
          1273,
          1274,
          1275,
          1276,
          1277,
          1278,
          1279,
          1280,
          1281,
          1282,
          1283,
          1284,
          1285,
          1286,
          1287,
          1288,
          1289,
          1290,
          1291,
          1292,
          1293,
          1294,
          1295,
          1296,
          1297,
          1298,
          1299,
          1300,
          1301,
          1302,
          1303,
          1304,
          1305,
          1306,
          1307,
          1308,
          1309,
          1310,
          1311,
          1312,
          1313,
          1314,
          1315,
          1316,
          1317,
          1318,
          1319,
          1320,
          1321,
          1322,
          1323,
          1324,
          1325,
          1326,
          1327,
          1328,
          1329,
          1330,
          1331,
          1332,
          1333,
          1334,
          1335,
          1336,
          1337,
          1338,
          1339,
          1340,
          1341,
          1342,
          1343,
          1344,
          1345,
          1346,
          1347,
          1348,
          1349,
          1350,
          1351,
          1352,
          1353,
          1354,
          1355,
          1356,
          1357,
          1358,
          1359,
          1360,
          1361,
          1362,
          1363,
          1364,
          1365,
          1366,
          1367,
          1368,
          1369,
          1370,
          1371,
          1372,
          1373,
          1374,
          1375,
          1376,
          1377,
          1378,
          1379,
          1380,
          1381,
          1382,
          1383,
          1384,
          1385,
          1386,
          1387,
          1388,
          1389,
          1390,
          1391,
          1392,
          1393,
          1394,
          1395,
          1396,
          1397,
          1398,
          1399,
          1400,
          1401,
          1402,
          1403,
          1404,
          1405,
          1406,
          1407,
          1408,
          1409,
          1410,
          1411,
          1412,
          1413,
          1414,
          1415,
          1416,
          1417,
          1418,
          1419,
          1420,
          1421,
          1422,
          1423,
          1424,
          1425,
          1426,
          1427,
          1428,
          1429,
          1430,
          1431,
          1432,
          1433,
          1434,
          1435,
          1436,
          1437,
          1438,
          1439,
          1440,
          1441,
          1442,
          1443,
          1444,
          1445,
          1446,
          1447,
          1448,
          1449,
          1450,
          1451,
          1452,
          1453,
          1454,
          1455,
          1456,
          1457,
          1458,
          1459,
          1460,
          1461,
          1462,
          1463,
          1464,
          1465,
          1466,
          1467,
          1468,
          1469,
          1470,
          1471,
          1472,
          1473,
          1474,
          1475,
          1476,
          1477,
          1478,
          1479,
          1480,
          1481,
          1482,
          1483,
          1484,
          1485,
          1486,
          1487,
          1488,
          1489,
          1490,
          1491,
          1492,
          1493,
          1494,
          1495,
          1496,
          1497,
          1498,
          1499,
          1500,
          1501,
          1502,
          1503,
          1504,
          1505,
          1506,
          1507,
          1508,
          1509,
          1510,
          1511,
          1512,
          1513,
          1514,
          1515,
          1516,
          1517,
          1518,
          1519,
          1520,
          1521,
          1522,
          1523,
          1524,
          1525,
          1526,
          1527,
          1528,
          1529,
          1530,
          1531,
          1532,
          1533,
          1534,
          1535,
          1536,
          1537,
          1538,
          1539,
          1540,
          1541,
          1542,
          1543,
          1544,
          1545,
          1546,
          1547,
          1548,
          1549,
          1550,
          1551,
          1552,
          1553,
          1554,
          1555,
          1556,
          1557,
          1558,
          1559,
          1560,
          1561,
          1562,
          1563,
          1564,
          1565,
          1566,
          1567,
          1568,
          1569,
          1570,
          1571,
          1572,
          1573,
          1574,
          1575,
          1576,
          1577,
          1578,
          1579,
          1580,
          1581,
          1582,
          1583,
          1584,
          1585,
          1586,
          1587,
          1588,
          1589,
          1590,
          1591,
          1592,
          1593,
          1594,
          1595,
          1596,
          1597,
          1598,
          1599,
          1600,
          1601,
          1602,
          1603,
          1604,
          1605,
          1606,
          1607,
          1608,
          1609,
          1610,
          1611,
          1612,
          1613,
          1614,
          1615,
          1616,
          1617,
          1618,
          1619,
          1620,
          1621,
          1622,
          1623,
          1624,
          1625,
          1626,
          1627,
          1628,
          1629,
          1630,
          1631,
          1632,
          1633,
          1634,
          1635,
          1636,
          1637,
          1638,
          1639,
          1640,
          1641,
          1642,
          1643,
          1644,
          1645,
          1646,
          1647,
          1648,
          1649,
          1650,
          1651,
          1652,
          1653,
          1654,
          1655,
          1656,
          1657,
          1658,
          1659,
          1660,
          1661,
          1662,
          1663,
          1664,
          1665,
          1666,
          1667,
          1668,
          1669,
          1670,
          1671,
          1672,
          1673,
          1674,
          1675,
          1676,
          1677,
          1678,
          1679,
          1680,
          1681,
          1682,
          1683,
          1684,
          1685,
          1686,
          1687,
          1688,
          1689,
          1690,
          1691,
          1692,
          1693,
          1694,
          1695,
          1696,
          1697,
          1698,
          1699,
          1700,
          1701,
          1702,
          1703,
          1704,
          1705,
          1706,
          1707,
          1708,
          1709,
          1710,
          1711,
          1712,
          1713,
          1714,
          1715,
          1716,
          1717,
          1718,
          1719,
          1720,
          1721,
          1722,
          1723,
          1724,
          1725,
          1726,
          1727,
          1728,
          1729,
          1730,
          1731,
          1732,
          1733,
          1734,
          1735,
          1736,
          1737,
          1738,
          1739,
          1740,
          1741,
          1742,
          1743,
          1744,
          1745,
          1746,
          1747,
          1748,
          1749,
          1750,
          1751,
          1752,
          1753,
          1754,
          1755,
          1756,
          1757,
          1758,
          1759,
          1760,
          1761,
          1762,
          1763,
          1764,
          1765,
          1766,
          1767,
          1768,
          1769,
          1770,
          1771,
          1772,
          1773,
          1774,
          1775,
          1776,
          1777,
          1778,
          1779,
          1780,
          1781,
          1782,
          1783,
          1784,
          1785,
          1786,
          1787,
          1788,
          1789,
          1790,
          1791,
          1792,
          1793,
          1794,
          1795,
          1796,
          1797,
          1798,
          1799,
          1800,
          1801,
          1802,
          1803,
          1804,
          1805,
          1806,
          1807,
          1808,
          1809,
          1810,
          1811,
          1812,
          1813,
          1814,
          1815,
          1816,
          1817,
          1818,
          1819,
          1820,
          1821,
          1822,
          1823,
          1824,
          1825,
          1826,
          1827,
          1828,
          1829,
          1830,
          1831,
          1832,
          1833,
          1834,
          1835,
          1836,
          1837,
          1838,
          1839,
          1840,
          1841,
          1842,
          1843,
          1844,
          1845,
          1846,
          1847,
          1848,
          1849,
          1850,
          1851,
          1852,
          1853,
          1854,
          1855,
          1856,
          1857,
          1858,
          1859,
          1860,
          1861,
          1862,
          1863,
          1864,
          1865,
          1866,
          1867,
          1868,
          1869,
          1870,
          1871,
          1872,
          1873,
          1874,
          1875,
          1876,
          1877,
          1878,
          1879,
          1880,
          1881,
          1882,
          1883,
          1884,
          1885,
          1886,
          1887,
          1888,
          1889,
          1890,
          1891,
          1892,
          1893,
          1894,
          1895,
          1896,
          1897,
          1898,
          1899,
          1900,
          1901,
          1902,
          1903,
          1904,
          1905,
          1906,
          1907,
          1908,
          1909,
          1910,
          1911,
          1912,
          1913,
          1914,
          1915,
          1916,
          1917,
          1918,
          1919,
          1920,
          1921,
          1922,
          1923,
          1924,
          1925,
          1926,
          1927,
          1928,
          1929,
          1930,
          1931,
          1932,
          1933,
          1934,
          1935,
          1936,
          1937,
          1938,
          1939,
          1940,
          1941,
          1942,
          1943,
          1944,
          1945,
          1946,
          1947,
          1948,
          1949,
          1950,
          1951,
          1952,
          1953,
          1954,
          1955,
          1956,
          1957,
          1958,
          1959,
          1960,
          1961,
          1962,
          1963,
          1964,
          1965,
          1966,
          1967,
          1968,
          1969,
          1970,
          1971,
          1972,
          1973,
          1974,
          1975,
          1976,
          1977,
          1978,
          1979,
          1980,
          1981,
          1982,
          1983,
          1984,
          1985,
          1986,
          1987,
          1988,
          1989,
          1990,
          1991,
          1992,
          1993,
          1994,
          1995,
          1996,
          1997,
          1998,
          1999,
          2000,
          2001,
          2002,
          2003,
          2004,
          2005,
          2006,
          2007,
          2008,
          2009,
          2010,
          2011,
          2012,
          2013,
          2014,
          2015,
          2016,
          2017,
          2018,
          2019,
          2020,
          2021,
          2022,
          2023,
          2024,
          2025,
          2026,
          2027,
          2028,
          2029,
          2030,
          2031,
          2032,
          2033,
          2034,
          2035,
          2036,
          2037,
          2038,
          2039,
          2040,
          2041,
          2042,
          2043,
          2044,
          2045,
          2046,
          2047,
          2048,
          2049,
          2050,
          2051,
          2052,
          2053,
          2054,
          2055,
          2056,
          2057,
          2058,
          2059,
          2060,
          2061,
          2062,
          2063,
          2064,
          2065,
          2066,
          2067,
          2068,
          2069,
          2070,
          2071,
          2072,
          2073,
          2074,
          2075,
          2076,
          2077,
          2078,
          2079,
          2080,
          2081,
          2082,
          2083,
          2084,
          2085,
          2086,
          2087,
          2088,
          2089,
          2090,
          2091,
          2092,
          2093,
          2094,
          2095,
          2096,
          2097,
          2098,
          2099,
          2100,
          2101,
          2102,
          2103,
          2104,
          2105,
          2106,
          2107,
          2108,
          2109,
          2110,
          2111,
          2112,
          2113,
          2114,
          2115,
          2116,
          2117,
          2118,
          2119,
          2120,
          2121,
          2122,
          2123,
          2124,
          2125,
          2126,
          2127,
          2128,
          2129,
          2130,
          2131,
          2132,
          2133,
          2134,
          2135,
          2136,
          2137,
          2138,
          2139,
          2140,
          2141,
          2142,
          2143,
          2144,
          2145,
          2146,
          2147,
          2148,
          2149,
          2150,
          2151,
          2152,
          2153,
          2154,
          2155,
          2156,
          2157,
          2158,
          2159,
          2160,
          2161,
          2162,
          2163,
          2164,
          2165,
          2166,
          2167,
          2168,
          2169,
          2170,
          2171,
          2172,
          2173,
          2174,
          2175,
          2176,
          2177,
          2178,
          2179,
          2180,
          2181,
          2182,
          2183,
          2184,
          2185,
          2186,
          2187,
          2188,
          2189,
          2190,
          2191,
          2192,
          2193,
          2194,
          2195,
          2196,
          2197,
          2198,
          2199,
          2200,
          2201,
          2202,
          2203,
          2204,
          2205,
          2206,
          2207,
          2208,
          2209,
          2210,
          2211,
          2212,
          2213,
          2214,
          2215,
          2216,
          2217,
          2218,
          2219,
          2220,
          2221,
          2222,
          2223,
          2224,
          2225,
          2226,
          2227,
          2228,
          2229,
          2230,
          2231,
          2232,
          2233,
          2234,
          2235,
          2236,
          2237,
          2238,
          2239,
          2240,
          2241,
          2242,
          2243,
          2244,
          2245,
          2246,
          2247,
          2248,
          2249,
          2250,
          2251,
          2252,
          2253,
          2254,
          2255,
          2256,
          2257,
          2258,
          2259,
          2260,
          2261,
          2262,
          2263,
          2264,
          2265,
          2266,
          2267,
          2268,
          2269,
          2270,
          2271,
          2272,
          2273,
          2274,
          2275,
          2276,
          2277,
          2278,
          2279,
          2280,
          2281,
          2282,
          2283,
          2284,
          2285,
          2286,
          2287
         ],
         "yaxis": "y"
        }
       ],
       "layout": {
        "legend": {
         "orientation": "h",
         "tracegroupgap": 0,
         "x": 0.5,
         "xanchor": "center"
        },
        "margin": {
         "b": 0,
         "l": 0,
         "r": 0,
         "t": 30
        },
        "template": {
         "data": {
          "bar": [
           {
            "error_x": {
             "color": "#2a3f5f"
            },
            "error_y": {
             "color": "#2a3f5f"
            },
            "marker": {
             "line": {
              "color": "#E5ECF6",
              "width": 0.5
             },
             "pattern": {
              "fillmode": "overlay",
              "size": 10,
              "solidity": 0.2
             }
            },
            "type": "bar"
           }
          ],
          "barpolar": [
           {
            "marker": {
             "line": {
              "color": "#E5ECF6",
              "width": 0.5
             },
             "pattern": {
              "fillmode": "overlay",
              "size": 10,
              "solidity": 0.2
             }
            },
            "type": "barpolar"
           }
          ],
          "carpet": [
           {
            "aaxis": {
             "endlinecolor": "#2a3f5f",
             "gridcolor": "white",
             "linecolor": "white",
             "minorgridcolor": "white",
             "startlinecolor": "#2a3f5f"
            },
            "baxis": {
             "endlinecolor": "#2a3f5f",
             "gridcolor": "white",
             "linecolor": "white",
             "minorgridcolor": "white",
             "startlinecolor": "#2a3f5f"
            },
            "type": "carpet"
           }
          ],
          "choropleth": [
           {
            "colorbar": {
             "outlinewidth": 0,
             "ticks": ""
            },
            "type": "choropleth"
           }
          ],
          "contour": [
           {
            "colorbar": {
             "outlinewidth": 0,
             "ticks": ""
            },
            "colorscale": [
             [
              0,
              "#0d0887"
             ],
             [
              0.1111111111111111,
              "#46039f"
             ],
             [
              0.2222222222222222,
              "#7201a8"
             ],
             [
              0.3333333333333333,
              "#9c179e"
             ],
             [
              0.4444444444444444,
              "#bd3786"
             ],
             [
              0.5555555555555556,
              "#d8576b"
             ],
             [
              0.6666666666666666,
              "#ed7953"
             ],
             [
              0.7777777777777778,
              "#fb9f3a"
             ],
             [
              0.8888888888888888,
              "#fdca26"
             ],
             [
              1,
              "#f0f921"
             ]
            ],
            "type": "contour"
           }
          ],
          "contourcarpet": [
           {
            "colorbar": {
             "outlinewidth": 0,
             "ticks": ""
            },
            "type": "contourcarpet"
           }
          ],
          "heatmap": [
           {
            "colorbar": {
             "outlinewidth": 0,
             "ticks": ""
            },
            "colorscale": [
             [
              0,
              "#0d0887"
             ],
             [
              0.1111111111111111,
              "#46039f"
             ],
             [
              0.2222222222222222,
              "#7201a8"
             ],
             [
              0.3333333333333333,
              "#9c179e"
             ],
             [
              0.4444444444444444,
              "#bd3786"
             ],
             [
              0.5555555555555556,
              "#d8576b"
             ],
             [
              0.6666666666666666,
              "#ed7953"
             ],
             [
              0.7777777777777778,
              "#fb9f3a"
             ],
             [
              0.8888888888888888,
              "#fdca26"
             ],
             [
              1,
              "#f0f921"
             ]
            ],
            "type": "heatmap"
           }
          ],
          "heatmapgl": [
           {
            "colorbar": {
             "outlinewidth": 0,
             "ticks": ""
            },
            "colorscale": [
             [
              0,
              "#0d0887"
             ],
             [
              0.1111111111111111,
              "#46039f"
             ],
             [
              0.2222222222222222,
              "#7201a8"
             ],
             [
              0.3333333333333333,
              "#9c179e"
             ],
             [
              0.4444444444444444,
              "#bd3786"
             ],
             [
              0.5555555555555556,
              "#d8576b"
             ],
             [
              0.6666666666666666,
              "#ed7953"
             ],
             [
              0.7777777777777778,
              "#fb9f3a"
             ],
             [
              0.8888888888888888,
              "#fdca26"
             ],
             [
              1,
              "#f0f921"
             ]
            ],
            "type": "heatmapgl"
           }
          ],
          "histogram": [
           {
            "marker": {
             "pattern": {
              "fillmode": "overlay",
              "size": 10,
              "solidity": 0.2
             }
            },
            "type": "histogram"
           }
          ],
          "histogram2d": [
           {
            "colorbar": {
             "outlinewidth": 0,
             "ticks": ""
            },
            "colorscale": [
             [
              0,
              "#0d0887"
             ],
             [
              0.1111111111111111,
              "#46039f"
             ],
             [
              0.2222222222222222,
              "#7201a8"
             ],
             [
              0.3333333333333333,
              "#9c179e"
             ],
             [
              0.4444444444444444,
              "#bd3786"
             ],
             [
              0.5555555555555556,
              "#d8576b"
             ],
             [
              0.6666666666666666,
              "#ed7953"
             ],
             [
              0.7777777777777778,
              "#fb9f3a"
             ],
             [
              0.8888888888888888,
              "#fdca26"
             ],
             [
              1,
              "#f0f921"
             ]
            ],
            "type": "histogram2d"
           }
          ],
          "histogram2dcontour": [
           {
            "colorbar": {
             "outlinewidth": 0,
             "ticks": ""
            },
            "colorscale": [
             [
              0,
              "#0d0887"
             ],
             [
              0.1111111111111111,
              "#46039f"
             ],
             [
              0.2222222222222222,
              "#7201a8"
             ],
             [
              0.3333333333333333,
              "#9c179e"
             ],
             [
              0.4444444444444444,
              "#bd3786"
             ],
             [
              0.5555555555555556,
              "#d8576b"
             ],
             [
              0.6666666666666666,
              "#ed7953"
             ],
             [
              0.7777777777777778,
              "#fb9f3a"
             ],
             [
              0.8888888888888888,
              "#fdca26"
             ],
             [
              1,
              "#f0f921"
             ]
            ],
            "type": "histogram2dcontour"
           }
          ],
          "mesh3d": [
           {
            "colorbar": {
             "outlinewidth": 0,
             "ticks": ""
            },
            "type": "mesh3d"
           }
          ],
          "parcoords": [
           {
            "line": {
             "colorbar": {
              "outlinewidth": 0,
              "ticks": ""
             }
            },
            "type": "parcoords"
           }
          ],
          "pie": [
           {
            "automargin": true,
            "type": "pie"
           }
          ],
          "scatter": [
           {
            "marker": {
             "colorbar": {
              "outlinewidth": 0,
              "ticks": ""
             }
            },
            "type": "scatter"
           }
          ],
          "scatter3d": [
           {
            "line": {
             "colorbar": {
              "outlinewidth": 0,
              "ticks": ""
             }
            },
            "marker": {
             "colorbar": {
              "outlinewidth": 0,
              "ticks": ""
             }
            },
            "type": "scatter3d"
           }
          ],
          "scattercarpet": [
           {
            "marker": {
             "colorbar": {
              "outlinewidth": 0,
              "ticks": ""
             }
            },
            "type": "scattercarpet"
           }
          ],
          "scattergeo": [
           {
            "marker": {
             "colorbar": {
              "outlinewidth": 0,
              "ticks": ""
             }
            },
            "type": "scattergeo"
           }
          ],
          "scattergl": [
           {
            "marker": {
             "colorbar": {
              "outlinewidth": 0,
              "ticks": ""
             }
            },
            "type": "scattergl"
           }
          ],
          "scattermapbox": [
           {
            "marker": {
             "colorbar": {
              "outlinewidth": 0,
              "ticks": ""
             }
            },
            "type": "scattermapbox"
           }
          ],
          "scatterpolar": [
           {
            "marker": {
             "colorbar": {
              "outlinewidth": 0,
              "ticks": ""
             }
            },
            "type": "scatterpolar"
           }
          ],
          "scatterpolargl": [
           {
            "marker": {
             "colorbar": {
              "outlinewidth": 0,
              "ticks": ""
             }
            },
            "type": "scatterpolargl"
           }
          ],
          "scatterternary": [
           {
            "marker": {
             "colorbar": {
              "outlinewidth": 0,
              "ticks": ""
             }
            },
            "type": "scatterternary"
           }
          ],
          "surface": [
           {
            "colorbar": {
             "outlinewidth": 0,
             "ticks": ""
            },
            "colorscale": [
             [
              0,
              "#0d0887"
             ],
             [
              0.1111111111111111,
              "#46039f"
             ],
             [
              0.2222222222222222,
              "#7201a8"
             ],
             [
              0.3333333333333333,
              "#9c179e"
             ],
             [
              0.4444444444444444,
              "#bd3786"
             ],
             [
              0.5555555555555556,
              "#d8576b"
             ],
             [
              0.6666666666666666,
              "#ed7953"
             ],
             [
              0.7777777777777778,
              "#fb9f3a"
             ],
             [
              0.8888888888888888,
              "#fdca26"
             ],
             [
              1,
              "#f0f921"
             ]
            ],
            "type": "surface"
           }
          ],
          "table": [
           {
            "cells": {
             "fill": {
              "color": "#EBF0F8"
             },
             "line": {
              "color": "white"
             }
            },
            "header": {
             "fill": {
              "color": "#C8D4E3"
             },
             "line": {
              "color": "white"
             }
            },
            "type": "table"
           }
          ]
         },
         "layout": {
          "annotationdefaults": {
           "arrowcolor": "#2a3f5f",
           "arrowhead": 0,
           "arrowwidth": 1
          },
          "autotypenumbers": "strict",
          "coloraxis": {
           "colorbar": {
            "outlinewidth": 0,
            "ticks": ""
           }
          },
          "colorscale": {
           "diverging": [
            [
             0,
             "#8e0152"
            ],
            [
             0.1,
             "#c51b7d"
            ],
            [
             0.2,
             "#de77ae"
            ],
            [
             0.3,
             "#f1b6da"
            ],
            [
             0.4,
             "#fde0ef"
            ],
            [
             0.5,
             "#f7f7f7"
            ],
            [
             0.6,
             "#e6f5d0"
            ],
            [
             0.7,
             "#b8e186"
            ],
            [
             0.8,
             "#7fbc41"
            ],
            [
             0.9,
             "#4d9221"
            ],
            [
             1,
             "#276419"
            ]
           ],
           "sequential": [
            [
             0,
             "#0d0887"
            ],
            [
             0.1111111111111111,
             "#46039f"
            ],
            [
             0.2222222222222222,
             "#7201a8"
            ],
            [
             0.3333333333333333,
             "#9c179e"
            ],
            [
             0.4444444444444444,
             "#bd3786"
            ],
            [
             0.5555555555555556,
             "#d8576b"
            ],
            [
             0.6666666666666666,
             "#ed7953"
            ],
            [
             0.7777777777777778,
             "#fb9f3a"
            ],
            [
             0.8888888888888888,
             "#fdca26"
            ],
            [
             1,
             "#f0f921"
            ]
           ],
           "sequentialminus": [
            [
             0,
             "#0d0887"
            ],
            [
             0.1111111111111111,
             "#46039f"
            ],
            [
             0.2222222222222222,
             "#7201a8"
            ],
            [
             0.3333333333333333,
             "#9c179e"
            ],
            [
             0.4444444444444444,
             "#bd3786"
            ],
            [
             0.5555555555555556,
             "#d8576b"
            ],
            [
             0.6666666666666666,
             "#ed7953"
            ],
            [
             0.7777777777777778,
             "#fb9f3a"
            ],
            [
             0.8888888888888888,
             "#fdca26"
            ],
            [
             1,
             "#f0f921"
            ]
           ]
          },
          "colorway": [
           "#636efa",
           "#EF553B",
           "#00cc96",
           "#ab63fa",
           "#FFA15A",
           "#19d3f3",
           "#FF6692",
           "#B6E880",
           "#FF97FF",
           "#FECB52"
          ],
          "font": {
           "color": "#2a3f5f"
          },
          "geo": {
           "bgcolor": "white",
           "lakecolor": "white",
           "landcolor": "#E5ECF6",
           "showlakes": true,
           "showland": true,
           "subunitcolor": "white"
          },
          "hoverlabel": {
           "align": "left"
          },
          "hovermode": "closest",
          "mapbox": {
           "style": "light"
          },
          "paper_bgcolor": "white",
          "plot_bgcolor": "#E5ECF6",
          "polar": {
           "angularaxis": {
            "gridcolor": "white",
            "linecolor": "white",
            "ticks": ""
           },
           "bgcolor": "#E5ECF6",
           "radialaxis": {
            "gridcolor": "white",
            "linecolor": "white",
            "ticks": ""
           }
          },
          "scene": {
           "xaxis": {
            "backgroundcolor": "#E5ECF6",
            "gridcolor": "white",
            "gridwidth": 2,
            "linecolor": "white",
            "showbackground": true,
            "ticks": "",
            "zerolinecolor": "white"
           },
           "yaxis": {
            "backgroundcolor": "#E5ECF6",
            "gridcolor": "white",
            "gridwidth": 2,
            "linecolor": "white",
            "showbackground": true,
            "ticks": "",
            "zerolinecolor": "white"
           },
           "zaxis": {
            "backgroundcolor": "#E5ECF6",
            "gridcolor": "white",
            "gridwidth": 2,
            "linecolor": "white",
            "showbackground": true,
            "ticks": "",
            "zerolinecolor": "white"
           }
          },
          "shapedefaults": {
           "line": {
            "color": "#2a3f5f"
           }
          },
          "ternary": {
           "aaxis": {
            "gridcolor": "white",
            "linecolor": "white",
            "ticks": ""
           },
           "baxis": {
            "gridcolor": "white",
            "linecolor": "white",
            "ticks": ""
           },
           "bgcolor": "#E5ECF6",
           "caxis": {
            "gridcolor": "white",
            "linecolor": "white",
            "ticks": ""
           }
          },
          "title": {
           "x": 0.05
          },
          "xaxis": {
           "automargin": true,
           "gridcolor": "white",
           "linecolor": "white",
           "ticks": "",
           "title": {
            "standoff": 15
           },
           "zerolinecolor": "white",
           "zerolinewidth": 2
          },
          "yaxis": {
           "automargin": true,
           "gridcolor": "white",
           "linecolor": "white",
           "ticks": "",
           "title": {
            "standoff": 15
           },
           "zerolinecolor": "white",
           "zerolinewidth": 2
          }
         }
        },
        "title": {
         "text": "Разбивка облигаций по частоте выплаты купонов"
        },
        "xaxis": {
         "anchor": "y",
         "domain": [
          0,
          1
         ],
         "title": {
          "text": "Частота выплата купонов в год"
         }
        },
        "yaxis": {
         "anchor": "x",
         "domain": [
          0,
          1
         ],
         "title": {
          "text": "ID"
         }
        }
       }
      },
      "text/html": [
       "<div>                            <div id=\"c9b93341-0f9e-488f-992c-388b62a8df50\" class=\"plotly-graph-div\" style=\"height:525px; width:100%;\"></div>            <script type=\"text/javascript\">                require([\"plotly\"], function(Plotly) {                    window.PLOTLYENV=window.PLOTLYENV || {};                                    if (document.getElementById(\"c9b93341-0f9e-488f-992c-388b62a8df50\")) {                    Plotly.newPlot(                        \"c9b93341-0f9e-488f-992c-388b62a8df50\",                        [{\"hovertemplate\":\"COUPONFREQUENCY=%{x}<br>index=%{y}<extra></extra>\",\"legendgroup\":\"\",\"marker\":{\"color\":\"#636efa\",\"symbol\":\"circle\"},\"mode\":\"markers\",\"name\":\"\",\"showlegend\":false,\"x\":[0.0,2.0,2.0,2.0,2.0,1.0,4.0,2.0,2.0,2.0,2.0,2.0,2.0,2.0,2.0,2.0,2.0,2.0,2.0,1.0,2.0,2.0,2.0,1.0,2.0,2.0,2.0,2.0,2.0,2.0,2.0,1.0,4.0,1.0,1.0,2.0,2.0,2.0,2.0,2.0,2.0,2.0,2.0,2.0,2.0,2.0,2.0,2.0,2.0,4.0,2.0,4.0,4.0,2.0,2.0,2.0,2.0,4.0,2.0,4.0,2.0,2.0,2.0,1.0,4.0,4.0,4.0,2.0,2.0,2.0,4.0,2.0,4.0,2.0,2.0,1.0,2.0,2.0,2.0,2.0,2.0,2.0,2.0,2.0,4.0,4.0,4.0,4.0,2.0,2.0,2.0,2.0,2.0,2.0,2.0,2.0,2.0,2.0,4.0,4.0,4.0,4.0,4.0,4.0,4.0,2.0,2.0,2.0,2.0,2.0,2.0,2.0,2.0,0.0,4.0,2.0,2.0,2.0,4.0,4.0,4.0,2.0,2.0,1.0,2.0,4.0,4.0,2.0,2.0,2.0,2.0,2.0,2.0,2.0,2.0,2.0,2.0,4.0,2.0,4.0,4.0,2.0,4.0,4.0,2.0,2.0,4.0,2.0,2.0,2.0,4.0,2.0,2.0,2.0,4.0,2.0,2.0,4.0,2.0,4.0,2.0,2.0,2.0,4.0,2.0,2.0,2.0,2.0,2.0,2.0,4.0,2.0,0.0,4.0,4.0,4.0,4.0,2.0,2.0,2.0,2.0,0.0,2.0,2.0,2.0,2.0,0.0,2.0,2.0,2.0,2.0,2.0,2.0,2.0,4.0,0.0,4.0,4.0,2.0,2.0,4.0,4.0,4.0,2.0,2.0,2.0,2.0,2.0,2.0,2.0,2.0,1.0,2.0,2.0,2.0,2.0,2.0,4.0,4.0,2.0,2.0,2.0,1.0,2.0,2.0,2.0,2.0,2.0,2.0,2.0,2.0,2.0,2.0,4.0,2.0,2.0,2.0,2.0,1.0,2.0,4.0,2.0,4.0,1.0,0.0,2.0,2.0,2.0,2.0,4.0,2.0,0.0,4.0,2.0,2.0,2.0,2.0,2.0,2.0,2.0,2.0,2.0,2.0,2.0,4.0,4.0,2.0,2.0,4.0,1.0,1.0,2.0,2.0,2.0,2.0,2.0,1.0,2.0,2.0,2.0,2.0,2.0,2.0,4.0,4.0,4.0,2.0,4.0,4.0,4.0,4.0,4.0,4.0,4.0,4.0,2.0,2.0,4.0,2.0,2.0,2.0,2.0,2.0,2.0,4.0,2.0,2.0,2.0,4.0,2.0,2.0,2.0,2.0,4.0,2.0,2.0,0.0,2.0,2.0,2.0,2.0,2.0,4.0,4.0,2.0,2.0,2.0,1.0,1.0,2.0,2.0,4.0,2.0,2.0,2.0,2.0,2.0,2.0,2.0,4.0,4.0,4.0,2.0,2.0,4.0,2.0,2.0,2.0,4.0,4.0,2.0,2.0,4.0,2.0,4.0,2.0,4.0,2.0,4.0,2.0,2.0,2.0,4.0,2.0,4.0,2.0,2.0,2.0,2.0,2.0,2.0,2.0,2.0,2.0,2.0,2.0,2.0,2.0,2.0,2.0,2.0,2.0,2.0,2.0,2.0,2.0,2.0,2.0,2.0,2.0,2.0,2.0,2.0,2.0,2.0,2.0,2.0,2.0,2.0,2.0,2.0,2.0,2.0,2.0,4.0,4.0,12.0,4.0,2.0,1.0,0.0,2.0,4.0,4.0,2.0,4.0,4.0,2.0,2.0,4.0,0.0,2.0,4.0,0.0,2.0,4.0,2.0,2.0,4.0,4.0,4.0,4.0,4.0,4.0,2.0,2.0,4.0,4.0,2.0,2.0,2.0,4.0,2.0,1.0,1.0,4.0,4.0,2.0,1.0,4.0,1.0,4.0,2.0,4.0,4.0,4.0,4.0,2.0,2.0,2.0,4.0,4.0,2.0,4.0,4.0,4.0,2.0,4.0,4.0,2.0,2.0,2.0,2.0,4.0,2.0,2.0,4.0,4.0,2.0,4.0,1.0,2.0,4.0,4.0,2.0,2.0,4.0,2.0,2.0,2.0,2.0,4.0,4.0,2.0,2.0,4.0,2.0,2.0,2.0,2.0,2.0,2.0,2.0,2.0,2.0,2.0,2.0,2.0,2.0,2.0,2.0,2.0,2.0,2.0,2.0,2.0,2.0,2.0,12.0,2.0,4.0,2.0,2.0,4.0,2.0,1.0,2.0,2.0,2.0,2.0,2.0,2.0,4.0,2.0,2.0,2.0,2.0,2.0,12.0,4.0,4.0,4.0,4.0,2.0,2.0,12.0,2.0,4.0,4.0,2.0,2.0,2.0,2.0,4.0,4.0,2.0,2.0,2.0,2.0,2.0,0.0,2.0,4.0,4.0,4.0,2.0,4.0,4.0,2.0,4.0,2.0,0.0,4.0,4.0,2.0,4.0,1.0,2.0,2.0,2.0,2.0,4.0,4.0,2.0,2.0,3.0,3.0,3.0,3.0,3.0,3.0,3.0,3.0,3.0,3.0,3.0,3.0,3.0,2.0,2.0,4.0,4.0,4.0,2.0,4.0,12.0,1.0,2.0,2.0,2.0,4.0,4.0,4.0,2.0,12.0,1.0,4.0,2.0,2.0,4.0,4.0,2.0,4.0,2.0,4.0,4.0,4.0,2.0,4.0,2.0,2.0,4.0,12.0,4.0,2.0,2.0,0.0,0.0,2.0,2.0,2.0,0.0,2.0,0.0,2.0,2.0,4.0,4.0,4.0,4.0,12.0,12.0,2.0,2.0,0.0,1.0,1.0,1.0,4.0,2.0,2.0,2.0,4.0,12.0,0.0,4.0,2.0,0.0,2.0,2.0,0.0,2.0,2.0,2.0,2.0,4.0,4.0,2.0,2.0,2.0,2.0,4.0,4.0,4.0,4.0,2.0,0.0,2.0,2.0,2.0,2.0,0.0,0.0,12.0,4.0,2.0,12.0,2.0,0.0,4.0,4.0,2.0,0.0,1.0,2.0,2.0,4.0,0.0,0.0,2.0,2.0,4.0,2.0,0.0,4.0,2.0,0.0,4.0,2.0,2.0,2.0,4.0,2.0,2.0,0.0,0.0,4.0,2.0,12.0,1.0,2.0,0.0,2.0,2.0,4.0,4.0,0.0,2.0,0.0,0.0,2.0,0.0,0.0,2.0,0.0,4.0,2.0,4.0,4.0,2.0,0.0,12.0,4.0,4.0,4.0,1.0,0.0,0.0,0.0,4.0,0.0,0.0,1.0,0.0,2.0,12.0,4.0,4.0,2.0,2.0,12.0,0.0,2.0,12.0,0.0,0.0,4.0,12.0,4.0,2.0,2.0,0.0,4.0,4.0,2.0,0.0,4.0,2.0,2.0,2.0,2.0,0.0,2.0,4.0,12.0,4.0,2.0,4.0,2.0,4.0,12.0,1.0,0.0,0.0,4.0,0.0,0.0,2.0,4.0,2.0,2.0,2.0,4.0,0.0,12.0,2.0,2.0,4.0,4.0,4.0,4.0,2.0,4.0,2.0,2.0,4.0,4.0,0.0,0.0,0.0,4.0,12.0,2.0,2.0,4.0,4.0,2.0,2.0,2.0,4.0,2.0,0.0,0.0,0.0,12.0,4.0,1.0,4.0,2.0,4.0,4.0,0.0,0.0,0.0,4.0,2.0,2.0,2.0,2.0,2.0,0.0,2.0,4.0,12.0,1.0,12.0,2.0,4.0,4.0,4.0,1.0,1.0,2.0,12.0,2.0,4.0,4.0,2.0,12.0,4.0,4.0,12.0,2.0,2.0,2.0,2.0,1.0,2.0,12.0,4.0,2.0,0.0,0.0,4.0,1.0,0.0,4.0,4.0,4.0,2.0,4.0,2.0,2.0,4.0,1.0,1.0,1.0,4.0,0.0,2.0,2.0,2.0,4.0,1.0,1.0,0.0,0.0,4.0,2.0,4.0,1.0,4.0,4.0,4.0,2.0,1.0,12.0,2.0,4.0,4.0,4.0,4.0,4.0,0.0,0.0,1.0,0.0,0.0,2.0,12.0,1.0,4.0,4.0,2.0,0.0,1.0,2.0,4.0,1.0,4.0,4.0,4.0,12.0,2.0,2.0,1.0,1.0,1.0,4.0,0.0,0.0,2.0,1.0,4.0,4.0,2.0,2.0,0.0,2.0,4.0,2.0,1.0,2.0,1.0,1.0,4.0,1.0,2.0,4.0,1.0,2.0,1.0,2.0,4.0,2.0,2.0,0.0,2.0,2.0,4.0,4.0,0.0,0.0,0.0,2.0,1.0,2.0,12.0,4.0,4.0,1.0,1.0,12.0,2.0,2.0,4.0,1.0,12.0,2.0,4.0,0.0,12.0,11.0,1.0,2.0,2.0,1.0,1.0,12.0,4.0,1.0,2.0,2.0,1.0,1.0,2.0,2.0,2.0,2.0,2.0,0.0,0.0,4.0,4.0,2.0,2.0,4.0,2.0,4.0,0.0,0.0,2.0,2.0,2.0,4.0,0.0,4.0,4.0,4.0,4.0,2.0,2.0,4.0,4.0,4.0,4.0,4.0,4.0,4.0,4.0,2.0,4.0,4.0,2.0,2.0,4.0,2.0,2.0,4.0,2.0,2.0,1.0,2.0,4.0,4.0,0.0,0.0,4.0,2.0,2.0,0.0,0.0,0.0,0.0,2.0,0.0,0.0,2.0,2.0,2.0,11.0,4.0,2.0,2.0,2.0,2.0,2.0,2.0,2.0,2.0,2.0,2.0,0.0,2.0,4.0,4.0,4.0,4.0,4.0,2.0,2.0,4.0,2.0,2.0,0.0,2.0,0.0,0.0,0.0,0.0,0.0,2.0,4.0,2.0,2.0,2.0,4.0,4.0,2.0,2.0,2.0,2.0,2.0,4.0,4.0,2.0,4.0,4.0,0.0,0.0,2.0,4.0,4.0,4.0,2.0,4.0,1.0,4.0,2.0,4.0,4.0,4.0,0.0,0.0,0.0,2.0,2.0,2.0,2.0,2.0,0.0,0.0,4.0,0.0,0.0,0.0,0.0,0.0,4.0,2.0,2.0,0.0,2.0,4.0,12.0,2.0,1.0,0.0,0.0,1.0,4.0,2.0,1.0,12.0,2.0,4.0,4.0,4.0,2.0,2.0,2.0,2.0,2.0,2.0,2.0,2.0,2.0,0.0,0.0,4.0,0.0,0.0,4.0,4.0,4.0,2.0,4.0,2.0,0.0,0.0,0.0,0.0,0.0,0.0,4.0,0.0,4.0,12.0,2.0,2.0,0.0,0.0,1.0,12.0,4.0,4.0,4.0,4.0,0.0,0.0,2.0,2.0,12.0,1.0,4.0,2.0,2.0,0.0,0.0,0.0,0.0,1.0,4.0,12.0,0.0,0.0,0.0,1.0,4.0,4.0,12.0,4.0,0.0,0.0,0.0,0.0,0.0,4.0,2.0,12.0,0.0,0.0,0.0,1.0,2.0,4.0,0.0,4.0,0.0,12.0,0.0,2.0,4.0,4.0,2.0,12.0,4.0,4.0,4.0,4.0,0.0,0.0,0.0,0.0,0.0,2.0,1.0,0.0,0.0,0.0,4.0,4.0,0.0,0.0,2.0,0.0,0.0,0.0,12.0,2.0,12.0,2.0,2.0,0.0,0.0,0.0,2.0,2.0,2.0,2.0,2.0,2.0,2.0,2.0,1.0,2.0,2.0,4.0,4.0,2.0,12.0,0.0,0.0,12.0,2.0,4.0,2.0,0.0,4.0,2.0,2.0,2.0,0.0,0.0,12.0,4.0,4.0,0.0,0.0,0.0,4.0,2.0,0.0,2.0,2.0,0.0,0.0,0.0,0.0,0.0,4.0,1.0,0.0,2.0,4.0,2.0,4.0,0.0,4.0,4.0,2.0,4.0,0.0,2.0,4.0,0.0,0.0,0.0,0.0,0.0,0.0,0.0,4.0,4.0,4.0,2.0,4.0,12.0,0.0,4.0,0.0,0.0,0.0,2.0,1.0,0.0,0.0,2.0,4.0,4.0,4.0,0.0,1.0,1.0,4.0,2.0,2.0,0.0,2.0,2.0,2.0,2.0,4.0,2.0,2.0,2.0,2.0,2.0,2.0,2.0,2.0,2.0,2.0,2.0,2.0,4.0,2.0,2.0,2.0,0.0,0.0,2.0,2.0,4.0,2.0,4.0,0.0,4.0,4.0,2.0,0.0,4.0,2.0,12.0,4.0,2.0,0.0,0.0,2.0,0.0,0.0,0.0,0.0,0.0,0.0,2.0,4.0,4.0,4.0,0.0,4.0,2.0,2.0,2.0,2.0,2.0,4.0,4.0,0.0,2.0,0.0,2.0,2.0,0.0,2.0,0.0,3.0,3.0,2.0,3.0,2.0,4.0,4.0,4.0,0.0,0.0,2.0,4.0,4.0,4.0,2.0,1.0,1.0,12.0,2.0,2.0,4.0,4.0,12.0,4.0,4.0,1.0,4.0,1.0,1.0,4.0,4.0,4.0,4.0,4.0,4.0,4.0,4.0,4.0,2.0,4.0,4.0,4.0,4.0,2.0,4.0,2.0,4.0,4.0,4.0,4.0,4.0,4.0,4.0,4.0,4.0,12.0,4.0,4.0,1.0,1.0,4.0,12.0,4.0,1.0,2.0,4.0,4.0,4.0,4.0,2.0,2.0,0.0,2.0,0.0,0.0,0.0,4.0,0.0,2.0,2.0,2.0,2.0,2.0,4.0,2.0,4.0,4.0,2.0,2.0,4.0,4.0,2.0,12.0,2.0,12.0,12.0,0.0,0.0,4.0,4.0,4.0,12.0,4.0,4.0,2.0,0.0,0.0,4.0,12.0,12.0,4.0,4.0,2.0,4.0,4.0,0.0,0.0,4.0,4.0,1.0,1.0,1.0,4.0,4.0,12.0,0.0,4.0,0.0,4.0,4.0,4.0,2.0,4.0,12.0,4.0,2.0,0.0,0.0,4.0,0.0,0.0,0.0,4.0,2.0,4.0,0.0,4.0,4.0,4.0,2.0,2.0,2.0,1.0,4.0,4.0,2.0,4.0,12.0,0.0,0.0,0.0,0.0,4.0,2.0,2.0,4.0,4.0,2.0,2.0,4.0,4.0,2.0,2.0,4.0,4.0,2.0,2.0,2.0,2.0,2.0,2.0,2.0,2.0,0.0,0.0,0.0,4.0,4.0,2.0,2.0,2.0,4.0,2.0,2.0,0.0,0.0,0.0,0.0,0.0,4.0,12.0,0.0,0.0,0.0,12.0,4.0,12.0,2.0,4.0,12.0,2.0,12.0,4.0,12.0,0.0,2.0,2.0,2.0,2.0,2.0,2.0,2.0,2.0,2.0,4.0,4.0,2.0,2.0,2.0,12.0,0.0,0.0,0.0,0.0,2.0,2.0,2.0,4.0,0.0,2.0,2.0,12.0,2.0,2.0,4.0,3.0,4.0,12.0,4.0,4.0,12.0,2.0,4.0,4.0,4.0,2.0,2.0,4.0,2.0,4.0,4.0,0.0,0.0,2.0,12.0,4.0,3.0,0.0,0.0,0.0,0.0,0.0,3.0,2.0,6.0,0.0,0.0,4.0,12.0,4.0,2.0,0.0,0.0,2.0,4.0,4.0,0.0,0.0,12.0,12.0,4.0,4.0,12.0,0.0,12.0,4.0,4.0,4.0,4.0,2.0,4.0,2.0,12.0,0.0,0.0,1.0,2.0,2.0,2.0,12.0,12.0,0.0,0.0,0.0,0.0,2.0,2.0,2.0,2.0,2.0,4.0,2.0,12.0,2.0,2.0,4.0,2.0,0.0,12.0,2.0,4.0,0.0,0.0,0.0,4.0,4.0,2.0,1.0,2.0,4.0,4.0,2.0,0.0,0.0,0.0,0.0,3.0,4.0,4.0,12.0,2.0,2.0,0.0,4.0,4.0,2.0,2.0,4.0,4.0,0.0,2.0,2.0,4.0,0.0,4.0,2.0,4.0,2.0,0.0,4.0,0.0,12.0,2.0,4.0,12.0,4.0,2.0,2.0,4.0,2.0,2.0,2.0,2.0,2.0,4.0,12.0,2.0,2.0,2.0,2.0,12.0,4.0,2.0,4.0,4.0,2.0,4.0,0.0,0.0,0.0,0.0,4.0,4.0,4.0,4.0,3.0,2.0,2.0,2.0,4.0,1.0,1.0,12.0,2.0,2.0,2.0,2.0,2.0,4.0,2.0,4.0,6.0,0.0,1.0,1.0,12.0,4.0,1.0,12.0,0.0,0.0,2.0,4.0,12.0,4.0,12.0,4.0,2.0,4.0,4.0,4.0,4.0,12.0,0.0,2.0,2.0,2.0,2.0,2.0,2.0,2.0,12.0,2.0,2.0,2.0,2.0,0.0,0.0,1.0,1.0,2.0,1.0,4.0,4.0,2.0,4.0,4.0,1.0,0.0,1.0,12.0,2.0,4.0,4.0,0.0,0.0,4.0,2.0,4.0,4.0,2.0,2.0,1.0,1.0,12.0,2.0,4.0,2.0,4.0,4.0,4.0,2.0,1.0,4.0,4.0,12.0,4.0,4.0,0.0,2.0,4.0,0.0,0.0,1.0,1.0,1.0,4.0,2.0,2.0,2.0,2.0,2.0,2.0,2.0,2.0,2.0,0.0,2.0,4.0,4.0,0.0,4.0,4.0,4.0,4.0,0.0,1.0,1.0,0.0,4.0,12.0,4.0,4.0,2.0,2.0,12.0,2.0,2.0,4.0,4.0,0.0,0.0,2.0,4.0,12.0,2.0,0.0,12.0,1.0,1.0,0.0,1.0,12.0,2.0,4.0,12.0,2.0,4.0,4.0,12.0,4.0,4.0,12.0,4.0,12.0,4.0,4.0,4.0,4.0,4.0,4.0,4.0,4.0,12.0,0.0,0.0,4.0,0.0,1.0,2.0,2.0,12.0,0.0,0.0,12.0,1.0,4.0,1.0,1.0,0.0,4.0,0.0,0.0,0.0,0.0,1.0,2.0,0.0,4.0,2.0,12.0,4.0,0.0,1.0,4.0,12.0,4.0,4.0,0.0,12.0,0.0,0.0,12.0,4.0,2.0,2.0,1.0,1.0,0.0,1.0,2.0,4.0,1.0,4.0,0.0,4.0,12.0,4.0,2.0,2.0,4.0,4.0,12.0,4.0,4.0,1.0,2.0,4.0,4.0,12.0,2.0,4.0,12.0,12.0,12.0,2.0,2.0,4.0,4.0,0.0,4.0,2.0,12.0,2.0,2.0,4.0,12.0,4.0,4.0,4.0,4.0,0.0,4.0,4.0,12.0,12.0,4.0,2.0,4.0,4.0,2.0,0.0,4.0,5.0,2.0,0.0,0.0,4.0,2.0,2.0,4.0,4.0,2.0,4.0,4.0,11.0,12.0,1.0,1.0,2.0,2.0,4.0,1.0,1.0,2.0,4.0,4.0,2.0,4.0,1.0,1.0,4.0,4.0,0.0,12.0,2.0,2.0,12.0,2.0,2.0,4.0,1.0,12.0,12.0,4.0,1.0,4.0,2.0,2.0,2.0,2.0,2.0,2.0,2.0,2.0,2.0,2.0,2.0,2.0,2.0,2.0,2.0,2.0,2.0,2.0,2.0,2.0,2.0,2.0,2.0,2.0,2.0,2.0,2.0,2.0,2.0,2.0,2.0,2.0,2.0,2.0,2.0,4.0,4.0,4.0,4.0,4.0,4.0,4.0,4.0,1.0,1.0,2.0,2.0,2.0,2.0,2.0,2.0,2.0,2.0,2.0,2.0,2.0,2.0,2.0,2.0,2.0,2.0,2.0,2.0,2.0,1.0,2.0,2.0,2.0,2.0,2.0,2.0,2.0,2.0,2.0,2.0,2.0,1.0,2.0,2.0,2.0,4.0,2.0,2.0,2.0,2.0,2.0,2.0,2.0,1.0,2.0,2.0,2.0,2.0,4.0,2.0,2.0,4.0,2.0,4.0,1.0,2.0,2.0,1.0,0.0,4.0],\"xaxis\":\"x\",\"y\":[0,1,2,3,4,5,6,7,8,9,10,11,12,13,14,15,16,17,18,19,20,21,22,23,24,25,26,27,28,29,30,31,32,33,34,35,36,37,38,39,40,41,42,43,44,45,46,47,48,49,50,51,52,53,54,55,56,57,58,59,60,61,62,63,64,65,66,67,68,69,70,71,72,73,74,75,76,77,78,79,80,81,82,83,84,85,86,87,88,89,90,91,92,93,94,95,96,97,98,99,100,101,102,103,104,105,106,107,108,109,110,111,112,113,114,115,116,117,118,119,120,121,122,123,124,125,126,127,128,129,130,131,132,133,134,135,136,137,138,139,140,141,142,143,144,145,146,147,148,149,150,151,152,153,154,155,156,157,158,159,160,161,162,163,164,165,166,167,168,169,170,171,172,173,174,175,176,177,178,179,180,181,182,183,184,185,186,187,188,189,190,191,192,193,194,195,196,197,198,199,200,201,202,203,204,205,206,207,208,209,210,211,212,213,214,215,216,217,218,219,220,221,222,223,224,225,226,227,228,229,230,231,232,233,234,235,236,237,238,239,240,241,242,243,244,245,246,247,248,249,250,251,252,253,254,255,256,257,258,259,260,261,262,263,264,265,266,267,268,269,270,271,272,273,274,275,276,277,278,279,280,281,282,283,284,285,286,287,288,289,290,291,292,293,294,295,296,297,298,299,300,301,302,303,304,305,306,307,308,309,310,311,312,313,314,315,316,317,318,319,320,321,322,323,324,325,326,327,328,329,330,331,332,333,334,335,336,337,338,339,340,341,342,343,344,345,346,347,348,349,350,351,352,353,354,355,356,357,358,359,360,361,362,363,364,365,366,367,368,369,370,371,372,373,374,375,376,377,378,379,380,381,382,383,384,385,386,387,388,389,390,391,392,393,394,395,396,397,398,399,400,401,402,403,404,405,406,407,408,409,410,411,412,413,414,415,416,417,418,419,420,421,422,423,424,425,426,427,428,429,430,431,432,433,434,435,436,437,438,439,440,441,442,443,444,445,446,447,448,449,450,451,452,453,454,455,456,457,458,459,460,461,462,463,464,465,466,467,468,469,470,471,472,473,474,475,476,477,478,479,480,481,482,483,484,485,486,487,488,489,490,491,492,493,494,495,496,497,498,499,500,501,502,503,504,505,506,507,508,509,510,511,512,513,514,515,516,517,518,519,520,521,522,523,524,525,526,527,528,529,530,531,532,533,534,535,536,537,538,539,540,541,542,543,544,545,546,547,548,549,550,551,552,553,554,555,556,557,558,559,560,561,562,563,564,565,566,567,568,569,570,571,572,573,574,575,576,577,578,579,580,581,582,583,584,585,586,587,588,589,590,591,592,593,594,595,596,597,598,599,600,601,602,603,604,605,606,607,608,609,610,611,612,613,614,615,616,617,618,619,620,621,622,623,624,625,626,627,628,629,630,631,632,633,634,635,636,637,638,639,640,641,642,643,644,645,646,647,648,649,650,651,652,653,654,655,656,657,658,659,660,661,662,663,664,665,666,667,668,669,670,671,672,673,674,675,676,677,678,679,680,681,682,683,684,685,686,687,688,689,690,691,692,693,694,695,696,697,698,699,700,701,702,703,704,705,706,707,708,709,710,711,712,713,714,715,716,717,718,719,720,721,722,723,724,725,726,727,728,729,730,731,732,733,734,735,736,737,738,739,740,741,742,743,744,745,746,747,748,749,750,751,752,753,754,755,756,757,758,759,760,761,762,763,764,765,766,767,768,769,770,771,772,773,774,775,776,777,778,779,780,781,782,783,784,785,786,787,788,789,790,791,792,793,794,795,796,797,798,799,800,801,802,803,804,805,806,807,808,809,810,811,812,813,814,815,816,817,818,819,820,821,822,823,824,825,826,827,828,829,830,831,832,833,834,835,836,837,838,839,840,841,842,843,844,845,846,847,848,849,850,851,852,853,854,855,856,857,858,859,860,861,862,863,864,865,866,867,868,869,870,871,872,873,874,875,876,877,878,879,880,881,882,883,884,885,886,887,888,889,890,891,892,893,894,895,896,897,898,899,900,901,902,903,904,905,906,907,908,909,910,911,912,913,914,915,916,917,918,919,920,921,922,923,924,925,926,927,928,929,930,931,932,933,934,935,936,937,938,939,940,941,942,943,944,945,946,947,948,949,950,951,952,953,954,955,956,957,958,959,960,961,962,963,964,965,966,967,968,969,970,971,972,973,974,975,976,977,978,979,980,981,982,983,984,985,986,987,988,989,990,991,992,993,994,995,996,997,998,999,1000,1001,1002,1003,1004,1005,1006,1007,1008,1009,1010,1011,1012,1013,1014,1015,1016,1017,1018,1019,1020,1021,1022,1023,1024,1025,1026,1027,1028,1029,1030,1031,1032,1033,1034,1035,1036,1037,1038,1039,1040,1041,1042,1043,1044,1045,1046,1047,1048,1049,1050,1051,1052,1053,1054,1055,1056,1057,1058,1059,1060,1061,1062,1063,1064,1065,1066,1067,1068,1069,1070,1071,1072,1073,1074,1075,1076,1077,1078,1079,1080,1081,1082,1083,1084,1085,1086,1087,1088,1089,1090,1091,1092,1093,1094,1095,1096,1097,1098,1099,1100,1101,1102,1103,1104,1105,1106,1107,1108,1109,1110,1111,1112,1113,1114,1115,1116,1117,1118,1119,1120,1121,1122,1123,1124,1125,1126,1127,1128,1129,1130,1131,1132,1133,1134,1135,1136,1137,1138,1139,1140,1141,1142,1143,1144,1145,1146,1147,1148,1149,1150,1151,1152,1153,1154,1155,1156,1157,1158,1159,1160,1161,1162,1163,1164,1165,1166,1167,1168,1169,1170,1171,1172,1173,1174,1175,1176,1177,1178,1179,1180,1181,1182,1183,1184,1185,1186,1187,1188,1189,1190,1191,1192,1193,1194,1195,1196,1197,1198,1199,1200,1201,1202,1203,1204,1205,1206,1207,1208,1209,1210,1211,1212,1213,1214,1215,1216,1217,1218,1219,1220,1221,1222,1223,1224,1225,1226,1227,1228,1229,1230,1231,1232,1233,1234,1235,1236,1237,1238,1239,1240,1241,1242,1243,1244,1245,1246,1247,1248,1249,1250,1251,1252,1253,1254,1255,1256,1257,1258,1259,1260,1261,1262,1263,1264,1265,1266,1267,1268,1269,1270,1271,1272,1273,1274,1275,1276,1277,1278,1279,1280,1281,1282,1283,1284,1285,1286,1287,1288,1289,1290,1291,1292,1293,1294,1295,1296,1297,1298,1299,1300,1301,1302,1303,1304,1305,1306,1307,1308,1309,1310,1311,1312,1313,1314,1315,1316,1317,1318,1319,1320,1321,1322,1323,1324,1325,1326,1327,1328,1329,1330,1331,1332,1333,1334,1335,1336,1337,1338,1339,1340,1341,1342,1343,1344,1345,1346,1347,1348,1349,1350,1351,1352,1353,1354,1355,1356,1357,1358,1359,1360,1361,1362,1363,1364,1365,1366,1367,1368,1369,1370,1371,1372,1373,1374,1375,1376,1377,1378,1379,1380,1381,1382,1383,1384,1385,1386,1387,1388,1389,1390,1391,1392,1393,1394,1395,1396,1397,1398,1399,1400,1401,1402,1403,1404,1405,1406,1407,1408,1409,1410,1411,1412,1413,1414,1415,1416,1417,1418,1419,1420,1421,1422,1423,1424,1425,1426,1427,1428,1429,1430,1431,1432,1433,1434,1435,1436,1437,1438,1439,1440,1441,1442,1443,1444,1445,1446,1447,1448,1449,1450,1451,1452,1453,1454,1455,1456,1457,1458,1459,1460,1461,1462,1463,1464,1465,1466,1467,1468,1469,1470,1471,1472,1473,1474,1475,1476,1477,1478,1479,1480,1481,1482,1483,1484,1485,1486,1487,1488,1489,1490,1491,1492,1493,1494,1495,1496,1497,1498,1499,1500,1501,1502,1503,1504,1505,1506,1507,1508,1509,1510,1511,1512,1513,1514,1515,1516,1517,1518,1519,1520,1521,1522,1523,1524,1525,1526,1527,1528,1529,1530,1531,1532,1533,1534,1535,1536,1537,1538,1539,1540,1541,1542,1543,1544,1545,1546,1547,1548,1549,1550,1551,1552,1553,1554,1555,1556,1557,1558,1559,1560,1561,1562,1563,1564,1565,1566,1567,1568,1569,1570,1571,1572,1573,1574,1575,1576,1577,1578,1579,1580,1581,1582,1583,1584,1585,1586,1587,1588,1589,1590,1591,1592,1593,1594,1595,1596,1597,1598,1599,1600,1601,1602,1603,1604,1605,1606,1607,1608,1609,1610,1611,1612,1613,1614,1615,1616,1617,1618,1619,1620,1621,1622,1623,1624,1625,1626,1627,1628,1629,1630,1631,1632,1633,1634,1635,1636,1637,1638,1639,1640,1641,1642,1643,1644,1645,1646,1647,1648,1649,1650,1651,1652,1653,1654,1655,1656,1657,1658,1659,1660,1661,1662,1663,1664,1665,1666,1667,1668,1669,1670,1671,1672,1673,1674,1675,1676,1677,1678,1679,1680,1681,1682,1683,1684,1685,1686,1687,1688,1689,1690,1691,1692,1693,1694,1695,1696,1697,1698,1699,1700,1701,1702,1703,1704,1705,1706,1707,1708,1709,1710,1711,1712,1713,1714,1715,1716,1717,1718,1719,1720,1721,1722,1723,1724,1725,1726,1727,1728,1729,1730,1731,1732,1733,1734,1735,1736,1737,1738,1739,1740,1741,1742,1743,1744,1745,1746,1747,1748,1749,1750,1751,1752,1753,1754,1755,1756,1757,1758,1759,1760,1761,1762,1763,1764,1765,1766,1767,1768,1769,1770,1771,1772,1773,1774,1775,1776,1777,1778,1779,1780,1781,1782,1783,1784,1785,1786,1787,1788,1789,1790,1791,1792,1793,1794,1795,1796,1797,1798,1799,1800,1801,1802,1803,1804,1805,1806,1807,1808,1809,1810,1811,1812,1813,1814,1815,1816,1817,1818,1819,1820,1821,1822,1823,1824,1825,1826,1827,1828,1829,1830,1831,1832,1833,1834,1835,1836,1837,1838,1839,1840,1841,1842,1843,1844,1845,1846,1847,1848,1849,1850,1851,1852,1853,1854,1855,1856,1857,1858,1859,1860,1861,1862,1863,1864,1865,1866,1867,1868,1869,1870,1871,1872,1873,1874,1875,1876,1877,1878,1879,1880,1881,1882,1883,1884,1885,1886,1887,1888,1889,1890,1891,1892,1893,1894,1895,1896,1897,1898,1899,1900,1901,1902,1903,1904,1905,1906,1907,1908,1909,1910,1911,1912,1913,1914,1915,1916,1917,1918,1919,1920,1921,1922,1923,1924,1925,1926,1927,1928,1929,1930,1931,1932,1933,1934,1935,1936,1937,1938,1939,1940,1941,1942,1943,1944,1945,1946,1947,1948,1949,1950,1951,1952,1953,1954,1955,1956,1957,1958,1959,1960,1961,1962,1963,1964,1965,1966,1967,1968,1969,1970,1971,1972,1973,1974,1975,1976,1977,1978,1979,1980,1981,1982,1983,1984,1985,1986,1987,1988,1989,1990,1991,1992,1993,1994,1995,1996,1997,1998,1999,2000,2001,2002,2003,2004,2005,2006,2007,2008,2009,2010,2011,2012,2013,2014,2015,2016,2017,2018,2019,2020,2021,2022,2023,2024,2025,2026,2027,2028,2029,2030,2031,2032,2033,2034,2035,2036,2037,2038,2039,2040,2041,2042,2043,2044,2045,2046,2047,2048,2049,2050,2051,2052,2053,2054,2055,2056,2057,2058,2059,2060,2061,2062,2063,2064,2065,2066,2067,2068,2069,2070,2071,2072,2073,2074,2075,2076,2077,2078,2079,2080,2081,2082,2083,2084,2085,2086,2087,2088,2089,2090,2091,2092,2093,2094,2095,2096,2097,2098,2099,2100,2101,2102,2103,2104,2105,2106,2107,2108,2109,2110,2111,2112,2113,2114,2115,2116,2117,2118,2119,2120,2121,2122,2123,2124,2125,2126,2127,2128,2129,2130,2131,2132,2133,2134,2135,2136,2137,2138,2139,2140,2141,2142,2143,2144,2145,2146,2147,2148,2149,2150,2151,2152,2153,2154,2155,2156,2157,2158,2159,2160,2161,2162,2163,2164,2165,2166,2167,2168,2169,2170,2171,2172,2173,2174,2175,2176,2177,2178,2179,2180,2181,2182,2183,2184,2185,2186,2187,2188,2189,2190,2191,2192,2193,2194,2195,2196,2197,2198,2199,2200,2201,2202,2203,2204,2205,2206,2207,2208,2209,2210,2211,2212,2213,2214,2215,2216,2217,2218,2219,2220,2221,2222,2223,2224,2225,2226,2227,2228,2229,2230,2231,2232,2233,2234,2235,2236,2237,2238,2239,2240,2241,2242,2243,2244,2245,2246,2247,2248,2249,2250,2251,2252,2253,2254,2255,2256,2257,2258,2259,2260,2261,2262,2263,2264,2265,2266,2267,2268,2269,2270,2271,2272,2273,2274,2275,2276,2277,2278,2279,2280,2281,2282,2283,2284,2285,2286,2287],\"yaxis\":\"y\",\"type\":\"scattergl\"}],                        {\"template\":{\"data\":{\"bar\":[{\"error_x\":{\"color\":\"#2a3f5f\"},\"error_y\":{\"color\":\"#2a3f5f\"},\"marker\":{\"line\":{\"color\":\"#E5ECF6\",\"width\":0.5},\"pattern\":{\"fillmode\":\"overlay\",\"size\":10,\"solidity\":0.2}},\"type\":\"bar\"}],\"barpolar\":[{\"marker\":{\"line\":{\"color\":\"#E5ECF6\",\"width\":0.5},\"pattern\":{\"fillmode\":\"overlay\",\"size\":10,\"solidity\":0.2}},\"type\":\"barpolar\"}],\"carpet\":[{\"aaxis\":{\"endlinecolor\":\"#2a3f5f\",\"gridcolor\":\"white\",\"linecolor\":\"white\",\"minorgridcolor\":\"white\",\"startlinecolor\":\"#2a3f5f\"},\"baxis\":{\"endlinecolor\":\"#2a3f5f\",\"gridcolor\":\"white\",\"linecolor\":\"white\",\"minorgridcolor\":\"white\",\"startlinecolor\":\"#2a3f5f\"},\"type\":\"carpet\"}],\"choropleth\":[{\"colorbar\":{\"outlinewidth\":0,\"ticks\":\"\"},\"type\":\"choropleth\"}],\"contour\":[{\"colorbar\":{\"outlinewidth\":0,\"ticks\":\"\"},\"colorscale\":[[0.0,\"#0d0887\"],[0.1111111111111111,\"#46039f\"],[0.2222222222222222,\"#7201a8\"],[0.3333333333333333,\"#9c179e\"],[0.4444444444444444,\"#bd3786\"],[0.5555555555555556,\"#d8576b\"],[0.6666666666666666,\"#ed7953\"],[0.7777777777777778,\"#fb9f3a\"],[0.8888888888888888,\"#fdca26\"],[1.0,\"#f0f921\"]],\"type\":\"contour\"}],\"contourcarpet\":[{\"colorbar\":{\"outlinewidth\":0,\"ticks\":\"\"},\"type\":\"contourcarpet\"}],\"heatmap\":[{\"colorbar\":{\"outlinewidth\":0,\"ticks\":\"\"},\"colorscale\":[[0.0,\"#0d0887\"],[0.1111111111111111,\"#46039f\"],[0.2222222222222222,\"#7201a8\"],[0.3333333333333333,\"#9c179e\"],[0.4444444444444444,\"#bd3786\"],[0.5555555555555556,\"#d8576b\"],[0.6666666666666666,\"#ed7953\"],[0.7777777777777778,\"#fb9f3a\"],[0.8888888888888888,\"#fdca26\"],[1.0,\"#f0f921\"]],\"type\":\"heatmap\"}],\"heatmapgl\":[{\"colorbar\":{\"outlinewidth\":0,\"ticks\":\"\"},\"colorscale\":[[0.0,\"#0d0887\"],[0.1111111111111111,\"#46039f\"],[0.2222222222222222,\"#7201a8\"],[0.3333333333333333,\"#9c179e\"],[0.4444444444444444,\"#bd3786\"],[0.5555555555555556,\"#d8576b\"],[0.6666666666666666,\"#ed7953\"],[0.7777777777777778,\"#fb9f3a\"],[0.8888888888888888,\"#fdca26\"],[1.0,\"#f0f921\"]],\"type\":\"heatmapgl\"}],\"histogram\":[{\"marker\":{\"pattern\":{\"fillmode\":\"overlay\",\"size\":10,\"solidity\":0.2}},\"type\":\"histogram\"}],\"histogram2d\":[{\"colorbar\":{\"outlinewidth\":0,\"ticks\":\"\"},\"colorscale\":[[0.0,\"#0d0887\"],[0.1111111111111111,\"#46039f\"],[0.2222222222222222,\"#7201a8\"],[0.3333333333333333,\"#9c179e\"],[0.4444444444444444,\"#bd3786\"],[0.5555555555555556,\"#d8576b\"],[0.6666666666666666,\"#ed7953\"],[0.7777777777777778,\"#fb9f3a\"],[0.8888888888888888,\"#fdca26\"],[1.0,\"#f0f921\"]],\"type\":\"histogram2d\"}],\"histogram2dcontour\":[{\"colorbar\":{\"outlinewidth\":0,\"ticks\":\"\"},\"colorscale\":[[0.0,\"#0d0887\"],[0.1111111111111111,\"#46039f\"],[0.2222222222222222,\"#7201a8\"],[0.3333333333333333,\"#9c179e\"],[0.4444444444444444,\"#bd3786\"],[0.5555555555555556,\"#d8576b\"],[0.6666666666666666,\"#ed7953\"],[0.7777777777777778,\"#fb9f3a\"],[0.8888888888888888,\"#fdca26\"],[1.0,\"#f0f921\"]],\"type\":\"histogram2dcontour\"}],\"mesh3d\":[{\"colorbar\":{\"outlinewidth\":0,\"ticks\":\"\"},\"type\":\"mesh3d\"}],\"parcoords\":[{\"line\":{\"colorbar\":{\"outlinewidth\":0,\"ticks\":\"\"}},\"type\":\"parcoords\"}],\"pie\":[{\"automargin\":true,\"type\":\"pie\"}],\"scatter\":[{\"marker\":{\"colorbar\":{\"outlinewidth\":0,\"ticks\":\"\"}},\"type\":\"scatter\"}],\"scatter3d\":[{\"line\":{\"colorbar\":{\"outlinewidth\":0,\"ticks\":\"\"}},\"marker\":{\"colorbar\":{\"outlinewidth\":0,\"ticks\":\"\"}},\"type\":\"scatter3d\"}],\"scattercarpet\":[{\"marker\":{\"colorbar\":{\"outlinewidth\":0,\"ticks\":\"\"}},\"type\":\"scattercarpet\"}],\"scattergeo\":[{\"marker\":{\"colorbar\":{\"outlinewidth\":0,\"ticks\":\"\"}},\"type\":\"scattergeo\"}],\"scattergl\":[{\"marker\":{\"colorbar\":{\"outlinewidth\":0,\"ticks\":\"\"}},\"type\":\"scattergl\"}],\"scattermapbox\":[{\"marker\":{\"colorbar\":{\"outlinewidth\":0,\"ticks\":\"\"}},\"type\":\"scattermapbox\"}],\"scatterpolar\":[{\"marker\":{\"colorbar\":{\"outlinewidth\":0,\"ticks\":\"\"}},\"type\":\"scatterpolar\"}],\"scatterpolargl\":[{\"marker\":{\"colorbar\":{\"outlinewidth\":0,\"ticks\":\"\"}},\"type\":\"scatterpolargl\"}],\"scatterternary\":[{\"marker\":{\"colorbar\":{\"outlinewidth\":0,\"ticks\":\"\"}},\"type\":\"scatterternary\"}],\"surface\":[{\"colorbar\":{\"outlinewidth\":0,\"ticks\":\"\"},\"colorscale\":[[0.0,\"#0d0887\"],[0.1111111111111111,\"#46039f\"],[0.2222222222222222,\"#7201a8\"],[0.3333333333333333,\"#9c179e\"],[0.4444444444444444,\"#bd3786\"],[0.5555555555555556,\"#d8576b\"],[0.6666666666666666,\"#ed7953\"],[0.7777777777777778,\"#fb9f3a\"],[0.8888888888888888,\"#fdca26\"],[1.0,\"#f0f921\"]],\"type\":\"surface\"}],\"table\":[{\"cells\":{\"fill\":{\"color\":\"#EBF0F8\"},\"line\":{\"color\":\"white\"}},\"header\":{\"fill\":{\"color\":\"#C8D4E3\"},\"line\":{\"color\":\"white\"}},\"type\":\"table\"}]},\"layout\":{\"annotationdefaults\":{\"arrowcolor\":\"#2a3f5f\",\"arrowhead\":0,\"arrowwidth\":1},\"autotypenumbers\":\"strict\",\"coloraxis\":{\"colorbar\":{\"outlinewidth\":0,\"ticks\":\"\"}},\"colorscale\":{\"diverging\":[[0,\"#8e0152\"],[0.1,\"#c51b7d\"],[0.2,\"#de77ae\"],[0.3,\"#f1b6da\"],[0.4,\"#fde0ef\"],[0.5,\"#f7f7f7\"],[0.6,\"#e6f5d0\"],[0.7,\"#b8e186\"],[0.8,\"#7fbc41\"],[0.9,\"#4d9221\"],[1,\"#276419\"]],\"sequential\":[[0.0,\"#0d0887\"],[0.1111111111111111,\"#46039f\"],[0.2222222222222222,\"#7201a8\"],[0.3333333333333333,\"#9c179e\"],[0.4444444444444444,\"#bd3786\"],[0.5555555555555556,\"#d8576b\"],[0.6666666666666666,\"#ed7953\"],[0.7777777777777778,\"#fb9f3a\"],[0.8888888888888888,\"#fdca26\"],[1.0,\"#f0f921\"]],\"sequentialminus\":[[0.0,\"#0d0887\"],[0.1111111111111111,\"#46039f\"],[0.2222222222222222,\"#7201a8\"],[0.3333333333333333,\"#9c179e\"],[0.4444444444444444,\"#bd3786\"],[0.5555555555555556,\"#d8576b\"],[0.6666666666666666,\"#ed7953\"],[0.7777777777777778,\"#fb9f3a\"],[0.8888888888888888,\"#fdca26\"],[1.0,\"#f0f921\"]]},\"colorway\":[\"#636efa\",\"#EF553B\",\"#00cc96\",\"#ab63fa\",\"#FFA15A\",\"#19d3f3\",\"#FF6692\",\"#B6E880\",\"#FF97FF\",\"#FECB52\"],\"font\":{\"color\":\"#2a3f5f\"},\"geo\":{\"bgcolor\":\"white\",\"lakecolor\":\"white\",\"landcolor\":\"#E5ECF6\",\"showlakes\":true,\"showland\":true,\"subunitcolor\":\"white\"},\"hoverlabel\":{\"align\":\"left\"},\"hovermode\":\"closest\",\"mapbox\":{\"style\":\"light\"},\"paper_bgcolor\":\"white\",\"plot_bgcolor\":\"#E5ECF6\",\"polar\":{\"angularaxis\":{\"gridcolor\":\"white\",\"linecolor\":\"white\",\"ticks\":\"\"},\"bgcolor\":\"#E5ECF6\",\"radialaxis\":{\"gridcolor\":\"white\",\"linecolor\":\"white\",\"ticks\":\"\"}},\"scene\":{\"xaxis\":{\"backgroundcolor\":\"#E5ECF6\",\"gridcolor\":\"white\",\"gridwidth\":2,\"linecolor\":\"white\",\"showbackground\":true,\"ticks\":\"\",\"zerolinecolor\":\"white\"},\"yaxis\":{\"backgroundcolor\":\"#E5ECF6\",\"gridcolor\":\"white\",\"gridwidth\":2,\"linecolor\":\"white\",\"showbackground\":true,\"ticks\":\"\",\"zerolinecolor\":\"white\"},\"zaxis\":{\"backgroundcolor\":\"#E5ECF6\",\"gridcolor\":\"white\",\"gridwidth\":2,\"linecolor\":\"white\",\"showbackground\":true,\"ticks\":\"\",\"zerolinecolor\":\"white\"}},\"shapedefaults\":{\"line\":{\"color\":\"#2a3f5f\"}},\"ternary\":{\"aaxis\":{\"gridcolor\":\"white\",\"linecolor\":\"white\",\"ticks\":\"\"},\"baxis\":{\"gridcolor\":\"white\",\"linecolor\":\"white\",\"ticks\":\"\"},\"bgcolor\":\"#E5ECF6\",\"caxis\":{\"gridcolor\":\"white\",\"linecolor\":\"white\",\"ticks\":\"\"}},\"title\":{\"x\":0.05},\"xaxis\":{\"automargin\":true,\"gridcolor\":\"white\",\"linecolor\":\"white\",\"ticks\":\"\",\"title\":{\"standoff\":15},\"zerolinecolor\":\"white\",\"zerolinewidth\":2},\"yaxis\":{\"automargin\":true,\"gridcolor\":\"white\",\"linecolor\":\"white\",\"ticks\":\"\",\"title\":{\"standoff\":15},\"zerolinecolor\":\"white\",\"zerolinewidth\":2}}},\"xaxis\":{\"anchor\":\"y\",\"domain\":[0.0,1.0],\"title\":{\"text\":\"\\u0427\\u0430\\u0441\\u0442\\u043e\\u0442\\u0430 \\u0432\\u044b\\u043f\\u043b\\u0430\\u0442\\u0430 \\u043a\\u0443\\u043f\\u043e\\u043d\\u043e\\u0432 \\u0432 \\u0433\\u043e\\u0434\"}},\"yaxis\":{\"anchor\":\"x\",\"domain\":[0.0,1.0],\"title\":{\"text\":\"ID\"}},\"legend\":{\"tracegroupgap\":0,\"orientation\":\"h\",\"x\":0.5,\"xanchor\":\"center\"},\"margin\":{\"t\":30,\"l\":0,\"r\":0,\"b\":0},\"title\":{\"text\":\"\\u0420\\u0430\\u0437\\u0431\\u0438\\u0432\\u043a\\u0430 \\u043e\\u0431\\u043b\\u0438\\u0433\\u0430\\u0446\\u0438\\u0439 \\u043f\\u043e \\u0447\\u0430\\u0441\\u0442\\u043e\\u0442\\u0435 \\u0432\\u044b\\u043f\\u043b\\u0430\\u0442\\u044b \\u043a\\u0443\\u043f\\u043e\\u043d\\u043e\\u0432\"}},                        {\"responsive\": true}                    ).then(function(){\n",
       "                            \n",
       "var gd = document.getElementById('c9b93341-0f9e-488f-992c-388b62a8df50');\n",
       "var x = new MutationObserver(function (mutations, observer) {{\n",
       "        var display = window.getComputedStyle(gd).display;\n",
       "        if (!display || display === 'none') {{\n",
       "            console.log([gd, 'removed!']);\n",
       "            Plotly.purge(gd);\n",
       "            observer.disconnect();\n",
       "        }}\n",
       "}});\n",
       "\n",
       "// Listen for the removal of the full notebook cells\n",
       "var notebookContainer = gd.closest('#notebook-container');\n",
       "if (notebookContainer) {{\n",
       "    x.observe(notebookContainer, {childList: true});\n",
       "}}\n",
       "\n",
       "// Listen for the clearing of the current output cell\n",
       "var outputEl = gd.closest('.output');\n",
       "if (outputEl) {{\n",
       "    x.observe(outputEl, {childList: true});\n",
       "}}\n",
       "\n",
       "                        })                };                });            </script>        </div>"
      ]
     },
     "metadata": {},
     "output_type": "display_data"
    }
   ],
   "source": [
    "# строим график №4\n",
    "fig = px.scatter(bond[['COUPONFREQUENCY']], x = 'COUPONFREQUENCY')\n",
    "fig.update_layout(legend_orientation=\"h\",\n",
    "                  legend=dict(x=.5, xanchor=\"center\"),\n",
    "                  title=\"Разбивка облигаций по частоте выплаты купонов\",\n",
    "                  xaxis_title=\"Частота выплата купонов в год\",\n",
    "                  yaxis_title=\"ID\",\n",
    "                  margin=dict(l=0, r=0, t=30, b=0))\n",
    "fig.show()"
   ]
  },
  {
   "cell_type": "code",
   "execution_count": 237,
   "id": "ede1b50a",
   "metadata": {},
   "outputs": [
    {
     "data": {
      "application/vnd.plotly.v1+json": {
       "config": {
        "plotlyServerURL": "https://plot.ly"
       },
       "data": [
        {
         "labels": [
          0,
          1,
          2,
          3,
          4,
          5,
          6,
          11,
          12
         ],
         "sort": false,
         "type": "pie",
         "values": [
          343,
          150,
          973,
          21,
          661,
          1,
          2,
          3,
          134
         ]
        }
       ],
       "layout": {
        "legend": {
         "orientation": "h",
         "x": 0.5,
         "xanchor": "center"
        },
        "template": {
         "data": {
          "bar": [
           {
            "error_x": {
             "color": "#2a3f5f"
            },
            "error_y": {
             "color": "#2a3f5f"
            },
            "marker": {
             "line": {
              "color": "#E5ECF6",
              "width": 0.5
             },
             "pattern": {
              "fillmode": "overlay",
              "size": 10,
              "solidity": 0.2
             }
            },
            "type": "bar"
           }
          ],
          "barpolar": [
           {
            "marker": {
             "line": {
              "color": "#E5ECF6",
              "width": 0.5
             },
             "pattern": {
              "fillmode": "overlay",
              "size": 10,
              "solidity": 0.2
             }
            },
            "type": "barpolar"
           }
          ],
          "carpet": [
           {
            "aaxis": {
             "endlinecolor": "#2a3f5f",
             "gridcolor": "white",
             "linecolor": "white",
             "minorgridcolor": "white",
             "startlinecolor": "#2a3f5f"
            },
            "baxis": {
             "endlinecolor": "#2a3f5f",
             "gridcolor": "white",
             "linecolor": "white",
             "minorgridcolor": "white",
             "startlinecolor": "#2a3f5f"
            },
            "type": "carpet"
           }
          ],
          "choropleth": [
           {
            "colorbar": {
             "outlinewidth": 0,
             "ticks": ""
            },
            "type": "choropleth"
           }
          ],
          "contour": [
           {
            "colorbar": {
             "outlinewidth": 0,
             "ticks": ""
            },
            "colorscale": [
             [
              0,
              "#0d0887"
             ],
             [
              0.1111111111111111,
              "#46039f"
             ],
             [
              0.2222222222222222,
              "#7201a8"
             ],
             [
              0.3333333333333333,
              "#9c179e"
             ],
             [
              0.4444444444444444,
              "#bd3786"
             ],
             [
              0.5555555555555556,
              "#d8576b"
             ],
             [
              0.6666666666666666,
              "#ed7953"
             ],
             [
              0.7777777777777778,
              "#fb9f3a"
             ],
             [
              0.8888888888888888,
              "#fdca26"
             ],
             [
              1,
              "#f0f921"
             ]
            ],
            "type": "contour"
           }
          ],
          "contourcarpet": [
           {
            "colorbar": {
             "outlinewidth": 0,
             "ticks": ""
            },
            "type": "contourcarpet"
           }
          ],
          "heatmap": [
           {
            "colorbar": {
             "outlinewidth": 0,
             "ticks": ""
            },
            "colorscale": [
             [
              0,
              "#0d0887"
             ],
             [
              0.1111111111111111,
              "#46039f"
             ],
             [
              0.2222222222222222,
              "#7201a8"
             ],
             [
              0.3333333333333333,
              "#9c179e"
             ],
             [
              0.4444444444444444,
              "#bd3786"
             ],
             [
              0.5555555555555556,
              "#d8576b"
             ],
             [
              0.6666666666666666,
              "#ed7953"
             ],
             [
              0.7777777777777778,
              "#fb9f3a"
             ],
             [
              0.8888888888888888,
              "#fdca26"
             ],
             [
              1,
              "#f0f921"
             ]
            ],
            "type": "heatmap"
           }
          ],
          "heatmapgl": [
           {
            "colorbar": {
             "outlinewidth": 0,
             "ticks": ""
            },
            "colorscale": [
             [
              0,
              "#0d0887"
             ],
             [
              0.1111111111111111,
              "#46039f"
             ],
             [
              0.2222222222222222,
              "#7201a8"
             ],
             [
              0.3333333333333333,
              "#9c179e"
             ],
             [
              0.4444444444444444,
              "#bd3786"
             ],
             [
              0.5555555555555556,
              "#d8576b"
             ],
             [
              0.6666666666666666,
              "#ed7953"
             ],
             [
              0.7777777777777778,
              "#fb9f3a"
             ],
             [
              0.8888888888888888,
              "#fdca26"
             ],
             [
              1,
              "#f0f921"
             ]
            ],
            "type": "heatmapgl"
           }
          ],
          "histogram": [
           {
            "marker": {
             "pattern": {
              "fillmode": "overlay",
              "size": 10,
              "solidity": 0.2
             }
            },
            "type": "histogram"
           }
          ],
          "histogram2d": [
           {
            "colorbar": {
             "outlinewidth": 0,
             "ticks": ""
            },
            "colorscale": [
             [
              0,
              "#0d0887"
             ],
             [
              0.1111111111111111,
              "#46039f"
             ],
             [
              0.2222222222222222,
              "#7201a8"
             ],
             [
              0.3333333333333333,
              "#9c179e"
             ],
             [
              0.4444444444444444,
              "#bd3786"
             ],
             [
              0.5555555555555556,
              "#d8576b"
             ],
             [
              0.6666666666666666,
              "#ed7953"
             ],
             [
              0.7777777777777778,
              "#fb9f3a"
             ],
             [
              0.8888888888888888,
              "#fdca26"
             ],
             [
              1,
              "#f0f921"
             ]
            ],
            "type": "histogram2d"
           }
          ],
          "histogram2dcontour": [
           {
            "colorbar": {
             "outlinewidth": 0,
             "ticks": ""
            },
            "colorscale": [
             [
              0,
              "#0d0887"
             ],
             [
              0.1111111111111111,
              "#46039f"
             ],
             [
              0.2222222222222222,
              "#7201a8"
             ],
             [
              0.3333333333333333,
              "#9c179e"
             ],
             [
              0.4444444444444444,
              "#bd3786"
             ],
             [
              0.5555555555555556,
              "#d8576b"
             ],
             [
              0.6666666666666666,
              "#ed7953"
             ],
             [
              0.7777777777777778,
              "#fb9f3a"
             ],
             [
              0.8888888888888888,
              "#fdca26"
             ],
             [
              1,
              "#f0f921"
             ]
            ],
            "type": "histogram2dcontour"
           }
          ],
          "mesh3d": [
           {
            "colorbar": {
             "outlinewidth": 0,
             "ticks": ""
            },
            "type": "mesh3d"
           }
          ],
          "parcoords": [
           {
            "line": {
             "colorbar": {
              "outlinewidth": 0,
              "ticks": ""
             }
            },
            "type": "parcoords"
           }
          ],
          "pie": [
           {
            "automargin": true,
            "type": "pie"
           }
          ],
          "scatter": [
           {
            "marker": {
             "colorbar": {
              "outlinewidth": 0,
              "ticks": ""
             }
            },
            "type": "scatter"
           }
          ],
          "scatter3d": [
           {
            "line": {
             "colorbar": {
              "outlinewidth": 0,
              "ticks": ""
             }
            },
            "marker": {
             "colorbar": {
              "outlinewidth": 0,
              "ticks": ""
             }
            },
            "type": "scatter3d"
           }
          ],
          "scattercarpet": [
           {
            "marker": {
             "colorbar": {
              "outlinewidth": 0,
              "ticks": ""
             }
            },
            "type": "scattercarpet"
           }
          ],
          "scattergeo": [
           {
            "marker": {
             "colorbar": {
              "outlinewidth": 0,
              "ticks": ""
             }
            },
            "type": "scattergeo"
           }
          ],
          "scattergl": [
           {
            "marker": {
             "colorbar": {
              "outlinewidth": 0,
              "ticks": ""
             }
            },
            "type": "scattergl"
           }
          ],
          "scattermapbox": [
           {
            "marker": {
             "colorbar": {
              "outlinewidth": 0,
              "ticks": ""
             }
            },
            "type": "scattermapbox"
           }
          ],
          "scatterpolar": [
           {
            "marker": {
             "colorbar": {
              "outlinewidth": 0,
              "ticks": ""
             }
            },
            "type": "scatterpolar"
           }
          ],
          "scatterpolargl": [
           {
            "marker": {
             "colorbar": {
              "outlinewidth": 0,
              "ticks": ""
             }
            },
            "type": "scatterpolargl"
           }
          ],
          "scatterternary": [
           {
            "marker": {
             "colorbar": {
              "outlinewidth": 0,
              "ticks": ""
             }
            },
            "type": "scatterternary"
           }
          ],
          "surface": [
           {
            "colorbar": {
             "outlinewidth": 0,
             "ticks": ""
            },
            "colorscale": [
             [
              0,
              "#0d0887"
             ],
             [
              0.1111111111111111,
              "#46039f"
             ],
             [
              0.2222222222222222,
              "#7201a8"
             ],
             [
              0.3333333333333333,
              "#9c179e"
             ],
             [
              0.4444444444444444,
              "#bd3786"
             ],
             [
              0.5555555555555556,
              "#d8576b"
             ],
             [
              0.6666666666666666,
              "#ed7953"
             ],
             [
              0.7777777777777778,
              "#fb9f3a"
             ],
             [
              0.8888888888888888,
              "#fdca26"
             ],
             [
              1,
              "#f0f921"
             ]
            ],
            "type": "surface"
           }
          ],
          "table": [
           {
            "cells": {
             "fill": {
              "color": "#EBF0F8"
             },
             "line": {
              "color": "white"
             }
            },
            "header": {
             "fill": {
              "color": "#C8D4E3"
             },
             "line": {
              "color": "white"
             }
            },
            "type": "table"
           }
          ]
         },
         "layout": {
          "annotationdefaults": {
           "arrowcolor": "#2a3f5f",
           "arrowhead": 0,
           "arrowwidth": 1
          },
          "autotypenumbers": "strict",
          "coloraxis": {
           "colorbar": {
            "outlinewidth": 0,
            "ticks": ""
           }
          },
          "colorscale": {
           "diverging": [
            [
             0,
             "#8e0152"
            ],
            [
             0.1,
             "#c51b7d"
            ],
            [
             0.2,
             "#de77ae"
            ],
            [
             0.3,
             "#f1b6da"
            ],
            [
             0.4,
             "#fde0ef"
            ],
            [
             0.5,
             "#f7f7f7"
            ],
            [
             0.6,
             "#e6f5d0"
            ],
            [
             0.7,
             "#b8e186"
            ],
            [
             0.8,
             "#7fbc41"
            ],
            [
             0.9,
             "#4d9221"
            ],
            [
             1,
             "#276419"
            ]
           ],
           "sequential": [
            [
             0,
             "#0d0887"
            ],
            [
             0.1111111111111111,
             "#46039f"
            ],
            [
             0.2222222222222222,
             "#7201a8"
            ],
            [
             0.3333333333333333,
             "#9c179e"
            ],
            [
             0.4444444444444444,
             "#bd3786"
            ],
            [
             0.5555555555555556,
             "#d8576b"
            ],
            [
             0.6666666666666666,
             "#ed7953"
            ],
            [
             0.7777777777777778,
             "#fb9f3a"
            ],
            [
             0.8888888888888888,
             "#fdca26"
            ],
            [
             1,
             "#f0f921"
            ]
           ],
           "sequentialminus": [
            [
             0,
             "#0d0887"
            ],
            [
             0.1111111111111111,
             "#46039f"
            ],
            [
             0.2222222222222222,
             "#7201a8"
            ],
            [
             0.3333333333333333,
             "#9c179e"
            ],
            [
             0.4444444444444444,
             "#bd3786"
            ],
            [
             0.5555555555555556,
             "#d8576b"
            ],
            [
             0.6666666666666666,
             "#ed7953"
            ],
            [
             0.7777777777777778,
             "#fb9f3a"
            ],
            [
             0.8888888888888888,
             "#fdca26"
            ],
            [
             1,
             "#f0f921"
            ]
           ]
          },
          "colorway": [
           "#636efa",
           "#EF553B",
           "#00cc96",
           "#ab63fa",
           "#FFA15A",
           "#19d3f3",
           "#FF6692",
           "#B6E880",
           "#FF97FF",
           "#FECB52"
          ],
          "font": {
           "color": "#2a3f5f"
          },
          "geo": {
           "bgcolor": "white",
           "lakecolor": "white",
           "landcolor": "#E5ECF6",
           "showlakes": true,
           "showland": true,
           "subunitcolor": "white"
          },
          "hoverlabel": {
           "align": "left"
          },
          "hovermode": "closest",
          "mapbox": {
           "style": "light"
          },
          "paper_bgcolor": "white",
          "plot_bgcolor": "#E5ECF6",
          "polar": {
           "angularaxis": {
            "gridcolor": "white",
            "linecolor": "white",
            "ticks": ""
           },
           "bgcolor": "#E5ECF6",
           "radialaxis": {
            "gridcolor": "white",
            "linecolor": "white",
            "ticks": ""
           }
          },
          "scene": {
           "xaxis": {
            "backgroundcolor": "#E5ECF6",
            "gridcolor": "white",
            "gridwidth": 2,
            "linecolor": "white",
            "showbackground": true,
            "ticks": "",
            "zerolinecolor": "white"
           },
           "yaxis": {
            "backgroundcolor": "#E5ECF6",
            "gridcolor": "white",
            "gridwidth": 2,
            "linecolor": "white",
            "showbackground": true,
            "ticks": "",
            "zerolinecolor": "white"
           },
           "zaxis": {
            "backgroundcolor": "#E5ECF6",
            "gridcolor": "white",
            "gridwidth": 2,
            "linecolor": "white",
            "showbackground": true,
            "ticks": "",
            "zerolinecolor": "white"
           }
          },
          "shapedefaults": {
           "line": {
            "color": "#2a3f5f"
           }
          },
          "ternary": {
           "aaxis": {
            "gridcolor": "white",
            "linecolor": "white",
            "ticks": ""
           },
           "baxis": {
            "gridcolor": "white",
            "linecolor": "white",
            "ticks": ""
           },
           "bgcolor": "#E5ECF6",
           "caxis": {
            "gridcolor": "white",
            "linecolor": "white",
            "ticks": ""
           }
          },
          "title": {
           "x": 0.05
          },
          "xaxis": {
           "automargin": true,
           "gridcolor": "white",
           "linecolor": "white",
           "ticks": "",
           "title": {
            "standoff": 15
           },
           "zerolinecolor": "white",
           "zerolinewidth": 2
          },
          "yaxis": {
           "automargin": true,
           "gridcolor": "white",
           "linecolor": "white",
           "ticks": "",
           "title": {
            "standoff": 15
           },
           "zerolinecolor": "white",
           "zerolinewidth": 2
          }
         }
        },
        "title": {
         "text": "Разбиение облигаций по частоте выплаты купонов"
        }
       }
      },
      "text/html": [
       "<div>                            <div id=\"fe26f0e7-e2c0-4676-af30-ee7465d67baa\" class=\"plotly-graph-div\" style=\"height:525px; width:100%;\"></div>            <script type=\"text/javascript\">                require([\"plotly\"], function(Plotly) {                    window.PLOTLYENV=window.PLOTLYENV || {};                                    if (document.getElementById(\"fe26f0e7-e2c0-4676-af30-ee7465d67baa\")) {                    Plotly.newPlot(                        \"fe26f0e7-e2c0-4676-af30-ee7465d67baa\",                        [{\"labels\":[0.0,1.0,2.0,3.0,4.0,5.0,6.0,11.0,12.0],\"sort\":false,\"values\":[343,150,973,21,661,1,2,3,134],\"type\":\"pie\"}],                        {\"template\":{\"data\":{\"bar\":[{\"error_x\":{\"color\":\"#2a3f5f\"},\"error_y\":{\"color\":\"#2a3f5f\"},\"marker\":{\"line\":{\"color\":\"#E5ECF6\",\"width\":0.5},\"pattern\":{\"fillmode\":\"overlay\",\"size\":10,\"solidity\":0.2}},\"type\":\"bar\"}],\"barpolar\":[{\"marker\":{\"line\":{\"color\":\"#E5ECF6\",\"width\":0.5},\"pattern\":{\"fillmode\":\"overlay\",\"size\":10,\"solidity\":0.2}},\"type\":\"barpolar\"}],\"carpet\":[{\"aaxis\":{\"endlinecolor\":\"#2a3f5f\",\"gridcolor\":\"white\",\"linecolor\":\"white\",\"minorgridcolor\":\"white\",\"startlinecolor\":\"#2a3f5f\"},\"baxis\":{\"endlinecolor\":\"#2a3f5f\",\"gridcolor\":\"white\",\"linecolor\":\"white\",\"minorgridcolor\":\"white\",\"startlinecolor\":\"#2a3f5f\"},\"type\":\"carpet\"}],\"choropleth\":[{\"colorbar\":{\"outlinewidth\":0,\"ticks\":\"\"},\"type\":\"choropleth\"}],\"contour\":[{\"colorbar\":{\"outlinewidth\":0,\"ticks\":\"\"},\"colorscale\":[[0.0,\"#0d0887\"],[0.1111111111111111,\"#46039f\"],[0.2222222222222222,\"#7201a8\"],[0.3333333333333333,\"#9c179e\"],[0.4444444444444444,\"#bd3786\"],[0.5555555555555556,\"#d8576b\"],[0.6666666666666666,\"#ed7953\"],[0.7777777777777778,\"#fb9f3a\"],[0.8888888888888888,\"#fdca26\"],[1.0,\"#f0f921\"]],\"type\":\"contour\"}],\"contourcarpet\":[{\"colorbar\":{\"outlinewidth\":0,\"ticks\":\"\"},\"type\":\"contourcarpet\"}],\"heatmap\":[{\"colorbar\":{\"outlinewidth\":0,\"ticks\":\"\"},\"colorscale\":[[0.0,\"#0d0887\"],[0.1111111111111111,\"#46039f\"],[0.2222222222222222,\"#7201a8\"],[0.3333333333333333,\"#9c179e\"],[0.4444444444444444,\"#bd3786\"],[0.5555555555555556,\"#d8576b\"],[0.6666666666666666,\"#ed7953\"],[0.7777777777777778,\"#fb9f3a\"],[0.8888888888888888,\"#fdca26\"],[1.0,\"#f0f921\"]],\"type\":\"heatmap\"}],\"heatmapgl\":[{\"colorbar\":{\"outlinewidth\":0,\"ticks\":\"\"},\"colorscale\":[[0.0,\"#0d0887\"],[0.1111111111111111,\"#46039f\"],[0.2222222222222222,\"#7201a8\"],[0.3333333333333333,\"#9c179e\"],[0.4444444444444444,\"#bd3786\"],[0.5555555555555556,\"#d8576b\"],[0.6666666666666666,\"#ed7953\"],[0.7777777777777778,\"#fb9f3a\"],[0.8888888888888888,\"#fdca26\"],[1.0,\"#f0f921\"]],\"type\":\"heatmapgl\"}],\"histogram\":[{\"marker\":{\"pattern\":{\"fillmode\":\"overlay\",\"size\":10,\"solidity\":0.2}},\"type\":\"histogram\"}],\"histogram2d\":[{\"colorbar\":{\"outlinewidth\":0,\"ticks\":\"\"},\"colorscale\":[[0.0,\"#0d0887\"],[0.1111111111111111,\"#46039f\"],[0.2222222222222222,\"#7201a8\"],[0.3333333333333333,\"#9c179e\"],[0.4444444444444444,\"#bd3786\"],[0.5555555555555556,\"#d8576b\"],[0.6666666666666666,\"#ed7953\"],[0.7777777777777778,\"#fb9f3a\"],[0.8888888888888888,\"#fdca26\"],[1.0,\"#f0f921\"]],\"type\":\"histogram2d\"}],\"histogram2dcontour\":[{\"colorbar\":{\"outlinewidth\":0,\"ticks\":\"\"},\"colorscale\":[[0.0,\"#0d0887\"],[0.1111111111111111,\"#46039f\"],[0.2222222222222222,\"#7201a8\"],[0.3333333333333333,\"#9c179e\"],[0.4444444444444444,\"#bd3786\"],[0.5555555555555556,\"#d8576b\"],[0.6666666666666666,\"#ed7953\"],[0.7777777777777778,\"#fb9f3a\"],[0.8888888888888888,\"#fdca26\"],[1.0,\"#f0f921\"]],\"type\":\"histogram2dcontour\"}],\"mesh3d\":[{\"colorbar\":{\"outlinewidth\":0,\"ticks\":\"\"},\"type\":\"mesh3d\"}],\"parcoords\":[{\"line\":{\"colorbar\":{\"outlinewidth\":0,\"ticks\":\"\"}},\"type\":\"parcoords\"}],\"pie\":[{\"automargin\":true,\"type\":\"pie\"}],\"scatter\":[{\"marker\":{\"colorbar\":{\"outlinewidth\":0,\"ticks\":\"\"}},\"type\":\"scatter\"}],\"scatter3d\":[{\"line\":{\"colorbar\":{\"outlinewidth\":0,\"ticks\":\"\"}},\"marker\":{\"colorbar\":{\"outlinewidth\":0,\"ticks\":\"\"}},\"type\":\"scatter3d\"}],\"scattercarpet\":[{\"marker\":{\"colorbar\":{\"outlinewidth\":0,\"ticks\":\"\"}},\"type\":\"scattercarpet\"}],\"scattergeo\":[{\"marker\":{\"colorbar\":{\"outlinewidth\":0,\"ticks\":\"\"}},\"type\":\"scattergeo\"}],\"scattergl\":[{\"marker\":{\"colorbar\":{\"outlinewidth\":0,\"ticks\":\"\"}},\"type\":\"scattergl\"}],\"scattermapbox\":[{\"marker\":{\"colorbar\":{\"outlinewidth\":0,\"ticks\":\"\"}},\"type\":\"scattermapbox\"}],\"scatterpolar\":[{\"marker\":{\"colorbar\":{\"outlinewidth\":0,\"ticks\":\"\"}},\"type\":\"scatterpolar\"}],\"scatterpolargl\":[{\"marker\":{\"colorbar\":{\"outlinewidth\":0,\"ticks\":\"\"}},\"type\":\"scatterpolargl\"}],\"scatterternary\":[{\"marker\":{\"colorbar\":{\"outlinewidth\":0,\"ticks\":\"\"}},\"type\":\"scatterternary\"}],\"surface\":[{\"colorbar\":{\"outlinewidth\":0,\"ticks\":\"\"},\"colorscale\":[[0.0,\"#0d0887\"],[0.1111111111111111,\"#46039f\"],[0.2222222222222222,\"#7201a8\"],[0.3333333333333333,\"#9c179e\"],[0.4444444444444444,\"#bd3786\"],[0.5555555555555556,\"#d8576b\"],[0.6666666666666666,\"#ed7953\"],[0.7777777777777778,\"#fb9f3a\"],[0.8888888888888888,\"#fdca26\"],[1.0,\"#f0f921\"]],\"type\":\"surface\"}],\"table\":[{\"cells\":{\"fill\":{\"color\":\"#EBF0F8\"},\"line\":{\"color\":\"white\"}},\"header\":{\"fill\":{\"color\":\"#C8D4E3\"},\"line\":{\"color\":\"white\"}},\"type\":\"table\"}]},\"layout\":{\"annotationdefaults\":{\"arrowcolor\":\"#2a3f5f\",\"arrowhead\":0,\"arrowwidth\":1},\"autotypenumbers\":\"strict\",\"coloraxis\":{\"colorbar\":{\"outlinewidth\":0,\"ticks\":\"\"}},\"colorscale\":{\"diverging\":[[0,\"#8e0152\"],[0.1,\"#c51b7d\"],[0.2,\"#de77ae\"],[0.3,\"#f1b6da\"],[0.4,\"#fde0ef\"],[0.5,\"#f7f7f7\"],[0.6,\"#e6f5d0\"],[0.7,\"#b8e186\"],[0.8,\"#7fbc41\"],[0.9,\"#4d9221\"],[1,\"#276419\"]],\"sequential\":[[0.0,\"#0d0887\"],[0.1111111111111111,\"#46039f\"],[0.2222222222222222,\"#7201a8\"],[0.3333333333333333,\"#9c179e\"],[0.4444444444444444,\"#bd3786\"],[0.5555555555555556,\"#d8576b\"],[0.6666666666666666,\"#ed7953\"],[0.7777777777777778,\"#fb9f3a\"],[0.8888888888888888,\"#fdca26\"],[1.0,\"#f0f921\"]],\"sequentialminus\":[[0.0,\"#0d0887\"],[0.1111111111111111,\"#46039f\"],[0.2222222222222222,\"#7201a8\"],[0.3333333333333333,\"#9c179e\"],[0.4444444444444444,\"#bd3786\"],[0.5555555555555556,\"#d8576b\"],[0.6666666666666666,\"#ed7953\"],[0.7777777777777778,\"#fb9f3a\"],[0.8888888888888888,\"#fdca26\"],[1.0,\"#f0f921\"]]},\"colorway\":[\"#636efa\",\"#EF553B\",\"#00cc96\",\"#ab63fa\",\"#FFA15A\",\"#19d3f3\",\"#FF6692\",\"#B6E880\",\"#FF97FF\",\"#FECB52\"],\"font\":{\"color\":\"#2a3f5f\"},\"geo\":{\"bgcolor\":\"white\",\"lakecolor\":\"white\",\"landcolor\":\"#E5ECF6\",\"showlakes\":true,\"showland\":true,\"subunitcolor\":\"white\"},\"hoverlabel\":{\"align\":\"left\"},\"hovermode\":\"closest\",\"mapbox\":{\"style\":\"light\"},\"paper_bgcolor\":\"white\",\"plot_bgcolor\":\"#E5ECF6\",\"polar\":{\"angularaxis\":{\"gridcolor\":\"white\",\"linecolor\":\"white\",\"ticks\":\"\"},\"bgcolor\":\"#E5ECF6\",\"radialaxis\":{\"gridcolor\":\"white\",\"linecolor\":\"white\",\"ticks\":\"\"}},\"scene\":{\"xaxis\":{\"backgroundcolor\":\"#E5ECF6\",\"gridcolor\":\"white\",\"gridwidth\":2,\"linecolor\":\"white\",\"showbackground\":true,\"ticks\":\"\",\"zerolinecolor\":\"white\"},\"yaxis\":{\"backgroundcolor\":\"#E5ECF6\",\"gridcolor\":\"white\",\"gridwidth\":2,\"linecolor\":\"white\",\"showbackground\":true,\"ticks\":\"\",\"zerolinecolor\":\"white\"},\"zaxis\":{\"backgroundcolor\":\"#E5ECF6\",\"gridcolor\":\"white\",\"gridwidth\":2,\"linecolor\":\"white\",\"showbackground\":true,\"ticks\":\"\",\"zerolinecolor\":\"white\"}},\"shapedefaults\":{\"line\":{\"color\":\"#2a3f5f\"}},\"ternary\":{\"aaxis\":{\"gridcolor\":\"white\",\"linecolor\":\"white\",\"ticks\":\"\"},\"baxis\":{\"gridcolor\":\"white\",\"linecolor\":\"white\",\"ticks\":\"\"},\"bgcolor\":\"#E5ECF6\",\"caxis\":{\"gridcolor\":\"white\",\"linecolor\":\"white\",\"ticks\":\"\"}},\"title\":{\"x\":0.05},\"xaxis\":{\"automargin\":true,\"gridcolor\":\"white\",\"linecolor\":\"white\",\"ticks\":\"\",\"title\":{\"standoff\":15},\"zerolinecolor\":\"white\",\"zerolinewidth\":2},\"yaxis\":{\"automargin\":true,\"gridcolor\":\"white\",\"linecolor\":\"white\",\"ticks\":\"\",\"title\":{\"standoff\":15},\"zerolinecolor\":\"white\",\"zerolinewidth\":2}}},\"legend\":{\"orientation\":\"h\",\"x\":0.5,\"xanchor\":\"center\"},\"title\":{\"text\":\"\\u0420\\u0430\\u0437\\u0431\\u0438\\u0435\\u043d\\u0438\\u0435 \\u043e\\u0431\\u043b\\u0438\\u0433\\u0430\\u0446\\u0438\\u0439 \\u043f\\u043e \\u0447\\u0430\\u0441\\u0442\\u043e\\u0442\\u0435 \\u0432\\u044b\\u043f\\u043b\\u0430\\u0442\\u044b \\u043a\\u0443\\u043f\\u043e\\u043d\\u043e\\u0432\"}},                        {\"responsive\": true}                    ).then(function(){\n",
       "                            \n",
       "var gd = document.getElementById('fe26f0e7-e2c0-4676-af30-ee7465d67baa');\n",
       "var x = new MutationObserver(function (mutations, observer) {{\n",
       "        var display = window.getComputedStyle(gd).display;\n",
       "        if (!display || display === 'none') {{\n",
       "            console.log([gd, 'removed!']);\n",
       "            Plotly.purge(gd);\n",
       "            observer.disconnect();\n",
       "        }}\n",
       "}});\n",
       "\n",
       "// Listen for the removal of the full notebook cells\n",
       "var notebookContainer = gd.closest('#notebook-container');\n",
       "if (notebookContainer) {{\n",
       "    x.observe(notebookContainer, {childList: true});\n",
       "}}\n",
       "\n",
       "// Listen for the clearing of the current output cell\n",
       "var outputEl = gd.closest('.output');\n",
       "if (outputEl) {{\n",
       "    x.observe(outputEl, {childList: true});\n",
       "}}\n",
       "\n",
       "                        })                };                });            </script>        </div>"
      ]
     },
     "metadata": {},
     "output_type": "display_data"
    }
   ],
   "source": [
    "# строим график №6\n",
    "t2 = pd.DataFrame(bond[['COUPONFREQUENCY']].value_counts().reset_index()).sort_values('COUPONFREQUENCY')\n",
    "t2.columns = ['COUPONFREQUENCY', 'count']\n",
    "t2.index = range(1,t2.shape[0]+1)\n",
    "fig = go.Figure()\n",
    "fig.add_trace(go.Pie(values=t2['count'], labels=t2.COUPONFREQUENCY, sort = False))\n",
    "fig.update_layout(legend_orientation=\"h\",\n",
    "                  legend=dict(x=.5, xanchor=\"center\"),\n",
    "                  title=\"Разбиение облигаций по частоте выплаты купонов\")\n",
    "fig.show()"
   ]
  },
  {
   "cell_type": "code",
   "execution_count": 238,
   "id": "9de9a781",
   "metadata": {},
   "outputs": [
    {
     "data": {
      "application/vnd.plotly.v1+json": {
       "config": {
        "plotlyServerURL": "https://plot.ly"
       },
       "data": [
        {
         "alignmentgroup": "True",
         "hovertemplate": "COUPONFREQUENCY=%{x}<br>count=%{y}<extra></extra>",
         "legendgroup": "",
         "marker": {
          "color": "#636efa",
          "pattern": {
           "shape": ""
          }
         },
         "name": "",
         "offsetgroup": "",
         "orientation": "v",
         "showlegend": false,
         "textposition": "auto",
         "type": "bar",
         "x": [
          0,
          1,
          2,
          3,
          4,
          5,
          6,
          11,
          12
         ],
         "xaxis": "x",
         "y": [
          343,
          150,
          973,
          21,
          661,
          1,
          2,
          3,
          134
         ],
         "yaxis": "y"
        }
       ],
       "layout": {
        "barmode": "relative",
        "legend": {
         "orientation": "h",
         "tracegroupgap": 0,
         "x": 0.5,
         "xanchor": "center"
        },
        "margin": {
         "b": 0,
         "l": 0,
         "r": 0,
         "t": 30
        },
        "template": {
         "data": {
          "bar": [
           {
            "error_x": {
             "color": "#2a3f5f"
            },
            "error_y": {
             "color": "#2a3f5f"
            },
            "marker": {
             "line": {
              "color": "#E5ECF6",
              "width": 0.5
             },
             "pattern": {
              "fillmode": "overlay",
              "size": 10,
              "solidity": 0.2
             }
            },
            "type": "bar"
           }
          ],
          "barpolar": [
           {
            "marker": {
             "line": {
              "color": "#E5ECF6",
              "width": 0.5
             },
             "pattern": {
              "fillmode": "overlay",
              "size": 10,
              "solidity": 0.2
             }
            },
            "type": "barpolar"
           }
          ],
          "carpet": [
           {
            "aaxis": {
             "endlinecolor": "#2a3f5f",
             "gridcolor": "white",
             "linecolor": "white",
             "minorgridcolor": "white",
             "startlinecolor": "#2a3f5f"
            },
            "baxis": {
             "endlinecolor": "#2a3f5f",
             "gridcolor": "white",
             "linecolor": "white",
             "minorgridcolor": "white",
             "startlinecolor": "#2a3f5f"
            },
            "type": "carpet"
           }
          ],
          "choropleth": [
           {
            "colorbar": {
             "outlinewidth": 0,
             "ticks": ""
            },
            "type": "choropleth"
           }
          ],
          "contour": [
           {
            "colorbar": {
             "outlinewidth": 0,
             "ticks": ""
            },
            "colorscale": [
             [
              0,
              "#0d0887"
             ],
             [
              0.1111111111111111,
              "#46039f"
             ],
             [
              0.2222222222222222,
              "#7201a8"
             ],
             [
              0.3333333333333333,
              "#9c179e"
             ],
             [
              0.4444444444444444,
              "#bd3786"
             ],
             [
              0.5555555555555556,
              "#d8576b"
             ],
             [
              0.6666666666666666,
              "#ed7953"
             ],
             [
              0.7777777777777778,
              "#fb9f3a"
             ],
             [
              0.8888888888888888,
              "#fdca26"
             ],
             [
              1,
              "#f0f921"
             ]
            ],
            "type": "contour"
           }
          ],
          "contourcarpet": [
           {
            "colorbar": {
             "outlinewidth": 0,
             "ticks": ""
            },
            "type": "contourcarpet"
           }
          ],
          "heatmap": [
           {
            "colorbar": {
             "outlinewidth": 0,
             "ticks": ""
            },
            "colorscale": [
             [
              0,
              "#0d0887"
             ],
             [
              0.1111111111111111,
              "#46039f"
             ],
             [
              0.2222222222222222,
              "#7201a8"
             ],
             [
              0.3333333333333333,
              "#9c179e"
             ],
             [
              0.4444444444444444,
              "#bd3786"
             ],
             [
              0.5555555555555556,
              "#d8576b"
             ],
             [
              0.6666666666666666,
              "#ed7953"
             ],
             [
              0.7777777777777778,
              "#fb9f3a"
             ],
             [
              0.8888888888888888,
              "#fdca26"
             ],
             [
              1,
              "#f0f921"
             ]
            ],
            "type": "heatmap"
           }
          ],
          "heatmapgl": [
           {
            "colorbar": {
             "outlinewidth": 0,
             "ticks": ""
            },
            "colorscale": [
             [
              0,
              "#0d0887"
             ],
             [
              0.1111111111111111,
              "#46039f"
             ],
             [
              0.2222222222222222,
              "#7201a8"
             ],
             [
              0.3333333333333333,
              "#9c179e"
             ],
             [
              0.4444444444444444,
              "#bd3786"
             ],
             [
              0.5555555555555556,
              "#d8576b"
             ],
             [
              0.6666666666666666,
              "#ed7953"
             ],
             [
              0.7777777777777778,
              "#fb9f3a"
             ],
             [
              0.8888888888888888,
              "#fdca26"
             ],
             [
              1,
              "#f0f921"
             ]
            ],
            "type": "heatmapgl"
           }
          ],
          "histogram": [
           {
            "marker": {
             "pattern": {
              "fillmode": "overlay",
              "size": 10,
              "solidity": 0.2
             }
            },
            "type": "histogram"
           }
          ],
          "histogram2d": [
           {
            "colorbar": {
             "outlinewidth": 0,
             "ticks": ""
            },
            "colorscale": [
             [
              0,
              "#0d0887"
             ],
             [
              0.1111111111111111,
              "#46039f"
             ],
             [
              0.2222222222222222,
              "#7201a8"
             ],
             [
              0.3333333333333333,
              "#9c179e"
             ],
             [
              0.4444444444444444,
              "#bd3786"
             ],
             [
              0.5555555555555556,
              "#d8576b"
             ],
             [
              0.6666666666666666,
              "#ed7953"
             ],
             [
              0.7777777777777778,
              "#fb9f3a"
             ],
             [
              0.8888888888888888,
              "#fdca26"
             ],
             [
              1,
              "#f0f921"
             ]
            ],
            "type": "histogram2d"
           }
          ],
          "histogram2dcontour": [
           {
            "colorbar": {
             "outlinewidth": 0,
             "ticks": ""
            },
            "colorscale": [
             [
              0,
              "#0d0887"
             ],
             [
              0.1111111111111111,
              "#46039f"
             ],
             [
              0.2222222222222222,
              "#7201a8"
             ],
             [
              0.3333333333333333,
              "#9c179e"
             ],
             [
              0.4444444444444444,
              "#bd3786"
             ],
             [
              0.5555555555555556,
              "#d8576b"
             ],
             [
              0.6666666666666666,
              "#ed7953"
             ],
             [
              0.7777777777777778,
              "#fb9f3a"
             ],
             [
              0.8888888888888888,
              "#fdca26"
             ],
             [
              1,
              "#f0f921"
             ]
            ],
            "type": "histogram2dcontour"
           }
          ],
          "mesh3d": [
           {
            "colorbar": {
             "outlinewidth": 0,
             "ticks": ""
            },
            "type": "mesh3d"
           }
          ],
          "parcoords": [
           {
            "line": {
             "colorbar": {
              "outlinewidth": 0,
              "ticks": ""
             }
            },
            "type": "parcoords"
           }
          ],
          "pie": [
           {
            "automargin": true,
            "type": "pie"
           }
          ],
          "scatter": [
           {
            "marker": {
             "colorbar": {
              "outlinewidth": 0,
              "ticks": ""
             }
            },
            "type": "scatter"
           }
          ],
          "scatter3d": [
           {
            "line": {
             "colorbar": {
              "outlinewidth": 0,
              "ticks": ""
             }
            },
            "marker": {
             "colorbar": {
              "outlinewidth": 0,
              "ticks": ""
             }
            },
            "type": "scatter3d"
           }
          ],
          "scattercarpet": [
           {
            "marker": {
             "colorbar": {
              "outlinewidth": 0,
              "ticks": ""
             }
            },
            "type": "scattercarpet"
           }
          ],
          "scattergeo": [
           {
            "marker": {
             "colorbar": {
              "outlinewidth": 0,
              "ticks": ""
             }
            },
            "type": "scattergeo"
           }
          ],
          "scattergl": [
           {
            "marker": {
             "colorbar": {
              "outlinewidth": 0,
              "ticks": ""
             }
            },
            "type": "scattergl"
           }
          ],
          "scattermapbox": [
           {
            "marker": {
             "colorbar": {
              "outlinewidth": 0,
              "ticks": ""
             }
            },
            "type": "scattermapbox"
           }
          ],
          "scatterpolar": [
           {
            "marker": {
             "colorbar": {
              "outlinewidth": 0,
              "ticks": ""
             }
            },
            "type": "scatterpolar"
           }
          ],
          "scatterpolargl": [
           {
            "marker": {
             "colorbar": {
              "outlinewidth": 0,
              "ticks": ""
             }
            },
            "type": "scatterpolargl"
           }
          ],
          "scatterternary": [
           {
            "marker": {
             "colorbar": {
              "outlinewidth": 0,
              "ticks": ""
             }
            },
            "type": "scatterternary"
           }
          ],
          "surface": [
           {
            "colorbar": {
             "outlinewidth": 0,
             "ticks": ""
            },
            "colorscale": [
             [
              0,
              "#0d0887"
             ],
             [
              0.1111111111111111,
              "#46039f"
             ],
             [
              0.2222222222222222,
              "#7201a8"
             ],
             [
              0.3333333333333333,
              "#9c179e"
             ],
             [
              0.4444444444444444,
              "#bd3786"
             ],
             [
              0.5555555555555556,
              "#d8576b"
             ],
             [
              0.6666666666666666,
              "#ed7953"
             ],
             [
              0.7777777777777778,
              "#fb9f3a"
             ],
             [
              0.8888888888888888,
              "#fdca26"
             ],
             [
              1,
              "#f0f921"
             ]
            ],
            "type": "surface"
           }
          ],
          "table": [
           {
            "cells": {
             "fill": {
              "color": "#EBF0F8"
             },
             "line": {
              "color": "white"
             }
            },
            "header": {
             "fill": {
              "color": "#C8D4E3"
             },
             "line": {
              "color": "white"
             }
            },
            "type": "table"
           }
          ]
         },
         "layout": {
          "annotationdefaults": {
           "arrowcolor": "#2a3f5f",
           "arrowhead": 0,
           "arrowwidth": 1
          },
          "autotypenumbers": "strict",
          "coloraxis": {
           "colorbar": {
            "outlinewidth": 0,
            "ticks": ""
           }
          },
          "colorscale": {
           "diverging": [
            [
             0,
             "#8e0152"
            ],
            [
             0.1,
             "#c51b7d"
            ],
            [
             0.2,
             "#de77ae"
            ],
            [
             0.3,
             "#f1b6da"
            ],
            [
             0.4,
             "#fde0ef"
            ],
            [
             0.5,
             "#f7f7f7"
            ],
            [
             0.6,
             "#e6f5d0"
            ],
            [
             0.7,
             "#b8e186"
            ],
            [
             0.8,
             "#7fbc41"
            ],
            [
             0.9,
             "#4d9221"
            ],
            [
             1,
             "#276419"
            ]
           ],
           "sequential": [
            [
             0,
             "#0d0887"
            ],
            [
             0.1111111111111111,
             "#46039f"
            ],
            [
             0.2222222222222222,
             "#7201a8"
            ],
            [
             0.3333333333333333,
             "#9c179e"
            ],
            [
             0.4444444444444444,
             "#bd3786"
            ],
            [
             0.5555555555555556,
             "#d8576b"
            ],
            [
             0.6666666666666666,
             "#ed7953"
            ],
            [
             0.7777777777777778,
             "#fb9f3a"
            ],
            [
             0.8888888888888888,
             "#fdca26"
            ],
            [
             1,
             "#f0f921"
            ]
           ],
           "sequentialminus": [
            [
             0,
             "#0d0887"
            ],
            [
             0.1111111111111111,
             "#46039f"
            ],
            [
             0.2222222222222222,
             "#7201a8"
            ],
            [
             0.3333333333333333,
             "#9c179e"
            ],
            [
             0.4444444444444444,
             "#bd3786"
            ],
            [
             0.5555555555555556,
             "#d8576b"
            ],
            [
             0.6666666666666666,
             "#ed7953"
            ],
            [
             0.7777777777777778,
             "#fb9f3a"
            ],
            [
             0.8888888888888888,
             "#fdca26"
            ],
            [
             1,
             "#f0f921"
            ]
           ]
          },
          "colorway": [
           "#636efa",
           "#EF553B",
           "#00cc96",
           "#ab63fa",
           "#FFA15A",
           "#19d3f3",
           "#FF6692",
           "#B6E880",
           "#FF97FF",
           "#FECB52"
          ],
          "font": {
           "color": "#2a3f5f"
          },
          "geo": {
           "bgcolor": "white",
           "lakecolor": "white",
           "landcolor": "#E5ECF6",
           "showlakes": true,
           "showland": true,
           "subunitcolor": "white"
          },
          "hoverlabel": {
           "align": "left"
          },
          "hovermode": "closest",
          "mapbox": {
           "style": "light"
          },
          "paper_bgcolor": "white",
          "plot_bgcolor": "#E5ECF6",
          "polar": {
           "angularaxis": {
            "gridcolor": "white",
            "linecolor": "white",
            "ticks": ""
           },
           "bgcolor": "#E5ECF6",
           "radialaxis": {
            "gridcolor": "white",
            "linecolor": "white",
            "ticks": ""
           }
          },
          "scene": {
           "xaxis": {
            "backgroundcolor": "#E5ECF6",
            "gridcolor": "white",
            "gridwidth": 2,
            "linecolor": "white",
            "showbackground": true,
            "ticks": "",
            "zerolinecolor": "white"
           },
           "yaxis": {
            "backgroundcolor": "#E5ECF6",
            "gridcolor": "white",
            "gridwidth": 2,
            "linecolor": "white",
            "showbackground": true,
            "ticks": "",
            "zerolinecolor": "white"
           },
           "zaxis": {
            "backgroundcolor": "#E5ECF6",
            "gridcolor": "white",
            "gridwidth": 2,
            "linecolor": "white",
            "showbackground": true,
            "ticks": "",
            "zerolinecolor": "white"
           }
          },
          "shapedefaults": {
           "line": {
            "color": "#2a3f5f"
           }
          },
          "ternary": {
           "aaxis": {
            "gridcolor": "white",
            "linecolor": "white",
            "ticks": ""
           },
           "baxis": {
            "gridcolor": "white",
            "linecolor": "white",
            "ticks": ""
           },
           "bgcolor": "#E5ECF6",
           "caxis": {
            "gridcolor": "white",
            "linecolor": "white",
            "ticks": ""
           }
          },
          "title": {
           "x": 0.05
          },
          "xaxis": {
           "automargin": true,
           "gridcolor": "white",
           "linecolor": "white",
           "ticks": "",
           "title": {
            "standoff": 15
           },
           "zerolinecolor": "white",
           "zerolinewidth": 2
          },
          "yaxis": {
           "automargin": true,
           "gridcolor": "white",
           "linecolor": "white",
           "ticks": "",
           "title": {
            "standoff": 15
           },
           "zerolinecolor": "white",
           "zerolinewidth": 2
          }
         }
        },
        "title": {
         "text": "Разбивка облигаций по частоте выплаты купонов"
        },
        "xaxis": {
         "anchor": "y",
         "domain": [
          0,
          1
         ],
         "title": {
          "text": "Частота выплата купонов в год"
         }
        },
        "yaxis": {
         "anchor": "x",
         "domain": [
          0,
          1
         ],
         "title": {
          "text": "Количество облигаций"
         }
        }
       }
      },
      "text/html": [
       "<div>                            <div id=\"514f4757-5176-45d7-8d1d-508d4f5fba2b\" class=\"plotly-graph-div\" style=\"height:525px; width:100%;\"></div>            <script type=\"text/javascript\">                require([\"plotly\"], function(Plotly) {                    window.PLOTLYENV=window.PLOTLYENV || {};                                    if (document.getElementById(\"514f4757-5176-45d7-8d1d-508d4f5fba2b\")) {                    Plotly.newPlot(                        \"514f4757-5176-45d7-8d1d-508d4f5fba2b\",                        [{\"alignmentgroup\":\"True\",\"hovertemplate\":\"COUPONFREQUENCY=%{x}<br>count=%{y}<extra></extra>\",\"legendgroup\":\"\",\"marker\":{\"color\":\"#636efa\",\"pattern\":{\"shape\":\"\"}},\"name\":\"\",\"offsetgroup\":\"\",\"orientation\":\"v\",\"showlegend\":false,\"textposition\":\"auto\",\"x\":[0.0,1.0,2.0,3.0,4.0,5.0,6.0,11.0,12.0],\"xaxis\":\"x\",\"y\":[343,150,973,21,661,1,2,3,134],\"yaxis\":\"y\",\"type\":\"bar\"}],                        {\"template\":{\"data\":{\"bar\":[{\"error_x\":{\"color\":\"#2a3f5f\"},\"error_y\":{\"color\":\"#2a3f5f\"},\"marker\":{\"line\":{\"color\":\"#E5ECF6\",\"width\":0.5},\"pattern\":{\"fillmode\":\"overlay\",\"size\":10,\"solidity\":0.2}},\"type\":\"bar\"}],\"barpolar\":[{\"marker\":{\"line\":{\"color\":\"#E5ECF6\",\"width\":0.5},\"pattern\":{\"fillmode\":\"overlay\",\"size\":10,\"solidity\":0.2}},\"type\":\"barpolar\"}],\"carpet\":[{\"aaxis\":{\"endlinecolor\":\"#2a3f5f\",\"gridcolor\":\"white\",\"linecolor\":\"white\",\"minorgridcolor\":\"white\",\"startlinecolor\":\"#2a3f5f\"},\"baxis\":{\"endlinecolor\":\"#2a3f5f\",\"gridcolor\":\"white\",\"linecolor\":\"white\",\"minorgridcolor\":\"white\",\"startlinecolor\":\"#2a3f5f\"},\"type\":\"carpet\"}],\"choropleth\":[{\"colorbar\":{\"outlinewidth\":0,\"ticks\":\"\"},\"type\":\"choropleth\"}],\"contour\":[{\"colorbar\":{\"outlinewidth\":0,\"ticks\":\"\"},\"colorscale\":[[0.0,\"#0d0887\"],[0.1111111111111111,\"#46039f\"],[0.2222222222222222,\"#7201a8\"],[0.3333333333333333,\"#9c179e\"],[0.4444444444444444,\"#bd3786\"],[0.5555555555555556,\"#d8576b\"],[0.6666666666666666,\"#ed7953\"],[0.7777777777777778,\"#fb9f3a\"],[0.8888888888888888,\"#fdca26\"],[1.0,\"#f0f921\"]],\"type\":\"contour\"}],\"contourcarpet\":[{\"colorbar\":{\"outlinewidth\":0,\"ticks\":\"\"},\"type\":\"contourcarpet\"}],\"heatmap\":[{\"colorbar\":{\"outlinewidth\":0,\"ticks\":\"\"},\"colorscale\":[[0.0,\"#0d0887\"],[0.1111111111111111,\"#46039f\"],[0.2222222222222222,\"#7201a8\"],[0.3333333333333333,\"#9c179e\"],[0.4444444444444444,\"#bd3786\"],[0.5555555555555556,\"#d8576b\"],[0.6666666666666666,\"#ed7953\"],[0.7777777777777778,\"#fb9f3a\"],[0.8888888888888888,\"#fdca26\"],[1.0,\"#f0f921\"]],\"type\":\"heatmap\"}],\"heatmapgl\":[{\"colorbar\":{\"outlinewidth\":0,\"ticks\":\"\"},\"colorscale\":[[0.0,\"#0d0887\"],[0.1111111111111111,\"#46039f\"],[0.2222222222222222,\"#7201a8\"],[0.3333333333333333,\"#9c179e\"],[0.4444444444444444,\"#bd3786\"],[0.5555555555555556,\"#d8576b\"],[0.6666666666666666,\"#ed7953\"],[0.7777777777777778,\"#fb9f3a\"],[0.8888888888888888,\"#fdca26\"],[1.0,\"#f0f921\"]],\"type\":\"heatmapgl\"}],\"histogram\":[{\"marker\":{\"pattern\":{\"fillmode\":\"overlay\",\"size\":10,\"solidity\":0.2}},\"type\":\"histogram\"}],\"histogram2d\":[{\"colorbar\":{\"outlinewidth\":0,\"ticks\":\"\"},\"colorscale\":[[0.0,\"#0d0887\"],[0.1111111111111111,\"#46039f\"],[0.2222222222222222,\"#7201a8\"],[0.3333333333333333,\"#9c179e\"],[0.4444444444444444,\"#bd3786\"],[0.5555555555555556,\"#d8576b\"],[0.6666666666666666,\"#ed7953\"],[0.7777777777777778,\"#fb9f3a\"],[0.8888888888888888,\"#fdca26\"],[1.0,\"#f0f921\"]],\"type\":\"histogram2d\"}],\"histogram2dcontour\":[{\"colorbar\":{\"outlinewidth\":0,\"ticks\":\"\"},\"colorscale\":[[0.0,\"#0d0887\"],[0.1111111111111111,\"#46039f\"],[0.2222222222222222,\"#7201a8\"],[0.3333333333333333,\"#9c179e\"],[0.4444444444444444,\"#bd3786\"],[0.5555555555555556,\"#d8576b\"],[0.6666666666666666,\"#ed7953\"],[0.7777777777777778,\"#fb9f3a\"],[0.8888888888888888,\"#fdca26\"],[1.0,\"#f0f921\"]],\"type\":\"histogram2dcontour\"}],\"mesh3d\":[{\"colorbar\":{\"outlinewidth\":0,\"ticks\":\"\"},\"type\":\"mesh3d\"}],\"parcoords\":[{\"line\":{\"colorbar\":{\"outlinewidth\":0,\"ticks\":\"\"}},\"type\":\"parcoords\"}],\"pie\":[{\"automargin\":true,\"type\":\"pie\"}],\"scatter\":[{\"marker\":{\"colorbar\":{\"outlinewidth\":0,\"ticks\":\"\"}},\"type\":\"scatter\"}],\"scatter3d\":[{\"line\":{\"colorbar\":{\"outlinewidth\":0,\"ticks\":\"\"}},\"marker\":{\"colorbar\":{\"outlinewidth\":0,\"ticks\":\"\"}},\"type\":\"scatter3d\"}],\"scattercarpet\":[{\"marker\":{\"colorbar\":{\"outlinewidth\":0,\"ticks\":\"\"}},\"type\":\"scattercarpet\"}],\"scattergeo\":[{\"marker\":{\"colorbar\":{\"outlinewidth\":0,\"ticks\":\"\"}},\"type\":\"scattergeo\"}],\"scattergl\":[{\"marker\":{\"colorbar\":{\"outlinewidth\":0,\"ticks\":\"\"}},\"type\":\"scattergl\"}],\"scattermapbox\":[{\"marker\":{\"colorbar\":{\"outlinewidth\":0,\"ticks\":\"\"}},\"type\":\"scattermapbox\"}],\"scatterpolar\":[{\"marker\":{\"colorbar\":{\"outlinewidth\":0,\"ticks\":\"\"}},\"type\":\"scatterpolar\"}],\"scatterpolargl\":[{\"marker\":{\"colorbar\":{\"outlinewidth\":0,\"ticks\":\"\"}},\"type\":\"scatterpolargl\"}],\"scatterternary\":[{\"marker\":{\"colorbar\":{\"outlinewidth\":0,\"ticks\":\"\"}},\"type\":\"scatterternary\"}],\"surface\":[{\"colorbar\":{\"outlinewidth\":0,\"ticks\":\"\"},\"colorscale\":[[0.0,\"#0d0887\"],[0.1111111111111111,\"#46039f\"],[0.2222222222222222,\"#7201a8\"],[0.3333333333333333,\"#9c179e\"],[0.4444444444444444,\"#bd3786\"],[0.5555555555555556,\"#d8576b\"],[0.6666666666666666,\"#ed7953\"],[0.7777777777777778,\"#fb9f3a\"],[0.8888888888888888,\"#fdca26\"],[1.0,\"#f0f921\"]],\"type\":\"surface\"}],\"table\":[{\"cells\":{\"fill\":{\"color\":\"#EBF0F8\"},\"line\":{\"color\":\"white\"}},\"header\":{\"fill\":{\"color\":\"#C8D4E3\"},\"line\":{\"color\":\"white\"}},\"type\":\"table\"}]},\"layout\":{\"annotationdefaults\":{\"arrowcolor\":\"#2a3f5f\",\"arrowhead\":0,\"arrowwidth\":1},\"autotypenumbers\":\"strict\",\"coloraxis\":{\"colorbar\":{\"outlinewidth\":0,\"ticks\":\"\"}},\"colorscale\":{\"diverging\":[[0,\"#8e0152\"],[0.1,\"#c51b7d\"],[0.2,\"#de77ae\"],[0.3,\"#f1b6da\"],[0.4,\"#fde0ef\"],[0.5,\"#f7f7f7\"],[0.6,\"#e6f5d0\"],[0.7,\"#b8e186\"],[0.8,\"#7fbc41\"],[0.9,\"#4d9221\"],[1,\"#276419\"]],\"sequential\":[[0.0,\"#0d0887\"],[0.1111111111111111,\"#46039f\"],[0.2222222222222222,\"#7201a8\"],[0.3333333333333333,\"#9c179e\"],[0.4444444444444444,\"#bd3786\"],[0.5555555555555556,\"#d8576b\"],[0.6666666666666666,\"#ed7953\"],[0.7777777777777778,\"#fb9f3a\"],[0.8888888888888888,\"#fdca26\"],[1.0,\"#f0f921\"]],\"sequentialminus\":[[0.0,\"#0d0887\"],[0.1111111111111111,\"#46039f\"],[0.2222222222222222,\"#7201a8\"],[0.3333333333333333,\"#9c179e\"],[0.4444444444444444,\"#bd3786\"],[0.5555555555555556,\"#d8576b\"],[0.6666666666666666,\"#ed7953\"],[0.7777777777777778,\"#fb9f3a\"],[0.8888888888888888,\"#fdca26\"],[1.0,\"#f0f921\"]]},\"colorway\":[\"#636efa\",\"#EF553B\",\"#00cc96\",\"#ab63fa\",\"#FFA15A\",\"#19d3f3\",\"#FF6692\",\"#B6E880\",\"#FF97FF\",\"#FECB52\"],\"font\":{\"color\":\"#2a3f5f\"},\"geo\":{\"bgcolor\":\"white\",\"lakecolor\":\"white\",\"landcolor\":\"#E5ECF6\",\"showlakes\":true,\"showland\":true,\"subunitcolor\":\"white\"},\"hoverlabel\":{\"align\":\"left\"},\"hovermode\":\"closest\",\"mapbox\":{\"style\":\"light\"},\"paper_bgcolor\":\"white\",\"plot_bgcolor\":\"#E5ECF6\",\"polar\":{\"angularaxis\":{\"gridcolor\":\"white\",\"linecolor\":\"white\",\"ticks\":\"\"},\"bgcolor\":\"#E5ECF6\",\"radialaxis\":{\"gridcolor\":\"white\",\"linecolor\":\"white\",\"ticks\":\"\"}},\"scene\":{\"xaxis\":{\"backgroundcolor\":\"#E5ECF6\",\"gridcolor\":\"white\",\"gridwidth\":2,\"linecolor\":\"white\",\"showbackground\":true,\"ticks\":\"\",\"zerolinecolor\":\"white\"},\"yaxis\":{\"backgroundcolor\":\"#E5ECF6\",\"gridcolor\":\"white\",\"gridwidth\":2,\"linecolor\":\"white\",\"showbackground\":true,\"ticks\":\"\",\"zerolinecolor\":\"white\"},\"zaxis\":{\"backgroundcolor\":\"#E5ECF6\",\"gridcolor\":\"white\",\"gridwidth\":2,\"linecolor\":\"white\",\"showbackground\":true,\"ticks\":\"\",\"zerolinecolor\":\"white\"}},\"shapedefaults\":{\"line\":{\"color\":\"#2a3f5f\"}},\"ternary\":{\"aaxis\":{\"gridcolor\":\"white\",\"linecolor\":\"white\",\"ticks\":\"\"},\"baxis\":{\"gridcolor\":\"white\",\"linecolor\":\"white\",\"ticks\":\"\"},\"bgcolor\":\"#E5ECF6\",\"caxis\":{\"gridcolor\":\"white\",\"linecolor\":\"white\",\"ticks\":\"\"}},\"title\":{\"x\":0.05},\"xaxis\":{\"automargin\":true,\"gridcolor\":\"white\",\"linecolor\":\"white\",\"ticks\":\"\",\"title\":{\"standoff\":15},\"zerolinecolor\":\"white\",\"zerolinewidth\":2},\"yaxis\":{\"automargin\":true,\"gridcolor\":\"white\",\"linecolor\":\"white\",\"ticks\":\"\",\"title\":{\"standoff\":15},\"zerolinecolor\":\"white\",\"zerolinewidth\":2}}},\"xaxis\":{\"anchor\":\"y\",\"domain\":[0.0,1.0],\"title\":{\"text\":\"\\u0427\\u0430\\u0441\\u0442\\u043e\\u0442\\u0430 \\u0432\\u044b\\u043f\\u043b\\u0430\\u0442\\u0430 \\u043a\\u0443\\u043f\\u043e\\u043d\\u043e\\u0432 \\u0432 \\u0433\\u043e\\u0434\"}},\"yaxis\":{\"anchor\":\"x\",\"domain\":[0.0,1.0],\"title\":{\"text\":\"\\u041a\\u043e\\u043b\\u0438\\u0447\\u0435\\u0441\\u0442\\u0432\\u043e \\u043e\\u0431\\u043b\\u0438\\u0433\\u0430\\u0446\\u0438\\u0439\"}},\"legend\":{\"tracegroupgap\":0,\"orientation\":\"h\",\"x\":0.5,\"xanchor\":\"center\"},\"margin\":{\"t\":30,\"l\":0,\"r\":0,\"b\":0},\"barmode\":\"relative\",\"title\":{\"text\":\"\\u0420\\u0430\\u0437\\u0431\\u0438\\u0432\\u043a\\u0430 \\u043e\\u0431\\u043b\\u0438\\u0433\\u0430\\u0446\\u0438\\u0439 \\u043f\\u043e \\u0447\\u0430\\u0441\\u0442\\u043e\\u0442\\u0435 \\u0432\\u044b\\u043f\\u043b\\u0430\\u0442\\u044b \\u043a\\u0443\\u043f\\u043e\\u043d\\u043e\\u0432\"}},                        {\"responsive\": true}                    ).then(function(){\n",
       "                            \n",
       "var gd = document.getElementById('514f4757-5176-45d7-8d1d-508d4f5fba2b');\n",
       "var x = new MutationObserver(function (mutations, observer) {{\n",
       "        var display = window.getComputedStyle(gd).display;\n",
       "        if (!display || display === 'none') {{\n",
       "            console.log([gd, 'removed!']);\n",
       "            Plotly.purge(gd);\n",
       "            observer.disconnect();\n",
       "        }}\n",
       "}});\n",
       "\n",
       "// Listen for the removal of the full notebook cells\n",
       "var notebookContainer = gd.closest('#notebook-container');\n",
       "if (notebookContainer) {{\n",
       "    x.observe(notebookContainer, {childList: true});\n",
       "}}\n",
       "\n",
       "// Listen for the clearing of the current output cell\n",
       "var outputEl = gd.closest('.output');\n",
       "if (outputEl) {{\n",
       "    x.observe(outputEl, {childList: true});\n",
       "}}\n",
       "\n",
       "                        })                };                });            </script>        </div>"
      ]
     },
     "metadata": {},
     "output_type": "display_data"
    }
   ],
   "source": [
    "# строим график №5\n",
    "fig = px.bar(t2, x = 'COUPONFREQUENCY', y = 'count')\n",
    "fig.update_layout(legend_orientation=\"h\",\n",
    "                  legend=dict(x=.5, xanchor=\"center\"),\n",
    "                  title=\"Разбивка облигаций по частоте выплаты купонов\",\n",
    "                  xaxis_title=\"Частота выплата купонов в год\",\n",
    "                  yaxis_title=\"Количество облигаций\",\n",
    "                  margin=dict(l=0, r=0, t=30, b=0))\n",
    "fig.show()"
   ]
  },
  {
   "cell_type": "markdown",
   "id": "55974e04",
   "metadata": {},
   "source": [
    "# Решение. Часть №2"
   ]
  },
  {
   "cell_type": "markdown",
   "id": "2630c466",
   "metadata": {},
   "source": [
    "2) По низкорисковым рублевым облигациям с датой промежуточной выплаты по купонам не более 20% купонного периода назад до текущей даты и облигациям выпущенным в аналогичный период, рассчитать доходность последующих купонов по отобранным облигациям с учетом разницы номинала и цены продажи, а также с учетом налоговых отчислений на период год с текущей дата. (график и/или таблица)."
   ]
  },
  {
   "cell_type": "code",
   "execution_count": 209,
   "id": "f760c4b1",
   "metadata": {},
   "outputs": [
    {
     "data": {
      "text/html": [
       "<div>\n",
       "<style scoped>\n",
       "    .dataframe tbody tr th:only-of-type {\n",
       "        vertical-align: middle;\n",
       "    }\n",
       "\n",
       "    .dataframe tbody tr th {\n",
       "        vertical-align: top;\n",
       "    }\n",
       "\n",
       "    .dataframe thead th {\n",
       "        text-align: right;\n",
       "    }\n",
       "</style>\n",
       "<table border=\"1\" class=\"dataframe\">\n",
       "  <thead>\n",
       "    <tr style=\"text-align: right;\">\n",
       "      <th></th>\n",
       "      <th>SECID</th>\n",
       "      <th>SHORTNAME</th>\n",
       "      <th>TYPENAME</th>\n",
       "      <th>ISIN</th>\n",
       "      <th>MATDATE</th>\n",
       "      <th>FACEVALUE</th>\n",
       "      <th>HIGH_RISK</th>\n",
       "      <th>COUPONFREQUENCY</th>\n",
       "      <th>COUPONDATE</th>\n",
       "      <th>COUPONPERCENT</th>\n",
       "      <th>COUPONVALUE</th>\n",
       "      <th>COUPONDAYSPASSED</th>\n",
       "      <th>COUPONDAYSREMAIN</th>\n",
       "      <th>COUPONLENGTH</th>\n",
       "      <th>OFFERDATE</th>\n",
       "      <th>PRICE</th>\n",
       "      <th>PRICE_RUB</th>\n",
       "      <th>stavka</th>\n",
       "    </tr>\n",
       "  </thead>\n",
       "  <tbody>\n",
       "    <tr>\n",
       "      <th>0</th>\n",
       "      <td>RU000A0JQRD9</td>\n",
       "      <td>РЖД-23 обл</td>\n",
       "      <td>Корпоративные облигации</td>\n",
       "      <td>RU000A0JQRD9</td>\n",
       "      <td>2025-01-16</td>\n",
       "      <td>1000.00</td>\n",
       "      <td>0</td>\n",
       "      <td>2.0</td>\n",
       "      <td>2023-01-19</td>\n",
       "      <td>7.85</td>\n",
       "      <td>39.14</td>\n",
       "      <td>35.0</td>\n",
       "      <td>147.0</td>\n",
       "      <td>182.0</td>\n",
       "      <td>2025-01-16</td>\n",
       "      <td>99.08</td>\n",
       "      <td>998.54</td>\n",
       "      <td>(0.1, 8.0]</td>\n",
       "    </tr>\n",
       "    <tr>\n",
       "      <th>1</th>\n",
       "      <td>RU000A0JS4J1</td>\n",
       "      <td>ЗСД 03</td>\n",
       "      <td>Корпоративные облигации</td>\n",
       "      <td>RU000A0JS4J1</td>\n",
       "      <td>2032-02-06</td>\n",
       "      <td>1000.00</td>\n",
       "      <td>0</td>\n",
       "      <td>2.0</td>\n",
       "      <td>2023-02-17</td>\n",
       "      <td>9.84</td>\n",
       "      <td>49.07</td>\n",
       "      <td>6.0</td>\n",
       "      <td>176.0</td>\n",
       "      <td>182.0</td>\n",
       "      <td>2032-02-06</td>\n",
       "      <td>108.43</td>\n",
       "      <td>1086.19</td>\n",
       "      <td>(8.0, 13.0]</td>\n",
       "    </tr>\n",
       "    <tr>\n",
       "      <th>2</th>\n",
       "      <td>RU000A0JS4K9</td>\n",
       "      <td>ЗСД 04</td>\n",
       "      <td>Корпоративные облигации</td>\n",
       "      <td>RU000A0JS4K9</td>\n",
       "      <td>2032-02-06</td>\n",
       "      <td>1000.00</td>\n",
       "      <td>0</td>\n",
       "      <td>2.0</td>\n",
       "      <td>2023-02-17</td>\n",
       "      <td>9.84</td>\n",
       "      <td>49.07</td>\n",
       "      <td>6.0</td>\n",
       "      <td>176.0</td>\n",
       "      <td>182.0</td>\n",
       "      <td>2032-02-06</td>\n",
       "      <td>111.70</td>\n",
       "      <td>1118.89</td>\n",
       "      <td>(8.0, 13.0]</td>\n",
       "    </tr>\n",
       "    <tr>\n",
       "      <th>3</th>\n",
       "      <td>RU000A0JS4L7</td>\n",
       "      <td>ЗСД 05</td>\n",
       "      <td>Корпоративные облигации</td>\n",
       "      <td>RU000A0JS4L7</td>\n",
       "      <td>2032-02-06</td>\n",
       "      <td>1000.00</td>\n",
       "      <td>0</td>\n",
       "      <td>2.0</td>\n",
       "      <td>2023-02-17</td>\n",
       "      <td>9.84</td>\n",
       "      <td>49.07</td>\n",
       "      <td>6.0</td>\n",
       "      <td>176.0</td>\n",
       "      <td>182.0</td>\n",
       "      <td>2032-02-06</td>\n",
       "      <td>110.99</td>\n",
       "      <td>1111.79</td>\n",
       "      <td>(8.0, 13.0]</td>\n",
       "    </tr>\n",
       "    <tr>\n",
       "      <th>4</th>\n",
       "      <td>RU000A0JS934</td>\n",
       "      <td>ЕАБР11</td>\n",
       "      <td>Корпоративные еврооблигации</td>\n",
       "      <td>RU000A0JS934</td>\n",
       "      <td>2025-01-24</td>\n",
       "      <td>1000.00</td>\n",
       "      <td>0</td>\n",
       "      <td>2.0</td>\n",
       "      <td>2023-01-27</td>\n",
       "      <td>7.35</td>\n",
       "      <td>36.65</td>\n",
       "      <td>27.0</td>\n",
       "      <td>155.0</td>\n",
       "      <td>182.0</td>\n",
       "      <td>2025-01-24</td>\n",
       "      <td>98.58</td>\n",
       "      <td>991.44</td>\n",
       "      <td>(0.1, 8.0]</td>\n",
       "    </tr>\n",
       "    <tr>\n",
       "      <th>...</th>\n",
       "      <td>...</td>\n",
       "      <td>...</td>\n",
       "      <td>...</td>\n",
       "      <td>...</td>\n",
       "      <td>...</td>\n",
       "      <td>...</td>\n",
       "      <td>...</td>\n",
       "      <td>...</td>\n",
       "      <td>...</td>\n",
       "      <td>...</td>\n",
       "      <td>...</td>\n",
       "      <td>...</td>\n",
       "      <td>...</td>\n",
       "      <td>...</td>\n",
       "      <td>...</td>\n",
       "      <td>...</td>\n",
       "      <td>...</td>\n",
       "      <td>...</td>\n",
       "    </tr>\n",
       "    <tr>\n",
       "      <th>357</th>\n",
       "      <td>SU52002RMFS1</td>\n",
       "      <td>ОФЗ 52002</td>\n",
       "      <td>ОФЗ</td>\n",
       "      <td>RU000A0ZYZ26</td>\n",
       "      <td>2028-02-02</td>\n",
       "      <td>1367.52</td>\n",
       "      <td>0</td>\n",
       "      <td>2.0</td>\n",
       "      <td>2023-02-08</td>\n",
       "      <td>2.50</td>\n",
       "      <td>16.99</td>\n",
       "      <td>15.0</td>\n",
       "      <td>167.0</td>\n",
       "      <td>182.0</td>\n",
       "      <td>2028-02-02</td>\n",
       "      <td>94.63</td>\n",
       "      <td>1295.63</td>\n",
       "      <td>(0.1, 8.0]</td>\n",
       "    </tr>\n",
       "    <tr>\n",
       "      <th>358</th>\n",
       "      <td>SU52003RMFS9</td>\n",
       "      <td>ОФЗ 52003</td>\n",
       "      <td>ОФЗ</td>\n",
       "      <td>RU000A102069</td>\n",
       "      <td>2030-07-17</td>\n",
       "      <td>1243.33</td>\n",
       "      <td>0</td>\n",
       "      <td>2.0</td>\n",
       "      <td>2023-01-25</td>\n",
       "      <td>2.50</td>\n",
       "      <td>15.45</td>\n",
       "      <td>29.0</td>\n",
       "      <td>153.0</td>\n",
       "      <td>182.0</td>\n",
       "      <td>2030-07-17</td>\n",
       "      <td>92.85</td>\n",
       "      <td>1157.03</td>\n",
       "      <td>(0.1, 8.0]</td>\n",
       "    </tr>\n",
       "    <tr>\n",
       "      <th>359</th>\n",
       "      <td>XS1675776014</td>\n",
       "      <td>BCS PFGR</td>\n",
       "      <td>Корпоративные еврооблигации</td>\n",
       "      <td>XS1675776014</td>\n",
       "      <td>2027-08-23</td>\n",
       "      <td>100000.00</td>\n",
       "      <td>0</td>\n",
       "      <td>2.0</td>\n",
       "      <td>2023-02-23</td>\n",
       "      <td>1.00</td>\n",
       "      <td>644.61</td>\n",
       "      <td>2.0</td>\n",
       "      <td>182.0</td>\n",
       "      <td>184.0</td>\n",
       "      <td>2027-08-23</td>\n",
       "      <td>119.39</td>\n",
       "      <td>119390.00</td>\n",
       "      <td>(0.1, 8.0]</td>\n",
       "    </tr>\n",
       "    <tr>\n",
       "      <th>360</th>\n",
       "      <td>XS2139835636</td>\n",
       "      <td>BCSALORPT</td>\n",
       "      <td>Корпоративные еврооблигации</td>\n",
       "      <td>XS2139835636</td>\n",
       "      <td>2023-06-15</td>\n",
       "      <td>100000.00</td>\n",
       "      <td>0</td>\n",
       "      <td>1.0</td>\n",
       "      <td>2023-06-15</td>\n",
       "      <td>13.00</td>\n",
       "      <td>13000.00</td>\n",
       "      <td>71.0</td>\n",
       "      <td>294.0</td>\n",
       "      <td>365.0</td>\n",
       "      <td>2023-06-15</td>\n",
       "      <td>83.98</td>\n",
       "      <td>83980.00</td>\n",
       "      <td>(8.0, 13.0]</td>\n",
       "    </tr>\n",
       "    <tr>\n",
       "      <th>361</th>\n",
       "      <td>XS2368111584</td>\n",
       "      <td>ALFA-25 RU</td>\n",
       "      <td>Корпоративные еврооблигации</td>\n",
       "      <td>XS2368111584</td>\n",
       "      <td>2025-08-04</td>\n",
       "      <td>100000.00</td>\n",
       "      <td>0</td>\n",
       "      <td>2.0</td>\n",
       "      <td>2023-02-04</td>\n",
       "      <td>7.85</td>\n",
       "      <td>3925.00</td>\n",
       "      <td>21.0</td>\n",
       "      <td>163.0</td>\n",
       "      <td>184.0</td>\n",
       "      <td>2025-08-04</td>\n",
       "      <td>91.22</td>\n",
       "      <td>91699.72</td>\n",
       "      <td>(0.1, 8.0]</td>\n",
       "    </tr>\n",
       "  </tbody>\n",
       "</table>\n",
       "<p>362 rows × 18 columns</p>\n",
       "</div>"
      ],
      "text/plain": [
       "            SECID   SHORTNAME                     TYPENAME          ISIN  \\\n",
       "0    RU000A0JQRD9  РЖД-23 обл      Корпоративные облигации  RU000A0JQRD9   \n",
       "1    RU000A0JS4J1      ЗСД 03      Корпоративные облигации  RU000A0JS4J1   \n",
       "2    RU000A0JS4K9      ЗСД 04      Корпоративные облигации  RU000A0JS4K9   \n",
       "3    RU000A0JS4L7      ЗСД 05      Корпоративные облигации  RU000A0JS4L7   \n",
       "4    RU000A0JS934      ЕАБР11  Корпоративные еврооблигации  RU000A0JS934   \n",
       "..            ...         ...                          ...           ...   \n",
       "357  SU52002RMFS1   ОФЗ 52002                          ОФЗ  RU000A0ZYZ26   \n",
       "358  SU52003RMFS9   ОФЗ 52003                          ОФЗ  RU000A102069   \n",
       "359  XS1675776014    BCS PFGR  Корпоративные еврооблигации  XS1675776014   \n",
       "360  XS2139835636   BCSALORPT  Корпоративные еврооблигации  XS2139835636   \n",
       "361  XS2368111584  ALFA-25 RU  Корпоративные еврооблигации  XS2368111584   \n",
       "\n",
       "       MATDATE  FACEVALUE  HIGH_RISK  COUPONFREQUENCY COUPONDATE  \\\n",
       "0   2025-01-16    1000.00          0              2.0 2023-01-19   \n",
       "1   2032-02-06    1000.00          0              2.0 2023-02-17   \n",
       "2   2032-02-06    1000.00          0              2.0 2023-02-17   \n",
       "3   2032-02-06    1000.00          0              2.0 2023-02-17   \n",
       "4   2025-01-24    1000.00          0              2.0 2023-01-27   \n",
       "..         ...        ...        ...              ...        ...   \n",
       "357 2028-02-02    1367.52          0              2.0 2023-02-08   \n",
       "358 2030-07-17    1243.33          0              2.0 2023-01-25   \n",
       "359 2027-08-23  100000.00          0              2.0 2023-02-23   \n",
       "360 2023-06-15  100000.00          0              1.0 2023-06-15   \n",
       "361 2025-08-04  100000.00          0              2.0 2023-02-04   \n",
       "\n",
       "     COUPONPERCENT  COUPONVALUE  COUPONDAYSPASSED  COUPONDAYSREMAIN  \\\n",
       "0             7.85        39.14              35.0             147.0   \n",
       "1             9.84        49.07               6.0             176.0   \n",
       "2             9.84        49.07               6.0             176.0   \n",
       "3             9.84        49.07               6.0             176.0   \n",
       "4             7.35        36.65              27.0             155.0   \n",
       "..             ...          ...               ...               ...   \n",
       "357           2.50        16.99              15.0             167.0   \n",
       "358           2.50        15.45              29.0             153.0   \n",
       "359           1.00       644.61               2.0             182.0   \n",
       "360          13.00     13000.00              71.0             294.0   \n",
       "361           7.85      3925.00              21.0             163.0   \n",
       "\n",
       "     COUPONLENGTH  OFFERDATE   PRICE  PRICE_RUB       stavka  \n",
       "0           182.0 2025-01-16   99.08     998.54   (0.1, 8.0]  \n",
       "1           182.0 2032-02-06  108.43    1086.19  (8.0, 13.0]  \n",
       "2           182.0 2032-02-06  111.70    1118.89  (8.0, 13.0]  \n",
       "3           182.0 2032-02-06  110.99    1111.79  (8.0, 13.0]  \n",
       "4           182.0 2025-01-24   98.58     991.44   (0.1, 8.0]  \n",
       "..            ...        ...     ...        ...          ...  \n",
       "357         182.0 2028-02-02   94.63    1295.63   (0.1, 8.0]  \n",
       "358         182.0 2030-07-17   92.85    1157.03   (0.1, 8.0]  \n",
       "359         184.0 2027-08-23  119.39  119390.00   (0.1, 8.0]  \n",
       "360         365.0 2023-06-15   83.98   83980.00  (8.0, 13.0]  \n",
       "361         184.0 2025-08-04   91.22   91699.72   (0.1, 8.0]  \n",
       "\n",
       "[362 rows x 18 columns]"
      ]
     },
     "execution_count": 209,
     "metadata": {},
     "output_type": "execute_result"
    }
   ],
   "source": [
    "# по 2 условию задания задаем датасет по низкорисковым рублевым облигациям\n",
    "# с датой промежуточной выплаты по купонам не более 20% купонного периода\n",
    "\n",
    "rb = bond.loc[(bond['COUPONDATE'].notna()) & (bond['HIGH_RISK'] != 1) & (bond['COUPONVALUE'].notna())\n",
    "              & (bond['COUPONPERCENT'] != 0) & (bond['PRICE'].notna()) & (bond['COUPONDAYSPASSED']/bond['COUPONLENGTH']<=0.2)]\n",
    "\n",
    "rb = rb.reset_index()\n",
    "rb = rb.drop(['index'],axis=1)\n",
    "rb"
   ]
  },
  {
   "cell_type": "code",
   "execution_count": 210,
   "id": "74cfa9a8",
   "metadata": {},
   "outputs": [
    {
     "name": "stdout",
     "output_type": "stream",
     "text": [
      "<class 'pandas.core.frame.DataFrame'>\n",
      "RangeIndex: 362 entries, 0 to 361\n",
      "Data columns (total 18 columns):\n",
      " #   Column            Non-Null Count  Dtype         \n",
      "---  ------            --------------  -----         \n",
      " 0   SECID             362 non-null    object        \n",
      " 1   SHORTNAME         362 non-null    object        \n",
      " 2   TYPENAME          362 non-null    object        \n",
      " 3   ISIN              362 non-null    object        \n",
      " 4   MATDATE           362 non-null    datetime64[ns]\n",
      " 5   FACEVALUE         362 non-null    float64       \n",
      " 6   HIGH_RISK         362 non-null    int64         \n",
      " 7   COUPONFREQUENCY   362 non-null    float64       \n",
      " 8   COUPONDATE        362 non-null    datetime64[ns]\n",
      " 9   COUPONPERCENT     362 non-null    float64       \n",
      " 10  COUPONVALUE       362 non-null    float64       \n",
      " 11  COUPONDAYSPASSED  362 non-null    float64       \n",
      " 12  COUPONDAYSREMAIN  362 non-null    float64       \n",
      " 13  COUPONLENGTH      362 non-null    float64       \n",
      " 14  OFFERDATE         362 non-null    datetime64[ns]\n",
      " 15  PRICE             362 non-null    float64       \n",
      " 16  PRICE_RUB         362 non-null    float64       \n",
      " 17  stavka            362 non-null    category      \n",
      "dtypes: category(1), datetime64[ns](3), float64(9), int64(1), object(4)\n",
      "memory usage: 48.8+ KB\n"
     ]
    }
   ],
   "source": [
    "# инфа по полученному датасету\n",
    "rb.info()"
   ]
  },
  {
   "cell_type": "code",
   "execution_count": 211,
   "id": "32e47a4e",
   "metadata": {},
   "outputs": [
    {
     "data": {
      "text/plain": [
       "SECID               0\n",
       "SHORTNAME           0\n",
       "TYPENAME            0\n",
       "ISIN                0\n",
       "MATDATE             0\n",
       "FACEVALUE           0\n",
       "HIGH_RISK           0\n",
       "COUPONFREQUENCY     0\n",
       "COUPONDATE          0\n",
       "COUPONPERCENT       0\n",
       "COUPONVALUE         0\n",
       "COUPONDAYSPASSED    0\n",
       "COUPONDAYSREMAIN    0\n",
       "COUPONLENGTH        0\n",
       "OFFERDATE           0\n",
       "PRICE               0\n",
       "PRICE_RUB           0\n",
       "stavka              0\n",
       "dtype: int64"
      ]
     },
     "execution_count": 211,
     "metadata": {},
     "output_type": "execute_result"
    }
   ],
   "source": [
    "# проверяем полученный датасет на отсутствующие значения\n",
    "rb.isna().sum()"
   ]
  },
  {
   "cell_type": "code",
   "execution_count": 212,
   "id": "98c68329",
   "metadata": {},
   "outputs": [
    {
     "data": {
      "text/plain": [
       "datetime.datetime(2022, 8, 25, 0, 0)"
      ]
     },
     "execution_count": 212,
     "metadata": {},
     "output_type": "execute_result"
    }
   ],
   "source": [
    "# загружаем дату на сегодня\n",
    "today = datetime.combine(date.today(), datetime.min.time())\n",
    "today"
   ]
  },
  {
   "cell_type": "code",
   "execution_count": 213,
   "id": "07cc6b68",
   "metadata": {},
   "outputs": [],
   "source": [
    "# задаем исследуемый период 1 год\n",
    "qod = datetime(today.year + 1,today.month, today.day) # qod = today.replace(today.year + 1)"
   ]
  },
  {
   "cell_type": "code",
   "execution_count": 214,
   "id": "04dcca56",
   "metadata": {},
   "outputs": [
    {
     "data": {
      "text/plain": [
       "1.0"
      ]
     },
     "execution_count": 214,
     "metadata": {},
     "output_type": "execute_result"
    }
   ],
   "source": [
    "# проверка\n",
    "x = datetime(today.year + 1,today.month, today.day)\n",
    "(x - today).days / 365"
   ]
  },
  {
   "cell_type": "code",
   "execution_count": 215,
   "id": "d883353b",
   "metadata": {},
   "outputs": [
    {
     "data": {
      "text/plain": [
       "60"
      ]
     },
     "execution_count": 215,
     "metadata": {},
     "output_type": "execute_result"
    }
   ],
   "source": [
    "# выделяем группу №1 облигаций по дате погашения облигации\n",
    "t1 = rb[(rb.MATDATE <= datetime(today.year + 1,today.month, today.day)) & (rb.MATDATE <= rb.OFFERDATE)].shape[0]\n",
    "t1"
   ]
  },
  {
   "cell_type": "code",
   "execution_count": 216,
   "id": "908a8e2f",
   "metadata": {},
   "outputs": [
    {
     "data": {
      "text/plain": [
       "18"
      ]
     },
     "execution_count": 216,
     "metadata": {},
     "output_type": "execute_result"
    }
   ],
   "source": [
    "# выделяем группу №2 облигаций по дате оферты\n",
    "t2 = rb[(rb.OFFERDATE <= datetime(today.year + 1,today.month, today.day)) & (rb.MATDATE > rb.OFFERDATE)].shape[0]\n",
    "t2"
   ]
  },
  {
   "cell_type": "code",
   "execution_count": 217,
   "id": "1b04510f",
   "metadata": {},
   "outputs": [
    {
     "data": {
      "text/plain": [
       "284"
      ]
     },
     "execution_count": 217,
     "metadata": {},
     "output_type": "execute_result"
    }
   ],
   "source": [
    "# выделяем группу №3 облигаций по иследуемому периоду 1 год\n",
    "t3 = rb[(rb.MATDATE > datetime(today.year + 1,today.month, today.day)) & (rb.OFFERDATE > datetime(today.year + 1,today.month, today.day))].shape[0]\n",
    "t3"
   ]
  },
  {
   "cell_type": "code",
   "execution_count": 218,
   "id": "ba4cccc8",
   "metadata": {},
   "outputs": [
    {
     "data": {
      "text/plain": [
       "0"
      ]
     },
     "execution_count": 218,
     "metadata": {},
     "output_type": "execute_result"
    }
   ],
   "source": [
    "#  проверка\n",
    "rb.shape[0] - t1 - t2 - t3"
   ]
  },
  {
   "cell_type": "code",
   "execution_count": 219,
   "id": "06f4e241",
   "metadata": {},
   "outputs": [],
   "source": [
    "# расчитывем купонную доходность выбранных облигаций с учетом налоговых отчислений на период год с текущей дата\n",
    "# создадим функцию def Profit(a,b,c,d,e,f,g,h,k), где переменные функции:\n",
    "# a = FACEVALUE Номинальная стоимость\n",
    "# b = PRICE текущий % от FACEVALUE\n",
    "# c = COUPONPERCENT Ставка купона, %, \n",
    "# d = COUPONDAYSPASSED Купонный период - сколько прошло, дн\n",
    "# e = COUPONDAYSREMAIN Купонный период - сколько осталось, дн\n",
    "# f = COUPONLENGTH Купонный период, дн\n",
    "# g = OFFERDATE Дата оферты\n",
    "# h = COUPONDATE Дата выплаты купона\n",
    "# k = COUPONFREQUENCY Частота выплаты купонов в год\n",
    "\n",
    "# Принимаем постоянные коэффициенты\n",
    "# ставка НДФЛ 13% (при купонной ставки до 15%(стака ЦБ + 5%) включительно)\n",
    "# ставка ЦБ = 8% \n",
    "# ставка НДФЛ 35% (при купонной ставки больше 15%)\n",
    "# комиссию брокера 0.06%\n",
    "# комиссию Биржи принимаем в 0.0125%.\n",
    "\n",
    "# формула расчета купонной доходности:\n",
    "# Profit = (((Цена_Номинальная – Цена_покупки )(1 ЕСЛИ ≤0│0.87 ЕСЛИ>0) – НКД + 0.87Купонный_доход_рубX_лет)*100% )\n",
    "# / ((Цена_покупки+ НКД)(1+Комиссия брокера в процентах/100 +Комиссия биржи/100))\n",
    "\n",
    "# Profit = ((a - a*b/100))*(1 ЕСЛИ ≤0│0.87 ЕСЛИ>0)– НКД + 0.87*Купонный_доход_руб*X_лет)*100% )\n",
    "# / ((a*d/100+ НКД)*(1+0.06/100 +0.0125/100))\n",
    "\n",
    "# где НКД (NKD) = a × (c / 100) × d / 365\n",
    "# Купонный_доход (Coupon) = a × (c / 100) × f / 365\n",
    "\n",
    "# Допущения\n",
    "# 1. в случае попадания даты оферты в иследуемый период (1 год) принимаем, что облигация погашается\n",
    "# 2. в случае попадания даты оферты и погашения позже иследуемого периода (1 год) купонный доход равняется НКД за год\n",
    "# 3. При превышении совокупного дохода в 5 млн руб. налоговая ставка для российских налогоплательщиков составит 15%.\n",
    "# Считаем, что это не наш случай. Принимаем налоговую ставку 13%\n",
    "# 4. Предполагаем, что цена облигации PRICE не изменится в течении года\n",
    "# 5. Ставка купона в течении года не изменяется."
   ]
  },
  {
   "cell_type": "code",
   "execution_count": 220,
   "id": "83b1245f",
   "metadata": {},
   "outputs": [
    {
     "data": {
      "text/html": [
       "<div>\n",
       "<style scoped>\n",
       "    .dataframe tbody tr th:only-of-type {\n",
       "        vertical-align: middle;\n",
       "    }\n",
       "\n",
       "    .dataframe tbody tr th {\n",
       "        vertical-align: top;\n",
       "    }\n",
       "\n",
       "    .dataframe thead th {\n",
       "        text-align: right;\n",
       "    }\n",
       "</style>\n",
       "<table border=\"1\" class=\"dataframe\">\n",
       "  <thead>\n",
       "    <tr style=\"text-align: right;\">\n",
       "      <th></th>\n",
       "      <th>Delta</th>\n",
       "      <th>NKD</th>\n",
       "      <th>Expenses</th>\n",
       "      <th>Coupon</th>\n",
       "    </tr>\n",
       "  </thead>\n",
       "  <tbody>\n",
       "    <tr>\n",
       "      <th>0</th>\n",
       "      <td>9.200000</td>\n",
       "      <td>7.527397</td>\n",
       "      <td>999.051185</td>\n",
       "      <td>39.142466</td>\n",
       "    </tr>\n",
       "    <tr>\n",
       "      <th>1</th>\n",
       "      <td>-84.300000</td>\n",
       "      <td>1.617534</td>\n",
       "      <td>1086.704824</td>\n",
       "      <td>49.065205</td>\n",
       "    </tr>\n",
       "    <tr>\n",
       "      <th>2</th>\n",
       "      <td>-117.000000</td>\n",
       "      <td>1.617534</td>\n",
       "      <td>1119.428532</td>\n",
       "      <td>49.065205</td>\n",
       "    </tr>\n",
       "    <tr>\n",
       "      <th>3</th>\n",
       "      <td>-109.900000</td>\n",
       "      <td>1.617534</td>\n",
       "      <td>1112.323384</td>\n",
       "      <td>49.065205</td>\n",
       "    </tr>\n",
       "    <tr>\n",
       "      <th>4</th>\n",
       "      <td>14.200000</td>\n",
       "      <td>5.436986</td>\n",
       "      <td>991.955633</td>\n",
       "      <td>36.649315</td>\n",
       "    </tr>\n",
       "    <tr>\n",
       "      <th>...</th>\n",
       "      <td>...</td>\n",
       "      <td>...</td>\n",
       "      <td>...</td>\n",
       "      <td>...</td>\n",
       "    </tr>\n",
       "    <tr>\n",
       "      <th>357</th>\n",
       "      <td>73.435824</td>\n",
       "      <td>1.404986</td>\n",
       "      <td>1296.428392</td>\n",
       "      <td>17.047167</td>\n",
       "    </tr>\n",
       "    <tr>\n",
       "      <th>358</th>\n",
       "      <td>88.898095</td>\n",
       "      <td>2.469628</td>\n",
       "      <td>1157.740287</td>\n",
       "      <td>15.499045</td>\n",
       "    </tr>\n",
       "    <tr>\n",
       "      <th>359</th>\n",
       "      <td>-19390.000000</td>\n",
       "      <td>5.479452</td>\n",
       "      <td>119482.041175</td>\n",
       "      <td>504.109589</td>\n",
       "    </tr>\n",
       "    <tr>\n",
       "      <th>360</th>\n",
       "      <td>16020.000000</td>\n",
       "      <td>2528.767123</td>\n",
       "      <td>86571.485979</td>\n",
       "      <td>13000.000000</td>\n",
       "    </tr>\n",
       "    <tr>\n",
       "      <th>361</th>\n",
       "      <td>8780.000000</td>\n",
       "      <td>451.643836</td>\n",
       "      <td>91738.105777</td>\n",
       "      <td>3957.260274</td>\n",
       "    </tr>\n",
       "  </tbody>\n",
       "</table>\n",
       "<p>362 rows × 4 columns</p>\n",
       "</div>"
      ],
      "text/plain": [
       "            Delta          NKD       Expenses        Coupon\n",
       "0        9.200000     7.527397     999.051185     39.142466\n",
       "1      -84.300000     1.617534    1086.704824     49.065205\n",
       "2     -117.000000     1.617534    1119.428532     49.065205\n",
       "3     -109.900000     1.617534    1112.323384     49.065205\n",
       "4       14.200000     5.436986     991.955633     36.649315\n",
       "..            ...          ...            ...           ...\n",
       "357     73.435824     1.404986    1296.428392     17.047167\n",
       "358     88.898095     2.469628    1157.740287     15.499045\n",
       "359 -19390.000000     5.479452  119482.041175    504.109589\n",
       "360  16020.000000  2528.767123   86571.485979  13000.000000\n",
       "361   8780.000000   451.643836   91738.105777   3957.260274\n",
       "\n",
       "[362 rows x 4 columns]"
      ]
     },
     "execution_count": 220,
     "metadata": {},
     "output_type": "execute_result"
    }
   ],
   "source": [
    "# расчитаем составляющие формулы расчета купонного дохода\n",
    "rb['Delta'] = rb['FACEVALUE'] - rb['FACEVALUE'] * rb['PRICE'] /100\n",
    "rb['NKD'] = rb['FACEVALUE'] * rb['COUPONPERCENT'] * rb['COUPONDAYSPASSED'] / 36500\n",
    "rb['Expenses'] = (rb['FACEVALUE'] * rb['PRICE'] / 100 + rb['NKD']) * (1 + 0.06 / 100 + 0.0125 / 100)\n",
    "rb['Coupon'] = rb['FACEVALUE'] * rb['COUPONPERCENT'] * rb['COUPONLENGTH'] / 36500\n",
    "rb[['Delta', 'NKD', 'Expenses', 'Coupon']]"
   ]
  },
  {
   "cell_type": "code",
   "execution_count": 221,
   "id": "04b20e50",
   "metadata": {},
   "outputs": [],
   "source": [
    "# создаем функцию расчета купонной доходности\n",
    "# Profit = (((Цена_Номинальная – Цена_покупки )(1 ЕСЛИ ≤0│0.87 ЕСЛИ>0) – НКД + 0.87Купонный_доход_рубX_лет)*100% )\n",
    "# / ((Цена_покупки+ НКД)(1+Комиссия брокера в процентах/100 +Комиссия биржи/100))\n",
    "\n",
    "def Profit(Delta, NKD, Expenses, COUPONPERCENT, MATDATE, OFFERDATE, Coupon):\n",
    "        \n",
    "    # объявляем ставку ЦБ\n",
    "    global cb   \n",
    "        \n",
    "    # проверяем доход по номиналу облигации для налогооблажения 13%\n",
    "    if Delta <= 0:\n",
    "            a = 1\n",
    "    else:   a = 0.87\n",
    "    \n",
    "    # проверяем велечину купоной ставки облигации для налогооблажения относительно ключевой ставки ЦБ\n",
    "    # налог 13% при ставке до 13% (включительно) = ставка ЦБ (8%) + 5%\n",
    "    # налог 35% при ставке свыше 13%\n",
    "    if COUPONPERCENT % 8 > 5 :\n",
    "          b = 0.87 #(0.87 * (COUPONPERCENT // cb) + 0.65 * (COUPONPERCENT % cb))\n",
    "    else: b = 0.87\n",
    "    \n",
    "    # проверяем дату погашения облигации в анализируемом периоде (1 год) с учетом даты оферты\n",
    "    if (OFFERDATE < datetime(today.year + 1,today.month, today.day)) & (MATDATE > OFFERDATE):\n",
    "          c = (OFFERDATE - datetime.combine(date.today(), datetime.min.time())).days / 365\n",
    "    \n",
    "    # проверяем дату погашения облигации в анализируемом периоде (1 год) с учетом даты оферты\n",
    "    elif  (MATDATE < datetime(today.year + 1,today.month, today.day)) & (MATDATE <= OFFERDATE):\n",
    "          c = (MATDATE - datetime.combine(date.today(), datetime.min.time())).days / 365\n",
    "    \n",
    "    # прочие        \n",
    "    else: c = 1\n",
    "    \n",
    "    return ((Delta * a - NKD + Coupon * b * c) / Expenses) * 100      "
   ]
  },
  {
   "cell_type": "code",
   "execution_count": 222,
   "id": "7ada7f13",
   "metadata": {},
   "outputs": [],
   "source": [
    "# создаем функцию расчета налоговых отчислений\n",
    "\n",
    "def Nalog(Delta, COUPONPERCENT, MATDATE, OFFERDATE, Coupon):\n",
    "   \n",
    "    # объявляем ставку ЦБ\n",
    "    global cb\n",
    "    \n",
    "    # проверяем доход по номиналу облигации для налогооблажения 13%\n",
    "    if Delta <= 0:\n",
    "            a = 0\n",
    "    else:   a = Delta * 0.13\n",
    "    \n",
    "    # проверяем величину купоной ставки облигации для налогооблажения относительно ключевой ставки ЦБ\n",
    "    # налог 13% при ставке до 13% (включительно) = ставка ЦБ (8%) + 5%\n",
    "    # налог 35% при ставке свыше 13%\n",
    "    if COUPONPERCENT % 8 > 5 :\n",
    "          b = Coupon * 0.13 #(0.13 * (COUPONPERCENT // cb) + 0.35 * (COUPONPERCENT % cb))\n",
    "    else: b = Coupon * 0.13\n",
    "    \n",
    "    # проверяем дату погашения облигации в анализируемом периоде (1 год) с учетом даты оферты\n",
    "    if (OFFERDATE < datetime(today.year + 1,today.month, today.day)) & (MATDATE > OFFERDATE):\n",
    "          c = (OFFERDATE - datetime.combine(date.today(), datetime.min.time())).days / 365\n",
    "    \n",
    "    # проверяем дату погашения облигации в анализируемом периоде (1 год) с учетом даты оферты\n",
    "    elif  (MATDATE < datetime(today.year + 1,today.month, today.day)) & (MATDATE <= OFFERDATE):\n",
    "          c = (MATDATE - datetime.combine(date.today(), datetime.min.time())).days / 365\n",
    "    \n",
    "    # прочие        \n",
    "    else: c = 1 \n",
    "         \n",
    "    return a + b * c      "
   ]
  },
  {
   "cell_type": "code",
   "execution_count": 223,
   "id": "ac3dafa3",
   "metadata": {},
   "outputs": [
    {
     "data": {
      "text/plain": [
       "256         0.006482\n",
       "196         0.007908\n",
       "171         0.008011\n",
       "154         0.011575\n",
       "331         0.012964\n",
       "           ...      \n",
       "329       155.672329\n",
       "351       170.912161\n",
       "360      3443.860274\n",
       "361     12013.972603\n",
       "302    172914.246575\n",
       "Name: Nalog, Length: 362, dtype: float64"
      ]
     },
     "execution_count": 223,
     "metadata": {},
     "output_type": "execute_result"
    }
   ],
   "source": [
    "# рассчитываем налог\n",
    "rb['Nalog'] = rb.apply(lambda x: Nalog(x.Delta, x.COUPONPERCENT, x.MATDATE, x.OFFERDATE, x.Coupon), axis=1)\n",
    "rb['Nalog'].sort_values(ascending=True)"
   ]
  },
  {
   "cell_type": "code",
   "execution_count": 224,
   "id": "5e295688",
   "metadata": {},
   "outputs": [
    {
     "data": {
      "text/html": [
       "<div>\n",
       "<style scoped>\n",
       "    .dataframe tbody tr th:only-of-type {\n",
       "        vertical-align: middle;\n",
       "    }\n",
       "\n",
       "    .dataframe tbody tr th {\n",
       "        vertical-align: top;\n",
       "    }\n",
       "\n",
       "    .dataframe thead th {\n",
       "        text-align: right;\n",
       "    }\n",
       "</style>\n",
       "<table border=\"1\" class=\"dataframe\">\n",
       "  <thead>\n",
       "    <tr style=\"text-align: right;\">\n",
       "      <th></th>\n",
       "      <th>SECID</th>\n",
       "      <th>SHORTNAME</th>\n",
       "      <th>TYPENAME</th>\n",
       "      <th>ISIN</th>\n",
       "      <th>MATDATE</th>\n",
       "      <th>FACEVALUE</th>\n",
       "      <th>HIGH_RISK</th>\n",
       "      <th>COUPONFREQUENCY</th>\n",
       "      <th>COUPONDATE</th>\n",
       "      <th>COUPONPERCENT</th>\n",
       "      <th>...</th>\n",
       "      <th>COUPONLENGTH</th>\n",
       "      <th>OFFERDATE</th>\n",
       "      <th>PRICE</th>\n",
       "      <th>PRICE_RUB</th>\n",
       "      <th>stavka</th>\n",
       "      <th>Delta</th>\n",
       "      <th>NKD</th>\n",
       "      <th>Expenses</th>\n",
       "      <th>Coupon</th>\n",
       "      <th>Nalog</th>\n",
       "    </tr>\n",
       "  </thead>\n",
       "  <tbody>\n",
       "    <tr>\n",
       "      <th>302</th>\n",
       "      <td>RU000A104JW1</td>\n",
       "      <td>ВТБСУБ1-13</td>\n",
       "      <td>Корпоративные облигации</td>\n",
       "      <td>RU000A104JW1</td>\n",
       "      <td>2262-04-11 23:47:16.854775807</td>\n",
       "      <td>10000000.0</td>\n",
       "      <td>0</td>\n",
       "      <td>4.0</td>\n",
       "      <td>2022-11-17</td>\n",
       "      <td>13.0</td>\n",
       "      <td>...</td>\n",
       "      <td>91.0</td>\n",
       "      <td>2262-04-11 23:47:16.854775807</td>\n",
       "      <td>89.94</td>\n",
       "      <td>9022493.15</td>\n",
       "      <td>(8.0, 13.0]</td>\n",
       "      <td>1006000.0</td>\n",
       "      <td>24931.506849</td>\n",
       "      <td>9.025470e+06</td>\n",
       "      <td>324109.589041</td>\n",
       "      <td>172914.246575</td>\n",
       "    </tr>\n",
       "  </tbody>\n",
       "</table>\n",
       "<p>1 rows × 23 columns</p>\n",
       "</div>"
      ],
      "text/plain": [
       "            SECID   SHORTNAME                 TYPENAME          ISIN  \\\n",
       "302  RU000A104JW1  ВТБСУБ1-13  Корпоративные облигации  RU000A104JW1   \n",
       "\n",
       "                          MATDATE   FACEVALUE  HIGH_RISK  COUPONFREQUENCY  \\\n",
       "302 2262-04-11 23:47:16.854775807  10000000.0          0              4.0   \n",
       "\n",
       "    COUPONDATE  COUPONPERCENT  ...  COUPONLENGTH  \\\n",
       "302 2022-11-17           13.0  ...          91.0   \n",
       "\n",
       "                        OFFERDATE  PRICE   PRICE_RUB       stavka      Delta  \\\n",
       "302 2262-04-11 23:47:16.854775807  89.94  9022493.15  (8.0, 13.0]  1006000.0   \n",
       "\n",
       "              NKD      Expenses         Coupon          Nalog  \n",
       "302  24931.506849  9.025470e+06  324109.589041  172914.246575  \n",
       "\n",
       "[1 rows x 23 columns]"
      ]
     },
     "execution_count": 224,
     "metadata": {},
     "output_type": "execute_result"
    }
   ],
   "source": [
    "# инфо по облигации с самым большим отчислением\n",
    "rb[rb['Nalog'] == rb['Nalog'].max()]"
   ]
  },
  {
   "cell_type": "code",
   "execution_count": 225,
   "id": "ab62e009",
   "metadata": {},
   "outputs": [
    {
     "data": {
      "text/plain": [
       "346    438.203992\n",
       "276     77.010204\n",
       "257     68.259275\n",
       "221     60.587308\n",
       "223     58.055572\n",
       "          ...    \n",
       "22      -9.132283\n",
       "31     -11.385418\n",
       "359    -15.865902\n",
       "352    -38.651794\n",
       "250    -47.294231\n",
       "Name: Profit, Length: 362, dtype: float64"
      ]
     },
     "execution_count": 225,
     "metadata": {},
     "output_type": "execute_result"
    }
   ],
   "source": [
    "# рассчитываем купонную доходность\n",
    "rb['Profit'] = rb.apply(lambda x: Profit(x.Delta, x.NKD, x.Expenses, x.COUPONPERCENT, x.MATDATE, x.OFFERDATE, x.Coupon), axis=1)\n",
    "rb['Profit'].sort_values(ascending=False)"
   ]
  },
  {
   "cell_type": "code",
   "execution_count": 226,
   "id": "d50141b5",
   "metadata": {},
   "outputs": [
    {
     "data": {
      "text/plain": [
       "346    438.203992\n",
       "276     77.010204\n",
       "257     68.259275\n",
       "221     60.587308\n",
       "223     58.055572\n",
       "Name: Profit, dtype: float64"
      ]
     },
     "execution_count": 226,
     "metadata": {},
     "output_type": "execute_result"
    }
   ],
   "source": [
    "# Выбираем ТОП-10 купонной доходности\n",
    "rb.Profit.nlargest(5)"
   ]
  },
  {
   "cell_type": "code",
   "execution_count": 227,
   "id": "3dd8b139",
   "metadata": {},
   "outputs": [
    {
     "data": {
      "text/html": [
       "<div>\n",
       "<style scoped>\n",
       "    .dataframe tbody tr th:only-of-type {\n",
       "        vertical-align: middle;\n",
       "    }\n",
       "\n",
       "    .dataframe tbody tr th {\n",
       "        vertical-align: top;\n",
       "    }\n",
       "\n",
       "    .dataframe thead th {\n",
       "        text-align: right;\n",
       "    }\n",
       "</style>\n",
       "<table border=\"1\" class=\"dataframe\">\n",
       "  <thead>\n",
       "    <tr style=\"text-align: right;\">\n",
       "      <th></th>\n",
       "      <th>SECID</th>\n",
       "      <th>SHORTNAME</th>\n",
       "      <th>TYPENAME</th>\n",
       "      <th>ISIN</th>\n",
       "      <th>MATDATE</th>\n",
       "      <th>FACEVALUE</th>\n",
       "      <th>HIGH_RISK</th>\n",
       "      <th>COUPONFREQUENCY</th>\n",
       "      <th>COUPONDATE</th>\n",
       "      <th>COUPONPERCENT</th>\n",
       "      <th>...</th>\n",
       "      <th>OFFERDATE</th>\n",
       "      <th>PRICE</th>\n",
       "      <th>PRICE_RUB</th>\n",
       "      <th>stavka</th>\n",
       "      <th>Delta</th>\n",
       "      <th>NKD</th>\n",
       "      <th>Expenses</th>\n",
       "      <th>Coupon</th>\n",
       "      <th>Nalog</th>\n",
       "      <th>Profit</th>\n",
       "    </tr>\n",
       "  </thead>\n",
       "  <tbody>\n",
       "    <tr>\n",
       "      <th>346</th>\n",
       "      <td>SU26231RMFS9</td>\n",
       "      <td>ОФЗ 26231</td>\n",
       "      <td>ОФЗ</td>\n",
       "      <td>RU000A100MY9</td>\n",
       "      <td>2044-07-20</td>\n",
       "      <td>1000.0</td>\n",
       "      <td>0</td>\n",
       "      <td>2.0</td>\n",
       "      <td>2023-02-15</td>\n",
       "      <td>0.25</td>\n",
       "      <td>...</td>\n",
       "      <td>2044-07-20</td>\n",
       "      <td>16.57</td>\n",
       "      <td>165.76</td>\n",
       "      <td>(0.1, 8.0]</td>\n",
       "      <td>834.3</td>\n",
       "      <td>0.054795</td>\n",
       "      <td>165.874967</td>\n",
       "      <td>1.246575</td>\n",
       "      <td>108.621055</td>\n",
       "      <td>438.203992</td>\n",
       "    </tr>\n",
       "  </tbody>\n",
       "</table>\n",
       "<p>1 rows × 24 columns</p>\n",
       "</div>"
      ],
      "text/plain": [
       "            SECID  SHORTNAME TYPENAME          ISIN    MATDATE  FACEVALUE  \\\n",
       "346  SU26231RMFS9  ОФЗ 26231      ОФЗ  RU000A100MY9 2044-07-20     1000.0   \n",
       "\n",
       "     HIGH_RISK  COUPONFREQUENCY COUPONDATE  COUPONPERCENT  ...  OFFERDATE  \\\n",
       "346          0              2.0 2023-02-15           0.25  ... 2044-07-20   \n",
       "\n",
       "     PRICE  PRICE_RUB      stavka  Delta       NKD    Expenses    Coupon  \\\n",
       "346  16.57     165.76  (0.1, 8.0]  834.3  0.054795  165.874967  1.246575   \n",
       "\n",
       "          Nalog      Profit  \n",
       "346  108.621055  438.203992  \n",
       "\n",
       "[1 rows x 24 columns]"
      ]
     },
     "execution_count": 227,
     "metadata": {},
     "output_type": "execute_result"
    }
   ],
   "source": [
    "# инфо по самой купонной доходной облигации\n",
    "rb[rb['Profit'] == rb['Profit'].max()]"
   ]
  },
  {
   "cell_type": "code",
   "execution_count": 228,
   "id": "eba2af15",
   "metadata": {},
   "outputs": [
    {
     "data": {
      "text/html": [
       "<div>\n",
       "<style scoped>\n",
       "    .dataframe tbody tr th:only-of-type {\n",
       "        vertical-align: middle;\n",
       "    }\n",
       "\n",
       "    .dataframe tbody tr th {\n",
       "        vertical-align: top;\n",
       "    }\n",
       "\n",
       "    .dataframe thead th {\n",
       "        text-align: right;\n",
       "    }\n",
       "</style>\n",
       "<table border=\"1\" class=\"dataframe\">\n",
       "  <thead>\n",
       "    <tr style=\"text-align: right;\">\n",
       "      <th></th>\n",
       "      <th>SECID</th>\n",
       "      <th>SHORTNAME</th>\n",
       "      <th>TYPENAME</th>\n",
       "      <th>ISIN</th>\n",
       "      <th>MATDATE</th>\n",
       "      <th>FACEVALUE</th>\n",
       "      <th>HIGH_RISK</th>\n",
       "      <th>COUPONFREQUENCY</th>\n",
       "      <th>COUPONDATE</th>\n",
       "      <th>COUPONPERCENT</th>\n",
       "      <th>...</th>\n",
       "      <th>OFFERDATE</th>\n",
       "      <th>PRICE</th>\n",
       "      <th>PRICE_RUB</th>\n",
       "      <th>stavka</th>\n",
       "      <th>Delta</th>\n",
       "      <th>NKD</th>\n",
       "      <th>Expenses</th>\n",
       "      <th>Coupon</th>\n",
       "      <th>Nalog</th>\n",
       "      <th>Profit</th>\n",
       "    </tr>\n",
       "  </thead>\n",
       "  <tbody>\n",
       "    <tr>\n",
       "      <th>346</th>\n",
       "      <td>SU26231RMFS9</td>\n",
       "      <td>ОФЗ 26231</td>\n",
       "      <td>ОФЗ</td>\n",
       "      <td>RU000A100MY9</td>\n",
       "      <td>2044-07-20</td>\n",
       "      <td>1000.0</td>\n",
       "      <td>0</td>\n",
       "      <td>2.0</td>\n",
       "      <td>2023-02-15</td>\n",
       "      <td>0.25</td>\n",
       "      <td>...</td>\n",
       "      <td>2044-07-20</td>\n",
       "      <td>16.57</td>\n",
       "      <td>165.76</td>\n",
       "      <td>(0.1, 8.0]</td>\n",
       "      <td>834.3</td>\n",
       "      <td>0.054795</td>\n",
       "      <td>165.874967</td>\n",
       "      <td>1.246575</td>\n",
       "      <td>108.621055</td>\n",
       "      <td>438.203992</td>\n",
       "    </tr>\n",
       "    <tr>\n",
       "      <th>276</th>\n",
       "      <td>RU000A104479</td>\n",
       "      <td>ОткрБРСО5</td>\n",
       "      <td>Корпоративные облигации</td>\n",
       "      <td>RU000A104479</td>\n",
       "      <td>2024-12-12</td>\n",
       "      <td>1000.0</td>\n",
       "      <td>0</td>\n",
       "      <td>0.0</td>\n",
       "      <td>2022-11-17</td>\n",
       "      <td>16.00</td>\n",
       "      <td>...</td>\n",
       "      <td>2024-12-12</td>\n",
       "      <td>54.98</td>\n",
       "      <td>549.80</td>\n",
       "      <td>(13.0, 35.0]</td>\n",
       "      <td>450.2</td>\n",
       "      <td>0.000000</td>\n",
       "      <td>550.198605</td>\n",
       "      <td>36.821918</td>\n",
       "      <td>63.312849</td>\n",
       "      <td>77.010204</td>\n",
       "    </tr>\n",
       "    <tr>\n",
       "      <th>257</th>\n",
       "      <td>RU000A103U44</td>\n",
       "      <td>ВТБ Б1-249</td>\n",
       "      <td>Биржевые облигации</td>\n",
       "      <td>RU000A103U44</td>\n",
       "      <td>2027-02-10</td>\n",
       "      <td>1000.0</td>\n",
       "      <td>0</td>\n",
       "      <td>2.0</td>\n",
       "      <td>2023-02-15</td>\n",
       "      <td>0.01</td>\n",
       "      <td>...</td>\n",
       "      <td>2027-02-10</td>\n",
       "      <td>56.02</td>\n",
       "      <td>560.20</td>\n",
       "      <td>(0.0, 0.1]</td>\n",
       "      <td>439.8</td>\n",
       "      <td>0.002192</td>\n",
       "      <td>560.608338</td>\n",
       "      <td>0.049863</td>\n",
       "      <td>57.180482</td>\n",
       "      <td>68.259275</td>\n",
       "    </tr>\n",
       "    <tr>\n",
       "      <th>221</th>\n",
       "      <td>RU000A103AP6</td>\n",
       "      <td>СберИОС449</td>\n",
       "      <td>Биржевые облигации</td>\n",
       "      <td>RU000A103AP6</td>\n",
       "      <td>2028-07-24</td>\n",
       "      <td>1000.0</td>\n",
       "      <td>0</td>\n",
       "      <td>0.0</td>\n",
       "      <td>2028-07-24</td>\n",
       "      <td>0.01</td>\n",
       "      <td>...</td>\n",
       "      <td>2028-07-24</td>\n",
       "      <td>58.96</td>\n",
       "      <td>589.60</td>\n",
       "      <td>(0.0, 0.1]</td>\n",
       "      <td>410.4</td>\n",
       "      <td>0.110137</td>\n",
       "      <td>590.137677</td>\n",
       "      <td>0.701918</td>\n",
       "      <td>53.443249</td>\n",
       "      <td>60.587308</td>\n",
       "    </tr>\n",
       "    <tr>\n",
       "      <th>223</th>\n",
       "      <td>RU000A103CP2</td>\n",
       "      <td>СберИОС455</td>\n",
       "      <td>Биржевые облигации</td>\n",
       "      <td>RU000A103CP2</td>\n",
       "      <td>2028-08-03</td>\n",
       "      <td>1000.0</td>\n",
       "      <td>0</td>\n",
       "      <td>0.0</td>\n",
       "      <td>2028-08-03</td>\n",
       "      <td>0.01</td>\n",
       "      <td>...</td>\n",
       "      <td>2028-08-03</td>\n",
       "      <td>59.99</td>\n",
       "      <td>599.90</td>\n",
       "      <td>(0.0, 0.1]</td>\n",
       "      <td>400.1</td>\n",
       "      <td>0.107397</td>\n",
       "      <td>600.442403</td>\n",
       "      <td>0.701918</td>\n",
       "      <td>52.104249</td>\n",
       "      <td>58.055572</td>\n",
       "    </tr>\n",
       "  </tbody>\n",
       "</table>\n",
       "<p>5 rows × 24 columns</p>\n",
       "</div>"
      ],
      "text/plain": [
       "            SECID   SHORTNAME                 TYPENAME          ISIN  \\\n",
       "346  SU26231RMFS9   ОФЗ 26231                      ОФЗ  RU000A100MY9   \n",
       "276  RU000A104479   ОткрБРСО5  Корпоративные облигации  RU000A104479   \n",
       "257  RU000A103U44  ВТБ Б1-249       Биржевые облигации  RU000A103U44   \n",
       "221  RU000A103AP6  СберИОС449       Биржевые облигации  RU000A103AP6   \n",
       "223  RU000A103CP2  СберИОС455       Биржевые облигации  RU000A103CP2   \n",
       "\n",
       "       MATDATE  FACEVALUE  HIGH_RISK  COUPONFREQUENCY COUPONDATE  \\\n",
       "346 2044-07-20     1000.0          0              2.0 2023-02-15   \n",
       "276 2024-12-12     1000.0          0              0.0 2022-11-17   \n",
       "257 2027-02-10     1000.0          0              2.0 2023-02-15   \n",
       "221 2028-07-24     1000.0          0              0.0 2028-07-24   \n",
       "223 2028-08-03     1000.0          0              0.0 2028-08-03   \n",
       "\n",
       "     COUPONPERCENT  ...  OFFERDATE  PRICE  PRICE_RUB        stavka  Delta  \\\n",
       "346           0.25  ... 2044-07-20  16.57     165.76    (0.1, 8.0]  834.3   \n",
       "276          16.00  ... 2024-12-12  54.98     549.80  (13.0, 35.0]  450.2   \n",
       "257           0.01  ... 2027-02-10  56.02     560.20    (0.0, 0.1]  439.8   \n",
       "221           0.01  ... 2028-07-24  58.96     589.60    (0.0, 0.1]  410.4   \n",
       "223           0.01  ... 2028-08-03  59.99     599.90    (0.0, 0.1]  400.1   \n",
       "\n",
       "          NKD    Expenses     Coupon       Nalog      Profit  \n",
       "346  0.054795  165.874967   1.246575  108.621055  438.203992  \n",
       "276  0.000000  550.198605  36.821918   63.312849   77.010204  \n",
       "257  0.002192  560.608338   0.049863   57.180482   68.259275  \n",
       "221  0.110137  590.137677   0.701918   53.443249   60.587308  \n",
       "223  0.107397  600.442403   0.701918   52.104249   58.055572  \n",
       "\n",
       "[5 rows x 24 columns]"
      ]
     },
     "execution_count": 228,
     "metadata": {},
     "output_type": "execute_result"
    }
   ],
   "source": [
    "# таблица\n",
    "rb.nlargest(5, 'Profit')"
   ]
  },
  {
   "cell_type": "code",
   "execution_count": 229,
   "id": "e85635ab",
   "metadata": {},
   "outputs": [
    {
     "data": {
      "text/plain": [
       "count    362.000000\n",
       "mean      12.154879\n",
       "std       26.213134\n",
       "min      -47.294231\n",
       "25%        2.304271\n",
       "50%        7.574493\n",
       "75%       16.957618\n",
       "max      438.203992\n",
       "Name: Profit, dtype: float64"
      ]
     },
     "execution_count": 229,
     "metadata": {},
     "output_type": "execute_result"
    }
   ],
   "source": [
    "rb['Profit'].describe()"
   ]
  },
  {
   "cell_type": "code",
   "execution_count": 230,
   "id": "f3d31b2c",
   "metadata": {},
   "outputs": [
    {
     "data": {
      "text/plain": [
       "37.36568406515792"
      ]
     },
     "execution_count": 230,
     "metadata": {},
     "output_type": "execute_result"
    }
   ],
   "source": [
    "rb['Profit'].quantile(0.95)"
   ]
  },
  {
   "cell_type": "code",
   "execution_count": 231,
   "id": "151ca927",
   "metadata": {},
   "outputs": [
    {
     "data": {
      "text/html": [
       "<div>\n",
       "<style scoped>\n",
       "    .dataframe tbody tr th:only-of-type {\n",
       "        vertical-align: middle;\n",
       "    }\n",
       "\n",
       "    .dataframe tbody tr th {\n",
       "        vertical-align: top;\n",
       "    }\n",
       "\n",
       "    .dataframe thead th {\n",
       "        text-align: right;\n",
       "    }\n",
       "</style>\n",
       "<table border=\"1\" class=\"dataframe\">\n",
       "  <thead>\n",
       "    <tr style=\"text-align: right;\">\n",
       "      <th></th>\n",
       "      <th>PRICE</th>\n",
       "      <th>Profit</th>\n",
       "      <th>Profit_bins</th>\n",
       "    </tr>\n",
       "  </thead>\n",
       "  <tbody>\n",
       "    <tr>\n",
       "      <th>0</th>\n",
       "      <td>99.08</td>\n",
       "      <td>20.039117</td>\n",
       "      <td>(8.0, 38.0]</td>\n",
       "    </tr>\n",
       "    <tr>\n",
       "      <th>1</th>\n",
       "      <td>108.43</td>\n",
       "      <td>-3.978155</td>\n",
       "      <td>(-48.0, 0.0]</td>\n",
       "    </tr>\n",
       "    <tr>\n",
       "      <th>2</th>\n",
       "      <td>111.70</td>\n",
       "      <td>-6.782997</td>\n",
       "      <td>(-48.0, 0.0]</td>\n",
       "    </tr>\n",
       "    <tr>\n",
       "      <th>3</th>\n",
       "      <td>110.99</td>\n",
       "      <td>-6.188021</td>\n",
       "      <td>(-48.0, 0.0]</td>\n",
       "    </tr>\n",
       "    <tr>\n",
       "      <th>4</th>\n",
       "      <td>98.58</td>\n",
       "      <td>18.348514</td>\n",
       "      <td>(8.0, 38.0]</td>\n",
       "    </tr>\n",
       "    <tr>\n",
       "      <th>...</th>\n",
       "      <td>...</td>\n",
       "      <td>...</td>\n",
       "      <td>...</td>\n",
       "    </tr>\n",
       "    <tr>\n",
       "      <th>357</th>\n",
       "      <td>94.63</td>\n",
       "      <td>5.963709</td>\n",
       "      <td>(0.0, 8.0]</td>\n",
       "    </tr>\n",
       "    <tr>\n",
       "      <th>358</th>\n",
       "      <td>92.85</td>\n",
       "      <td>7.631753</td>\n",
       "      <td>(0.0, 8.0]</td>\n",
       "    </tr>\n",
       "    <tr>\n",
       "      <th>359</th>\n",
       "      <td>119.39</td>\n",
       "      <td>-15.865902</td>\n",
       "      <td>(-48.0, 0.0]</td>\n",
       "    </tr>\n",
       "    <tr>\n",
       "      <th>360</th>\n",
       "      <td>83.98</td>\n",
       "      <td>23.701344</td>\n",
       "      <td>(8.0, 38.0]</td>\n",
       "    </tr>\n",
       "    <tr>\n",
       "      <th>361</th>\n",
       "      <td>91.22</td>\n",
       "      <td>29.844607</td>\n",
       "      <td>(8.0, 38.0]</td>\n",
       "    </tr>\n",
       "  </tbody>\n",
       "</table>\n",
       "<p>362 rows × 3 columns</p>\n",
       "</div>"
      ],
      "text/plain": [
       "      PRICE     Profit   Profit_bins\n",
       "0     99.08  20.039117   (8.0, 38.0]\n",
       "1    108.43  -3.978155  (-48.0, 0.0]\n",
       "2    111.70  -6.782997  (-48.0, 0.0]\n",
       "3    110.99  -6.188021  (-48.0, 0.0]\n",
       "4     98.58  18.348514   (8.0, 38.0]\n",
       "..      ...        ...           ...\n",
       "357   94.63   5.963709    (0.0, 8.0]\n",
       "358   92.85   7.631753    (0.0, 8.0]\n",
       "359  119.39 -15.865902  (-48.0, 0.0]\n",
       "360   83.98  23.701344   (8.0, 38.0]\n",
       "361   91.22  29.844607   (8.0, 38.0]\n",
       "\n",
       "[362 rows x 3 columns]"
      ]
     },
     "execution_count": 231,
     "metadata": {},
     "output_type": "execute_result"
    }
   ],
   "source": [
    "# разобъем купонную доходность на группы\n",
    "bins = pd.IntervalIndex.from_tuples([(int(rb['Profit'].min())-1, 0), (0, cb), (cb, int(rb['Profit'].quantile(0.95))+1),\n",
    "                                    (int(rb['Profit'].quantile(0.95))+1, int(rb['Profit'].max())+1)])\n",
    "rb['Profit_bins'] = pd.cut(rb['Profit'], bins)\n",
    "rb[['PRICE','Profit', 'Profit_bins']]"
   ]
  },
  {
   "cell_type": "code",
   "execution_count": 232,
   "id": "fbf24e28",
   "metadata": {},
   "outputs": [
    {
     "data": {
      "text/html": [
       "<div>\n",
       "<style scoped>\n",
       "    .dataframe tbody tr th:only-of-type {\n",
       "        vertical-align: middle;\n",
       "    }\n",
       "\n",
       "    .dataframe tbody tr th {\n",
       "        vertical-align: top;\n",
       "    }\n",
       "\n",
       "    .dataframe thead th {\n",
       "        text-align: right;\n",
       "    }\n",
       "</style>\n",
       "<table border=\"1\" class=\"dataframe\">\n",
       "  <thead>\n",
       "    <tr style=\"text-align: right;\">\n",
       "      <th></th>\n",
       "      <th>min</th>\n",
       "      <th>max</th>\n",
       "      <th>mean</th>\n",
       "      <th>median</th>\n",
       "      <th>count</th>\n",
       "    </tr>\n",
       "    <tr>\n",
       "      <th>Profit_bins</th>\n",
       "      <th></th>\n",
       "      <th></th>\n",
       "      <th></th>\n",
       "      <th></th>\n",
       "      <th></th>\n",
       "    </tr>\n",
       "  </thead>\n",
       "  <tbody>\n",
       "    <tr>\n",
       "      <th>(-48.0, 0.0]</th>\n",
       "      <td>-47.294231</td>\n",
       "      <td>-0.059109</td>\n",
       "      <td>-8.082993</td>\n",
       "      <td>-4.644268</td>\n",
       "      <td>20</td>\n",
       "    </tr>\n",
       "    <tr>\n",
       "      <th>(0.0, 8.0]</th>\n",
       "      <td>0.003733</td>\n",
       "      <td>7.974270</td>\n",
       "      <td>3.326631</td>\n",
       "      <td>2.869038</td>\n",
       "      <td>175</td>\n",
       "    </tr>\n",
       "    <tr>\n",
       "      <th>(8.0, 38.0]</th>\n",
       "      <td>8.308799</td>\n",
       "      <td>37.426384</td>\n",
       "      <td>18.186522</td>\n",
       "      <td>16.635843</td>\n",
       "      <td>150</td>\n",
       "    </tr>\n",
       "    <tr>\n",
       "      <th>(38.0, 439.0]</th>\n",
       "      <td>40.042975</td>\n",
       "      <td>438.203992</td>\n",
       "      <td>73.622785</td>\n",
       "      <td>45.796506</td>\n",
       "      <td>17</td>\n",
       "    </tr>\n",
       "  </tbody>\n",
       "</table>\n",
       "</div>"
      ],
      "text/plain": [
       "                     min         max       mean     median  count\n",
       "Profit_bins                                                      \n",
       "(-48.0, 0.0]  -47.294231   -0.059109  -8.082993  -4.644268     20\n",
       "(0.0, 8.0]      0.003733    7.974270   3.326631   2.869038    175\n",
       "(8.0, 38.0]     8.308799   37.426384  18.186522  16.635843    150\n",
       "(38.0, 439.0]  40.042975  438.203992  73.622785  45.796506     17"
      ]
     },
     "execution_count": 232,
     "metadata": {},
     "output_type": "execute_result"
    }
   ],
   "source": [
    "rb.groupby('Profit_bins')['Profit'].agg(['min', 'max', 'mean', 'median', 'count'])"
   ]
  },
  {
   "cell_type": "code",
   "execution_count": 233,
   "id": "4f053891",
   "metadata": {},
   "outputs": [
    {
     "data": {
      "text/plain": [
       "[]"
      ]
     },
     "execution_count": 233,
     "metadata": {},
     "output_type": "execute_result"
    },
    {
     "data": {
      "image/png": "[encoded data removed]",
      "text/plain": [
       "<Figure size 864x432 with 1 Axes>"
      ]
     },
     "metadata": {
      "needs_background": "light"
     },
     "output_type": "display_data"
    }
   ],
   "source": [
    "# строим график\n",
    "t1 = pd.DataFrame(rb[['Profit_bins']].value_counts().reset_index()).sort_values('Profit_bins')\n",
    "t1.columns = ['Profit', 'count']\n",
    "t1.index = range(1,t1.shape[0]+1)\n",
    "\n",
    "plt.figure(figsize=(12,6))\n",
    "\n",
    "plt.barh(t1.index, t1['count'], color='c')\n",
    "\n",
    "plt.ylabel(\"Группы\")\n",
    "plt.xlabel(\"Количество облигаций группы, шт.\")\n",
    "\n",
    "plt.title('Разбивка облигаций на группы по купонной доходности')\n",
    "\n",
    "plt.ylim([0, 5])\n",
    "\n",
    "plt.text(0, 0.94, \" группа - отрицательный купонный доход\")\n",
    "plt.text(0, 1.94, \" группа - низкий купонный доход (от 0 до ставки ЦБ)\")\n",
    "plt.text(0, 2.94, \" группа - средний купонный доход (от ставки ЦБ до {}%)\".format(int(rb['Profit'].quantile(0.95))+1))\n",
    "plt.text(0, 3.94, \" группа - высокий купонный доход (от {}% и выше)\".format(int(rb['Profit'].quantile(0.95))+1))\n",
    "\n",
    "plt.plot()"
   ]
  },
  {
   "cell_type": "code",
   "execution_count": 234,
   "id": "fb78d11e",
   "metadata": {},
   "outputs": [
    {
     "data": {
      "text/html": [
       "<div>\n",
       "<style scoped>\n",
       "    .dataframe tbody tr th:only-of-type {\n",
       "        vertical-align: middle;\n",
       "    }\n",
       "\n",
       "    .dataframe tbody tr th {\n",
       "        vertical-align: top;\n",
       "    }\n",
       "\n",
       "    .dataframe thead th {\n",
       "        text-align: right;\n",
       "    }\n",
       "</style>\n",
       "<table border=\"1\" class=\"dataframe\">\n",
       "  <thead>\n",
       "    <tr style=\"text-align: right;\">\n",
       "      <th></th>\n",
       "      <th>SECID</th>\n",
       "      <th>SHORTNAME</th>\n",
       "      <th>MATDATE</th>\n",
       "      <th>FACEVALUE</th>\n",
       "      <th>COUPONFREQUENCY</th>\n",
       "      <th>COUPONDATE</th>\n",
       "      <th>COUPONPERCENT</th>\n",
       "      <th>OFFERDATE</th>\n",
       "      <th>PRICE</th>\n",
       "      <th>PRICE_RUB</th>\n",
       "      <th>Nalog</th>\n",
       "      <th>Profit</th>\n",
       "    </tr>\n",
       "  </thead>\n",
       "  <tbody>\n",
       "    <tr>\n",
       "      <th>0</th>\n",
       "      <td>RU000A101D96</td>\n",
       "      <td>РуСол клВ</td>\n",
       "      <td>2031-02-15</td>\n",
       "      <td>885.92</td>\n",
       "      <td>4.0</td>\n",
       "      <td>2022-11-15</td>\n",
       "      <td>15.342</td>\n",
       "      <td>2031-02-15</td>\n",
       "      <td>100.00</td>\n",
       "      <td>890.01</td>\n",
       "      <td>92.488333</td>\n",
       "      <td>21.293579</td>\n",
       "    </tr>\n",
       "    <tr>\n",
       "      <th>1</th>\n",
       "      <td>RU000A104JF6</td>\n",
       "      <td>ПушкПЗБО1</td>\n",
       "      <td>2026-02-09</td>\n",
       "      <td>1000.00</td>\n",
       "      <td>4.0</td>\n",
       "      <td>2022-11-14</td>\n",
       "      <td>14.000</td>\n",
       "      <td>2026-02-09</td>\n",
       "      <td>101.83</td>\n",
       "      <td>1022.52</td>\n",
       "      <td>77.836164</td>\n",
       "      <td>14.112844</td>\n",
       "    </tr>\n",
       "    <tr>\n",
       "      <th>2</th>\n",
       "      <td>RU000A104K37</td>\n",
       "      <td>СибЭнМаш01</td>\n",
       "      <td>2025-02-13</td>\n",
       "      <td>1000.00</td>\n",
       "      <td>4.0</td>\n",
       "      <td>2022-11-17</td>\n",
       "      <td>15.000</td>\n",
       "      <td>2025-02-13</td>\n",
       "      <td>100.06</td>\n",
       "      <td>1003.89</td>\n",
       "      <td>96.484932</td>\n",
       "      <td>19.838239</td>\n",
       "    </tr>\n",
       "    <tr>\n",
       "      <th>3</th>\n",
       "      <td>RU000A104KS7</td>\n",
       "      <td>РКС2Р2</td>\n",
       "      <td>2025-02-18</td>\n",
       "      <td>1000.00</td>\n",
       "      <td>4.0</td>\n",
       "      <td>2022-11-22</td>\n",
       "      <td>15.000</td>\n",
       "      <td>2025-02-18</td>\n",
       "      <td>100.07</td>\n",
       "      <td>1001.93</td>\n",
       "      <td>96.484932</td>\n",
       "      <td>20.072001</td>\n",
       "    </tr>\n",
       "    <tr>\n",
       "      <th>4</th>\n",
       "      <td>RU000A1053W3</td>\n",
       "      <td>ГЛОРАКС 01</td>\n",
       "      <td>2025-08-18</td>\n",
       "      <td>1000.00</td>\n",
       "      <td>4.0</td>\n",
       "      <td>2022-11-21</td>\n",
       "      <td>14.000</td>\n",
       "      <td>2025-08-18</td>\n",
       "      <td>101.08</td>\n",
       "      <td>1012.33</td>\n",
       "      <td>77.836164</td>\n",
       "      <td>15.260621</td>\n",
       "    </tr>\n",
       "  </tbody>\n",
       "</table>\n",
       "</div>"
      ],
      "text/plain": [
       "          SECID   SHORTNAME    MATDATE  FACEVALUE  COUPONFREQUENCY COUPONDATE  \\\n",
       "0  RU000A101D96   РуСол клВ 2031-02-15     885.92              4.0 2022-11-15   \n",
       "1  RU000A104JF6   ПушкПЗБО1 2026-02-09    1000.00              4.0 2022-11-14   \n",
       "2  RU000A104K37  СибЭнМаш01 2025-02-13    1000.00              4.0 2022-11-17   \n",
       "3  RU000A104KS7      РКС2Р2 2025-02-18    1000.00              4.0 2022-11-22   \n",
       "4  RU000A1053W3  ГЛОРАКС 01 2025-08-18    1000.00              4.0 2022-11-21   \n",
       "\n",
       "   COUPONPERCENT  OFFERDATE   PRICE  PRICE_RUB      Nalog     Profit  \n",
       "0         15.342 2031-02-15  100.00     890.01  92.488333  21.293579  \n",
       "1         14.000 2026-02-09  101.83    1022.52  77.836164  14.112844  \n",
       "2         15.000 2025-02-13  100.06    1003.89  96.484932  19.838239  \n",
       "3         15.000 2025-02-18  100.07    1001.93  96.484932  20.072001  \n",
       "4         14.000 2025-08-18  101.08    1012.33  77.836164  15.260621  "
      ]
     },
     "execution_count": 234,
     "metadata": {},
     "output_type": "execute_result"
    }
   ],
   "source": [
    "# выбираем ликвидные и доходные (больше ставки ЦБ) облигации на текущий момент\n",
    "top = rb[(rb.PRICE >= 100) & (rb.Profit >= cb) & (rb.COUPONFREQUENCY >= 4)]\n",
    "top = top[['SECID', 'SHORTNAME', 'MATDATE', 'FACEVALUE', 'COUPONFREQUENCY', 'COUPONDATE', 'COUPONPERCENT',\n",
    "           'OFFERDATE', 'PRICE', 'PRICE_RUB', 'Nalog', 'Profit']].reset_index()\n",
    "top = top.drop('index', axis=1)\n",
    "# top.index = range(1, top.shape[0]+1)\n",
    "top"
   ]
  },
  {
   "cell_type": "code",
   "execution_count": 240,
   "id": "c3786ac5",
   "metadata": {},
   "outputs": [
    {
     "data": {
      "text/plain": [
       "[]"
      ]
     },
     "execution_count": 240,
     "metadata": {},
     "output_type": "execute_result"
    },
    {
     "data": {
      "image/png": "[encoded data removed]",
      "text/plain": [
       "<Figure size 1800x720 with 1 Axes>"
      ]
     },
     "metadata": {
      "needs_background": "light"
     },
     "output_type": "display_data"
    }
   ],
   "source": [
    "# строим график ликвидных и доходных (больше ставки ЦБ) облигаций на текущий момент\n",
    "plt.figure(figsize=(25,10))\n",
    "\n",
    "plt.bar(top.SHORTNAME, top.Profit, width = 0.05, color='b')\n",
    "plt.scatter(top.SHORTNAME, top.Profit)\n",
    "plt.scatter(top.SHORTNAME, top.COUPONPERCENT, marker=\"+\")\n",
    "plt.plot(top.SHORTNAME, top.COUPONPERCENT, 'y--', label='COUPONPERCENT', marker=\"+\")\n",
    "plt.plot(top.SHORTNAME, top.Profit, 'g--', label='Profit')\n",
    "plt.plot((top.shape[0]-0.5,-0.5), (cb,cb), 'r--')\n",
    "\n",
    "\n",
    "plt.ylabel(\"Profit\")\n",
    "plt.xlabel(\"Облигации\")\n",
    "\n",
    "plt.title('ТОП ликвидных и доходных рублевых облигаций на перспективу 1 год')\n",
    "\n",
    "for i in range(0,top.shape[0]):\n",
    "        plt.text(i, int(top.Profit[i]+1), \"{}%\".format(int(top.Profit[i])))\n",
    "        plt.text(i-0.15, int(top.COUPONPERCENT[i]-1), \"{}%\".format(int(top.COUPONPERCENT[i])))\n",
    "        plt.text(i+0.05, 6, \"{} - PRICE_RUB\".format(top.PRICE_RUB[i]))\n",
    "        plt.text(i+0.05, 5, \"{} - COUPONDATE\".format(top.COUPONDATE[i].strftime('%d.%m.%Y')))\n",
    "        plt.text(i+0.05, 4, \"{} - COUPONFREQUENCY\".format(int(top.COUPONFREQUENCY[i])))\n",
    "        plt.text(i+0.05, 3, \"{} - MATDATE\".format(top.MATDATE[i].strftime('%d.%m.%Y')))\n",
    "        plt.text(i+0.05, 2, \"{} - Nalog.rub\".format(int(top.Nalog[i])))\n",
    "        plt.text(i+0.05, 1, \"{}\".format(top.SECID[i]))\n",
    "                \n",
    "plt.text(top.shape[0]-0.8, cb+1, '{}% - Ключевая ставка ЦБ'.format(int(cb)))\n",
    "\n",
    "plt.legend()\n",
    "plt.plot()"
   ]
  },
  {
   "cell_type": "markdown",
   "id": "28076b4e",
   "metadata": {},
   "source": [
    "Покупка с ИИС\n",
    "\n",
    "Покупая ОФЗ, физическое лицо также может инвестировать через индивидуальный инвестиционный счет (ИИС).\n",
    "\n",
    "Преимущество ИИС перед обычным брокерским счетом состоит в возможности получить налоговый вычет.\n",
    "\n",
    "Вычет типа «А». Инвестор имеет право вернуть 13% от суммы внесенных средств на ИИС. Максимально налоговый вычет составляет 52 тысячи рублей. Соответственно, льгота может быть предоставлена на сумму не более 400 тысяч рублей.\n",
    "\n",
    "Вычет типа «Б». Подобное налоговое послабление позволяет инвестору освободить от налогообложения всю прибыль, полученную в результате финансовых сделок через ИИС.\n",
    "\n",
    "По российскому законодательству запрещено иметь более одного ИИС. К тому же с индивидуального инвестиционного счета нельзя выводить денежные средства в течение трех лет после его открытия. В противном случае необходимо будет вернуть государству все средства, полученные от применения того или иного типа налогового вычета."
   ]
  }
 ],
 "metadata": {
  "kernelspec": {
   "display_name": "Python 3 (ipykernel)",
   "language": "python",
   "name": "python3"
  },
  "language_info": {
   "codemirror_mode": {
    "name": "ipython",
    "version": 3
   },
   "file_extension": ".py",
   "mimetype": "text/x-python",
   "name": "python",
   "nbconvert_exporter": "python",
   "pygments_lexer": "ipython3",
   "version": "3.9.12"
  }
 },
 "nbformat": 4,
 "nbformat_minor": 5
}
